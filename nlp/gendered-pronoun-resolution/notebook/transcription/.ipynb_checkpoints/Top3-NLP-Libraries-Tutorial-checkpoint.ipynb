{
 "cells": [
  {
   "cell_type": "markdown",
   "metadata": {
    "toc-hr-collapsed": false
   },
   "source": [
    "# Top 3 NLP Libraries Tutorial( NLTK+spaCy+Gensim)"
   ]
  },
  {
   "cell_type": "markdown",
   "metadata": {},
   "source": [
    "[https://www.kaggle.com/mjbahmani/top-3-nlp-libraries-tutorial-nltk-spacy-gensim](https://www.kaggle.com/mjbahmani/top-3-nlp-libraries-tutorial-nltk-spacy-gensim)"
   ]
  },
  {
   "cell_type": "markdown",
   "metadata": {},
   "source": [
    "<br>"
   ]
  },
  {
   "cell_type": "markdown",
   "metadata": {},
   "source": [
    "<img src=\"http://s9.picofile.com/file/8351628176/nlp.png\"/>"
   ]
  },
  {
   "cell_type": "markdown",
   "metadata": {},
   "source": [
    "<br>"
   ]
  },
  {
   "cell_type": "markdown",
   "metadata": {},
   "source": [
    " <a id=\"top\"></a> <br>\n",
    " "
   ]
  },
  {
   "cell_type": "markdown",
   "metadata": {},
   "source": [
    "# Notebook  Content\n",
    "1. [Introduction](#1)\n",
    "    1. [Import](#11)\n",
    "    1. [Version](#12)\n",
    "    1. [Setup](#13)\n",
    "    1. [Data set](#14)\n",
    "    1. [Gendered Pronoun Analysis](#15)\n",
    "        1. [Problem Feature](#151)\n",
    "        1. [Variables](#152)\n",
    "        1. [Evaluation](#153)\n",
    "        1. [Check Missing Data](#154)\n",
    "        1. [Some New Features](#155)\n",
    "        1. [Visualization](#156)\n",
    "1. [NLTK](#2)\n",
    "    1. [Tokenizing sentences](#21)\n",
    "    1. [NLTK and arrays](#22)\n",
    "    1. [NLTK stop words](#23)\n",
    "    1. [NLTK – stemming](#24)\n",
    "    1. [NLTK speech tagging](#25)\n",
    "    1. [Natural Language Processing – prediction](#26)\n",
    "        1. [nlp prediction example](#261)\n",
    "    1. [nlp prediction example](#27)\n",
    "1. [spaCy](#3)\n",
    "    1. [Sentence detection](#31)\n",
    "    1. [Part Of Speech Tagging](#32)\n",
    "    1. [spaCy](#33)\n",
    "    1. [displaCy](#34)\n",
    "1. [Gensim](#4)\n",
    "1. [Comparison of Python NLP libraries by Activewizards](#5)\n",
    "1. [References](#6)"
   ]
  },
  {
   "cell_type": "markdown",
   "metadata": {},
   "source": [
    "<a id=\"1\"></a> <br>"
   ]
  },
  {
   "cell_type": "markdown",
   "metadata": {},
   "source": [
    "# 1. Introduction"
   ]
  },
  {
   "cell_type": "markdown",
   "metadata": {},
   "source": [
    "This Kernel is mostly for **beginners**, and of course, all **professionals** who think they need to review  their  knowledge.\n",
    "Also, we introduce and teach three known libraries ( NLTK+spaCy+Gensim) for text processing And we will introduce for each of them some examples based on [gendered-pronoun-resolution](https://www.kaggle.com/c/gendered-pronoun-resolution)."
   ]
  },
  {
   "cell_type": "markdown",
   "metadata": {},
   "source": [
    "<a id=\"11\"></a> <br>"
   ]
  },
  {
   "cell_type": "markdown",
   "metadata": {},
   "source": [
    "## 1.1 Import"
   ]
  },
  {
   "cell_type": "code",
   "execution_count": 1,
   "metadata": {},
   "outputs": [],
   "source": [
    "import matplotlib.pyplot as plt\n",
    "import seaborn as sns\n",
    "import pandas as pd\n",
    "import numpy as np\n",
    "import matplotlib\n",
    "import warnings\n",
    "import sklearn\n",
    "import gensim\n",
    "import scipy\n",
    "import numpy\n",
    "import json\n",
    "import nltk\n",
    "import sys\n",
    "import csv\n",
    "import os"
   ]
  },
  {
   "cell_type": "markdown",
   "metadata": {},
   "source": [
    "<a id=\"12\"></a> <br>"
   ]
  },
  {
   "cell_type": "markdown",
   "metadata": {},
   "source": [
    "## 1.2 Version"
   ]
  },
  {
   "cell_type": "code",
   "execution_count": 2,
   "metadata": {},
   "outputs": [
    {
     "name": "stdout",
     "output_type": "stream",
     "text": [
      "matplotlib: 3.1.1\n",
      "scipy: 1.3.1\n",
      "seaborn: 0.9.0\n",
      "pandas: 0.25.1\n",
      "numpy: 1.17.3\n",
      "Python: 3.6.9 |Anaconda, Inc.| (default, Jul 30 2019, 14:00:49) [MSC v.1915 64 bit (AMD64)]\n"
     ]
    }
   ],
   "source": [
    "print('matplotlib: {}'.format(matplotlib.__version__))\n",
    "print('scipy: {}'.format(scipy.__version__))\n",
    "print('seaborn: {}'.format(sns.__version__))\n",
    "print('pandas: {}'.format(pd.__version__))\n",
    "print('numpy: {}'.format(np.__version__))\n",
    "print('Python: {}'.format(sys.version))"
   ]
  },
  {
   "cell_type": "markdown",
   "metadata": {},
   "source": [
    "<a id=\"13\"></a> <br>"
   ]
  },
  {
   "cell_type": "markdown",
   "metadata": {},
   "source": [
    "## 1.3 Setup\n",
    "\n",
    "A few tiny adjustments for better **code readability**"
   ]
  },
  {
   "cell_type": "code",
   "execution_count": 3,
   "metadata": {},
   "outputs": [],
   "source": [
    "sns.set(style=\"white\", context=\"notebook\", palette=\"deep\")\n",
    "warnings.filterwarnings('ignore')\n",
    "sns.set_style(\"white\")\n",
    "%matplotlib inline"
   ]
  },
  {
   "cell_type": "markdown",
   "metadata": {},
   "source": [
    "<a id=\"14\"></a> <br>"
   ]
  },
  {
   "cell_type": "markdown",
   "metadata": {},
   "source": [
    "## 1.4 Data Set"
   ]
  },
  {
   "cell_type": "code",
   "execution_count": 4,
   "metadata": {},
   "outputs": [
    {
     "name": "stdout",
     "output_type": "stream",
     "text": [
      "['sample_submission_stage_1.csv', 'sample_submission_stage_2.csv', 'test_stage_1.tsv', 'test_stage_2.tsv']\n"
     ]
    }
   ],
   "source": [
    "print(os.listdir(\"../../input\"))"
   ]
  },
  {
   "cell_type": "code",
   "execution_count": 5,
   "metadata": {},
   "outputs": [],
   "source": [
    "gendered_pronoun_df = pd.read_csv('../../input/test_stage_1.tsv', delimiter='\\t')"
   ]
  },
  {
   "cell_type": "code",
   "execution_count": 6,
   "metadata": {},
   "outputs": [],
   "source": [
    "submission = pd.read_csv('../../input/sample_submission_stage_1.csv')"
   ]
  },
  {
   "cell_type": "code",
   "execution_count": 7,
   "metadata": {},
   "outputs": [
    {
     "data": {
      "text/plain": [
       "(2000, 9)"
      ]
     },
     "execution_count": 7,
     "metadata": {},
     "output_type": "execute_result"
    }
   ],
   "source": [
    "gendered_pronoun_df.shape"
   ]
  },
  {
   "cell_type": "code",
   "execution_count": 8,
   "metadata": {},
   "outputs": [
    {
     "data": {
      "text/plain": [
       "(2000, 4)"
      ]
     },
     "execution_count": 8,
     "metadata": {},
     "output_type": "execute_result"
    }
   ],
   "source": [
    "submission.shape"
   ]
  },
  {
   "cell_type": "markdown",
   "metadata": {},
   "source": [
    "<a id=\"15\"></a> <br>"
   ]
  },
  {
   "cell_type": "markdown",
   "metadata": {},
   "source": [
    "## 1.5 Gendered Pronoun Data set Analysis"
   ]
  },
  {
   "cell_type": "markdown",
   "metadata": {},
   "source": [
    "<img src=\"https://storage.googleapis.com/kaggle-media/competitions/GoogleAI-GenderedPronoun/PronounResolution.png\"/>"
   ]
  },
  {
   "cell_type": "markdown",
   "metadata": {},
   "source": [
    "**Pronoun resolution** is part of coreference resolution(대용어 해소), the task of pairing an expressioni to its referring entity. This is an important task for natural language understanding, and the resolution of ambiguous(애매모호한) pronouns is a longstanding(오랫동안에 걸친) challenge. For more information you can check this [link](https://www.kaggle.com/c/gendered-pronoun-resolution)."
   ]
  },
  {
   "cell_type": "markdown",
   "metadata": {},
   "source": [
    "<a id=\"151\"></a> <br>"
   ]
  },
  {
   "cell_type": "markdown",
   "metadata": {},
   "source": [
    "### 1.5.1 Problem Feature"
   ]
  },
  {
   "cell_type": "markdown",
   "metadata": {},
   "source": [
    "In this competition, you must identify the target of a pronoun within a text passage. The source text is taken from Wikipedia articles. You are provided with the pronoun and two candidate names to which the pronoun could refer. You must create an algorithm capable of deciding whether the pronoun refers to name A, name B, or neither."
   ]
  },
  {
   "cell_type": "code",
   "execution_count": 9,
   "metadata": {},
   "outputs": [
    {
     "data": {
      "text/html": [
       "<div>\n",
       "<style scoped>\n",
       "    .dataframe tbody tr th:only-of-type {\n",
       "        vertical-align: middle;\n",
       "    }\n",
       "\n",
       "    .dataframe tbody tr th {\n",
       "        vertical-align: top;\n",
       "    }\n",
       "\n",
       "    .dataframe thead th {\n",
       "        text-align: right;\n",
       "    }\n",
       "</style>\n",
       "<table border=\"1\" class=\"dataframe\">\n",
       "  <thead>\n",
       "    <tr style=\"text-align: right;\">\n",
       "      <th></th>\n",
       "      <th>ID</th>\n",
       "      <th>Text</th>\n",
       "      <th>Pronoun</th>\n",
       "      <th>Pronoun-offset</th>\n",
       "      <th>A</th>\n",
       "      <th>A-offset</th>\n",
       "      <th>B</th>\n",
       "      <th>B-offset</th>\n",
       "      <th>URL</th>\n",
       "    </tr>\n",
       "  </thead>\n",
       "  <tbody>\n",
       "    <tr>\n",
       "      <td>0</td>\n",
       "      <td>development-1</td>\n",
       "      <td>Zoe Telford -- played the police officer girlf...</td>\n",
       "      <td>her</td>\n",
       "      <td>274</td>\n",
       "      <td>Cheryl Cassidy</td>\n",
       "      <td>191</td>\n",
       "      <td>Pauline</td>\n",
       "      <td>207</td>\n",
       "      <td>http://en.wikipedia.org/wiki/List_of_Teachers_...</td>\n",
       "    </tr>\n",
       "    <tr>\n",
       "      <td>1</td>\n",
       "      <td>development-2</td>\n",
       "      <td>He grew up in Evanston, Illinois the second ol...</td>\n",
       "      <td>His</td>\n",
       "      <td>284</td>\n",
       "      <td>MacKenzie</td>\n",
       "      <td>228</td>\n",
       "      <td>Bernard Leach</td>\n",
       "      <td>251</td>\n",
       "      <td>http://en.wikipedia.org/wiki/Warren_MacKenzie</td>\n",
       "    </tr>\n",
       "    <tr>\n",
       "      <td>2</td>\n",
       "      <td>development-3</td>\n",
       "      <td>He had been reelected to Congress, but resigne...</td>\n",
       "      <td>his</td>\n",
       "      <td>265</td>\n",
       "      <td>Angeloz</td>\n",
       "      <td>173</td>\n",
       "      <td>De la Sota</td>\n",
       "      <td>246</td>\n",
       "      <td>http://en.wikipedia.org/wiki/Jos%C3%A9_Manuel_...</td>\n",
       "    </tr>\n",
       "    <tr>\n",
       "      <td>3</td>\n",
       "      <td>development-4</td>\n",
       "      <td>The current members of Crime have also perform...</td>\n",
       "      <td>his</td>\n",
       "      <td>321</td>\n",
       "      <td>Hell</td>\n",
       "      <td>174</td>\n",
       "      <td>Henry Rosenthal</td>\n",
       "      <td>336</td>\n",
       "      <td>http://en.wikipedia.org/wiki/Crime_(band)</td>\n",
       "    </tr>\n",
       "    <tr>\n",
       "      <td>4</td>\n",
       "      <td>development-5</td>\n",
       "      <td>Her Santa Fe Opera debut in 2005 was as Nuria ...</td>\n",
       "      <td>She</td>\n",
       "      <td>437</td>\n",
       "      <td>Kitty Oppenheimer</td>\n",
       "      <td>219</td>\n",
       "      <td>Rivera</td>\n",
       "      <td>294</td>\n",
       "      <td>http://en.wikipedia.org/wiki/Jessica_Rivera</td>\n",
       "    </tr>\n",
       "  </tbody>\n",
       "</table>\n",
       "</div>"
      ],
      "text/plain": [
       "              ID                                               Text Pronoun  \\\n",
       "0  development-1  Zoe Telford -- played the police officer girlf...     her   \n",
       "1  development-2  He grew up in Evanston, Illinois the second ol...     His   \n",
       "2  development-3  He had been reelected to Congress, but resigne...     his   \n",
       "3  development-4  The current members of Crime have also perform...     his   \n",
       "4  development-5  Her Santa Fe Opera debut in 2005 was as Nuria ...     She   \n",
       "\n",
       "   Pronoun-offset                  A  A-offset                B  B-offset  \\\n",
       "0             274     Cheryl Cassidy       191          Pauline       207   \n",
       "1             284          MacKenzie       228    Bernard Leach       251   \n",
       "2             265            Angeloz       173       De la Sota       246   \n",
       "3             321               Hell       174  Henry Rosenthal       336   \n",
       "4             437  Kitty Oppenheimer       219           Rivera       294   \n",
       "\n",
       "                                                 URL  \n",
       "0  http://en.wikipedia.org/wiki/List_of_Teachers_...  \n",
       "1      http://en.wikipedia.org/wiki/Warren_MacKenzie  \n",
       "2  http://en.wikipedia.org/wiki/Jos%C3%A9_Manuel_...  \n",
       "3          http://en.wikipedia.org/wiki/Crime_(band)  \n",
       "4        http://en.wikipedia.org/wiki/Jessica_Rivera  "
      ]
     },
     "execution_count": 9,
     "metadata": {},
     "output_type": "execute_result"
    }
   ],
   "source": [
    "gendered_pronoun_df.head()"
   ]
  },
  {
   "cell_type": "code",
   "execution_count": 10,
   "metadata": {},
   "outputs": [
    {
     "name": "stdout",
     "output_type": "stream",
     "text": [
      "<class 'pandas.core.frame.DataFrame'>\n",
      "RangeIndex: 2000 entries, 0 to 1999\n",
      "Data columns (total 9 columns):\n",
      "ID                2000 non-null object\n",
      "Text              2000 non-null object\n",
      "Pronoun           2000 non-null object\n",
      "Pronoun-offset    2000 non-null int64\n",
      "A                 2000 non-null object\n",
      "A-offset          2000 non-null int64\n",
      "B                 2000 non-null object\n",
      "B-offset          2000 non-null int64\n",
      "URL               2000 non-null object\n",
      "dtypes: int64(3), object(6)\n",
      "memory usage: 140.8+ KB\n"
     ]
    }
   ],
   "source": [
    "gendered_pronoun_df.info()"
   ]
  },
  {
   "cell_type": "markdown",
   "metadata": {},
   "source": [
    "<a id=\"152\"></a> <br>"
   ]
  },
  {
   "cell_type": "markdown",
   "metadata": {},
   "source": [
    "### 1.5.2 Variables\n",
    "\n",
    "1. ID - Unique identifier for an example (Matches to Id in output file format)\n",
    "2. Text - Text containing the ambiguous pronoun and two candidate names (about a paragraph in length)\n",
    "3. Pronoun - The target pronoun (text)\n",
    "4. Pronoun-offset - Thecharacter offset of Pronoun in Text\n",
    "5. A - The first name candidate (text)\n",
    "6. A-offset - The character offset of name A in Text\n",
    "7. B - The second name candidate\n",
    "8. B-offset - The character offset of name B in Text\n",
    "9. URL - The URL of the source Wikipedia page for the example"
   ]
  },
  {
   "cell_type": "code",
   "execution_count": 11,
   "metadata": {},
   "outputs": [
    {
     "name": "stdout",
     "output_type": "stream",
     "text": [
      "0    Zoe Telford -- played the police officer girlf...\n",
      "1    He grew up in Evanston, Illinois the second ol...\n",
      "2    He had been reelected to Congress, but resigne...\n",
      "3    The current members of Crime have also perform...\n",
      "4    Her Santa Fe Opera debut in 2005 was as Nuria ...\n",
      "Name: Text, dtype: object\n"
     ]
    }
   ],
   "source": [
    "print(gendered_pronoun_df.Text.head())"
   ]
  },
  {
   "cell_type": "markdown",
   "metadata": {},
   "source": [
    "<a id=\"153\"></a> <br>"
   ]
  },
  {
   "cell_type": "markdown",
   "metadata": {},
   "source": [
    "### 1.5.3 Evaluation\n",
    "\n",
    "Submissions are evaluated using the multi-class logarithmic loss. Each pronoun has been labeled with whether it refers to A, B, or NEITHER. For each pronoun, you must submit a set of predicted probabilites (one for each class). The formula is :"
   ]
  },
  {
   "cell_type": "markdown",
   "metadata": {},
   "source": [
    "<img src=\"http://s8.picofile.com/file/8351608076/1.png\"/>"
   ]
  },
  {
   "cell_type": "code",
   "execution_count": 12,
   "metadata": {},
   "outputs": [
    {
     "name": "stdout",
     "output_type": "stream",
     "text": [
      "Shape of train set :  (2000, 9)\n"
     ]
    }
   ],
   "source": [
    "print(\"Shape of train set : \", gendered_pronoun_df.shape)"
   ]
  },
  {
   "cell_type": "code",
   "execution_count": 13,
   "metadata": {},
   "outputs": [
    {
     "data": {
      "text/plain": [
       "Index(['ID', 'Text', 'Pronoun', 'Pronoun-offset', 'A', 'A-offset', 'B',\n",
       "       'B-offset', 'URL'],\n",
       "      dtype='object')"
      ]
     },
     "execution_count": 13,
     "metadata": {},
     "output_type": "execute_result"
    }
   ],
   "source": [
    "gendered_pronoun_df.columns"
   ]
  },
  {
   "cell_type": "markdown",
   "metadata": {},
   "source": [
    "<a id=\"154\"></a><br>"
   ]
  },
  {
   "cell_type": "markdown",
   "metadata": {},
   "source": [
    "### 1.5.4 Check Missing Data"
   ]
  },
  {
   "cell_type": "code",
   "execution_count": 14,
   "metadata": {},
   "outputs": [],
   "source": [
    "def check_missing_data(df) :\n",
    "    \n",
    "    flag = df.isna().sum().any()\n",
    "    \n",
    "    if flag==True :\n",
    "        total = df.isnull().sum()\n",
    "        percent = (df.isnull().sum()) / (df.isnull().count()*100)\n",
    "        output = pd.concat([total, percent], axis=1,\n",
    "                           keys=['Total', 'Percent'])\n",
    "        data_type = []\n",
    "        \n",
    "        # written by MJ Bahmani\n",
    "        for col in df.columns :\n",
    "            dtype = str(df[col].dtype)\n",
    "            data_type.append(dtype)\n",
    "        \n",
    "        output[\"Types\"] = data_type\n",
    "        \n",
    "        return(np.transpose(output))\n",
    "    \n",
    "    else :\n",
    "        \n",
    "        return(False)"
   ]
  },
  {
   "cell_type": "code",
   "execution_count": 15,
   "metadata": {},
   "outputs": [
    {
     "data": {
      "text/plain": [
       "False"
      ]
     },
     "execution_count": 15,
     "metadata": {},
     "output_type": "execute_result"
    }
   ],
   "source": [
    "check_missing_data(gendered_pronoun_df)"
   ]
  },
  {
   "cell_type": "markdown",
   "metadata": {},
   "source": [
    "<a id=\"155\"></a> <br>"
   ]
  },
  {
   "cell_type": "markdown",
   "metadata": {
    "toc-hr-collapsed": true
   },
   "source": [
    "### 1.5.5 Some New Features\n",
    "\n",
    "In this section, I will extract a few new statistical features from the text field"
   ]
  },
  {
   "cell_type": "markdown",
   "metadata": {},
   "source": [
    "<br>"
   ]
  },
  {
   "cell_type": "markdown",
   "metadata": {},
   "source": [
    "#### 1.5.5.1 Number of words in the text"
   ]
  },
  {
   "cell_type": "code",
   "execution_count": 16,
   "metadata": {},
   "outputs": [],
   "source": [
    "gendered_pronoun_df[\"num_words\"] = gendered_pronoun_df[\"Text\"].apply(lambda x : len(str(x).split()))"
   ]
  },
  {
   "cell_type": "code",
   "execution_count": 17,
   "metadata": {},
   "outputs": [
    {
     "name": "stdout",
     "output_type": "stream",
     "text": [
      "maximum of num_words in data_df 204\n",
      "minimum of num_words in data_df 16\n"
     ]
    }
   ],
   "source": [
    "# MJ Bahmani\n",
    "print(\"maximum of num_words in data_df\", gendered_pronoun_df[\"num_words\"].max())\n",
    "print(\"minimum of num_words in data_df\", gendered_pronoun_df[\"num_words\"].min())"
   ]
  },
  {
   "cell_type": "markdown",
   "metadata": {},
   "source": [
    "<br>"
   ]
  },
  {
   "cell_type": "markdown",
   "metadata": {},
   "source": [
    "#### 1.5.5.2 Number of unique words in the text"
   ]
  },
  {
   "cell_type": "code",
   "execution_count": 18,
   "metadata": {},
   "outputs": [
    {
     "name": "stdout",
     "output_type": "stream",
     "text": [
      "maximum of num_unique_words in train 136\n",
      "mean of num_unique_words in data_df 56.4005\n"
     ]
    }
   ],
   "source": [
    "gendered_pronoun_df[\"num_unique_words\"] = gendered_pronoun_df[\"Text\"].apply(lambda x: len(set(str(x).split())))\n",
    "\n",
    "print(\"maximum of num_unique_words in train\", gendered_pronoun_df[\"num_unique_words\"].max())\n",
    "print(\"mean of num_unique_words in data_df\", gendered_pronoun_df[\"num_unique_words\"].mean())"
   ]
  },
  {
   "cell_type": "markdown",
   "metadata": {},
   "source": [
    "<br>"
   ]
  },
  {
   "cell_type": "markdown",
   "metadata": {},
   "source": [
    "#### 1.5.5.3 Number of characters in the text"
   ]
  },
  {
   "cell_type": "code",
   "execution_count": 19,
   "metadata": {},
   "outputs": [
    {
     "name": "stdout",
     "output_type": "stream",
     "text": [
      "maximun of num_chars in data_df 1270\n"
     ]
    }
   ],
   "source": [
    "gendered_pronoun_df[\"num_chars\"] = gendered_pronoun_df[\"Text\"].apply(lambda x: len(str(x)))\n",
    "\n",
    "print(\"maximun of num_chars in data_df\", gendered_pronoun_df[\"num_chars\"].max())"
   ]
  },
  {
   "cell_type": "markdown",
   "metadata": {},
   "source": [
    "<br>"
   ]
  },
  {
   "cell_type": "markdown",
   "metadata": {},
   "source": [
    "#### 1.5.5.4 Number of stopwords in the text"
   ]
  },
  {
   "cell_type": "code",
   "execution_count": 20,
   "metadata": {},
   "outputs": [],
   "source": [
    "from nltk.corpus import stopwords\n",
    "\n",
    "eng_stopwords = set(stopwords.words(\"english\"))"
   ]
  },
  {
   "cell_type": "code",
   "execution_count": 21,
   "metadata": {},
   "outputs": [
    {
     "name": "stdout",
     "output_type": "stream",
     "text": [
      "maximum of num_stopwords in data_df 88\n"
     ]
    }
   ],
   "source": [
    "gendered_pronoun_df[\"num_stopwords\"] = gendered_pronoun_df[\"Text\"].apply(lambda x: len([w for w in str(x).lower().split() if w in eng_stopwords]))\n",
    "\n",
    "print(\"maximum of num_stopwords in data_df\", gendered_pronoun_df[\"num_stopwords\"].max())"
   ]
  },
  {
   "cell_type": "markdown",
   "metadata": {},
   "source": [
    "<br>"
   ]
  },
  {
   "cell_type": "markdown",
   "metadata": {},
   "source": [
    "#### 1.5.5.5 Number of punctuaions(구두점) in the text"
   ]
  },
  {
   "cell_type": "code",
   "execution_count": 22,
   "metadata": {},
   "outputs": [
    {
     "name": "stdout",
     "output_type": "stream",
     "text": [
      "maximum of num_punctuations in data_df 93\n"
     ]
    }
   ],
   "source": [
    "import string\n",
    "\n",
    "gendered_pronoun_df[\"num_punctuations\"] = gendered_pronoun_df[\"Text\"].apply(lambda x: len([c for c in str(x) if c in string.punctuation]))\n",
    "\n",
    "print(\"maximum of num_punctuations in data_df\", gendered_pronoun_df[\"num_punctuations\"].max())"
   ]
  },
  {
   "cell_type": "markdown",
   "metadata": {},
   "source": [
    "<br>"
   ]
  },
  {
   "cell_type": "markdown",
   "metadata": {},
   "source": [
    "#### 1.5.5.6 Number of title case words in the text"
   ]
  },
  {
   "cell_type": "code",
   "execution_count": 23,
   "metadata": {},
   "outputs": [
    {
     "name": "stdout",
     "output_type": "stream",
     "text": [
      "maximum of num_words_upper in data_df 11\n"
     ]
    }
   ],
   "source": [
    "gendered_pronoun_df[\"num_words_upper\"] = gendered_pronoun_df[\"Text\"].apply(lambda x: len([w for w in str(x).split() if w.isupper()]))\n",
    "\n",
    "print(\"maximum of num_words_upper in data_df\", gendered_pronoun_df[\"num_words_upper\"].max())"
   ]
  },
  {
   "cell_type": "markdown",
   "metadata": {},
   "source": [
    "<br>"
   ]
  },
  {
   "cell_type": "code",
   "execution_count": 24,
   "metadata": {},
   "outputs": [
    {
     "name": "stdout",
     "output_type": "stream",
     "text": [
      "Index(['ID', 'Text', 'Pronoun', 'Pronoun-offset', 'A', 'A-offset', 'B',\n",
      "       'B-offset', 'URL', 'num_words', 'num_unique_words', 'num_chars',\n",
      "       'num_stopwords', 'num_punctuations', 'num_words_upper'],\n",
      "      dtype='object')\n"
     ]
    },
    {
     "data": {
      "text/html": [
       "<div>\n",
       "<style scoped>\n",
       "    .dataframe tbody tr th:only-of-type {\n",
       "        vertical-align: middle;\n",
       "    }\n",
       "\n",
       "    .dataframe tbody tr th {\n",
       "        vertical-align: top;\n",
       "    }\n",
       "\n",
       "    .dataframe thead th {\n",
       "        text-align: right;\n",
       "    }\n",
       "</style>\n",
       "<table border=\"1\" class=\"dataframe\">\n",
       "  <thead>\n",
       "    <tr style=\"text-align: right;\">\n",
       "      <th></th>\n",
       "      <th>ID</th>\n",
       "      <th>Text</th>\n",
       "      <th>Pronoun</th>\n",
       "      <th>Pronoun-offset</th>\n",
       "      <th>A</th>\n",
       "      <th>A-offset</th>\n",
       "      <th>B</th>\n",
       "      <th>B-offset</th>\n",
       "      <th>URL</th>\n",
       "      <th>num_words</th>\n",
       "      <th>num_unique_words</th>\n",
       "      <th>num_chars</th>\n",
       "      <th>num_stopwords</th>\n",
       "      <th>num_punctuations</th>\n",
       "      <th>num_words_upper</th>\n",
       "    </tr>\n",
       "  </thead>\n",
       "  <tbody>\n",
       "    <tr>\n",
       "      <td>0</td>\n",
       "      <td>development-1</td>\n",
       "      <td>Zoe Telford -- played the police officer girlf...</td>\n",
       "      <td>her</td>\n",
       "      <td>274</td>\n",
       "      <td>Cheryl Cassidy</td>\n",
       "      <td>191</td>\n",
       "      <td>Pauline</td>\n",
       "      <td>207</td>\n",
       "      <td>http://en.wikipedia.org/wiki/List_of_Teachers_...</td>\n",
       "      <td>74</td>\n",
       "      <td>61</td>\n",
       "      <td>426</td>\n",
       "      <td>29</td>\n",
       "      <td>14</td>\n",
       "      <td>0</td>\n",
       "    </tr>\n",
       "  </tbody>\n",
       "</table>\n",
       "</div>"
      ],
      "text/plain": [
       "              ID                                               Text Pronoun  \\\n",
       "0  development-1  Zoe Telford -- played the police officer girlf...     her   \n",
       "\n",
       "   Pronoun-offset               A  A-offset        B  B-offset  \\\n",
       "0             274  Cheryl Cassidy       191  Pauline       207   \n",
       "\n",
       "                                                 URL  num_words  \\\n",
       "0  http://en.wikipedia.org/wiki/List_of_Teachers_...         74   \n",
       "\n",
       "   num_unique_words  num_chars  num_stopwords  num_punctuations  \\\n",
       "0                61        426             29                14   \n",
       "\n",
       "   num_words_upper  \n",
       "0                0  "
      ]
     },
     "execution_count": 24,
     "metadata": {},
     "output_type": "execute_result"
    }
   ],
   "source": [
    "print(gendered_pronoun_df.columns)\n",
    "gendered_pronoun_df.head(1)"
   ]
  },
  {
   "cell_type": "code",
   "execution_count": 25,
   "metadata": {},
   "outputs": [],
   "source": [
    "pronoun = gendered_pronoun_df[\"Pronoun\"]"
   ]
  },
  {
   "cell_type": "code",
   "execution_count": 26,
   "metadata": {},
   "outputs": [
    {
     "data": {
      "text/plain": [
       "array(['He', 'Her', 'His', 'She', 'he', 'her', 'him', 'his', 'she'],\n",
       "      dtype=object)"
      ]
     },
     "execution_count": 26,
     "metadata": {},
     "output_type": "execute_result"
    }
   ],
   "source": [
    "np.unique(pronoun)"
   ]
  },
  {
   "cell_type": "code",
   "execution_count": 27,
   "metadata": {},
   "outputs": [
    {
     "data": {
      "text/html": [
       "<div>\n",
       "<style scoped>\n",
       "    .dataframe tbody tr th:only-of-type {\n",
       "        vertical-align: middle;\n",
       "    }\n",
       "\n",
       "    .dataframe tbody tr th {\n",
       "        vertical-align: top;\n",
       "    }\n",
       "\n",
       "    .dataframe thead th {\n",
       "        text-align: right;\n",
       "    }\n",
       "</style>\n",
       "<table border=\"1\" class=\"dataframe\">\n",
       "  <thead>\n",
       "    <tr style=\"text-align: right;\">\n",
       "      <th></th>\n",
       "      <th>ID</th>\n",
       "      <th>Text</th>\n",
       "      <th>Pronoun</th>\n",
       "      <th>Pronoun-offset</th>\n",
       "      <th>A</th>\n",
       "      <th>A-offset</th>\n",
       "      <th>B</th>\n",
       "      <th>B-offset</th>\n",
       "      <th>URL</th>\n",
       "      <th>num_words</th>\n",
       "      <th>num_unique_words</th>\n",
       "      <th>num_chars</th>\n",
       "      <th>num_stopwords</th>\n",
       "      <th>num_punctuations</th>\n",
       "      <th>num_words_upper</th>\n",
       "      <th>Pronoun_binary</th>\n",
       "    </tr>\n",
       "  </thead>\n",
       "  <tbody>\n",
       "    <tr>\n",
       "      <td>0</td>\n",
       "      <td>development-1</td>\n",
       "      <td>Zoe Telford -- played the police officer girlf...</td>\n",
       "      <td>her</td>\n",
       "      <td>274</td>\n",
       "      <td>Cheryl Cassidy</td>\n",
       "      <td>191</td>\n",
       "      <td>Pauline</td>\n",
       "      <td>207</td>\n",
       "      <td>http://en.wikipedia.org/wiki/List_of_Teachers_...</td>\n",
       "      <td>74</td>\n",
       "      <td>61</td>\n",
       "      <td>426</td>\n",
       "      <td>29</td>\n",
       "      <td>14</td>\n",
       "      <td>0</td>\n",
       "      <td>4.0</td>\n",
       "    </tr>\n",
       "    <tr>\n",
       "      <td>1</td>\n",
       "      <td>development-2</td>\n",
       "      <td>He grew up in Evanston, Illinois the second ol...</td>\n",
       "      <td>His</td>\n",
       "      <td>284</td>\n",
       "      <td>MacKenzie</td>\n",
       "      <td>228</td>\n",
       "      <td>Bernard Leach</td>\n",
       "      <td>251</td>\n",
       "      <td>http://en.wikipedia.org/wiki/Warren_MacKenzie</td>\n",
       "      <td>65</td>\n",
       "      <td>58</td>\n",
       "      <td>410</td>\n",
       "      <td>22</td>\n",
       "      <td>12</td>\n",
       "      <td>0</td>\n",
       "      <td>2.0</td>\n",
       "    </tr>\n",
       "    <tr>\n",
       "      <td>2</td>\n",
       "      <td>development-3</td>\n",
       "      <td>He had been reelected to Congress, but resigne...</td>\n",
       "      <td>his</td>\n",
       "      <td>265</td>\n",
       "      <td>Angeloz</td>\n",
       "      <td>173</td>\n",
       "      <td>De la Sota</td>\n",
       "      <td>246</td>\n",
       "      <td>http://en.wikipedia.org/wiki/Jos%C3%A9_Manuel_...</td>\n",
       "      <td>95</td>\n",
       "      <td>71</td>\n",
       "      <td>536</td>\n",
       "      <td>39</td>\n",
       "      <td>16</td>\n",
       "      <td>0</td>\n",
       "      <td>2.0</td>\n",
       "    </tr>\n",
       "    <tr>\n",
       "      <td>3</td>\n",
       "      <td>development-4</td>\n",
       "      <td>The current members of Crime have also perform...</td>\n",
       "      <td>his</td>\n",
       "      <td>321</td>\n",
       "      <td>Hell</td>\n",
       "      <td>174</td>\n",
       "      <td>Henry Rosenthal</td>\n",
       "      <td>336</td>\n",
       "      <td>http://en.wikipedia.org/wiki/Crime_(band)</td>\n",
       "      <td>69</td>\n",
       "      <td>58</td>\n",
       "      <td>401</td>\n",
       "      <td>24</td>\n",
       "      <td>13</td>\n",
       "      <td>1</td>\n",
       "      <td>2.0</td>\n",
       "    </tr>\n",
       "    <tr>\n",
       "      <td>4</td>\n",
       "      <td>development-5</td>\n",
       "      <td>Her Santa Fe Opera debut in 2005 was as Nuria ...</td>\n",
       "      <td>She</td>\n",
       "      <td>437</td>\n",
       "      <td>Kitty Oppenheimer</td>\n",
       "      <td>219</td>\n",
       "      <td>Rivera</td>\n",
       "      <td>294</td>\n",
       "      <td>http://en.wikipedia.org/wiki/Jessica_Rivera</td>\n",
       "      <td>112</td>\n",
       "      <td>80</td>\n",
       "      <td>660</td>\n",
       "      <td>43</td>\n",
       "      <td>18</td>\n",
       "      <td>1</td>\n",
       "      <td>1.0</td>\n",
       "    </tr>\n",
       "    <tr>\n",
       "      <td>5</td>\n",
       "      <td>development-6</td>\n",
       "      <td>Sandra Collins is an American DJ. She got her ...</td>\n",
       "      <td>She</td>\n",
       "      <td>411</td>\n",
       "      <td>Collins</td>\n",
       "      <td>236</td>\n",
       "      <td>DJ</td>\n",
       "      <td>347</td>\n",
       "      <td>http://en.wikipedia.org/wiki/Sandra_Collins</td>\n",
       "      <td>81</td>\n",
       "      <td>64</td>\n",
       "      <td>488</td>\n",
       "      <td>31</td>\n",
       "      <td>13</td>\n",
       "      <td>4</td>\n",
       "      <td>1.0</td>\n",
       "    </tr>\n",
       "    <tr>\n",
       "      <td>6</td>\n",
       "      <td>development-7</td>\n",
       "      <td>Reb Chaim Yaakov's wife is the sister of Rabbi...</td>\n",
       "      <td>his</td>\n",
       "      <td>273</td>\n",
       "      <td>Reb Asher</td>\n",
       "      <td>152</td>\n",
       "      <td>Akiva Eiger</td>\n",
       "      <td>253</td>\n",
       "      <td>http://en.wikipedia.org/wiki/Asher_Arieli</td>\n",
       "      <td>72</td>\n",
       "      <td>48</td>\n",
       "      <td>432</td>\n",
       "      <td>27</td>\n",
       "      <td>11</td>\n",
       "      <td>0</td>\n",
       "      <td>2.0</td>\n",
       "    </tr>\n",
       "    <tr>\n",
       "      <td>7</td>\n",
       "      <td>development-8</td>\n",
       "      <td>Slant Magazine's Sal Cinquemani viewed the alb...</td>\n",
       "      <td>his</td>\n",
       "      <td>337</td>\n",
       "      <td>Greg Kot</td>\n",
       "      <td>173</td>\n",
       "      <td>Robert Christgau</td>\n",
       "      <td>377</td>\n",
       "      <td>http://en.wikipedia.org/wiki/The_Truth_About_L...</td>\n",
       "      <td>71</td>\n",
       "      <td>60</td>\n",
       "      <td>451</td>\n",
       "      <td>26</td>\n",
       "      <td>21</td>\n",
       "      <td>0</td>\n",
       "      <td>2.0</td>\n",
       "    </tr>\n",
       "    <tr>\n",
       "      <td>8</td>\n",
       "      <td>development-9</td>\n",
       "      <td>Her father was an Englishman ``of rank and cul...</td>\n",
       "      <td>her</td>\n",
       "      <td>246</td>\n",
       "      <td>Mary Paine</td>\n",
       "      <td>255</td>\n",
       "      <td>Kelsey</td>\n",
       "      <td>267</td>\n",
       "      <td>http://en.wikipedia.org/wiki/Mary_S._Peake</td>\n",
       "      <td>53</td>\n",
       "      <td>42</td>\n",
       "      <td>302</td>\n",
       "      <td>23</td>\n",
       "      <td>13</td>\n",
       "      <td>0</td>\n",
       "      <td>4.0</td>\n",
       "    </tr>\n",
       "    <tr>\n",
       "      <td>9</td>\n",
       "      <td>development-10</td>\n",
       "      <td>Shaftesbury's UK partners in the production of...</td>\n",
       "      <td>she</td>\n",
       "      <td>329</td>\n",
       "      <td>Christina Jennings</td>\n",
       "      <td>196</td>\n",
       "      <td>Kirstine Stewart</td>\n",
       "      <td>226</td>\n",
       "      <td>http://en.wikipedia.org/wiki/Murdoch_Mysteries</td>\n",
       "      <td>52</td>\n",
       "      <td>45</td>\n",
       "      <td>381</td>\n",
       "      <td>16</td>\n",
       "      <td>14</td>\n",
       "      <td>4</td>\n",
       "      <td>1.0</td>\n",
       "    </tr>\n",
       "    <tr>\n",
       "      <td>10</td>\n",
       "      <td>development-11</td>\n",
       "      <td>William Shatner portraying writer Mark Twain; ...</td>\n",
       "      <td>his</td>\n",
       "      <td>300</td>\n",
       "      <td>Peter Mansbridge</td>\n",
       "      <td>168</td>\n",
       "      <td>David Onley</td>\n",
       "      <td>212</td>\n",
       "      <td>http://en.wikipedia.org/wiki/Murdoch_Mysteries</td>\n",
       "      <td>66</td>\n",
       "      <td>58</td>\n",
       "      <td>448</td>\n",
       "      <td>18</td>\n",
       "      <td>9</td>\n",
       "      <td>0</td>\n",
       "      <td>2.0</td>\n",
       "    </tr>\n",
       "    <tr>\n",
       "      <td>11</td>\n",
       "      <td>development-12</td>\n",
       "      <td>His maternal great-grandfather was Henry Percy...</td>\n",
       "      <td>She</td>\n",
       "      <td>304</td>\n",
       "      <td>Eleanor</td>\n",
       "      <td>217</td>\n",
       "      <td>Eleanor Beauchamp</td>\n",
       "      <td>285</td>\n",
       "      <td>http://en.wikipedia.org/wiki/Henry_Clifford,_2...</td>\n",
       "      <td>60</td>\n",
       "      <td>40</td>\n",
       "      <td>397</td>\n",
       "      <td>21</td>\n",
       "      <td>10</td>\n",
       "      <td>0</td>\n",
       "      <td>1.0</td>\n",
       "    </tr>\n",
       "    <tr>\n",
       "      <td>12</td>\n",
       "      <td>development-13</td>\n",
       "      <td>Killian in 1978--79, an assistant district att...</td>\n",
       "      <td>her</td>\n",
       "      <td>293</td>\n",
       "      <td>Williams</td>\n",
       "      <td>247</td>\n",
       "      <td>Mary Helen Moses</td>\n",
       "      <td>273</td>\n",
       "      <td>http://en.wikipedia.org/wiki/Amanda_Williams</td>\n",
       "      <td>52</td>\n",
       "      <td>42</td>\n",
       "      <td>329</td>\n",
       "      <td>19</td>\n",
       "      <td>13</td>\n",
       "      <td>0</td>\n",
       "      <td>4.0</td>\n",
       "    </tr>\n",
       "    <tr>\n",
       "      <td>13</td>\n",
       "      <td>development-14</td>\n",
       "      <td>ARTA driver Vitantonio Liuzzi will be replaced...</td>\n",
       "      <td>his</td>\n",
       "      <td>340</td>\n",
       "      <td>Kazuki Nakajima</td>\n",
       "      <td>275</td>\n",
       "      <td>Oliver Jarvis</td>\n",
       "      <td>297</td>\n",
       "      <td>http://en.wikipedia.org/wiki/2015_Super_GT_Series</td>\n",
       "      <td>63</td>\n",
       "      <td>53</td>\n",
       "      <td>396</td>\n",
       "      <td>22</td>\n",
       "      <td>7</td>\n",
       "      <td>2</td>\n",
       "      <td>2.0</td>\n",
       "    </tr>\n",
       "    <tr>\n",
       "      <td>14</td>\n",
       "      <td>development-15</td>\n",
       "      <td>Twenty years ago, Lorenzo Uribe discovered tru...</td>\n",
       "      <td>her</td>\n",
       "      <td>250</td>\n",
       "      <td>Maria</td>\n",
       "      <td>219</td>\n",
       "      <td>Gracia</td>\n",
       "      <td>235</td>\n",
       "      <td>http://en.wikipedia.org/wiki/Malparida</td>\n",
       "      <td>59</td>\n",
       "      <td>47</td>\n",
       "      <td>350</td>\n",
       "      <td>20</td>\n",
       "      <td>12</td>\n",
       "      <td>0</td>\n",
       "      <td>4.0</td>\n",
       "    </tr>\n",
       "    <tr>\n",
       "      <td>15</td>\n",
       "      <td>development-16</td>\n",
       "      <td>A colleague in the department run by Erwin Fri...</td>\n",
       "      <td>she</td>\n",
       "      <td>295</td>\n",
       "      <td>Alma Taggart</td>\n",
       "      <td>192</td>\n",
       "      <td>McCulloch</td>\n",
       "      <td>219</td>\n",
       "      <td>http://en.wikipedia.org/wiki/Lucia_McCulloch</td>\n",
       "      <td>61</td>\n",
       "      <td>52</td>\n",
       "      <td>379</td>\n",
       "      <td>23</td>\n",
       "      <td>14</td>\n",
       "      <td>3</td>\n",
       "      <td>1.0</td>\n",
       "    </tr>\n",
       "    <tr>\n",
       "      <td>16</td>\n",
       "      <td>development-17</td>\n",
       "      <td>Maurice custom-tailors clothing for de Var*ze ...</td>\n",
       "      <td>him</td>\n",
       "      <td>384</td>\n",
       "      <td>Maurice</td>\n",
       "      <td>334</td>\n",
       "      <td>Gilbert</td>\n",
       "      <td>365</td>\n",
       "      <td>http://en.wikipedia.org/wiki/Love_Me_Tonight</td>\n",
       "      <td>74</td>\n",
       "      <td>60</td>\n",
       "      <td>454</td>\n",
       "      <td>30</td>\n",
       "      <td>17</td>\n",
       "      <td>0</td>\n",
       "      <td>3.0</td>\n",
       "    </tr>\n",
       "    <tr>\n",
       "      <td>17</td>\n",
       "      <td>development-18</td>\n",
       "      <td>In 1988, Race suffered an abdominal injury and...</td>\n",
       "      <td>his</td>\n",
       "      <td>330</td>\n",
       "      <td>Randy Savage</td>\n",
       "      <td>181</td>\n",
       "      <td>Ted DiBiase</td>\n",
       "      <td>235</td>\n",
       "      <td>http://en.wikipedia.org/wiki/King_of_the_Ring</td>\n",
       "      <td>74</td>\n",
       "      <td>58</td>\n",
       "      <td>436</td>\n",
       "      <td>29</td>\n",
       "      <td>10</td>\n",
       "      <td>0</td>\n",
       "      <td>2.0</td>\n",
       "    </tr>\n",
       "    <tr>\n",
       "      <td>18</td>\n",
       "      <td>development-19</td>\n",
       "      <td>The rest of the group find out what has happen...</td>\n",
       "      <td>him</td>\n",
       "      <td>335</td>\n",
       "      <td>Justin</td>\n",
       "      <td>281</td>\n",
       "      <td>Tim</td>\n",
       "      <td>296</td>\n",
       "      <td>http://en.wikipedia.org/wiki/Never_Back_Down_2...</td>\n",
       "      <td>67</td>\n",
       "      <td>54</td>\n",
       "      <td>359</td>\n",
       "      <td>34</td>\n",
       "      <td>6</td>\n",
       "      <td>0</td>\n",
       "      <td>3.0</td>\n",
       "    </tr>\n",
       "    <tr>\n",
       "      <td>19</td>\n",
       "      <td>development-20</td>\n",
       "      <td>On 30 July 1966, Ramsey's promise was fulfille...</td>\n",
       "      <td>his</td>\n",
       "      <td>476</td>\n",
       "      <td>Greaves</td>\n",
       "      <td>330</td>\n",
       "      <td>Ramsey</td>\n",
       "      <td>381</td>\n",
       "      <td>http://en.wikipedia.org/wiki/Alf_Ramsey</td>\n",
       "      <td>100</td>\n",
       "      <td>78</td>\n",
       "      <td>586</td>\n",
       "      <td>38</td>\n",
       "      <td>18</td>\n",
       "      <td>1</td>\n",
       "      <td>2.0</td>\n",
       "    </tr>\n",
       "    <tr>\n",
       "      <td>20</td>\n",
       "      <td>development-21</td>\n",
       "      <td>Ben Severson is a pioneer in the sport of body...</td>\n",
       "      <td>He</td>\n",
       "      <td>234</td>\n",
       "      <td>Mike Stewart</td>\n",
       "      <td>113</td>\n",
       "      <td>Ben</td>\n",
       "      <td>150</td>\n",
       "      <td>http://en.wikipedia.org/wiki/Ben_Severson</td>\n",
       "      <td>57</td>\n",
       "      <td>47</td>\n",
       "      <td>320</td>\n",
       "      <td>23</td>\n",
       "      <td>5</td>\n",
       "      <td>0</td>\n",
       "      <td>0.0</td>\n",
       "    </tr>\n",
       "    <tr>\n",
       "      <td>21</td>\n",
       "      <td>development-22</td>\n",
       "      <td>This device allowed him to continue his racing...</td>\n",
       "      <td>his</td>\n",
       "      <td>304</td>\n",
       "      <td>Kurt</td>\n",
       "      <td>317</td>\n",
       "      <td>Paul Newman</td>\n",
       "      <td>338</td>\n",
       "      <td>http://en.wikipedia.org/wiki/Kurt_Kossmann</td>\n",
       "      <td>70</td>\n",
       "      <td>56</td>\n",
       "      <td>426</td>\n",
       "      <td>24</td>\n",
       "      <td>7</td>\n",
       "      <td>0</td>\n",
       "      <td>2.0</td>\n",
       "    </tr>\n",
       "    <tr>\n",
       "      <td>22</td>\n",
       "      <td>development-23</td>\n",
       "      <td>The meeting went a little differently from wha...</td>\n",
       "      <td>his</td>\n",
       "      <td>430</td>\n",
       "      <td>Magee</td>\n",
       "      <td>296</td>\n",
       "      <td>Kenneth Grant</td>\n",
       "      <td>386</td>\n",
       "      <td>http://en.wikipedia.org/wiki/Mike_Magee_(journ...</td>\n",
       "      <td>91</td>\n",
       "      <td>68</td>\n",
       "      <td>540</td>\n",
       "      <td>39</td>\n",
       "      <td>7</td>\n",
       "      <td>1</td>\n",
       "      <td>2.0</td>\n",
       "    </tr>\n",
       "    <tr>\n",
       "      <td>23</td>\n",
       "      <td>development-24</td>\n",
       "      <td>Louis McNeill begin her publishing career sell...</td>\n",
       "      <td>her</td>\n",
       "      <td>447</td>\n",
       "      <td>Maggie Anderson</td>\n",
       "      <td>273</td>\n",
       "      <td>McNeill</td>\n",
       "      <td>301</td>\n",
       "      <td>http://en.wikipedia.org/wiki/Louise_McNeill</td>\n",
       "      <td>75</td>\n",
       "      <td>62</td>\n",
       "      <td>481</td>\n",
       "      <td>26</td>\n",
       "      <td>14</td>\n",
       "      <td>0</td>\n",
       "      <td>4.0</td>\n",
       "    </tr>\n",
       "    <tr>\n",
       "      <td>24</td>\n",
       "      <td>development-25</td>\n",
       "      <td>Her initial ambition was to become a ``culture...</td>\n",
       "      <td>her</td>\n",
       "      <td>329</td>\n",
       "      <td>Hartwig</td>\n",
       "      <td>210</td>\n",
       "      <td>Margaret Bell</td>\n",
       "      <td>266</td>\n",
       "      <td>http://en.wikipedia.org/wiki/Marie_Hartwig</td>\n",
       "      <td>51</td>\n",
       "      <td>47</td>\n",
       "      <td>333</td>\n",
       "      <td>15</td>\n",
       "      <td>15</td>\n",
       "      <td>1</td>\n",
       "      <td>4.0</td>\n",
       "    </tr>\n",
       "    <tr>\n",
       "      <td>25</td>\n",
       "      <td>development-26</td>\n",
       "      <td>They were broadly positive, though they stoppe...</td>\n",
       "      <td>his</td>\n",
       "      <td>299</td>\n",
       "      <td>Michael Billington</td>\n",
       "      <td>92</td>\n",
       "      <td>Martin</td>\n",
       "      <td>266</td>\n",
       "      <td>http://en.wikipedia.org/wiki/Life_and_Beth</td>\n",
       "      <td>55</td>\n",
       "      <td>50</td>\n",
       "      <td>363</td>\n",
       "      <td>21</td>\n",
       "      <td>14</td>\n",
       "      <td>0</td>\n",
       "      <td>2.0</td>\n",
       "    </tr>\n",
       "    <tr>\n",
       "      <td>26</td>\n",
       "      <td>development-27</td>\n",
       "      <td>Connie, in a one-sided conversation, gives pra...</td>\n",
       "      <td>her</td>\n",
       "      <td>280</td>\n",
       "      <td>Beth</td>\n",
       "      <td>238</td>\n",
       "      <td>Connie</td>\n",
       "      <td>263</td>\n",
       "      <td>http://en.wikipedia.org/wiki/Life_and_Beth</td>\n",
       "      <td>81</td>\n",
       "      <td>61</td>\n",
       "      <td>490</td>\n",
       "      <td>35</td>\n",
       "      <td>15</td>\n",
       "      <td>0</td>\n",
       "      <td>4.0</td>\n",
       "    </tr>\n",
       "    <tr>\n",
       "      <td>27</td>\n",
       "      <td>development-28</td>\n",
       "      <td>This is a list of episodes from the MTV show B...</td>\n",
       "      <td>his</td>\n",
       "      <td>194</td>\n",
       "      <td>Alan</td>\n",
       "      <td>204</td>\n",
       "      <td>Ryan</td>\n",
       "      <td>223</td>\n",
       "      <td>http://en.wikipedia.org/wiki/List_of_Bully_Bea...</td>\n",
       "      <td>54</td>\n",
       "      <td>47</td>\n",
       "      <td>290</td>\n",
       "      <td>23</td>\n",
       "      <td>6</td>\n",
       "      <td>1</td>\n",
       "      <td>2.0</td>\n",
       "    </tr>\n",
       "    <tr>\n",
       "      <td>28</td>\n",
       "      <td>development-29</td>\n",
       "      <td>Meet Mike, the shortest bully to appear on the...</td>\n",
       "      <td>him</td>\n",
       "      <td>250</td>\n",
       "      <td>Mayhem Miller</td>\n",
       "      <td>153</td>\n",
       "      <td>Eddie Alvarez</td>\n",
       "      <td>189</td>\n",
       "      <td>http://en.wikipedia.org/wiki/List_of_Bully_Bea...</td>\n",
       "      <td>52</td>\n",
       "      <td>46</td>\n",
       "      <td>263</td>\n",
       "      <td>21</td>\n",
       "      <td>6</td>\n",
       "      <td>1</td>\n",
       "      <td>3.0</td>\n",
       "    </tr>\n",
       "    <tr>\n",
       "      <td>29</td>\n",
       "      <td>development-30</td>\n",
       "      <td>With only six months' experience under his bel...</td>\n",
       "      <td>his</td>\n",
       "      <td>294</td>\n",
       "      <td>Paul</td>\n",
       "      <td>241</td>\n",
       "      <td>Freddie Griffiths</td>\n",
       "      <td>258</td>\n",
       "      <td>http://en.wikipedia.org/wiki/Tommy_Paul</td>\n",
       "      <td>52</td>\n",
       "      <td>44</td>\n",
       "      <td>323</td>\n",
       "      <td>17</td>\n",
       "      <td>7</td>\n",
       "      <td>1</td>\n",
       "      <td>2.0</td>\n",
       "    </tr>\n",
       "  </tbody>\n",
       "</table>\n",
       "</div>"
      ],
      "text/plain": [
       "                ID                                               Text Pronoun  \\\n",
       "0    development-1  Zoe Telford -- played the police officer girlf...     her   \n",
       "1    development-2  He grew up in Evanston, Illinois the second ol...     His   \n",
       "2    development-3  He had been reelected to Congress, but resigne...     his   \n",
       "3    development-4  The current members of Crime have also perform...     his   \n",
       "4    development-5  Her Santa Fe Opera debut in 2005 was as Nuria ...     She   \n",
       "5    development-6  Sandra Collins is an American DJ. She got her ...     She   \n",
       "6    development-7  Reb Chaim Yaakov's wife is the sister of Rabbi...     his   \n",
       "7    development-8  Slant Magazine's Sal Cinquemani viewed the alb...     his   \n",
       "8    development-9  Her father was an Englishman ``of rank and cul...     her   \n",
       "9   development-10  Shaftesbury's UK partners in the production of...     she   \n",
       "10  development-11  William Shatner portraying writer Mark Twain; ...     his   \n",
       "11  development-12  His maternal great-grandfather was Henry Percy...     She   \n",
       "12  development-13  Killian in 1978--79, an assistant district att...     her   \n",
       "13  development-14  ARTA driver Vitantonio Liuzzi will be replaced...     his   \n",
       "14  development-15  Twenty years ago, Lorenzo Uribe discovered tru...     her   \n",
       "15  development-16  A colleague in the department run by Erwin Fri...     she   \n",
       "16  development-17  Maurice custom-tailors clothing for de Var*ze ...     him   \n",
       "17  development-18  In 1988, Race suffered an abdominal injury and...     his   \n",
       "18  development-19  The rest of the group find out what has happen...     him   \n",
       "19  development-20  On 30 July 1966, Ramsey's promise was fulfille...     his   \n",
       "20  development-21  Ben Severson is a pioneer in the sport of body...      He   \n",
       "21  development-22  This device allowed him to continue his racing...     his   \n",
       "22  development-23  The meeting went a little differently from wha...     his   \n",
       "23  development-24  Louis McNeill begin her publishing career sell...     her   \n",
       "24  development-25  Her initial ambition was to become a ``culture...     her   \n",
       "25  development-26  They were broadly positive, though they stoppe...     his   \n",
       "26  development-27  Connie, in a one-sided conversation, gives pra...     her   \n",
       "27  development-28  This is a list of episodes from the MTV show B...     his   \n",
       "28  development-29  Meet Mike, the shortest bully to appear on the...     him   \n",
       "29  development-30  With only six months' experience under his bel...     his   \n",
       "\n",
       "    Pronoun-offset                   A  A-offset                  B  B-offset  \\\n",
       "0              274      Cheryl Cassidy       191            Pauline       207   \n",
       "1              284           MacKenzie       228      Bernard Leach       251   \n",
       "2              265             Angeloz       173         De la Sota       246   \n",
       "3              321                Hell       174    Henry Rosenthal       336   \n",
       "4              437   Kitty Oppenheimer       219             Rivera       294   \n",
       "5              411             Collins       236                 DJ       347   \n",
       "6              273           Reb Asher       152        Akiva Eiger       253   \n",
       "7              337            Greg Kot       173   Robert Christgau       377   \n",
       "8              246          Mary Paine       255             Kelsey       267   \n",
       "9              329  Christina Jennings       196   Kirstine Stewart       226   \n",
       "10             300    Peter Mansbridge       168        David Onley       212   \n",
       "11             304             Eleanor       217  Eleanor Beauchamp       285   \n",
       "12             293            Williams       247   Mary Helen Moses       273   \n",
       "13             340     Kazuki Nakajima       275      Oliver Jarvis       297   \n",
       "14             250               Maria       219             Gracia       235   \n",
       "15             295        Alma Taggart       192          McCulloch       219   \n",
       "16             384             Maurice       334            Gilbert       365   \n",
       "17             330        Randy Savage       181        Ted DiBiase       235   \n",
       "18             335              Justin       281                Tim       296   \n",
       "19             476             Greaves       330             Ramsey       381   \n",
       "20             234        Mike Stewart       113                Ben       150   \n",
       "21             304                Kurt       317        Paul Newman       338   \n",
       "22             430               Magee       296      Kenneth Grant       386   \n",
       "23             447     Maggie Anderson       273            McNeill       301   \n",
       "24             329             Hartwig       210      Margaret Bell       266   \n",
       "25             299  Michael Billington        92             Martin       266   \n",
       "26             280                Beth       238             Connie       263   \n",
       "27             194                Alan       204               Ryan       223   \n",
       "28             250       Mayhem Miller       153      Eddie Alvarez       189   \n",
       "29             294                Paul       241  Freddie Griffiths       258   \n",
       "\n",
       "                                                  URL  num_words  \\\n",
       "0   http://en.wikipedia.org/wiki/List_of_Teachers_...         74   \n",
       "1       http://en.wikipedia.org/wiki/Warren_MacKenzie         65   \n",
       "2   http://en.wikipedia.org/wiki/Jos%C3%A9_Manuel_...         95   \n",
       "3           http://en.wikipedia.org/wiki/Crime_(band)         69   \n",
       "4         http://en.wikipedia.org/wiki/Jessica_Rivera        112   \n",
       "5         http://en.wikipedia.org/wiki/Sandra_Collins         81   \n",
       "6           http://en.wikipedia.org/wiki/Asher_Arieli         72   \n",
       "7   http://en.wikipedia.org/wiki/The_Truth_About_L...         71   \n",
       "8          http://en.wikipedia.org/wiki/Mary_S._Peake         53   \n",
       "9      http://en.wikipedia.org/wiki/Murdoch_Mysteries         52   \n",
       "10     http://en.wikipedia.org/wiki/Murdoch_Mysteries         66   \n",
       "11  http://en.wikipedia.org/wiki/Henry_Clifford,_2...         60   \n",
       "12       http://en.wikipedia.org/wiki/Amanda_Williams         52   \n",
       "13  http://en.wikipedia.org/wiki/2015_Super_GT_Series         63   \n",
       "14             http://en.wikipedia.org/wiki/Malparida         59   \n",
       "15       http://en.wikipedia.org/wiki/Lucia_McCulloch         61   \n",
       "16       http://en.wikipedia.org/wiki/Love_Me_Tonight         74   \n",
       "17      http://en.wikipedia.org/wiki/King_of_the_Ring         74   \n",
       "18  http://en.wikipedia.org/wiki/Never_Back_Down_2...         67   \n",
       "19            http://en.wikipedia.org/wiki/Alf_Ramsey        100   \n",
       "20          http://en.wikipedia.org/wiki/Ben_Severson         57   \n",
       "21         http://en.wikipedia.org/wiki/Kurt_Kossmann         70   \n",
       "22  http://en.wikipedia.org/wiki/Mike_Magee_(journ...         91   \n",
       "23        http://en.wikipedia.org/wiki/Louise_McNeill         75   \n",
       "24         http://en.wikipedia.org/wiki/Marie_Hartwig         51   \n",
       "25         http://en.wikipedia.org/wiki/Life_and_Beth         55   \n",
       "26         http://en.wikipedia.org/wiki/Life_and_Beth         81   \n",
       "27  http://en.wikipedia.org/wiki/List_of_Bully_Bea...         54   \n",
       "28  http://en.wikipedia.org/wiki/List_of_Bully_Bea...         52   \n",
       "29            http://en.wikipedia.org/wiki/Tommy_Paul         52   \n",
       "\n",
       "    num_unique_words  num_chars  num_stopwords  num_punctuations  \\\n",
       "0                 61        426             29                14   \n",
       "1                 58        410             22                12   \n",
       "2                 71        536             39                16   \n",
       "3                 58        401             24                13   \n",
       "4                 80        660             43                18   \n",
       "5                 64        488             31                13   \n",
       "6                 48        432             27                11   \n",
       "7                 60        451             26                21   \n",
       "8                 42        302             23                13   \n",
       "9                 45        381             16                14   \n",
       "10                58        448             18                 9   \n",
       "11                40        397             21                10   \n",
       "12                42        329             19                13   \n",
       "13                53        396             22                 7   \n",
       "14                47        350             20                12   \n",
       "15                52        379             23                14   \n",
       "16                60        454             30                17   \n",
       "17                58        436             29                10   \n",
       "18                54        359             34                 6   \n",
       "19                78        586             38                18   \n",
       "20                47        320             23                 5   \n",
       "21                56        426             24                 7   \n",
       "22                68        540             39                 7   \n",
       "23                62        481             26                14   \n",
       "24                47        333             15                15   \n",
       "25                50        363             21                14   \n",
       "26                61        490             35                15   \n",
       "27                47        290             23                 6   \n",
       "28                46        263             21                 6   \n",
       "29                44        323             17                 7   \n",
       "\n",
       "    num_words_upper  Pronoun_binary  \n",
       "0                 0             4.0  \n",
       "1                 0             2.0  \n",
       "2                 0             2.0  \n",
       "3                 1             2.0  \n",
       "4                 1             1.0  \n",
       "5                 4             1.0  \n",
       "6                 0             2.0  \n",
       "7                 0             2.0  \n",
       "8                 0             4.0  \n",
       "9                 4             1.0  \n",
       "10                0             2.0  \n",
       "11                0             1.0  \n",
       "12                0             4.0  \n",
       "13                2             2.0  \n",
       "14                0             4.0  \n",
       "15                3             1.0  \n",
       "16                0             3.0  \n",
       "17                0             2.0  \n",
       "18                0             3.0  \n",
       "19                1             2.0  \n",
       "20                0             0.0  \n",
       "21                0             2.0  \n",
       "22                1             2.0  \n",
       "23                0             4.0  \n",
       "24                1             4.0  \n",
       "25                0             2.0  \n",
       "26                0             4.0  \n",
       "27                1             2.0  \n",
       "28                1             3.0  \n",
       "29                1             2.0  "
      ]
     },
     "execution_count": 27,
     "metadata": {},
     "output_type": "execute_result"
    }
   ],
   "source": [
    "## is suggested by  https://www.kaggle.com/aavella77\n",
    "binary = {\n",
    "    \"He\": 0,\n",
    "    \"he\": 0,\n",
    "    \"She\": 1,\n",
    "    \"she\": 1,\n",
    "    \"His\": 2,\n",
    "    \"his\": 2,\n",
    "    \"Him\": 3,\n",
    "    \"him\": 3,\n",
    "    \"Her\": 4,\n",
    "    \"her\": 4\n",
    "}\n",
    "\n",
    "for index in range(len(gendered_pronoun_df)) :\n",
    "    key = gendered_pronoun_df.iloc[index]['Pronoun']\n",
    "    gendered_pronoun_df.at[index, 'Pronoun_binary'] = binary[key]\n",
    "    \n",
    "gendered_pronoun_df.head(30)"
   ]
  },
  {
   "cell_type": "markdown",
   "metadata": {},
   "source": [
    "<a id=\"156\"></a> <br>"
   ]
  },
  {
   "cell_type": "markdown",
   "metadata": {},
   "source": [
    "### 1.5.6 Visualization"
   ]
  },
  {
   "cell_type": "markdown",
   "metadata": {},
   "source": [
    "#### 1.5.6.1 WordCloud"
   ]
  },
  {
   "cell_type": "code",
   "execution_count": 28,
   "metadata": {},
   "outputs": [],
   "source": [
    "from wordcloud import WordCloud as wc\n",
    "from nltk.corpus import stopwords\n",
    "\n",
    "def generate_wordcloud(text) :\n",
    "    wordcloud = wc(relative_scaling=1.0,\n",
    "                   stopwords=eng_stopwords).generate(text)\n",
    "    fig, ax = plt.subplots(1,1,figsize=(10,10))\n",
    "    ax.imshow(wordcloud, interpolation=\"bilinear\")\n",
    "    ax.axis('off')\n",
    "    ax.margins(x=0, y=0)\n",
    "    plt.show()"
   ]
  },
  {
   "cell_type": "code",
   "execution_count": 29,
   "metadata": {},
   "outputs": [],
   "source": [
    "from nltk.corpus import stopwords\n",
    "\n",
    "eng_stopwords = set(stopwords.words(\"english\"))"
   ]
  },
  {
   "cell_type": "code",
   "execution_count": 30,
   "metadata": {},
   "outputs": [
    {
     "data": {
      "image/png": "[encoded data removed]",
      "text/plain": [
       "<Figure size 720x720 with 1 Axes>"
      ]
     },
     "metadata": {
      "needs_background": "light"
     },
     "output_type": "display_data"
    }
   ],
   "source": [
    "text = \" \".join(gendered_pronoun_df.Text)\n",
    "generate_wordcloud(text)"
   ]
  },
  {
   "cell_type": "code",
   "execution_count": 31,
   "metadata": {},
   "outputs": [
    {
     "data": {
      "text/plain": [
       "array([[<matplotlib.axes._subplots.AxesSubplot object at 0x0000019FDE0A9470>,\n",
       "        <matplotlib.axes._subplots.AxesSubplot object at 0x0000019FDE739DA0>,\n",
       "        <matplotlib.axes._subplots.AxesSubplot object at 0x0000019FDE07D9B0>],\n",
       "       [<matplotlib.axes._subplots.AxesSubplot object at 0x0000019FDE64F8D0>,\n",
       "        <matplotlib.axes._subplots.AxesSubplot object at 0x0000019FDECDC5F8>,\n",
       "        <matplotlib.axes._subplots.AxesSubplot object at 0x0000019FDE6FFF98>],\n",
       "       [<matplotlib.axes._subplots.AxesSubplot object at 0x0000019FDE6E1978>,\n",
       "        <matplotlib.axes._subplots.AxesSubplot object at 0x0000019FDE663668>,\n",
       "        <matplotlib.axes._subplots.AxesSubplot object at 0x0000019FDE6636D8>],\n",
       "       [<matplotlib.axes._subplots.AxesSubplot object at 0x0000019FDF3886D8>,\n",
       "        <matplotlib.axes._subplots.AxesSubplot object at 0x0000019FDE106EF0>,\n",
       "        <matplotlib.axes._subplots.AxesSubplot object at 0x0000019FDF78BA58>]],\n",
       "      dtype=object)"
      ]
     },
     "execution_count": 31,
     "metadata": {},
     "output_type": "execute_result"
    },
    {
     "data": {
      "image/png": "[encoded data removed]",
      "text/plain": [
       "<Figure size 432x288 with 12 Axes>"
      ]
     },
     "metadata": {
      "needs_background": "light"
     },
     "output_type": "display_data"
    }
   ],
   "source": [
    "gendered_pronoun_df.hist()"
   ]
  },
  {
   "cell_type": "code",
   "execution_count": 32,
   "metadata": {},
   "outputs": [
    {
     "data": {
      "text/plain": [
       "<Figure size 432x288 with 0 Axes>"
      ]
     },
     "execution_count": 32,
     "metadata": {},
     "output_type": "execute_result"
    },
    {
     "data": {
      "image/png": "[encoded data removed]",
      "text/plain": [
       "<Figure size 720x720 with 100 Axes>"
      ]
     },
     "metadata": {
      "needs_background": "light"
     },
     "output_type": "display_data"
    },
    {
     "data": {
      "text/plain": [
       "<Figure size 432x288 with 0 Axes>"
      ]
     },
     "metadata": {},
     "output_type": "display_data"
    }
   ],
   "source": [
    "pd.plotting.scatter_matrix(gendered_pronoun_df, figsize=(10,10))\n",
    "plt.figure()"
   ]
  },
  {
   "cell_type": "code",
   "execution_count": 33,
   "metadata": {},
   "outputs": [
    {
     "data": {
      "text/plain": [
       "<seaborn.axisgrid.JointGrid at 0x19fdfe36e48>"
      ]
     },
     "execution_count": 33,
     "metadata": {},
     "output_type": "execute_result"
    },
    {
     "data": {
      "image/png": "[encoded data removed]",
      "text/plain": [
       "<Figure size 432x432 with 3 Axes>"
      ]
     },
     "metadata": {
      "needs_background": "light"
     },
     "output_type": "display_data"
    }
   ],
   "source": [
    "sns.jointplot(x=\"Pronoun-offset\", y=\"A-offset\", data=gendered_pronoun_df, kind=\"reg\")"
   ]
  },
  {
   "cell_type": "code",
   "execution_count": 34,
   "metadata": {},
   "outputs": [
    {
     "data": {
      "text/plain": [
       "<matplotlib.axes._subplots.AxesSubplot at 0x19fe1330710>"
      ]
     },
     "execution_count": 34,
     "metadata": {},
     "output_type": "execute_result"
    },
    {
     "data": {
      "image/png": "[encoded data removed]",
      "text/plain": [
       "<Figure size 432x288 with 1 Axes>"
      ]
     },
     "metadata": {
      "needs_background": "light"
     },
     "output_type": "display_data"
    }
   ],
   "source": [
    "sns.swarmplot(x=\"Pronoun-offset\", y=\"B-offset\", data=gendered_pronoun_df)"
   ]
  },
  {
   "cell_type": "code",
   "execution_count": 35,
   "metadata": {},
   "outputs": [
    {
     "data": {
      "text/plain": [
       "<matplotlib.axes._subplots.AxesSubplot at 0x19fe1eefeb8>"
      ]
     },
     "execution_count": 35,
     "metadata": {},
     "output_type": "execute_result"
    },
    {
     "data": {
      "image/png": "[encoded data removed]",
      "text/plain": [
       "<Figure size 432x288 with 1 Axes>"
      ]
     },
     "metadata": {
      "needs_background": "light"
     },
     "output_type": "display_data"
    }
   ],
   "source": [
    "sns.distplot(gendered_pronoun_df[\"Pronoun-offset\"])"
   ]
  },
  {
   "cell_type": "code",
   "execution_count": 36,
   "metadata": {},
   "outputs": [
    {
     "data": {
      "text/plain": [
       "<matplotlib.axes._subplots.AxesSubplot at 0x19fe11a49e8>"
      ]
     },
     "execution_count": 36,
     "metadata": {},
     "output_type": "execute_result"
    },
    {
     "data": {
      "image/png": "[encoded data removed]",
      "text/plain": [
       "<Figure size 432x288 with 1 Axes>"
      ]
     },
     "metadata": {
      "needs_background": "light"
     },
     "output_type": "display_data"
    }
   ],
   "source": [
    "sns.violinplot(data=gendered_pronoun_df, x=\"Pronoun_binary\", y=\"num_words\")"
   ]
  },
  {
   "cell_type": "markdown",
   "metadata": {},
   "source": [
    "<br>"
   ]
  },
  {
   "cell_type": "markdown",
   "metadata": {},
   "source": [
    "# Top3 NLP Libraries Tutorial\n",
    "\n",
    "1. NLTK\n",
    "2. spaCy\n",
    "3. Gensim"
   ]
  },
  {
   "cell_type": "markdown",
   "metadata": {},
   "source": [
    "<a id=\"2\"></a> <br>"
   ]
  },
  {
   "cell_type": "markdown",
   "metadata": {},
   "source": [
    "# 2. NLTK"
   ]
  },
  {
   "cell_type": "markdown",
   "metadata": {},
   "source": [
    "The Natural Language Toolkit (NLTK) is one of the leading platforms for working with human language data and Python, the module MLTK is used for natural language processing. NLTK is literally(말 그대로) an acronym(약어) for Natural Language Toolkit. With it you can tokenizing words and sencences."
   ]
  },
  {
   "cell_type": "markdown",
   "metadata": {},
   "source": [
    "NLTK is a library of Python that can mine (scrap and upload data) and analyse very large amounts of textual using computational methods. This tutorial is based on **this great course [https://pythonspot.com/category/nltk/](https://pythonspot.com/category/nltk/)**"
   ]
  },
  {
   "cell_type": "markdown",
   "metadata": {},
   "source": [
    "<img src=\"https://arts.unimelb.edu.au/__data/assets/image/0005/2735348/nltk.jpg\" />"
   ]
  },
  {
   "cell_type": "markdown",
   "metadata": {},
   "source": [
    "If you using Windows or Linux or Mac, you can install NLTK using pip:\n",
    "\n",
    "> $ pip install nltk\n",
    "\n",
    "You can use NLTK on Python 2.7, 3.4 and 3.6"
   ]
  },
  {
   "cell_type": "markdown",
   "metadata": {},
   "source": [
    "To get started, we first select a few sentenses from the data set."
   ]
  },
  {
   "cell_type": "code",
   "execution_count": 37,
   "metadata": {},
   "outputs": [],
   "source": [
    "from nltk.tokenize import sent_tokenize, word_tokenize"
   ]
  },
  {
   "cell_type": "code",
   "execution_count": 38,
   "metadata": {},
   "outputs": [
    {
     "data": {
      "text/plain": [
       "\"Zoe Telford -- played the police officer girlfriend of Simon, Maggie. Dumped by Simon in the final episode of series 1, after he slept with Jenny, and is not seen again. Phoebe Thomas played Cheryl Cassidy, Pauline's friend and also a year 11 pupil in Simon's class. Dumped her boyfriend following Simon's advice after he wouldn't have sex with her but later realised this was due to him catching crabs off her friend Pauline.\""
      ]
     },
     "execution_count": 38,
     "metadata": {},
     "output_type": "execute_result"
    }
   ],
   "source": [
    "gendered_pronoun_df.Text[0]"
   ]
  },
  {
   "cell_type": "code",
   "execution_count": 39,
   "metadata": {},
   "outputs": [],
   "source": [
    "our_text = gendered_pronoun_df.Text[0]"
   ]
  },
  {
   "cell_type": "code",
   "execution_count": 40,
   "metadata": {},
   "outputs": [
    {
     "name": "stdout",
     "output_type": "stream",
     "text": [
      "['Zoe', 'Telford', '--', 'played', 'the', 'police', 'officer', 'girlfriend', 'of', 'Simon', ',', 'Maggie', '.', 'Dumped', 'by', 'Simon', 'in', 'the', 'final', 'episode', 'of', 'series', '1', ',', 'after', 'he', 'slept', 'with', 'Jenny', ',', 'and', 'is', 'not', 'seen', 'again', '.', 'Phoebe', 'Thomas', 'played', 'Cheryl', 'Cassidy', ',', 'Pauline', \"'s\", 'friend', 'and', 'also', 'a', 'year', '11', 'pupil', 'in', 'Simon', \"'s\", 'class', '.', 'Dumped', 'her', 'boyfriend', 'following', 'Simon', \"'s\", 'advice', 'after', 'he', 'would', \"n't\", 'have', 'sex', 'with', 'her', 'but', 'later', 'realised', 'this', 'was', 'due', 'to', 'him', 'catching', 'crabs', 'off', 'her', 'friend', 'Pauline', '.']\n"
     ]
    }
   ],
   "source": [
    "print(word_tokenize(our_text))"
   ]
  },
  {
   "cell_type": "markdown",
   "metadata": {},
   "source": [
    "<a id=\"21\"></a> <br>"
   ]
  },
  {
   "cell_type": "markdown",
   "metadata": {},
   "source": [
    "## 2.1 Tokenizing sentences\n",
    "\n",
    "**What is Tokenizer?** Tokenizing raw text data is an important pre-processing step for many NLP methods. As explained on wikipedia, tokenization is \"the process of breaking a stream of textt up into words, phrases, symbols, or other meaningful elements called tokens.\" In the context of actually working through an NLP analysis, this usually translates to converting a string like \"My favorite color is blue\" to a list or array like \\[\"My\", \"favorite\", \"color\", \"is\", \"blue\"\\]"
   ]
  },
  {
   "cell_type": "code",
   "execution_count": 41,
   "metadata": {},
   "outputs": [
    {
     "name": "stdout",
     "output_type": "stream",
     "text": [
      "['Zoe Telford -- played the police officer girlfriend of Simon, Maggie.', 'Dumped by Simon in the final episode of series 1, after he slept with Jenny, and is not seen again.', \"Phoebe Thomas played Cheryl Cassidy, Pauline's friend and also a year 11 pupil in Simon's class.\", \"Dumped her boyfriend following Simon's advice after he wouldn't have sex with her but later realised this was due to him catching crabs off her friend Pauline.\"]\n"
     ]
    }
   ],
   "source": [
    "from nltk.tokenize import sent_tokenize, word_tokenize\n",
    "\n",
    "print(sent_tokenize(our_text))"
   ]
  },
  {
   "cell_type": "markdown",
   "metadata": {},
   "source": [
    "<a id=\"22\"></a> <br>"
   ]
  },
  {
   "cell_type": "markdown",
   "metadata": {},
   "source": [
    "## 2.2 NLTK and Arrays\n",
    "\n",
    "If you wish to you can store the words and sentences in arrays."
   ]
  },
  {
   "cell_type": "code",
   "execution_count": 42,
   "metadata": {},
   "outputs": [
    {
     "name": "stdout",
     "output_type": "stream",
     "text": [
      "['Zoe Telford -- played the police officer girlfriend of Simon, Maggie.', 'Dumped by Simon in the final episode of series 1, after he slept with Jenny, and is not seen again.', \"Phoebe Thomas played Cheryl Cassidy, Pauline's friend and also a year 11 pupil in Simon's class.\", \"Dumped her boyfriend following Simon's advice after he wouldn't have sex with her but later realised this was due to him catching crabs off her friend Pauline.\"]\n"
     ]
    }
   ],
   "source": [
    "from nltk.tokenize import sent_tokenize, word_tokenize\n",
    "\n",
    "phrases = sent_tokenize(our_text)\n",
    "words = word_tokenize(our_text)\n",
    "print(phrases)"
   ]
  },
  {
   "cell_type": "code",
   "execution_count": 43,
   "metadata": {},
   "outputs": [
    {
     "name": "stdout",
     "output_type": "stream",
     "text": [
      "['Zoe', 'Telford', '--', 'played', 'the', 'police', 'officer', 'girlfriend', 'of', 'Simon', ',', 'Maggie', '.', 'Dumped', 'by', 'Simon', 'in', 'the', 'final', 'episode', 'of', 'series', '1', ',', 'after', 'he', 'slept', 'with', 'Jenny', ',', 'and', 'is', 'not', 'seen', 'again', '.', 'Phoebe', 'Thomas', 'played', 'Cheryl', 'Cassidy', ',', 'Pauline', \"'s\", 'friend', 'and', 'also', 'a', 'year', '11', 'pupil', 'in', 'Simon', \"'s\", 'class', '.', 'Dumped', 'her', 'boyfriend', 'following', 'Simon', \"'s\", 'advice', 'after', 'he', 'would', \"n't\", 'have', 'sex', 'with', 'her', 'but', 'later', 'realised', 'this', 'was', 'due', 'to', 'him', 'catching', 'crabs', 'off', 'her', 'friend', 'Pauline', '.']\n"
     ]
    }
   ],
   "source": [
    "print(words)"
   ]
  },
  {
   "cell_type": "code",
   "execution_count": 44,
   "metadata": {},
   "outputs": [
    {
     "data": {
      "text/plain": [
       "list"
      ]
     },
     "execution_count": 44,
     "metadata": {},
     "output_type": "execute_result"
    }
   ],
   "source": [
    "type(words)"
   ]
  },
  {
   "cell_type": "markdown",
   "metadata": {},
   "source": [
    "<a id=\"23\"></a> <br>"
   ]
  },
  {
   "cell_type": "markdown",
   "metadata": {},
   "source": [
    "## 2.3 NLTK Stop Words\n",
    "\n",
    "Natural language processing (nlp) is a research field that presents many challenges such as natural language understanding. Text may contain stop words like 'the', 'is', 'are'. Stop words can be filtered from the text to be processed. There is no universal list of stop words in nlp research, however the nltk nodule contains a list of stop words."
   ]
  },
  {
   "cell_type": "markdown",
   "metadata": {},
   "source": [
    "In this article you will learn how to remove stop words with the nltk module. [https://pythonspot.com/nltk-stop-words/](https://pythonspot.com/nltk-stop-words/)"
   ]
  },
  {
   "cell_type": "code",
   "execution_count": 45,
   "metadata": {},
   "outputs": [
    {
     "name": "stdout",
     "output_type": "stream",
     "text": [
      "['Zoe', 'Telford', '--', 'played', 'police', 'officer', 'girlfriend', 'Simon', ',', 'Maggie', '.', 'Dumped', 'Simon', 'final', 'episode', 'series', '1', ',', 'slept', 'Jenny', ',', 'seen', '.', 'Phoebe', 'Thomas', 'played', 'Cheryl', 'Cassidy', ',', 'Pauline', \"'s\", 'friend', 'also', 'year', '11', 'pupil', 'Simon', \"'s\", 'class', '.', 'Dumped', 'boyfriend', 'following', 'Simon', \"'s\", 'advice', 'would', \"n't\", 'sex', 'later', 'realised', 'due', 'catching', 'crabs', 'friend', 'Pauline', '.']\n"
     ]
    }
   ],
   "source": [
    "from nltk.tokenize import sent_tokenize, word_tokenize\n",
    "from nltk.corpus import stopwords\n",
    "\n",
    "stopWords = set(stopwords.words('english'))\n",
    "words = word_tokenize(our_text)\n",
    "wordsFiltered = []\n",
    "\n",
    "for w in words :\n",
    "    if w not in stopWords :\n",
    "        wordsFiltered.append(w)\n",
    "        \n",
    "print(wordsFiltered)"
   ]
  },
  {
   "cell_type": "markdown",
   "metadata": {},
   "source": [
    "A module has been imported :"
   ]
  },
  {
   "cell_type": "code",
   "execution_count": 46,
   "metadata": {},
   "outputs": [],
   "source": [
    "from nltk.corpus import stopwords"
   ]
  },
  {
   "cell_type": "markdown",
   "metadata": {},
   "source": [
    "We get a set of English stop words using the line:"
   ]
  },
  {
   "cell_type": "code",
   "execution_count": 47,
   "metadata": {},
   "outputs": [],
   "source": [
    "stopWords = set(stopwords.words('english'))"
   ]
  },
  {
   "cell_type": "markdown",
   "metadata": {},
   "source": [
    "The returned list stopWords contains 153 stop words on my computer. You can view the length or contents of this array with the lines:"
   ]
  },
  {
   "cell_type": "code",
   "execution_count": 48,
   "metadata": {},
   "outputs": [
    {
     "name": "stdout",
     "output_type": "stream",
     "text": [
      "179\n",
      "{\"couldn't\", 'isn', \"isn't\", \"should've\", \"needn't\", 'under', 'mightn', 'each', \"you're\", 'wouldn', 'their', 'we', 'few', 'off', \"you'll\", 'her', 't', 'weren', 'his', 'my', 'on', 'before', \"won't\", \"aren't\", 'once', 'both', 'during', 'whom', 'a', 'm', 'an', 'in', 'how', 'too', 'has', 'more', 'doing', 'was', 'between', 'some', 'not', 'it', 'then', 'themselves', 'about', \"mustn't\", 'its', 'again', 'haven', 'against', 'aren', 'because', 've', \"didn't\", 'and', 'own', 'out', \"wouldn't\", 'same', \"she's\", 'which', 'these', 'd', 'didn', 'am', 'those', \"you've\", \"you'd\", 'there', 'above', 'while', 'myself', 'or', 'ourselves', 'below', 'further', 'most', 'have', 'yourselves', 'so', 're', 'very', 'down', 'your', \"haven't\", 'until', \"weren't\", 'after', \"hadn't\", 'this', 'll', \"shan't\", 'yourself', 'theirs', 'won', 'me', 'she', 'all', 'he', 'shan', 'into', 'itself', 'hasn', 'ma', 'when', 'shouldn', 'such', 'o', 'does', \"hasn't\", \"shouldn't\", 'being', 'if', 'the', 'do', 'needn', 'why', \"wasn't\", 'can', 'by', 'having', 'yours', 'as', 'is', 'our', 'hadn', 'hers', 'himself', 'herself', 'only', 'y', 'to', 'that', 'of', \"mightn't\", 'been', 's', 'other', 'over', 'what', \"that'll\", 'be', 'with', 'had', 'who', 'where', 'were', 'will', 'don', 'for', \"doesn't\", 'them', 'mustn', 'they', 'any', 'wasn', 'ours', 'doesn', 'him', 'should', 'than', 'you', 'ain', 'up', 'just', 'i', 'nor', \"don't\", 'from', 'here', 'through', \"it's\", 'did', 'no', 'but', 'now', 'at', 'are', 'couldn'}\n"
     ]
    }
   ],
   "source": [
    "print(len(stopWords))\n",
    "print(stopWords)"
   ]
  },
  {
   "cell_type": "markdown",
   "metadata": {},
   "source": [
    "We create a new list called wordsFiltered which contains all words which are not stop words. To create it we iterate over the list of words and only add it if its not in the stopWords list."
   ]
  },
  {
   "cell_type": "code",
   "execution_count": 49,
   "metadata": {},
   "outputs": [],
   "source": [
    "wordsFiltered = []\n",
    "\n",
    "for w in words :\n",
    "    if w not in stopWords :\n",
    "        wordsFiltered.append(w)"
   ]
  },
  {
   "cell_type": "markdown",
   "metadata": {},
   "source": [
    "<a id=\"24\"></a> <br>"
   ]
  },
  {
   "cell_type": "markdown",
   "metadata": {},
   "source": [
    "## 2.4 NLTK - Stemming"
   ]
  },
  {
   "cell_type": "markdown",
   "metadata": {},
   "source": [
    "Stemming is the process of producing morphological(형태학의) variants(변종) of a root/base word. Stemming programs are commonly referred to as stemmingi algorithms or stemmers. A stemming algorithm reduces the words \"chocolates\", \"chocolatey\", \"choco\" to the root word, \"chocolate\" and \"retrieval\", \"retrieved\", \"retrieves\" reduce to the stem \"retrieve\".\n",
    "\n",
    "[https://www.geeksforgeeks.org/python-stemming-words-with-nltk/](https://www.geeksforgeeks.org/python-stemming-words-with-nltk/)"
   ]
  },
  {
   "cell_type": "markdown",
   "metadata": {},
   "source": [
    "<img src=\"https://pythonspot.com/wp-content/uploads/2016/08/word-stem.png.webp\" />"
   ]
  },
  {
   "cell_type": "markdown",
   "metadata": {},
   "source": [
    "Start by defining some words:"
   ]
  },
  {
   "cell_type": "code",
   "execution_count": 50,
   "metadata": {},
   "outputs": [],
   "source": [
    "our_text = gendered_pronoun_df.Text[0]"
   ]
  },
  {
   "cell_type": "code",
   "execution_count": 51,
   "metadata": {},
   "outputs": [],
   "source": [
    "from nltk.stem import PorterStemmer\n",
    "from nltk.tokenize import sent_tokenize, word_tokenize"
   ]
  },
  {
   "cell_type": "markdown",
   "metadata": {},
   "source": [
    "And stem the words in the list using:"
   ]
  },
  {
   "cell_type": "code",
   "execution_count": 52,
   "metadata": {},
   "outputs": [
    {
     "name": "stdout",
     "output_type": "stream",
     "text": [
      "zoe\n",
      "telford\n",
      "--\n",
      "play\n",
      "the\n",
      "polic\n",
      "offic\n",
      "girlfriend\n",
      "of\n",
      "simon\n",
      ",\n",
      "maggi\n",
      ".\n",
      "dump\n",
      "by\n",
      "simon\n",
      "in\n",
      "the\n",
      "final\n",
      "episod\n",
      "of\n",
      "seri\n",
      "1\n",
      ",\n",
      "after\n",
      "he\n",
      "slept\n",
      "with\n",
      "jenni\n",
      ",\n",
      "and\n",
      "is\n",
      "not\n",
      "seen\n",
      "again\n",
      ".\n",
      "phoeb\n",
      "thoma\n",
      "play\n",
      "cheryl\n",
      "cassidi\n",
      ",\n",
      "paulin\n",
      "'s\n",
      "friend\n",
      "and\n",
      "also\n",
      "a\n",
      "year\n",
      "11\n",
      "pupil\n",
      "in\n",
      "simon\n",
      "'s\n",
      "class\n",
      ".\n",
      "dump\n",
      "her\n",
      "boyfriend\n",
      "follow\n",
      "simon\n",
      "'s\n",
      "advic\n",
      "after\n",
      "he\n",
      "would\n",
      "n't\n",
      "have\n",
      "sex\n",
      "with\n",
      "her\n",
      "but\n",
      "later\n",
      "realis\n",
      "thi\n",
      "wa\n",
      "due\n",
      "to\n",
      "him\n",
      "catch\n",
      "crab\n",
      "off\n",
      "her\n",
      "friend\n",
      "paulin\n",
      ".\n"
     ]
    }
   ],
   "source": [
    "ps = PorterStemmer()\n",
    "\n",
    "for word in word_tokenize(our_text) :\n",
    "    print(ps.stem(word))"
   ]
  },
  {
   "cell_type": "markdown",
   "metadata": {},
   "source": [
    "<a id=\"25\"></a> <br>"
   ]
  },
  {
   "cell_type": "markdown",
   "metadata": {},
   "source": [
    "## 2.5 NLTK speech tagging\n",
    "\n",
    "The **module NLTK** can automatically **tag speech**. Given a sentence or paragraph, It can label words such as verbs, nouns and so on."
   ]
  },
  {
   "cell_type": "markdown",
   "metadata": {},
   "source": [
    "The example below automatically tags words with a corresponding class.\n",
    "\n",
    "[https://www.nltk.org/book/ch05.html](https://www.nltk.org/book/ch05.html)"
   ]
  },
  {
   "cell_type": "code",
   "execution_count": 53,
   "metadata": {},
   "outputs": [
    {
     "name": "stdout",
     "output_type": "stream",
     "text": [
      "[('Zoe', 'NNP'), ('Telford', 'NNP'), ('--', ':'), ('played', 'VBD'), ('the', 'DT'), ('police', 'NN'), ('officer', 'NN'), ('girlfriend', 'NN'), ('of', 'IN'), ('Simon', 'NNP'), (',', ','), ('Maggie', 'NNP'), ('.', '.')]\n",
      "[('Dumped', 'VBN'), ('by', 'IN'), ('Simon', 'NNP'), ('in', 'IN'), ('the', 'DT'), ('final', 'JJ'), ('episode', 'NN'), ('of', 'IN'), ('series', 'NN'), ('1', 'CD'), (',', ','), ('after', 'IN'), ('he', 'PRP'), ('slept', 'VBD'), ('with', 'IN'), ('Jenny', 'NNP'), (',', ','), ('and', 'CC'), ('is', 'VBZ'), ('not', 'RB'), ('seen', 'VBN'), ('again', 'RB'), ('.', '.')]\n",
      "[('Phoebe', 'NNP'), ('Thomas', 'NNP'), ('played', 'VBD'), ('Cheryl', 'NNP'), ('Cassidy', 'NNP'), (',', ','), ('Pauline', 'NNP'), (\"'s\", 'POS'), ('friend', 'NN'), ('and', 'CC'), ('also', 'RB'), ('a', 'DT'), ('year', 'NN'), ('11', 'CD'), ('pupil', 'NN'), ('in', 'IN'), ('Simon', 'NNP'), (\"'s\", 'POS'), ('class', 'NN'), ('.', '.')]\n",
      "[('Dumped', 'NNP'), ('her', 'PRP$'), ('boyfriend', 'NN'), ('following', 'VBG'), ('Simon', 'NNP'), (\"'s\", 'POS'), ('advice', 'NN'), ('after', 'IN'), ('he', 'PRP'), ('would', 'MD'), (\"n't\", 'RB'), ('have', 'VB'), ('sex', 'NN'), ('with', 'IN'), ('her', 'PRP$'), ('but', 'CC'), ('later', 'RB'), ('realised', 'VBD'), ('this', 'DT'), ('was', 'VBD'), ('due', 'JJ'), ('to', 'TO'), ('him', 'PRP'), ('catching', 'VBG'), ('crabs', 'NNS'), ('off', 'IN'), ('her', 'PRP$'), ('friend', 'NN'), ('Pauline', 'NNP'), ('.', '.')]\n"
     ]
    }
   ],
   "source": [
    "import nltk\n",
    "from nltk.tokenize import PunktSentenceTokenizer\n",
    "\n",
    "sentences = nltk.sent_tokenize(our_text)\n",
    "for sent in sentences :\n",
    "    print(nltk.pos_tag(nltk.word_tokenize(sent)))"
   ]
  },
  {
   "cell_type": "markdown",
   "metadata": {},
   "source": [
    "We can filter this data based on the type of word:"
   ]
  },
  {
   "cell_type": "code",
   "execution_count": 54,
   "metadata": {},
   "outputs": [
    {
     "name": "stdout",
     "output_type": "stream",
     "text": [
      "('Zoe', 'NNP')\n",
      "('Telford', 'NNP')\n",
      "('Simon', 'NNP')\n",
      "('Maggie', 'NNP')\n",
      "('Simon', 'NNP')\n",
      "('Jenny', 'NNP')\n",
      "('Phoebe', 'NNP')\n",
      "('Thomas', 'NNP')\n",
      "('Cheryl', 'NNP')\n",
      "('Cassidy', 'NNP')\n",
      "('Pauline', 'NNP')\n",
      "('Simon', 'NNP')\n",
      "('Dumped', 'NNP')\n",
      "('Simon', 'NNP')\n",
      "('Pauline', 'NNP')\n"
     ]
    }
   ],
   "source": [
    "import nltk\n",
    "from nltk.corpus import state_union\n",
    "from nltk.tokenize import PunktSentenceTokenizer\n",
    "\n",
    "sentences = nltk.sent_tokenize(our_text)\n",
    "\n",
    "data = []\n",
    "\n",
    "for sent in sentences :\n",
    "    data = data + nltk.pos_tag(nltk.word_tokenize(sent))\n",
    "    \n",
    "for word in data :\n",
    "    if 'NNP' in word[1] :\n",
    "        print(word)"
   ]
  },
  {
   "cell_type": "markdown",
   "metadata": {},
   "source": [
    "<a id=\"26\"></a> <br>"
   ]
  },
  {
   "cell_type": "markdown",
   "metadata": {},
   "source": [
    "## 2.6 Natural Language Processing - prediction\n",
    "\n",
    "We can use natural language processing to make predictions. Example: Given a product review, a computer can predict if its positive or negative based on the text. In this article you will learn how to make a prediction program based on natural language processing."
   ]
  },
  {
   "cell_type": "markdown",
   "metadata": {},
   "source": [
    "<a id=\"261\"></a> <br>"
   ]
  },
  {
   "cell_type": "markdown",
   "metadata": {},
   "source": [
    "### 2.6.1 NLP Prediction Example Based on pythonspot\n",
    "\n",
    "Given a name, the classifier will predict if it's a male or female."
   ]
  },
  {
   "cell_type": "markdown",
   "metadata": {},
   "source": [
    "To create our analysis program, we have serveral steps:\n",
    "\n",
    "1. Data preparation\n",
    "2. Feature extraction\n",
    "3. Training\n",
    "4. Prediction\n",
    "5. Data preparation The first step is to prepare data. We use the names set included with nltk. ([https://pythonspot.com/natural-language-processing-prediction/](https://pythonspot.com/natural-language-processing-prediction/))"
   ]
  },
  {
   "cell_type": "code",
   "execution_count": 55,
   "metadata": {},
   "outputs": [],
   "source": [
    "#https://pythonspot.com/natural-language-processing-prediction/\n",
    "from nltk.corpus import names\n",
    "\n",
    "# Load data and training\n",
    "names = ([(name, 'male') for name in names.words('male.txt')] + [(name, 'female') for name in names.words('female.txt')])"
   ]
  },
  {
   "cell_type": "markdown",
   "metadata": {},
   "source": [
    "This dataset is simply a collection of tuples. To give you and idea of what the dataset looks like:"
   ]
  },
  {
   "cell_type": "code",
   "execution_count": 56,
   "metadata": {},
   "outputs": [
    {
     "data": {
      "text/plain": [
       "[('Zorana', 'female'), ('Zorina', 'female'), ('Zorine', 'female')]"
      ]
     },
     "execution_count": 56,
     "metadata": {},
     "output_type": "execute_result"
    }
   ],
   "source": [
    "[(u'Aaron', 'male'), (u'Abbey', 'male'), (u'Abbie', 'male')]\n",
    "[(u'Zorana', 'female'), (u'Zorina', 'female'), (u'Zorine', 'female')]"
   ]
  },
  {
   "cell_type": "markdown",
   "metadata": {},
   "source": [
    "You can define your own set of tuples if you wish, its simply a list containing many tuples."
   ]
  },
  {
   "cell_type": "markdown",
   "metadata": {},
   "source": [
    "Feature extraction Based on the dataset, we prepare our feature. The feature we will use is the last letter of a name: We define a featureset using:"
   ]
  },
  {
   "cell_type": "markdown",
   "metadata": {},
   "source": [
    "featuresets = \\[(gender_features(n), g) for (n,g) in names \\] and the features (last letters) are extracted using:"
   ]
  },
  {
   "cell_type": "code",
   "execution_count": 57,
   "metadata": {},
   "outputs": [],
   "source": [
    "def gender_features(word) :\n",
    "    return {'last_letter': word[-1]}"
   ]
  },
  {
   "cell_type": "markdown",
   "metadata": {},
   "source": [
    "Training and prediction We train and predict using:"
   ]
  },
  {
   "cell_type": "code",
   "execution_count": 58,
   "metadata": {},
   "outputs": [],
   "source": [
    "#Based on https://pythonspot.com/category/nltk/\n",
    "import nltk.classify.util\n",
    "from nltk.classify import NaiveBayesClassifier\n",
    "from nltk.corpus import names\n",
    "\n",
    "def gender_features(word) :\n",
    "    return {'last_letter': word[-1]}"
   ]
  },
  {
   "cell_type": "code",
   "execution_count": 59,
   "metadata": {},
   "outputs": [],
   "source": [
    "# Load data and traininig\n",
    "names = ([(name, 'male') for name in names.words('male.txt')] + \n",
    "         [(name, 'female') for name in names.words('female.txt')])"
   ]
  },
  {
   "cell_type": "code",
   "execution_count": 60,
   "metadata": {},
   "outputs": [
    {
     "name": "stdout",
     "output_type": "stream",
     "text": [
      "male\n"
     ]
    }
   ],
   "source": [
    "featuresets = [(gender_features(n), g) for (n, g) in names]\n",
    "train_set = featuresets\n",
    "classifier = nltk.NaiveBayesClassifier.train(train_set)\n",
    "\n",
    "# Predict\n",
    "print(classifier.classify(gender_features('Frank')))"
   ]
  },
  {
   "cell_type": "markdown",
   "metadata": {},
   "source": [
    "If you want to give the name during runtime, change the last line to:"
   ]
  },
  {
   "cell_type": "code",
   "execution_count": 61,
   "metadata": {},
   "outputs": [
    {
     "name": "stdout",
     "output_type": "stream",
     "text": [
      "female\n"
     ]
    }
   ],
   "source": [
    "# Predict, you can change name\n",
    "name = 'Sarah'\n",
    "print(classifier.classify(gender_features(name)))"
   ]
  },
  {
   "cell_type": "markdown",
   "metadata": {},
   "source": [
    "<a id=\"27\"></a> <Br>"
   ]
  },
  {
   "cell_type": "markdown",
   "metadata": {},
   "source": [
    "## 2.7 Python Sentiment Analysis\n",
    "\n",
    "In Natural Language Processing there is a concept known as **Sentiment Analysis**. In this section we use this great [course](https://pythonspot.com/category/nltk/) to explain Sentiment Analysis"
   ]
  },
  {
   "cell_type": "markdown",
   "metadata": {},
   "source": [
    "<img src=\"https://s3.amazonaws.com/com.twilio.prod.twilio-docs/images/SentimentAnalysis.width-800.png\" />"
   ]
  },
  {
   "cell_type": "markdown",
   "metadata": {},
   "source": [
    "1. Given a movie review or tweet, it can be automatically classified in categories.\n",
    "2. These categories can be user defined (positive, negative) or whichever classes you want.\n",
    "3. Classification is done using several steps: training and prediction.\n",
    "4. The training phase needs to have training data, this is example data in which we define examples.\n",
    "5. The classifier will use the training data to make predictions."
   ]
  },
  {
   "cell_type": "markdown",
   "metadata": {},
   "source": [
    "We start by defining 3 classes: positive, negative and neutral. Each of these is defined by a vocabulary:"
   ]
  },
  {
   "cell_type": "code",
   "execution_count": 62,
   "metadata": {},
   "outputs": [],
   "source": [
    "positive_vocab = [ 'awesome', 'outstanding', 'fantastic', 'terrific', 'good', 'nice', 'great', ':)' ]\n",
    "negative_vocab = [ 'bad', 'terrible','useless', 'hate', ':(' ]\n",
    "neutral_vocab = [ 'movie','the','sound','was','is','actors','did','know','words','not' ]"
   ]
  },
  {
   "cell_type": "markdown",
   "metadata": {},
   "source": [
    "Every word is converted into a feature using a simplified bag of words model:"
   ]
  },
  {
   "cell_type": "code",
   "execution_count": 63,
   "metadata": {},
   "outputs": [],
   "source": [
    "def word_feats(words) :\n",
    "    \n",
    "    return dict([(word, True) for word in words])"
   ]
  },
  {
   "cell_type": "code",
   "execution_count": 64,
   "metadata": {},
   "outputs": [],
   "source": [
    "positive_features = [(word_feats(pos), 'pos') for pos in positive_vocab]\n",
    "negative_features = [(word_feats(neg), 'neg') for neg in negative_vocab]\n",
    "neutral_features = [(word_feats(neu), 'neu') for neu in neutral_vocab]"
   ]
  },
  {
   "cell_type": "markdown",
   "metadata": {},
   "source": [
    "Our training set is then the sum of these three feature sets"
   ]
  },
  {
   "cell_type": "code",
   "execution_count": 65,
   "metadata": {},
   "outputs": [],
   "source": [
    "train_set = negative_features + positive_features + neutral_features"
   ]
  },
  {
   "cell_type": "markdown",
   "metadata": {},
   "source": [
    "We train the classifier:\n",
    "\n",
    "```python\n",
    "classifier = NaiveBayesClassifier.train(train_set)\n",
    "```"
   ]
  },
  {
   "cell_type": "markdown",
   "metadata": {},
   "source": [
    "This example classifies sentences according to the training set."
   ]
  },
  {
   "cell_type": "code",
   "execution_count": 66,
   "metadata": {},
   "outputs": [
    {
     "name": "stdout",
     "output_type": "stream",
     "text": [
      "Positive: 0.527027027027027\n",
      "Negative: 0.25675675675675674\n"
     ]
    }
   ],
   "source": [
    "#Based on https://pythonspot.com/category/nltk/\n",
    "import nltk.classify.util\n",
    "from nltk.classify import NaiveBayesClassifier\n",
    "from nltk.corpus import names\n",
    " \n",
    "def word_feats(words):\n",
    "    return dict([(word, True) for word in words])\n",
    " \n",
    "positive_vocab = [ 'awesome', 'outstanding', 'fantastic', 'terrific', 'good', 'nice', 'great', ':)' ]\n",
    "negative_vocab = [ 'bad', 'terrible','useless', 'hate', ':(' ]\n",
    "neutral_vocab = [ 'movie','the','sound','was','is','actors','did','know','words','not' ]\n",
    " \n",
    "positive_features = [(word_feats(pos), 'pos') for pos in positive_vocab]\n",
    "negative_features = [(word_feats(neg), 'neg') for neg in negative_vocab]\n",
    "neutral_features = [(word_feats(neu), 'neu') for neu in neutral_vocab]\n",
    " \n",
    "train_set = negative_features + positive_features + neutral_features\n",
    " \n",
    "classifier = NaiveBayesClassifier.train(train_set) \n",
    "\n",
    "# Predicit\n",
    "neg = 0\n",
    "pos = 0\n",
    "##sentence = \"Awesome movie, I liked it\"\n",
    "our_text = our_text.lower()\n",
    "words = our_text.split(' ')\n",
    "\n",
    "for word in words :\n",
    "    classResult = classifier.classify(word_feats(word))\n",
    "    \n",
    "    if classResult == 'neg' :\n",
    "        neg = neg + 1\n",
    "    \n",
    "    if classResult == 'pos' :\n",
    "        pos = pos + 1\n",
    "        \n",
    "print('Positive: ' + str(float(pos)/len(words)))\n",
    "print('Negative: ' + str(float(neg)/len(words)))"
   ]
  },
  {
   "cell_type": "markdown",
   "metadata": {},
   "source": [
    "<a id=\"3\"></a> <br>"
   ]
  },
  {
   "cell_type": "markdown",
   "metadata": {},
   "source": [
    "# 3. spaCy"
   ]
  },
  {
   "cell_type": "markdown",
   "metadata": {},
   "source": [
    "<img src=\"https://upload.wikimedia.org/wikipedia/commons/thumb/8/88/SpaCy_logo.svg/1920px-SpaCy_logo.svg.png\" />"
   ]
  },
  {
   "cell_type": "markdown",
   "metadata": {},
   "source": [
    "spaCy is an Industrial-Strength Natural Language Processing in python."
   ]
  },
  {
   "cell_type": "code",
   "execution_count": null,
   "metadata": {},
   "outputs": [],
   "source": [
    "#!pip install spacy\n",
    "#!python -m spacy download en"
   ]
  },
  {
   "cell_type": "code",
   "execution_count": 68,
   "metadata": {},
   "outputs": [],
   "source": [
    "import spacy"
   ]
  },
  {
   "cell_type": "code",
   "execution_count": 71,
   "metadata": {},
   "outputs": [
    {
     "name": "stdout",
     "output_type": "stream",
     "text": [
      "\"zoe\"\n",
      "\"telford\"\n",
      "\"--\"\n",
      "\"played\"\n",
      "\"the\"\n",
      "\"police\"\n",
      "\"officer\"\n",
      "\"girlfriend\"\n",
      "\"of\"\n",
      "\"simon\"\n",
      "\",\"\n",
      "\"maggie\"\n",
      "\".\"\n",
      "\"dumped\"\n",
      "\"by\"\n",
      "\"simon\"\n",
      "\"in\"\n",
      "\"the\"\n",
      "\"final\"\n"
     ]
    }
   ],
   "source": [
    "nlp = spacy.load('en')\n",
    "doc = nlp(our_text)\n",
    "i = 0\n",
    "\n",
    "for token in doc :\n",
    "    i = i + 1\n",
    "    \n",
    "    if i < 20 :\n",
    "        print('\"' + token.text + '\"')"
   ]
  },
  {
   "cell_type": "markdown",
   "metadata": {},
   "source": [
    "<a id=\"31\"></a> <br>"
   ]
  },
  {
   "cell_type": "markdown",
   "metadata": {},
   "source": [
    "## 3.1 Sentence detection"
   ]
  },
  {
   "cell_type": "code",
   "execution_count": 72,
   "metadata": {},
   "outputs": [
    {
     "name": "stdout",
     "output_type": "stream",
     "text": [
      "1  -  zoe telford -- played the police officer girlfriend of simon, maggie.\n",
      "2  -  dumped by simon in the final episode of series 1, after he slept with jenny, and is not seen again.\n",
      "3  -  phoebe thomas played cheryl cassidy, pauline's friend and also a year 11 pupil in simon's class.\n",
      "4  -  dumped her boyfriend following simon's advice after he wouldn't have sex with her but later realised this was due to him catching crabs off her friend pauline.\n"
     ]
    }
   ],
   "source": [
    "nlp = spacy.load('en')\n",
    "doc = nlp(our_text)\n",
    "i = 0\n",
    "\n",
    "for sent in doc.sents :\n",
    "    i = i + 1\n",
    "    print(i, ' - ', sent)"
   ]
  },
  {
   "cell_type": "markdown",
   "metadata": {},
   "source": [
    "<a id=\"32\"></a> <br>"
   ]
  },
  {
   "cell_type": "markdown",
   "metadata": {},
   "source": [
    "## 3.2 Part Of Speech Tagging"
   ]
  },
  {
   "cell_type": "code",
   "execution_count": 73,
   "metadata": {},
   "outputs": [
    {
     "name": "stdout",
     "output_type": "stream",
     "text": [
      "[('zoe', 'NNP'), ('telford', 'NNP'), ('--', ':'), ('played', 'VBD'), ('the', 'DT'), ('police', 'NN'), ('officer', 'NN'), ('girlfriend', 'NN'), ('of', 'IN'), ('simon', 'NNP'), (',', ','), ('maggie', 'NNP'), ('.', '.'), ('dumped', 'VBN'), ('by', 'IN'), ('simon', 'NNP'), ('in', 'IN'), ('the', 'DT'), ('final', 'JJ'), ('episode', 'NN'), ('of', 'IN'), ('series', 'NNP'), ('1', 'NNP'), (',', ','), ('after', 'IN'), ('he', 'PRP'), ('slept', 'VBD'), ('with', 'IN'), ('jenny', 'NNP'), (',', ','), ('and', 'CC'), ('is', 'VBZ'), ('not', 'RB'), ('seen', 'VBN'), ('again', 'RB'), ('.', '.'), ('phoebe', 'NNP'), ('thomas', 'NNP'), ('played', 'VBD'), ('cheryl', 'NNP'), ('cassidy', 'NN'), (',', ','), ('pauline', 'NNP'), (\"'s\", 'POS'), ('friend', 'NN'), ('and', 'CC'), ('also', 'RB'), ('a', 'DT'), ('year', 'NN'), ('11', 'CD'), ('pupil', 'NN'), ('in', 'IN'), ('simon', 'NNP'), (\"'s\", 'POS'), ('class', 'NN'), ('.', '.'), ('dumped', 'VBD'), ('her', 'PRP$'), ('boyfriend', 'NN'), ('following', 'VBG'), ('simon', 'NNP'), (\"'s\", 'POS'), ('advice', 'NN'), ('after', 'IN'), ('he', 'PRP'), ('would', 'MD'), (\"n't\", 'RB'), ('have', 'VB'), ('sex', 'NN'), ('with', 'IN'), ('her', 'PRP'), ('but', 'CC'), ('later', 'RB'), ('realised', 'VBD'), ('this', 'DT'), ('was', 'VBD'), ('due', 'JJ'), ('to', 'IN'), ('him', 'PRP'), ('catching', 'VBG'), ('crabs', 'NNS'), ('off', 'RP'), ('her', 'PRP$'), ('friend', 'NN'), ('pauline', 'NN'), ('.', '.')]\n"
     ]
    }
   ],
   "source": [
    "doc = nlp(our_text)\n",
    "print([(token.text, token.tag_) for token in doc])"
   ]
  },
  {
   "cell_type": "markdown",
   "metadata": {},
   "source": [
    "<a id=\"33\"></a> <br>"
   ]
  },
  {
   "cell_type": "markdown",
   "metadata": {},
   "source": [
    "## 3.3 Named Entity Recognition"
   ]
  },
  {
   "cell_type": "code",
   "execution_count": 74,
   "metadata": {},
   "outputs": [
    {
     "name": "stdout",
     "output_type": "stream",
     "text": [
      "simon PERSON\n",
      "maggie PERSON\n",
      "simon PERSON\n",
      "jenny PERSON\n",
      "phoebe thomas PERSON\n",
      "pauline PERSON\n",
      "year 11 DATE\n",
      "simon PERSON\n",
      "simon PERSON\n"
     ]
    }
   ],
   "source": [
    "doc = nlp(our_text)\n",
    "\n",
    "for ent in doc.ents :\n",
    "    print(ent.text, ent.label_)"
   ]
  },
  {
   "cell_type": "markdown",
   "metadata": {},
   "source": [
    "<a id=\"34\"></a> <br>"
   ]
  },
  {
   "cell_type": "markdown",
   "metadata": {},
   "source": [
    "## 3.4 displaCy"
   ]
  },
  {
   "cell_type": "code",
   "execution_count": 75,
   "metadata": {},
   "outputs": [
    {
     "data": {
      "text/html": [
       "<div class=\"entities\" style=\"line-height: 2.5; direction: ltr\">zoe telford -- played the police officer girlfriend of \n",
       "<mark class=\"entity\" style=\"background: #aa9cfc; padding: 0.45em 0.6em; margin: 0 0.25em; line-height: 1; border-radius: 0.35em;\">\n",
       "    simon\n",
       "    <span style=\"font-size: 0.8em; font-weight: bold; line-height: 1; border-radius: 0.35em; text-transform: uppercase; vertical-align: middle; margin-left: 0.5rem\">PERSON</span>\n",
       "</mark>\n",
       ", \n",
       "<mark class=\"entity\" style=\"background: #aa9cfc; padding: 0.45em 0.6em; margin: 0 0.25em; line-height: 1; border-radius: 0.35em;\">\n",
       "    maggie\n",
       "    <span style=\"font-size: 0.8em; font-weight: bold; line-height: 1; border-radius: 0.35em; text-transform: uppercase; vertical-align: middle; margin-left: 0.5rem\">PERSON</span>\n",
       "</mark>\n",
       ". dumped by \n",
       "<mark class=\"entity\" style=\"background: #aa9cfc; padding: 0.45em 0.6em; margin: 0 0.25em; line-height: 1; border-radius: 0.35em;\">\n",
       "    simon\n",
       "    <span style=\"font-size: 0.8em; font-weight: bold; line-height: 1; border-radius: 0.35em; text-transform: uppercase; vertical-align: middle; margin-left: 0.5rem\">PERSON</span>\n",
       "</mark>\n",
       " in the final episode of series 1, after he slept with \n",
       "<mark class=\"entity\" style=\"background: #aa9cfc; padding: 0.45em 0.6em; margin: 0 0.25em; line-height: 1; border-radius: 0.35em;\">\n",
       "    jenny\n",
       "    <span style=\"font-size: 0.8em; font-weight: bold; line-height: 1; border-radius: 0.35em; text-transform: uppercase; vertical-align: middle; margin-left: 0.5rem\">PERSON</span>\n",
       "</mark>\n",
       ", and is not seen again. \n",
       "<mark class=\"entity\" style=\"background: #aa9cfc; padding: 0.45em 0.6em; margin: 0 0.25em; line-height: 1; border-radius: 0.35em;\">\n",
       "    phoebe thomas\n",
       "    <span style=\"font-size: 0.8em; font-weight: bold; line-height: 1; border-radius: 0.35em; text-transform: uppercase; vertical-align: middle; margin-left: 0.5rem\">PERSON</span>\n",
       "</mark>\n",
       " played cheryl cassidy, \n",
       "<mark class=\"entity\" style=\"background: #aa9cfc; padding: 0.45em 0.6em; margin: 0 0.25em; line-height: 1; border-radius: 0.35em;\">\n",
       "    pauline\n",
       "    <span style=\"font-size: 0.8em; font-weight: bold; line-height: 1; border-radius: 0.35em; text-transform: uppercase; vertical-align: middle; margin-left: 0.5rem\">PERSON</span>\n",
       "</mark>\n",
       "'s friend and also a \n",
       "<mark class=\"entity\" style=\"background: #bfe1d9; padding: 0.45em 0.6em; margin: 0 0.25em; line-height: 1; border-radius: 0.35em;\">\n",
       "    year 11\n",
       "    <span style=\"font-size: 0.8em; font-weight: bold; line-height: 1; border-radius: 0.35em; text-transform: uppercase; vertical-align: middle; margin-left: 0.5rem\">DATE</span>\n",
       "</mark>\n",
       " pupil in \n",
       "<mark class=\"entity\" style=\"background: #aa9cfc; padding: 0.45em 0.6em; margin: 0 0.25em; line-height: 1; border-radius: 0.35em;\">\n",
       "    simon\n",
       "    <span style=\"font-size: 0.8em; font-weight: bold; line-height: 1; border-radius: 0.35em; text-transform: uppercase; vertical-align: middle; margin-left: 0.5rem\">PERSON</span>\n",
       "</mark>\n",
       "'s class. dumped her boyfriend following \n",
       "<mark class=\"entity\" style=\"background: #aa9cfc; padding: 0.45em 0.6em; margin: 0 0.25em; line-height: 1; border-radius: 0.35em;\">\n",
       "    simon\n",
       "    <span style=\"font-size: 0.8em; font-weight: bold; line-height: 1; border-radius: 0.35em; text-transform: uppercase; vertical-align: middle; margin-left: 0.5rem\">PERSON</span>\n",
       "</mark>\n",
       "'s advice after he wouldn't have sex with her but later realised this was due to him catching crabs off her friend pauline.</div>"
      ],
      "text/plain": [
       "<IPython.core.display.HTML object>"
      ]
     },
     "metadata": {},
     "output_type": "display_data"
    }
   ],
   "source": [
    "from spacy import displacy\n",
    "\n",
    "doc = nlp(our_text)\n",
    "displacy.render(doc, style='ent', jupyter=True)"
   ]
  },
  {
   "cell_type": "markdown",
   "metadata": {},
   "source": [
    "<br>"
   ]
  },
  {
   "cell_type": "markdown",
   "metadata": {},
   "source": [
    "visualizing the dependency tree!"
   ]
  },
  {
   "cell_type": "code",
   "execution_count": 76,
   "metadata": {},
   "outputs": [
    {
     "data": {
      "text/html": [
       "<svg xmlns=\"http://www.w3.org/2000/svg\" xmlns:xlink=\"http://www.w3.org/1999/xlink\" xml:lang=\"en\" id=\"8cd0178c854242d3af45902709c653e6-0\" class=\"displacy\" width=\"6980\" height=\"542.0\" direction=\"ltr\" style=\"max-width: none; height: 542.0px; color: #000000; background: #ffffff; font-family: Arial; direction: ltr\">\n",
       "<text class=\"displacy-token\" fill=\"currentColor\" text-anchor=\"middle\" y=\"452.0\">\n",
       "    <tspan class=\"displacy-word\" fill=\"currentColor\" x=\"50\">zoe</tspan>\n",
       "    <tspan class=\"displacy-tag\" dy=\"2em\" fill=\"currentColor\" x=\"50\">PROPN</tspan>\n",
       "</text>\n",
       "\n",
       "<text class=\"displacy-token\" fill=\"currentColor\" text-anchor=\"middle\" y=\"452.0\">\n",
       "    <tspan class=\"displacy-word\" fill=\"currentColor\" x=\"140\">telford --</tspan>\n",
       "    <tspan class=\"displacy-tag\" dy=\"2em\" fill=\"currentColor\" x=\"140\">PROPN</tspan>\n",
       "</text>\n",
       "\n",
       "<text class=\"displacy-token\" fill=\"currentColor\" text-anchor=\"middle\" y=\"452.0\">\n",
       "    <tspan class=\"displacy-word\" fill=\"currentColor\" x=\"230\">played</tspan>\n",
       "    <tspan class=\"displacy-tag\" dy=\"2em\" fill=\"currentColor\" x=\"230\">VERB</tspan>\n",
       "</text>\n",
       "\n",
       "<text class=\"displacy-token\" fill=\"currentColor\" text-anchor=\"middle\" y=\"452.0\">\n",
       "    <tspan class=\"displacy-word\" fill=\"currentColor\" x=\"320\">the</tspan>\n",
       "    <tspan class=\"displacy-tag\" dy=\"2em\" fill=\"currentColor\" x=\"320\">DET</tspan>\n",
       "</text>\n",
       "\n",
       "<text class=\"displacy-token\" fill=\"currentColor\" text-anchor=\"middle\" y=\"452.0\">\n",
       "    <tspan class=\"displacy-word\" fill=\"currentColor\" x=\"410\">police</tspan>\n",
       "    <tspan class=\"displacy-tag\" dy=\"2em\" fill=\"currentColor\" x=\"410\">NOUN</tspan>\n",
       "</text>\n",
       "\n",
       "<text class=\"displacy-token\" fill=\"currentColor\" text-anchor=\"middle\" y=\"452.0\">\n",
       "    <tspan class=\"displacy-word\" fill=\"currentColor\" x=\"500\">officer</tspan>\n",
       "    <tspan class=\"displacy-tag\" dy=\"2em\" fill=\"currentColor\" x=\"500\">NOUN</tspan>\n",
       "</text>\n",
       "\n",
       "<text class=\"displacy-token\" fill=\"currentColor\" text-anchor=\"middle\" y=\"452.0\">\n",
       "    <tspan class=\"displacy-word\" fill=\"currentColor\" x=\"590\">girlfriend</tspan>\n",
       "    <tspan class=\"displacy-tag\" dy=\"2em\" fill=\"currentColor\" x=\"590\">NOUN</tspan>\n",
       "</text>\n",
       "\n",
       "<text class=\"displacy-token\" fill=\"currentColor\" text-anchor=\"middle\" y=\"452.0\">\n",
       "    <tspan class=\"displacy-word\" fill=\"currentColor\" x=\"680\">of</tspan>\n",
       "    <tspan class=\"displacy-tag\" dy=\"2em\" fill=\"currentColor\" x=\"680\">ADP</tspan>\n",
       "</text>\n",
       "\n",
       "<text class=\"displacy-token\" fill=\"currentColor\" text-anchor=\"middle\" y=\"452.0\">\n",
       "    <tspan class=\"displacy-word\" fill=\"currentColor\" x=\"770\">simon,</tspan>\n",
       "    <tspan class=\"displacy-tag\" dy=\"2em\" fill=\"currentColor\" x=\"770\">PROPN</tspan>\n",
       "</text>\n",
       "\n",
       "<text class=\"displacy-token\" fill=\"currentColor\" text-anchor=\"middle\" y=\"452.0\">\n",
       "    <tspan class=\"displacy-word\" fill=\"currentColor\" x=\"860\">maggie.</tspan>\n",
       "    <tspan class=\"displacy-tag\" dy=\"2em\" fill=\"currentColor\" x=\"860\">PROPN</tspan>\n",
       "</text>\n",
       "\n",
       "<text class=\"displacy-token\" fill=\"currentColor\" text-anchor=\"middle\" y=\"452.0\">\n",
       "    <tspan class=\"displacy-word\" fill=\"currentColor\" x=\"950\">dumped</tspan>\n",
       "    <tspan class=\"displacy-tag\" dy=\"2em\" fill=\"currentColor\" x=\"950\">VERB</tspan>\n",
       "</text>\n",
       "\n",
       "<text class=\"displacy-token\" fill=\"currentColor\" text-anchor=\"middle\" y=\"452.0\">\n",
       "    <tspan class=\"displacy-word\" fill=\"currentColor\" x=\"1040\">by</tspan>\n",
       "    <tspan class=\"displacy-tag\" dy=\"2em\" fill=\"currentColor\" x=\"1040\">ADP</tspan>\n",
       "</text>\n",
       "\n",
       "<text class=\"displacy-token\" fill=\"currentColor\" text-anchor=\"middle\" y=\"452.0\">\n",
       "    <tspan class=\"displacy-word\" fill=\"currentColor\" x=\"1130\">simon</tspan>\n",
       "    <tspan class=\"displacy-tag\" dy=\"2em\" fill=\"currentColor\" x=\"1130\">PROPN</tspan>\n",
       "</text>\n",
       "\n",
       "<text class=\"displacy-token\" fill=\"currentColor\" text-anchor=\"middle\" y=\"452.0\">\n",
       "    <tspan class=\"displacy-word\" fill=\"currentColor\" x=\"1220\">in</tspan>\n",
       "    <tspan class=\"displacy-tag\" dy=\"2em\" fill=\"currentColor\" x=\"1220\">ADP</tspan>\n",
       "</text>\n",
       "\n",
       "<text class=\"displacy-token\" fill=\"currentColor\" text-anchor=\"middle\" y=\"452.0\">\n",
       "    <tspan class=\"displacy-word\" fill=\"currentColor\" x=\"1310\">the</tspan>\n",
       "    <tspan class=\"displacy-tag\" dy=\"2em\" fill=\"currentColor\" x=\"1310\">DET</tspan>\n",
       "</text>\n",
       "\n",
       "<text class=\"displacy-token\" fill=\"currentColor\" text-anchor=\"middle\" y=\"452.0\">\n",
       "    <tspan class=\"displacy-word\" fill=\"currentColor\" x=\"1400\">final</tspan>\n",
       "    <tspan class=\"displacy-tag\" dy=\"2em\" fill=\"currentColor\" x=\"1400\">ADJ</tspan>\n",
       "</text>\n",
       "\n",
       "<text class=\"displacy-token\" fill=\"currentColor\" text-anchor=\"middle\" y=\"452.0\">\n",
       "    <tspan class=\"displacy-word\" fill=\"currentColor\" x=\"1490\">episode</tspan>\n",
       "    <tspan class=\"displacy-tag\" dy=\"2em\" fill=\"currentColor\" x=\"1490\">NOUN</tspan>\n",
       "</text>\n",
       "\n",
       "<text class=\"displacy-token\" fill=\"currentColor\" text-anchor=\"middle\" y=\"452.0\">\n",
       "    <tspan class=\"displacy-word\" fill=\"currentColor\" x=\"1580\">of</tspan>\n",
       "    <tspan class=\"displacy-tag\" dy=\"2em\" fill=\"currentColor\" x=\"1580\">ADP</tspan>\n",
       "</text>\n",
       "\n",
       "<text class=\"displacy-token\" fill=\"currentColor\" text-anchor=\"middle\" y=\"452.0\">\n",
       "    <tspan class=\"displacy-word\" fill=\"currentColor\" x=\"1670\">series</tspan>\n",
       "    <tspan class=\"displacy-tag\" dy=\"2em\" fill=\"currentColor\" x=\"1670\">PROPN</tspan>\n",
       "</text>\n",
       "\n",
       "<text class=\"displacy-token\" fill=\"currentColor\" text-anchor=\"middle\" y=\"452.0\">\n",
       "    <tspan class=\"displacy-word\" fill=\"currentColor\" x=\"1760\">1,</tspan>\n",
       "    <tspan class=\"displacy-tag\" dy=\"2em\" fill=\"currentColor\" x=\"1760\">PROPN</tspan>\n",
       "</text>\n",
       "\n",
       "<text class=\"displacy-token\" fill=\"currentColor\" text-anchor=\"middle\" y=\"452.0\">\n",
       "    <tspan class=\"displacy-word\" fill=\"currentColor\" x=\"1850\">after</tspan>\n",
       "    <tspan class=\"displacy-tag\" dy=\"2em\" fill=\"currentColor\" x=\"1850\">ADP</tspan>\n",
       "</text>\n",
       "\n",
       "<text class=\"displacy-token\" fill=\"currentColor\" text-anchor=\"middle\" y=\"452.0\">\n",
       "    <tspan class=\"displacy-word\" fill=\"currentColor\" x=\"1940\">he</tspan>\n",
       "    <tspan class=\"displacy-tag\" dy=\"2em\" fill=\"currentColor\" x=\"1940\">PRON</tspan>\n",
       "</text>\n",
       "\n",
       "<text class=\"displacy-token\" fill=\"currentColor\" text-anchor=\"middle\" y=\"452.0\">\n",
       "    <tspan class=\"displacy-word\" fill=\"currentColor\" x=\"2030\">slept</tspan>\n",
       "    <tspan class=\"displacy-tag\" dy=\"2em\" fill=\"currentColor\" x=\"2030\">VERB</tspan>\n",
       "</text>\n",
       "\n",
       "<text class=\"displacy-token\" fill=\"currentColor\" text-anchor=\"middle\" y=\"452.0\">\n",
       "    <tspan class=\"displacy-word\" fill=\"currentColor\" x=\"2120\">with</tspan>\n",
       "    <tspan class=\"displacy-tag\" dy=\"2em\" fill=\"currentColor\" x=\"2120\">ADP</tspan>\n",
       "</text>\n",
       "\n",
       "<text class=\"displacy-token\" fill=\"currentColor\" text-anchor=\"middle\" y=\"452.0\">\n",
       "    <tspan class=\"displacy-word\" fill=\"currentColor\" x=\"2210\">jenny,</tspan>\n",
       "    <tspan class=\"displacy-tag\" dy=\"2em\" fill=\"currentColor\" x=\"2210\">PROPN</tspan>\n",
       "</text>\n",
       "\n",
       "<text class=\"displacy-token\" fill=\"currentColor\" text-anchor=\"middle\" y=\"452.0\">\n",
       "    <tspan class=\"displacy-word\" fill=\"currentColor\" x=\"2300\">and</tspan>\n",
       "    <tspan class=\"displacy-tag\" dy=\"2em\" fill=\"currentColor\" x=\"2300\">CCONJ</tspan>\n",
       "</text>\n",
       "\n",
       "<text class=\"displacy-token\" fill=\"currentColor\" text-anchor=\"middle\" y=\"452.0\">\n",
       "    <tspan class=\"displacy-word\" fill=\"currentColor\" x=\"2390\">is</tspan>\n",
       "    <tspan class=\"displacy-tag\" dy=\"2em\" fill=\"currentColor\" x=\"2390\">AUX</tspan>\n",
       "</text>\n",
       "\n",
       "<text class=\"displacy-token\" fill=\"currentColor\" text-anchor=\"middle\" y=\"452.0\">\n",
       "    <tspan class=\"displacy-word\" fill=\"currentColor\" x=\"2480\">not</tspan>\n",
       "    <tspan class=\"displacy-tag\" dy=\"2em\" fill=\"currentColor\" x=\"2480\">PART</tspan>\n",
       "</text>\n",
       "\n",
       "<text class=\"displacy-token\" fill=\"currentColor\" text-anchor=\"middle\" y=\"452.0\">\n",
       "    <tspan class=\"displacy-word\" fill=\"currentColor\" x=\"2570\">seen</tspan>\n",
       "    <tspan class=\"displacy-tag\" dy=\"2em\" fill=\"currentColor\" x=\"2570\">VERB</tspan>\n",
       "</text>\n",
       "\n",
       "<text class=\"displacy-token\" fill=\"currentColor\" text-anchor=\"middle\" y=\"452.0\">\n",
       "    <tspan class=\"displacy-word\" fill=\"currentColor\" x=\"2660\">again.</tspan>\n",
       "    <tspan class=\"displacy-tag\" dy=\"2em\" fill=\"currentColor\" x=\"2660\">ADV</tspan>\n",
       "</text>\n",
       "\n",
       "<text class=\"displacy-token\" fill=\"currentColor\" text-anchor=\"middle\" y=\"452.0\">\n",
       "    <tspan class=\"displacy-word\" fill=\"currentColor\" x=\"2750\">phoebe</tspan>\n",
       "    <tspan class=\"displacy-tag\" dy=\"2em\" fill=\"currentColor\" x=\"2750\">PROPN</tspan>\n",
       "</text>\n",
       "\n",
       "<text class=\"displacy-token\" fill=\"currentColor\" text-anchor=\"middle\" y=\"452.0\">\n",
       "    <tspan class=\"displacy-word\" fill=\"currentColor\" x=\"2840\">thomas</tspan>\n",
       "    <tspan class=\"displacy-tag\" dy=\"2em\" fill=\"currentColor\" x=\"2840\">PROPN</tspan>\n",
       "</text>\n",
       "\n",
       "<text class=\"displacy-token\" fill=\"currentColor\" text-anchor=\"middle\" y=\"452.0\">\n",
       "    <tspan class=\"displacy-word\" fill=\"currentColor\" x=\"2930\">played</tspan>\n",
       "    <tspan class=\"displacy-tag\" dy=\"2em\" fill=\"currentColor\" x=\"2930\">VERB</tspan>\n",
       "</text>\n",
       "\n",
       "<text class=\"displacy-token\" fill=\"currentColor\" text-anchor=\"middle\" y=\"452.0\">\n",
       "    <tspan class=\"displacy-word\" fill=\"currentColor\" x=\"3020\">cheryl</tspan>\n",
       "    <tspan class=\"displacy-tag\" dy=\"2em\" fill=\"currentColor\" x=\"3020\">PROPN</tspan>\n",
       "</text>\n",
       "\n",
       "<text class=\"displacy-token\" fill=\"currentColor\" text-anchor=\"middle\" y=\"452.0\">\n",
       "    <tspan class=\"displacy-word\" fill=\"currentColor\" x=\"3110\">cassidy,</tspan>\n",
       "    <tspan class=\"displacy-tag\" dy=\"2em\" fill=\"currentColor\" x=\"3110\">NOUN</tspan>\n",
       "</text>\n",
       "\n",
       "<text class=\"displacy-token\" fill=\"currentColor\" text-anchor=\"middle\" y=\"452.0\">\n",
       "    <tspan class=\"displacy-word\" fill=\"currentColor\" x=\"3200\">pauline</tspan>\n",
       "    <tspan class=\"displacy-tag\" dy=\"2em\" fill=\"currentColor\" x=\"3200\">PROPN</tspan>\n",
       "</text>\n",
       "\n",
       "<text class=\"displacy-token\" fill=\"currentColor\" text-anchor=\"middle\" y=\"452.0\">\n",
       "    <tspan class=\"displacy-word\" fill=\"currentColor\" x=\"3290\">'s</tspan>\n",
       "    <tspan class=\"displacy-tag\" dy=\"2em\" fill=\"currentColor\" x=\"3290\">PART</tspan>\n",
       "</text>\n",
       "\n",
       "<text class=\"displacy-token\" fill=\"currentColor\" text-anchor=\"middle\" y=\"452.0\">\n",
       "    <tspan class=\"displacy-word\" fill=\"currentColor\" x=\"3380\">friend</tspan>\n",
       "    <tspan class=\"displacy-tag\" dy=\"2em\" fill=\"currentColor\" x=\"3380\">NOUN</tspan>\n",
       "</text>\n",
       "\n",
       "<text class=\"displacy-token\" fill=\"currentColor\" text-anchor=\"middle\" y=\"452.0\">\n",
       "    <tspan class=\"displacy-word\" fill=\"currentColor\" x=\"3470\">and</tspan>\n",
       "    <tspan class=\"displacy-tag\" dy=\"2em\" fill=\"currentColor\" x=\"3470\">CCONJ</tspan>\n",
       "</text>\n",
       "\n",
       "<text class=\"displacy-token\" fill=\"currentColor\" text-anchor=\"middle\" y=\"452.0\">\n",
       "    <tspan class=\"displacy-word\" fill=\"currentColor\" x=\"3560\">also</tspan>\n",
       "    <tspan class=\"displacy-tag\" dy=\"2em\" fill=\"currentColor\" x=\"3560\">ADV</tspan>\n",
       "</text>\n",
       "\n",
       "<text class=\"displacy-token\" fill=\"currentColor\" text-anchor=\"middle\" y=\"452.0\">\n",
       "    <tspan class=\"displacy-word\" fill=\"currentColor\" x=\"3650\">a</tspan>\n",
       "    <tspan class=\"displacy-tag\" dy=\"2em\" fill=\"currentColor\" x=\"3650\">DET</tspan>\n",
       "</text>\n",
       "\n",
       "<text class=\"displacy-token\" fill=\"currentColor\" text-anchor=\"middle\" y=\"452.0\">\n",
       "    <tspan class=\"displacy-word\" fill=\"currentColor\" x=\"3740\">year</tspan>\n",
       "    <tspan class=\"displacy-tag\" dy=\"2em\" fill=\"currentColor\" x=\"3740\">NOUN</tspan>\n",
       "</text>\n",
       "\n",
       "<text class=\"displacy-token\" fill=\"currentColor\" text-anchor=\"middle\" y=\"452.0\">\n",
       "    <tspan class=\"displacy-word\" fill=\"currentColor\" x=\"3830\">11</tspan>\n",
       "    <tspan class=\"displacy-tag\" dy=\"2em\" fill=\"currentColor\" x=\"3830\">NUM</tspan>\n",
       "</text>\n",
       "\n",
       "<text class=\"displacy-token\" fill=\"currentColor\" text-anchor=\"middle\" y=\"452.0\">\n",
       "    <tspan class=\"displacy-word\" fill=\"currentColor\" x=\"3920\">pupil</tspan>\n",
       "    <tspan class=\"displacy-tag\" dy=\"2em\" fill=\"currentColor\" x=\"3920\">NOUN</tspan>\n",
       "</text>\n",
       "\n",
       "<text class=\"displacy-token\" fill=\"currentColor\" text-anchor=\"middle\" y=\"452.0\">\n",
       "    <tspan class=\"displacy-word\" fill=\"currentColor\" x=\"4010\">in</tspan>\n",
       "    <tspan class=\"displacy-tag\" dy=\"2em\" fill=\"currentColor\" x=\"4010\">ADP</tspan>\n",
       "</text>\n",
       "\n",
       "<text class=\"displacy-token\" fill=\"currentColor\" text-anchor=\"middle\" y=\"452.0\">\n",
       "    <tspan class=\"displacy-word\" fill=\"currentColor\" x=\"4100\">simon</tspan>\n",
       "    <tspan class=\"displacy-tag\" dy=\"2em\" fill=\"currentColor\" x=\"4100\">PROPN</tspan>\n",
       "</text>\n",
       "\n",
       "<text class=\"displacy-token\" fill=\"currentColor\" text-anchor=\"middle\" y=\"452.0\">\n",
       "    <tspan class=\"displacy-word\" fill=\"currentColor\" x=\"4190\">'s</tspan>\n",
       "    <tspan class=\"displacy-tag\" dy=\"2em\" fill=\"currentColor\" x=\"4190\">PART</tspan>\n",
       "</text>\n",
       "\n",
       "<text class=\"displacy-token\" fill=\"currentColor\" text-anchor=\"middle\" y=\"452.0\">\n",
       "    <tspan class=\"displacy-word\" fill=\"currentColor\" x=\"4280\">class.</tspan>\n",
       "    <tspan class=\"displacy-tag\" dy=\"2em\" fill=\"currentColor\" x=\"4280\">NOUN</tspan>\n",
       "</text>\n",
       "\n",
       "<text class=\"displacy-token\" fill=\"currentColor\" text-anchor=\"middle\" y=\"452.0\">\n",
       "    <tspan class=\"displacy-word\" fill=\"currentColor\" x=\"4370\">dumped</tspan>\n",
       "    <tspan class=\"displacy-tag\" dy=\"2em\" fill=\"currentColor\" x=\"4370\">VERB</tspan>\n",
       "</text>\n",
       "\n",
       "<text class=\"displacy-token\" fill=\"currentColor\" text-anchor=\"middle\" y=\"452.0\">\n",
       "    <tspan class=\"displacy-word\" fill=\"currentColor\" x=\"4460\">her</tspan>\n",
       "    <tspan class=\"displacy-tag\" dy=\"2em\" fill=\"currentColor\" x=\"4460\">DET</tspan>\n",
       "</text>\n",
       "\n",
       "<text class=\"displacy-token\" fill=\"currentColor\" text-anchor=\"middle\" y=\"452.0\">\n",
       "    <tspan class=\"displacy-word\" fill=\"currentColor\" x=\"4550\">boyfriend</tspan>\n",
       "    <tspan class=\"displacy-tag\" dy=\"2em\" fill=\"currentColor\" x=\"4550\">NOUN</tspan>\n",
       "</text>\n",
       "\n",
       "<text class=\"displacy-token\" fill=\"currentColor\" text-anchor=\"middle\" y=\"452.0\">\n",
       "    <tspan class=\"displacy-word\" fill=\"currentColor\" x=\"4640\">following</tspan>\n",
       "    <tspan class=\"displacy-tag\" dy=\"2em\" fill=\"currentColor\" x=\"4640\">VERB</tspan>\n",
       "</text>\n",
       "\n",
       "<text class=\"displacy-token\" fill=\"currentColor\" text-anchor=\"middle\" y=\"452.0\">\n",
       "    <tspan class=\"displacy-word\" fill=\"currentColor\" x=\"4730\">simon</tspan>\n",
       "    <tspan class=\"displacy-tag\" dy=\"2em\" fill=\"currentColor\" x=\"4730\">PROPN</tspan>\n",
       "</text>\n",
       "\n",
       "<text class=\"displacy-token\" fill=\"currentColor\" text-anchor=\"middle\" y=\"452.0\">\n",
       "    <tspan class=\"displacy-word\" fill=\"currentColor\" x=\"4820\">'s</tspan>\n",
       "    <tspan class=\"displacy-tag\" dy=\"2em\" fill=\"currentColor\" x=\"4820\">PART</tspan>\n",
       "</text>\n",
       "\n",
       "<text class=\"displacy-token\" fill=\"currentColor\" text-anchor=\"middle\" y=\"452.0\">\n",
       "    <tspan class=\"displacy-word\" fill=\"currentColor\" x=\"4910\">advice</tspan>\n",
       "    <tspan class=\"displacy-tag\" dy=\"2em\" fill=\"currentColor\" x=\"4910\">NOUN</tspan>\n",
       "</text>\n",
       "\n",
       "<text class=\"displacy-token\" fill=\"currentColor\" text-anchor=\"middle\" y=\"452.0\">\n",
       "    <tspan class=\"displacy-word\" fill=\"currentColor\" x=\"5000\">after</tspan>\n",
       "    <tspan class=\"displacy-tag\" dy=\"2em\" fill=\"currentColor\" x=\"5000\">ADP</tspan>\n",
       "</text>\n",
       "\n",
       "<text class=\"displacy-token\" fill=\"currentColor\" text-anchor=\"middle\" y=\"452.0\">\n",
       "    <tspan class=\"displacy-word\" fill=\"currentColor\" x=\"5090\">he</tspan>\n",
       "    <tspan class=\"displacy-tag\" dy=\"2em\" fill=\"currentColor\" x=\"5090\">PRON</tspan>\n",
       "</text>\n",
       "\n",
       "<text class=\"displacy-token\" fill=\"currentColor\" text-anchor=\"middle\" y=\"452.0\">\n",
       "    <tspan class=\"displacy-word\" fill=\"currentColor\" x=\"5180\">would</tspan>\n",
       "    <tspan class=\"displacy-tag\" dy=\"2em\" fill=\"currentColor\" x=\"5180\">VERB</tspan>\n",
       "</text>\n",
       "\n",
       "<text class=\"displacy-token\" fill=\"currentColor\" text-anchor=\"middle\" y=\"452.0\">\n",
       "    <tspan class=\"displacy-word\" fill=\"currentColor\" x=\"5270\">n't</tspan>\n",
       "    <tspan class=\"displacy-tag\" dy=\"2em\" fill=\"currentColor\" x=\"5270\">PART</tspan>\n",
       "</text>\n",
       "\n",
       "<text class=\"displacy-token\" fill=\"currentColor\" text-anchor=\"middle\" y=\"452.0\">\n",
       "    <tspan class=\"displacy-word\" fill=\"currentColor\" x=\"5360\">have</tspan>\n",
       "    <tspan class=\"displacy-tag\" dy=\"2em\" fill=\"currentColor\" x=\"5360\">AUX</tspan>\n",
       "</text>\n",
       "\n",
       "<text class=\"displacy-token\" fill=\"currentColor\" text-anchor=\"middle\" y=\"452.0\">\n",
       "    <tspan class=\"displacy-word\" fill=\"currentColor\" x=\"5450\">sex</tspan>\n",
       "    <tspan class=\"displacy-tag\" dy=\"2em\" fill=\"currentColor\" x=\"5450\">NOUN</tspan>\n",
       "</text>\n",
       "\n",
       "<text class=\"displacy-token\" fill=\"currentColor\" text-anchor=\"middle\" y=\"452.0\">\n",
       "    <tspan class=\"displacy-word\" fill=\"currentColor\" x=\"5540\">with</tspan>\n",
       "    <tspan class=\"displacy-tag\" dy=\"2em\" fill=\"currentColor\" x=\"5540\">ADP</tspan>\n",
       "</text>\n",
       "\n",
       "<text class=\"displacy-token\" fill=\"currentColor\" text-anchor=\"middle\" y=\"452.0\">\n",
       "    <tspan class=\"displacy-word\" fill=\"currentColor\" x=\"5630\">her</tspan>\n",
       "    <tspan class=\"displacy-tag\" dy=\"2em\" fill=\"currentColor\" x=\"5630\">PRON</tspan>\n",
       "</text>\n",
       "\n",
       "<text class=\"displacy-token\" fill=\"currentColor\" text-anchor=\"middle\" y=\"452.0\">\n",
       "    <tspan class=\"displacy-word\" fill=\"currentColor\" x=\"5720\">but</tspan>\n",
       "    <tspan class=\"displacy-tag\" dy=\"2em\" fill=\"currentColor\" x=\"5720\">CCONJ</tspan>\n",
       "</text>\n",
       "\n",
       "<text class=\"displacy-token\" fill=\"currentColor\" text-anchor=\"middle\" y=\"452.0\">\n",
       "    <tspan class=\"displacy-word\" fill=\"currentColor\" x=\"5810\">later</tspan>\n",
       "    <tspan class=\"displacy-tag\" dy=\"2em\" fill=\"currentColor\" x=\"5810\">ADV</tspan>\n",
       "</text>\n",
       "\n",
       "<text class=\"displacy-token\" fill=\"currentColor\" text-anchor=\"middle\" y=\"452.0\">\n",
       "    <tspan class=\"displacy-word\" fill=\"currentColor\" x=\"5900\">realised</tspan>\n",
       "    <tspan class=\"displacy-tag\" dy=\"2em\" fill=\"currentColor\" x=\"5900\">VERB</tspan>\n",
       "</text>\n",
       "\n",
       "<text class=\"displacy-token\" fill=\"currentColor\" text-anchor=\"middle\" y=\"452.0\">\n",
       "    <tspan class=\"displacy-word\" fill=\"currentColor\" x=\"5990\">this</tspan>\n",
       "    <tspan class=\"displacy-tag\" dy=\"2em\" fill=\"currentColor\" x=\"5990\">DET</tspan>\n",
       "</text>\n",
       "\n",
       "<text class=\"displacy-token\" fill=\"currentColor\" text-anchor=\"middle\" y=\"452.0\">\n",
       "    <tspan class=\"displacy-word\" fill=\"currentColor\" x=\"6080\">was</tspan>\n",
       "    <tspan class=\"displacy-tag\" dy=\"2em\" fill=\"currentColor\" x=\"6080\">AUX</tspan>\n",
       "</text>\n",
       "\n",
       "<text class=\"displacy-token\" fill=\"currentColor\" text-anchor=\"middle\" y=\"452.0\">\n",
       "    <tspan class=\"displacy-word\" fill=\"currentColor\" x=\"6170\">due</tspan>\n",
       "    <tspan class=\"displacy-tag\" dy=\"2em\" fill=\"currentColor\" x=\"6170\">ADJ</tspan>\n",
       "</text>\n",
       "\n",
       "<text class=\"displacy-token\" fill=\"currentColor\" text-anchor=\"middle\" y=\"452.0\">\n",
       "    <tspan class=\"displacy-word\" fill=\"currentColor\" x=\"6260\">to</tspan>\n",
       "    <tspan class=\"displacy-tag\" dy=\"2em\" fill=\"currentColor\" x=\"6260\">ADP</tspan>\n",
       "</text>\n",
       "\n",
       "<text class=\"displacy-token\" fill=\"currentColor\" text-anchor=\"middle\" y=\"452.0\">\n",
       "    <tspan class=\"displacy-word\" fill=\"currentColor\" x=\"6350\">him</tspan>\n",
       "    <tspan class=\"displacy-tag\" dy=\"2em\" fill=\"currentColor\" x=\"6350\">PRON</tspan>\n",
       "</text>\n",
       "\n",
       "<text class=\"displacy-token\" fill=\"currentColor\" text-anchor=\"middle\" y=\"452.0\">\n",
       "    <tspan class=\"displacy-word\" fill=\"currentColor\" x=\"6440\">catching</tspan>\n",
       "    <tspan class=\"displacy-tag\" dy=\"2em\" fill=\"currentColor\" x=\"6440\">VERB</tspan>\n",
       "</text>\n",
       "\n",
       "<text class=\"displacy-token\" fill=\"currentColor\" text-anchor=\"middle\" y=\"452.0\">\n",
       "    <tspan class=\"displacy-word\" fill=\"currentColor\" x=\"6530\">crabs</tspan>\n",
       "    <tspan class=\"displacy-tag\" dy=\"2em\" fill=\"currentColor\" x=\"6530\">NOUN</tspan>\n",
       "</text>\n",
       "\n",
       "<text class=\"displacy-token\" fill=\"currentColor\" text-anchor=\"middle\" y=\"452.0\">\n",
       "    <tspan class=\"displacy-word\" fill=\"currentColor\" x=\"6620\">off</tspan>\n",
       "    <tspan class=\"displacy-tag\" dy=\"2em\" fill=\"currentColor\" x=\"6620\">ADP</tspan>\n",
       "</text>\n",
       "\n",
       "<text class=\"displacy-token\" fill=\"currentColor\" text-anchor=\"middle\" y=\"452.0\">\n",
       "    <tspan class=\"displacy-word\" fill=\"currentColor\" x=\"6710\">her</tspan>\n",
       "    <tspan class=\"displacy-tag\" dy=\"2em\" fill=\"currentColor\" x=\"6710\">DET</tspan>\n",
       "</text>\n",
       "\n",
       "<text class=\"displacy-token\" fill=\"currentColor\" text-anchor=\"middle\" y=\"452.0\">\n",
       "    <tspan class=\"displacy-word\" fill=\"currentColor\" x=\"6800\">friend</tspan>\n",
       "    <tspan class=\"displacy-tag\" dy=\"2em\" fill=\"currentColor\" x=\"6800\">NOUN</tspan>\n",
       "</text>\n",
       "\n",
       "<text class=\"displacy-token\" fill=\"currentColor\" text-anchor=\"middle\" y=\"452.0\">\n",
       "    <tspan class=\"displacy-word\" fill=\"currentColor\" x=\"6890\">pauline.</tspan>\n",
       "    <tspan class=\"displacy-tag\" dy=\"2em\" fill=\"currentColor\" x=\"6890\">NOUN</tspan>\n",
       "</text>\n",
       "\n",
       "<g class=\"displacy-arrow\">\n",
       "    <path class=\"displacy-arc\" id=\"arrow-8cd0178c854242d3af45902709c653e6-0-0\" stroke-width=\"2px\" d=\"M70,407.0 C70,362.0 100.0,362.0 100.0,407.0\" fill=\"none\" stroke=\"currentColor\"/>\n",
       "    <text dy=\"1.25em\" style=\"font-size: 0.8em; letter-spacing: 1px\">\n",
       "        <textPath xlink:href=\"#arrow-8cd0178c854242d3af45902709c653e6-0-0\" class=\"displacy-label\" startOffset=\"50%\" side=\"left\" fill=\"currentColor\" text-anchor=\"middle\">compound</textPath>\n",
       "    </text>\n",
       "    <path class=\"displacy-arrowhead\" d=\"M70,409.0 L62,397.0 78,397.0\" fill=\"currentColor\"/>\n",
       "</g>\n",
       "\n",
       "<g class=\"displacy-arrow\">\n",
       "    <path class=\"displacy-arc\" id=\"arrow-8cd0178c854242d3af45902709c653e6-0-1\" stroke-width=\"2px\" d=\"M160,407.0 C160,362.0 190.0,362.0 190.0,407.0\" fill=\"none\" stroke=\"currentColor\"/>\n",
       "    <text dy=\"1.25em\" style=\"font-size: 0.8em; letter-spacing: 1px\">\n",
       "        <textPath xlink:href=\"#arrow-8cd0178c854242d3af45902709c653e6-0-1\" class=\"displacy-label\" startOffset=\"50%\" side=\"left\" fill=\"currentColor\" text-anchor=\"middle\">nsubj</textPath>\n",
       "    </text>\n",
       "    <path class=\"displacy-arrowhead\" d=\"M160,409.0 L152,397.0 168,397.0\" fill=\"currentColor\"/>\n",
       "</g>\n",
       "\n",
       "<g class=\"displacy-arrow\">\n",
       "    <path class=\"displacy-arc\" id=\"arrow-8cd0178c854242d3af45902709c653e6-0-2\" stroke-width=\"2px\" d=\"M340,407.0 C340,272.0 560.0,272.0 560.0,407.0\" fill=\"none\" stroke=\"currentColor\"/>\n",
       "    <text dy=\"1.25em\" style=\"font-size: 0.8em; letter-spacing: 1px\">\n",
       "        <textPath xlink:href=\"#arrow-8cd0178c854242d3af45902709c653e6-0-2\" class=\"displacy-label\" startOffset=\"50%\" side=\"left\" fill=\"currentColor\" text-anchor=\"middle\">det</textPath>\n",
       "    </text>\n",
       "    <path class=\"displacy-arrowhead\" d=\"M340,409.0 L332,397.0 348,397.0\" fill=\"currentColor\"/>\n",
       "</g>\n",
       "\n",
       "<g class=\"displacy-arrow\">\n",
       "    <path class=\"displacy-arc\" id=\"arrow-8cd0178c854242d3af45902709c653e6-0-3\" stroke-width=\"2px\" d=\"M430,407.0 C430,362.0 460.0,362.0 460.0,407.0\" fill=\"none\" stroke=\"currentColor\"/>\n",
       "    <text dy=\"1.25em\" style=\"font-size: 0.8em; letter-spacing: 1px\">\n",
       "        <textPath xlink:href=\"#arrow-8cd0178c854242d3af45902709c653e6-0-3\" class=\"displacy-label\" startOffset=\"50%\" side=\"left\" fill=\"currentColor\" text-anchor=\"middle\">compound</textPath>\n",
       "    </text>\n",
       "    <path class=\"displacy-arrowhead\" d=\"M430,409.0 L422,397.0 438,397.0\" fill=\"currentColor\"/>\n",
       "</g>\n",
       "\n",
       "<g class=\"displacy-arrow\">\n",
       "    <path class=\"displacy-arc\" id=\"arrow-8cd0178c854242d3af45902709c653e6-0-4\" stroke-width=\"2px\" d=\"M520,407.0 C520,362.0 550.0,362.0 550.0,407.0\" fill=\"none\" stroke=\"currentColor\"/>\n",
       "    <text dy=\"1.25em\" style=\"font-size: 0.8em; letter-spacing: 1px\">\n",
       "        <textPath xlink:href=\"#arrow-8cd0178c854242d3af45902709c653e6-0-4\" class=\"displacy-label\" startOffset=\"50%\" side=\"left\" fill=\"currentColor\" text-anchor=\"middle\">compound</textPath>\n",
       "    </text>\n",
       "    <path class=\"displacy-arrowhead\" d=\"M520,409.0 L512,397.0 528,397.0\" fill=\"currentColor\"/>\n",
       "</g>\n",
       "\n",
       "<g class=\"displacy-arrow\">\n",
       "    <path class=\"displacy-arc\" id=\"arrow-8cd0178c854242d3af45902709c653e6-0-5\" stroke-width=\"2px\" d=\"M250,407.0 C250,227.0 565.0,227.0 565.0,407.0\" fill=\"none\" stroke=\"currentColor\"/>\n",
       "    <text dy=\"1.25em\" style=\"font-size: 0.8em; letter-spacing: 1px\">\n",
       "        <textPath xlink:href=\"#arrow-8cd0178c854242d3af45902709c653e6-0-5\" class=\"displacy-label\" startOffset=\"50%\" side=\"left\" fill=\"currentColor\" text-anchor=\"middle\">dobj</textPath>\n",
       "    </text>\n",
       "    <path class=\"displacy-arrowhead\" d=\"M565.0,409.0 L573.0,397.0 557.0,397.0\" fill=\"currentColor\"/>\n",
       "</g>\n",
       "\n",
       "<g class=\"displacy-arrow\">\n",
       "    <path class=\"displacy-arc\" id=\"arrow-8cd0178c854242d3af45902709c653e6-0-6\" stroke-width=\"2px\" d=\"M610,407.0 C610,362.0 640.0,362.0 640.0,407.0\" fill=\"none\" stroke=\"currentColor\"/>\n",
       "    <text dy=\"1.25em\" style=\"font-size: 0.8em; letter-spacing: 1px\">\n",
       "        <textPath xlink:href=\"#arrow-8cd0178c854242d3af45902709c653e6-0-6\" class=\"displacy-label\" startOffset=\"50%\" side=\"left\" fill=\"currentColor\" text-anchor=\"middle\">prep</textPath>\n",
       "    </text>\n",
       "    <path class=\"displacy-arrowhead\" d=\"M640.0,409.0 L648.0,397.0 632.0,397.0\" fill=\"currentColor\"/>\n",
       "</g>\n",
       "\n",
       "<g class=\"displacy-arrow\">\n",
       "    <path class=\"displacy-arc\" id=\"arrow-8cd0178c854242d3af45902709c653e6-0-7\" stroke-width=\"2px\" d=\"M700,407.0 C700,362.0 730.0,362.0 730.0,407.0\" fill=\"none\" stroke=\"currentColor\"/>\n",
       "    <text dy=\"1.25em\" style=\"font-size: 0.8em; letter-spacing: 1px\">\n",
       "        <textPath xlink:href=\"#arrow-8cd0178c854242d3af45902709c653e6-0-7\" class=\"displacy-label\" startOffset=\"50%\" side=\"left\" fill=\"currentColor\" text-anchor=\"middle\">pobj</textPath>\n",
       "    </text>\n",
       "    <path class=\"displacy-arrowhead\" d=\"M730.0,409.0 L738.0,397.0 722.0,397.0\" fill=\"currentColor\"/>\n",
       "</g>\n",
       "\n",
       "<g class=\"displacy-arrow\">\n",
       "    <path class=\"displacy-arc\" id=\"arrow-8cd0178c854242d3af45902709c653e6-0-8\" stroke-width=\"2px\" d=\"M790,407.0 C790,362.0 820.0,362.0 820.0,407.0\" fill=\"none\" stroke=\"currentColor\"/>\n",
       "    <text dy=\"1.25em\" style=\"font-size: 0.8em; letter-spacing: 1px\">\n",
       "        <textPath xlink:href=\"#arrow-8cd0178c854242d3af45902709c653e6-0-8\" class=\"displacy-label\" startOffset=\"50%\" side=\"left\" fill=\"currentColor\" text-anchor=\"middle\">appos</textPath>\n",
       "    </text>\n",
       "    <path class=\"displacy-arrowhead\" d=\"M820.0,409.0 L828.0,397.0 812.0,397.0\" fill=\"currentColor\"/>\n",
       "</g>\n",
       "\n",
       "<g class=\"displacy-arrow\">\n",
       "    <path class=\"displacy-arc\" id=\"arrow-8cd0178c854242d3af45902709c653e6-0-9\" stroke-width=\"2px\" d=\"M970,407.0 C970,362.0 1000.0,362.0 1000.0,407.0\" fill=\"none\" stroke=\"currentColor\"/>\n",
       "    <text dy=\"1.25em\" style=\"font-size: 0.8em; letter-spacing: 1px\">\n",
       "        <textPath xlink:href=\"#arrow-8cd0178c854242d3af45902709c653e6-0-9\" class=\"displacy-label\" startOffset=\"50%\" side=\"left\" fill=\"currentColor\" text-anchor=\"middle\">agent</textPath>\n",
       "    </text>\n",
       "    <path class=\"displacy-arrowhead\" d=\"M1000.0,409.0 L1008.0,397.0 992.0,397.0\" fill=\"currentColor\"/>\n",
       "</g>\n",
       "\n",
       "<g class=\"displacy-arrow\">\n",
       "    <path class=\"displacy-arc\" id=\"arrow-8cd0178c854242d3af45902709c653e6-0-10\" stroke-width=\"2px\" d=\"M1060,407.0 C1060,362.0 1090.0,362.0 1090.0,407.0\" fill=\"none\" stroke=\"currentColor\"/>\n",
       "    <text dy=\"1.25em\" style=\"font-size: 0.8em; letter-spacing: 1px\">\n",
       "        <textPath xlink:href=\"#arrow-8cd0178c854242d3af45902709c653e6-0-10\" class=\"displacy-label\" startOffset=\"50%\" side=\"left\" fill=\"currentColor\" text-anchor=\"middle\">pobj</textPath>\n",
       "    </text>\n",
       "    <path class=\"displacy-arrowhead\" d=\"M1090.0,409.0 L1098.0,397.0 1082.0,397.0\" fill=\"currentColor\"/>\n",
       "</g>\n",
       "\n",
       "<g class=\"displacy-arrow\">\n",
       "    <path class=\"displacy-arc\" id=\"arrow-8cd0178c854242d3af45902709c653e6-0-11\" stroke-width=\"2px\" d=\"M970,407.0 C970,272.0 1190.0,272.0 1190.0,407.0\" fill=\"none\" stroke=\"currentColor\"/>\n",
       "    <text dy=\"1.25em\" style=\"font-size: 0.8em; letter-spacing: 1px\">\n",
       "        <textPath xlink:href=\"#arrow-8cd0178c854242d3af45902709c653e6-0-11\" class=\"displacy-label\" startOffset=\"50%\" side=\"left\" fill=\"currentColor\" text-anchor=\"middle\">prep</textPath>\n",
       "    </text>\n",
       "    <path class=\"displacy-arrowhead\" d=\"M1190.0,409.0 L1198.0,397.0 1182.0,397.0\" fill=\"currentColor\"/>\n",
       "</g>\n",
       "\n",
       "<g class=\"displacy-arrow\">\n",
       "    <path class=\"displacy-arc\" id=\"arrow-8cd0178c854242d3af45902709c653e6-0-12\" stroke-width=\"2px\" d=\"M1330,407.0 C1330,317.0 1455.0,317.0 1455.0,407.0\" fill=\"none\" stroke=\"currentColor\"/>\n",
       "    <text dy=\"1.25em\" style=\"font-size: 0.8em; letter-spacing: 1px\">\n",
       "        <textPath xlink:href=\"#arrow-8cd0178c854242d3af45902709c653e6-0-12\" class=\"displacy-label\" startOffset=\"50%\" side=\"left\" fill=\"currentColor\" text-anchor=\"middle\">det</textPath>\n",
       "    </text>\n",
       "    <path class=\"displacy-arrowhead\" d=\"M1330,409.0 L1322,397.0 1338,397.0\" fill=\"currentColor\"/>\n",
       "</g>\n",
       "\n",
       "<g class=\"displacy-arrow\">\n",
       "    <path class=\"displacy-arc\" id=\"arrow-8cd0178c854242d3af45902709c653e6-0-13\" stroke-width=\"2px\" d=\"M1420,407.0 C1420,362.0 1450.0,362.0 1450.0,407.0\" fill=\"none\" stroke=\"currentColor\"/>\n",
       "    <text dy=\"1.25em\" style=\"font-size: 0.8em; letter-spacing: 1px\">\n",
       "        <textPath xlink:href=\"#arrow-8cd0178c854242d3af45902709c653e6-0-13\" class=\"displacy-label\" startOffset=\"50%\" side=\"left\" fill=\"currentColor\" text-anchor=\"middle\">amod</textPath>\n",
       "    </text>\n",
       "    <path class=\"displacy-arrowhead\" d=\"M1420,409.0 L1412,397.0 1428,397.0\" fill=\"currentColor\"/>\n",
       "</g>\n",
       "\n",
       "<g class=\"displacy-arrow\">\n",
       "    <path class=\"displacy-arc\" id=\"arrow-8cd0178c854242d3af45902709c653e6-0-14\" stroke-width=\"2px\" d=\"M1240,407.0 C1240,272.0 1460.0,272.0 1460.0,407.0\" fill=\"none\" stroke=\"currentColor\"/>\n",
       "    <text dy=\"1.25em\" style=\"font-size: 0.8em; letter-spacing: 1px\">\n",
       "        <textPath xlink:href=\"#arrow-8cd0178c854242d3af45902709c653e6-0-14\" class=\"displacy-label\" startOffset=\"50%\" side=\"left\" fill=\"currentColor\" text-anchor=\"middle\">pobj</textPath>\n",
       "    </text>\n",
       "    <path class=\"displacy-arrowhead\" d=\"M1460.0,409.0 L1468.0,397.0 1452.0,397.0\" fill=\"currentColor\"/>\n",
       "</g>\n",
       "\n",
       "<g class=\"displacy-arrow\">\n",
       "    <path class=\"displacy-arc\" id=\"arrow-8cd0178c854242d3af45902709c653e6-0-15\" stroke-width=\"2px\" d=\"M1510,407.0 C1510,362.0 1540.0,362.0 1540.0,407.0\" fill=\"none\" stroke=\"currentColor\"/>\n",
       "    <text dy=\"1.25em\" style=\"font-size: 0.8em; letter-spacing: 1px\">\n",
       "        <textPath xlink:href=\"#arrow-8cd0178c854242d3af45902709c653e6-0-15\" class=\"displacy-label\" startOffset=\"50%\" side=\"left\" fill=\"currentColor\" text-anchor=\"middle\">prep</textPath>\n",
       "    </text>\n",
       "    <path class=\"displacy-arrowhead\" d=\"M1540.0,409.0 L1548.0,397.0 1532.0,397.0\" fill=\"currentColor\"/>\n",
       "</g>\n",
       "\n",
       "<g class=\"displacy-arrow\">\n",
       "    <path class=\"displacy-arc\" id=\"arrow-8cd0178c854242d3af45902709c653e6-0-16\" stroke-width=\"2px\" d=\"M1600,407.0 C1600,362.0 1630.0,362.0 1630.0,407.0\" fill=\"none\" stroke=\"currentColor\"/>\n",
       "    <text dy=\"1.25em\" style=\"font-size: 0.8em; letter-spacing: 1px\">\n",
       "        <textPath xlink:href=\"#arrow-8cd0178c854242d3af45902709c653e6-0-16\" class=\"displacy-label\" startOffset=\"50%\" side=\"left\" fill=\"currentColor\" text-anchor=\"middle\">pobj</textPath>\n",
       "    </text>\n",
       "    <path class=\"displacy-arrowhead\" d=\"M1630.0,409.0 L1638.0,397.0 1622.0,397.0\" fill=\"currentColor\"/>\n",
       "</g>\n",
       "\n",
       "<g class=\"displacy-arrow\">\n",
       "    <path class=\"displacy-arc\" id=\"arrow-8cd0178c854242d3af45902709c653e6-0-17\" stroke-width=\"2px\" d=\"M1690,407.0 C1690,362.0 1720.0,362.0 1720.0,407.0\" fill=\"none\" stroke=\"currentColor\"/>\n",
       "    <text dy=\"1.25em\" style=\"font-size: 0.8em; letter-spacing: 1px\">\n",
       "        <textPath xlink:href=\"#arrow-8cd0178c854242d3af45902709c653e6-0-17\" class=\"displacy-label\" startOffset=\"50%\" side=\"left\" fill=\"currentColor\" text-anchor=\"middle\">nummod</textPath>\n",
       "    </text>\n",
       "    <path class=\"displacy-arrowhead\" d=\"M1720.0,409.0 L1728.0,397.0 1712.0,397.0\" fill=\"currentColor\"/>\n",
       "</g>\n",
       "\n",
       "<g class=\"displacy-arrow\">\n",
       "    <path class=\"displacy-arc\" id=\"arrow-8cd0178c854242d3af45902709c653e6-0-18\" stroke-width=\"2px\" d=\"M1870,407.0 C1870,317.0 1995.0,317.0 1995.0,407.0\" fill=\"none\" stroke=\"currentColor\"/>\n",
       "    <text dy=\"1.25em\" style=\"font-size: 0.8em; letter-spacing: 1px\">\n",
       "        <textPath xlink:href=\"#arrow-8cd0178c854242d3af45902709c653e6-0-18\" class=\"displacy-label\" startOffset=\"50%\" side=\"left\" fill=\"currentColor\" text-anchor=\"middle\">mark</textPath>\n",
       "    </text>\n",
       "    <path class=\"displacy-arrowhead\" d=\"M1870,409.0 L1862,397.0 1878,397.0\" fill=\"currentColor\"/>\n",
       "</g>\n",
       "\n",
       "<g class=\"displacy-arrow\">\n",
       "    <path class=\"displacy-arc\" id=\"arrow-8cd0178c854242d3af45902709c653e6-0-19\" stroke-width=\"2px\" d=\"M1960,407.0 C1960,362.0 1990.0,362.0 1990.0,407.0\" fill=\"none\" stroke=\"currentColor\"/>\n",
       "    <text dy=\"1.25em\" style=\"font-size: 0.8em; letter-spacing: 1px\">\n",
       "        <textPath xlink:href=\"#arrow-8cd0178c854242d3af45902709c653e6-0-19\" class=\"displacy-label\" startOffset=\"50%\" side=\"left\" fill=\"currentColor\" text-anchor=\"middle\">nsubj</textPath>\n",
       "    </text>\n",
       "    <path class=\"displacy-arrowhead\" d=\"M1960,409.0 L1952,397.0 1968,397.0\" fill=\"currentColor\"/>\n",
       "</g>\n",
       "\n",
       "<g class=\"displacy-arrow\">\n",
       "    <path class=\"displacy-arc\" id=\"arrow-8cd0178c854242d3af45902709c653e6-0-20\" stroke-width=\"2px\" d=\"M970,407.0 C970,2.0 2030.0,2.0 2030.0,407.0\" fill=\"none\" stroke=\"currentColor\"/>\n",
       "    <text dy=\"1.25em\" style=\"font-size: 0.8em; letter-spacing: 1px\">\n",
       "        <textPath xlink:href=\"#arrow-8cd0178c854242d3af45902709c653e6-0-20\" class=\"displacy-label\" startOffset=\"50%\" side=\"left\" fill=\"currentColor\" text-anchor=\"middle\">advcl</textPath>\n",
       "    </text>\n",
       "    <path class=\"displacy-arrowhead\" d=\"M2030.0,409.0 L2038.0,397.0 2022.0,397.0\" fill=\"currentColor\"/>\n",
       "</g>\n",
       "\n",
       "<g class=\"displacy-arrow\">\n",
       "    <path class=\"displacy-arc\" id=\"arrow-8cd0178c854242d3af45902709c653e6-0-21\" stroke-width=\"2px\" d=\"M2050,407.0 C2050,362.0 2080.0,362.0 2080.0,407.0\" fill=\"none\" stroke=\"currentColor\"/>\n",
       "    <text dy=\"1.25em\" style=\"font-size: 0.8em; letter-spacing: 1px\">\n",
       "        <textPath xlink:href=\"#arrow-8cd0178c854242d3af45902709c653e6-0-21\" class=\"displacy-label\" startOffset=\"50%\" side=\"left\" fill=\"currentColor\" text-anchor=\"middle\">prep</textPath>\n",
       "    </text>\n",
       "    <path class=\"displacy-arrowhead\" d=\"M2080.0,409.0 L2088.0,397.0 2072.0,397.0\" fill=\"currentColor\"/>\n",
       "</g>\n",
       "\n",
       "<g class=\"displacy-arrow\">\n",
       "    <path class=\"displacy-arc\" id=\"arrow-8cd0178c854242d3af45902709c653e6-0-22\" stroke-width=\"2px\" d=\"M2140,407.0 C2140,362.0 2170.0,362.0 2170.0,407.0\" fill=\"none\" stroke=\"currentColor\"/>\n",
       "    <text dy=\"1.25em\" style=\"font-size: 0.8em; letter-spacing: 1px\">\n",
       "        <textPath xlink:href=\"#arrow-8cd0178c854242d3af45902709c653e6-0-22\" class=\"displacy-label\" startOffset=\"50%\" side=\"left\" fill=\"currentColor\" text-anchor=\"middle\">pobj</textPath>\n",
       "    </text>\n",
       "    <path class=\"displacy-arrowhead\" d=\"M2170.0,409.0 L2178.0,397.0 2162.0,397.0\" fill=\"currentColor\"/>\n",
       "</g>\n",
       "\n",
       "<g class=\"displacy-arrow\">\n",
       "    <path class=\"displacy-arc\" id=\"arrow-8cd0178c854242d3af45902709c653e6-0-23\" stroke-width=\"2px\" d=\"M2050,407.0 C2050,272.0 2270.0,272.0 2270.0,407.0\" fill=\"none\" stroke=\"currentColor\"/>\n",
       "    <text dy=\"1.25em\" style=\"font-size: 0.8em; letter-spacing: 1px\">\n",
       "        <textPath xlink:href=\"#arrow-8cd0178c854242d3af45902709c653e6-0-23\" class=\"displacy-label\" startOffset=\"50%\" side=\"left\" fill=\"currentColor\" text-anchor=\"middle\">cc</textPath>\n",
       "    </text>\n",
       "    <path class=\"displacy-arrowhead\" d=\"M2270.0,409.0 L2278.0,397.0 2262.0,397.0\" fill=\"currentColor\"/>\n",
       "</g>\n",
       "\n",
       "<g class=\"displacy-arrow\">\n",
       "    <path class=\"displacy-arc\" id=\"arrow-8cd0178c854242d3af45902709c653e6-0-24\" stroke-width=\"2px\" d=\"M2410,407.0 C2410,317.0 2535.0,317.0 2535.0,407.0\" fill=\"none\" stroke=\"currentColor\"/>\n",
       "    <text dy=\"1.25em\" style=\"font-size: 0.8em; letter-spacing: 1px\">\n",
       "        <textPath xlink:href=\"#arrow-8cd0178c854242d3af45902709c653e6-0-24\" class=\"displacy-label\" startOffset=\"50%\" side=\"left\" fill=\"currentColor\" text-anchor=\"middle\">auxpass</textPath>\n",
       "    </text>\n",
       "    <path class=\"displacy-arrowhead\" d=\"M2410,409.0 L2402,397.0 2418,397.0\" fill=\"currentColor\"/>\n",
       "</g>\n",
       "\n",
       "<g class=\"displacy-arrow\">\n",
       "    <path class=\"displacy-arc\" id=\"arrow-8cd0178c854242d3af45902709c653e6-0-25\" stroke-width=\"2px\" d=\"M2500,407.0 C2500,362.0 2530.0,362.0 2530.0,407.0\" fill=\"none\" stroke=\"currentColor\"/>\n",
       "    <text dy=\"1.25em\" style=\"font-size: 0.8em; letter-spacing: 1px\">\n",
       "        <textPath xlink:href=\"#arrow-8cd0178c854242d3af45902709c653e6-0-25\" class=\"displacy-label\" startOffset=\"50%\" side=\"left\" fill=\"currentColor\" text-anchor=\"middle\">neg</textPath>\n",
       "    </text>\n",
       "    <path class=\"displacy-arrowhead\" d=\"M2500,409.0 L2492,397.0 2508,397.0\" fill=\"currentColor\"/>\n",
       "</g>\n",
       "\n",
       "<g class=\"displacy-arrow\">\n",
       "    <path class=\"displacy-arc\" id=\"arrow-8cd0178c854242d3af45902709c653e6-0-26\" stroke-width=\"2px\" d=\"M2050,407.0 C2050,137.0 2555.0,137.0 2555.0,407.0\" fill=\"none\" stroke=\"currentColor\"/>\n",
       "    <text dy=\"1.25em\" style=\"font-size: 0.8em; letter-spacing: 1px\">\n",
       "        <textPath xlink:href=\"#arrow-8cd0178c854242d3af45902709c653e6-0-26\" class=\"displacy-label\" startOffset=\"50%\" side=\"left\" fill=\"currentColor\" text-anchor=\"middle\">conj</textPath>\n",
       "    </text>\n",
       "    <path class=\"displacy-arrowhead\" d=\"M2555.0,409.0 L2563.0,397.0 2547.0,397.0\" fill=\"currentColor\"/>\n",
       "</g>\n",
       "\n",
       "<g class=\"displacy-arrow\">\n",
       "    <path class=\"displacy-arc\" id=\"arrow-8cd0178c854242d3af45902709c653e6-0-27\" stroke-width=\"2px\" d=\"M2590,407.0 C2590,362.0 2620.0,362.0 2620.0,407.0\" fill=\"none\" stroke=\"currentColor\"/>\n",
       "    <text dy=\"1.25em\" style=\"font-size: 0.8em; letter-spacing: 1px\">\n",
       "        <textPath xlink:href=\"#arrow-8cd0178c854242d3af45902709c653e6-0-27\" class=\"displacy-label\" startOffset=\"50%\" side=\"left\" fill=\"currentColor\" text-anchor=\"middle\">advmod</textPath>\n",
       "    </text>\n",
       "    <path class=\"displacy-arrowhead\" d=\"M2620.0,409.0 L2628.0,397.0 2612.0,397.0\" fill=\"currentColor\"/>\n",
       "</g>\n",
       "\n",
       "<g class=\"displacy-arrow\">\n",
       "    <path class=\"displacy-arc\" id=\"arrow-8cd0178c854242d3af45902709c653e6-0-28\" stroke-width=\"2px\" d=\"M2770,407.0 C2770,362.0 2800.0,362.0 2800.0,407.0\" fill=\"none\" stroke=\"currentColor\"/>\n",
       "    <text dy=\"1.25em\" style=\"font-size: 0.8em; letter-spacing: 1px\">\n",
       "        <textPath xlink:href=\"#arrow-8cd0178c854242d3af45902709c653e6-0-28\" class=\"displacy-label\" startOffset=\"50%\" side=\"left\" fill=\"currentColor\" text-anchor=\"middle\">amod</textPath>\n",
       "    </text>\n",
       "    <path class=\"displacy-arrowhead\" d=\"M2770,409.0 L2762,397.0 2778,397.0\" fill=\"currentColor\"/>\n",
       "</g>\n",
       "\n",
       "<g class=\"displacy-arrow\">\n",
       "    <path class=\"displacy-arc\" id=\"arrow-8cd0178c854242d3af45902709c653e6-0-29\" stroke-width=\"2px\" d=\"M2860,407.0 C2860,362.0 2890.0,362.0 2890.0,407.0\" fill=\"none\" stroke=\"currentColor\"/>\n",
       "    <text dy=\"1.25em\" style=\"font-size: 0.8em; letter-spacing: 1px\">\n",
       "        <textPath xlink:href=\"#arrow-8cd0178c854242d3af45902709c653e6-0-29\" class=\"displacy-label\" startOffset=\"50%\" side=\"left\" fill=\"currentColor\" text-anchor=\"middle\">nsubj</textPath>\n",
       "    </text>\n",
       "    <path class=\"displacy-arrowhead\" d=\"M2860,409.0 L2852,397.0 2868,397.0\" fill=\"currentColor\"/>\n",
       "</g>\n",
       "\n",
       "<g class=\"displacy-arrow\">\n",
       "    <path class=\"displacy-arc\" id=\"arrow-8cd0178c854242d3af45902709c653e6-0-30\" stroke-width=\"2px\" d=\"M3040,407.0 C3040,362.0 3070.0,362.0 3070.0,407.0\" fill=\"none\" stroke=\"currentColor\"/>\n",
       "    <text dy=\"1.25em\" style=\"font-size: 0.8em; letter-spacing: 1px\">\n",
       "        <textPath xlink:href=\"#arrow-8cd0178c854242d3af45902709c653e6-0-30\" class=\"displacy-label\" startOffset=\"50%\" side=\"left\" fill=\"currentColor\" text-anchor=\"middle\">compound</textPath>\n",
       "    </text>\n",
       "    <path class=\"displacy-arrowhead\" d=\"M3040,409.0 L3032,397.0 3048,397.0\" fill=\"currentColor\"/>\n",
       "</g>\n",
       "\n",
       "<g class=\"displacy-arrow\">\n",
       "    <path class=\"displacy-arc\" id=\"arrow-8cd0178c854242d3af45902709c653e6-0-31\" stroke-width=\"2px\" d=\"M2950,407.0 C2950,317.0 3075.0,317.0 3075.0,407.0\" fill=\"none\" stroke=\"currentColor\"/>\n",
       "    <text dy=\"1.25em\" style=\"font-size: 0.8em; letter-spacing: 1px\">\n",
       "        <textPath xlink:href=\"#arrow-8cd0178c854242d3af45902709c653e6-0-31\" class=\"displacy-label\" startOffset=\"50%\" side=\"left\" fill=\"currentColor\" text-anchor=\"middle\">dobj</textPath>\n",
       "    </text>\n",
       "    <path class=\"displacy-arrowhead\" d=\"M3075.0,409.0 L3083.0,397.0 3067.0,397.0\" fill=\"currentColor\"/>\n",
       "</g>\n",
       "\n",
       "<g class=\"displacy-arrow\">\n",
       "    <path class=\"displacy-arc\" id=\"arrow-8cd0178c854242d3af45902709c653e6-0-32\" stroke-width=\"2px\" d=\"M3220,407.0 C3220,317.0 3345.0,317.0 3345.0,407.0\" fill=\"none\" stroke=\"currentColor\"/>\n",
       "    <text dy=\"1.25em\" style=\"font-size: 0.8em; letter-spacing: 1px\">\n",
       "        <textPath xlink:href=\"#arrow-8cd0178c854242d3af45902709c653e6-0-32\" class=\"displacy-label\" startOffset=\"50%\" side=\"left\" fill=\"currentColor\" text-anchor=\"middle\">poss</textPath>\n",
       "    </text>\n",
       "    <path class=\"displacy-arrowhead\" d=\"M3220,409.0 L3212,397.0 3228,397.0\" fill=\"currentColor\"/>\n",
       "</g>\n",
       "\n",
       "<g class=\"displacy-arrow\">\n",
       "    <path class=\"displacy-arc\" id=\"arrow-8cd0178c854242d3af45902709c653e6-0-33\" stroke-width=\"2px\" d=\"M3220,407.0 C3220,362.0 3250.0,362.0 3250.0,407.0\" fill=\"none\" stroke=\"currentColor\"/>\n",
       "    <text dy=\"1.25em\" style=\"font-size: 0.8em; letter-spacing: 1px\">\n",
       "        <textPath xlink:href=\"#arrow-8cd0178c854242d3af45902709c653e6-0-33\" class=\"displacy-label\" startOffset=\"50%\" side=\"left\" fill=\"currentColor\" text-anchor=\"middle\">case</textPath>\n",
       "    </text>\n",
       "    <path class=\"displacy-arrowhead\" d=\"M3250.0,409.0 L3258.0,397.0 3242.0,397.0\" fill=\"currentColor\"/>\n",
       "</g>\n",
       "\n",
       "<g class=\"displacy-arrow\">\n",
       "    <path class=\"displacy-arc\" id=\"arrow-8cd0178c854242d3af45902709c653e6-0-34\" stroke-width=\"2px\" d=\"M3130,407.0 C3130,272.0 3350.0,272.0 3350.0,407.0\" fill=\"none\" stroke=\"currentColor\"/>\n",
       "    <text dy=\"1.25em\" style=\"font-size: 0.8em; letter-spacing: 1px\">\n",
       "        <textPath xlink:href=\"#arrow-8cd0178c854242d3af45902709c653e6-0-34\" class=\"displacy-label\" startOffset=\"50%\" side=\"left\" fill=\"currentColor\" text-anchor=\"middle\">appos</textPath>\n",
       "    </text>\n",
       "    <path class=\"displacy-arrowhead\" d=\"M3350.0,409.0 L3358.0,397.0 3342.0,397.0\" fill=\"currentColor\"/>\n",
       "</g>\n",
       "\n",
       "<g class=\"displacy-arrow\">\n",
       "    <path class=\"displacy-arc\" id=\"arrow-8cd0178c854242d3af45902709c653e6-0-35\" stroke-width=\"2px\" d=\"M3130,407.0 C3130,227.0 3445.0,227.0 3445.0,407.0\" fill=\"none\" stroke=\"currentColor\"/>\n",
       "    <text dy=\"1.25em\" style=\"font-size: 0.8em; letter-spacing: 1px\">\n",
       "        <textPath xlink:href=\"#arrow-8cd0178c854242d3af45902709c653e6-0-35\" class=\"displacy-label\" startOffset=\"50%\" side=\"left\" fill=\"currentColor\" text-anchor=\"middle\">cc</textPath>\n",
       "    </text>\n",
       "    <path class=\"displacy-arrowhead\" d=\"M3445.0,409.0 L3453.0,397.0 3437.0,397.0\" fill=\"currentColor\"/>\n",
       "</g>\n",
       "\n",
       "<g class=\"displacy-arrow\">\n",
       "    <path class=\"displacy-arc\" id=\"arrow-8cd0178c854242d3af45902709c653e6-0-36\" stroke-width=\"2px\" d=\"M3130,407.0 C3130,182.0 3540.0,182.0 3540.0,407.0\" fill=\"none\" stroke=\"currentColor\"/>\n",
       "    <text dy=\"1.25em\" style=\"font-size: 0.8em; letter-spacing: 1px\">\n",
       "        <textPath xlink:href=\"#arrow-8cd0178c854242d3af45902709c653e6-0-36\" class=\"displacy-label\" startOffset=\"50%\" side=\"left\" fill=\"currentColor\" text-anchor=\"middle\">advmod</textPath>\n",
       "    </text>\n",
       "    <path class=\"displacy-arrowhead\" d=\"M3540.0,409.0 L3548.0,397.0 3532.0,397.0\" fill=\"currentColor\"/>\n",
       "</g>\n",
       "\n",
       "<g class=\"displacy-arrow\">\n",
       "    <path class=\"displacy-arc\" id=\"arrow-8cd0178c854242d3af45902709c653e6-0-37\" stroke-width=\"2px\" d=\"M3670,407.0 C3670,272.0 3890.0,272.0 3890.0,407.0\" fill=\"none\" stroke=\"currentColor\"/>\n",
       "    <text dy=\"1.25em\" style=\"font-size: 0.8em; letter-spacing: 1px\">\n",
       "        <textPath xlink:href=\"#arrow-8cd0178c854242d3af45902709c653e6-0-37\" class=\"displacy-label\" startOffset=\"50%\" side=\"left\" fill=\"currentColor\" text-anchor=\"middle\">det</textPath>\n",
       "    </text>\n",
       "    <path class=\"displacy-arrowhead\" d=\"M3670,409.0 L3662,397.0 3678,397.0\" fill=\"currentColor\"/>\n",
       "</g>\n",
       "\n",
       "<g class=\"displacy-arrow\">\n",
       "    <path class=\"displacy-arc\" id=\"arrow-8cd0178c854242d3af45902709c653e6-0-38\" stroke-width=\"2px\" d=\"M3670,407.0 C3670,362.0 3700.0,362.0 3700.0,407.0\" fill=\"none\" stroke=\"currentColor\"/>\n",
       "    <text dy=\"1.25em\" style=\"font-size: 0.8em; letter-spacing: 1px\">\n",
       "        <textPath xlink:href=\"#arrow-8cd0178c854242d3af45902709c653e6-0-38\" class=\"displacy-label\" startOffset=\"50%\" side=\"left\" fill=\"currentColor\" text-anchor=\"middle\">intj</textPath>\n",
       "    </text>\n",
       "    <path class=\"displacy-arrowhead\" d=\"M3700.0,409.0 L3708.0,397.0 3692.0,397.0\" fill=\"currentColor\"/>\n",
       "</g>\n",
       "\n",
       "<g class=\"displacy-arrow\">\n",
       "    <path class=\"displacy-arc\" id=\"arrow-8cd0178c854242d3af45902709c653e6-0-39\" stroke-width=\"2px\" d=\"M3850,407.0 C3850,362.0 3880.0,362.0 3880.0,407.0\" fill=\"none\" stroke=\"currentColor\"/>\n",
       "    <text dy=\"1.25em\" style=\"font-size: 0.8em; letter-spacing: 1px\">\n",
       "        <textPath xlink:href=\"#arrow-8cd0178c854242d3af45902709c653e6-0-39\" class=\"displacy-label\" startOffset=\"50%\" side=\"left\" fill=\"currentColor\" text-anchor=\"middle\">nummod</textPath>\n",
       "    </text>\n",
       "    <path class=\"displacy-arrowhead\" d=\"M3850,409.0 L3842,397.0 3858,397.0\" fill=\"currentColor\"/>\n",
       "</g>\n",
       "\n",
       "<g class=\"displacy-arrow\">\n",
       "    <path class=\"displacy-arc\" id=\"arrow-8cd0178c854242d3af45902709c653e6-0-40\" stroke-width=\"2px\" d=\"M3130,407.0 C3130,92.0 3910.0,92.0 3910.0,407.0\" fill=\"none\" stroke=\"currentColor\"/>\n",
       "    <text dy=\"1.25em\" style=\"font-size: 0.8em; letter-spacing: 1px\">\n",
       "        <textPath xlink:href=\"#arrow-8cd0178c854242d3af45902709c653e6-0-40\" class=\"displacy-label\" startOffset=\"50%\" side=\"left\" fill=\"currentColor\" text-anchor=\"middle\">conj</textPath>\n",
       "    </text>\n",
       "    <path class=\"displacy-arrowhead\" d=\"M3910.0,409.0 L3918.0,397.0 3902.0,397.0\" fill=\"currentColor\"/>\n",
       "</g>\n",
       "\n",
       "<g class=\"displacy-arrow\">\n",
       "    <path class=\"displacy-arc\" id=\"arrow-8cd0178c854242d3af45902709c653e6-0-41\" stroke-width=\"2px\" d=\"M3940,407.0 C3940,362.0 3970.0,362.0 3970.0,407.0\" fill=\"none\" stroke=\"currentColor\"/>\n",
       "    <text dy=\"1.25em\" style=\"font-size: 0.8em; letter-spacing: 1px\">\n",
       "        <textPath xlink:href=\"#arrow-8cd0178c854242d3af45902709c653e6-0-41\" class=\"displacy-label\" startOffset=\"50%\" side=\"left\" fill=\"currentColor\" text-anchor=\"middle\">prep</textPath>\n",
       "    </text>\n",
       "    <path class=\"displacy-arrowhead\" d=\"M3970.0,409.0 L3978.0,397.0 3962.0,397.0\" fill=\"currentColor\"/>\n",
       "</g>\n",
       "\n",
       "<g class=\"displacy-arrow\">\n",
       "    <path class=\"displacy-arc\" id=\"arrow-8cd0178c854242d3af45902709c653e6-0-42\" stroke-width=\"2px\" d=\"M4120,407.0 C4120,317.0 4245.0,317.0 4245.0,407.0\" fill=\"none\" stroke=\"currentColor\"/>\n",
       "    <text dy=\"1.25em\" style=\"font-size: 0.8em; letter-spacing: 1px\">\n",
       "        <textPath xlink:href=\"#arrow-8cd0178c854242d3af45902709c653e6-0-42\" class=\"displacy-label\" startOffset=\"50%\" side=\"left\" fill=\"currentColor\" text-anchor=\"middle\">poss</textPath>\n",
       "    </text>\n",
       "    <path class=\"displacy-arrowhead\" d=\"M4120,409.0 L4112,397.0 4128,397.0\" fill=\"currentColor\"/>\n",
       "</g>\n",
       "\n",
       "<g class=\"displacy-arrow\">\n",
       "    <path class=\"displacy-arc\" id=\"arrow-8cd0178c854242d3af45902709c653e6-0-43\" stroke-width=\"2px\" d=\"M4120,407.0 C4120,362.0 4150.0,362.0 4150.0,407.0\" fill=\"none\" stroke=\"currentColor\"/>\n",
       "    <text dy=\"1.25em\" style=\"font-size: 0.8em; letter-spacing: 1px\">\n",
       "        <textPath xlink:href=\"#arrow-8cd0178c854242d3af45902709c653e6-0-43\" class=\"displacy-label\" startOffset=\"50%\" side=\"left\" fill=\"currentColor\" text-anchor=\"middle\">case</textPath>\n",
       "    </text>\n",
       "    <path class=\"displacy-arrowhead\" d=\"M4150.0,409.0 L4158.0,397.0 4142.0,397.0\" fill=\"currentColor\"/>\n",
       "</g>\n",
       "\n",
       "<g class=\"displacy-arrow\">\n",
       "    <path class=\"displacy-arc\" id=\"arrow-8cd0178c854242d3af45902709c653e6-0-44\" stroke-width=\"2px\" d=\"M4030,407.0 C4030,272.0 4250.0,272.0 4250.0,407.0\" fill=\"none\" stroke=\"currentColor\"/>\n",
       "    <text dy=\"1.25em\" style=\"font-size: 0.8em; letter-spacing: 1px\">\n",
       "        <textPath xlink:href=\"#arrow-8cd0178c854242d3af45902709c653e6-0-44\" class=\"displacy-label\" startOffset=\"50%\" side=\"left\" fill=\"currentColor\" text-anchor=\"middle\">pobj</textPath>\n",
       "    </text>\n",
       "    <path class=\"displacy-arrowhead\" d=\"M4250.0,409.0 L4258.0,397.0 4242.0,397.0\" fill=\"currentColor\"/>\n",
       "</g>\n",
       "\n",
       "<g class=\"displacy-arrow\">\n",
       "    <path class=\"displacy-arc\" id=\"arrow-8cd0178c854242d3af45902709c653e6-0-45\" stroke-width=\"2px\" d=\"M4480,407.0 C4480,362.0 4510.0,362.0 4510.0,407.0\" fill=\"none\" stroke=\"currentColor\"/>\n",
       "    <text dy=\"1.25em\" style=\"font-size: 0.8em; letter-spacing: 1px\">\n",
       "        <textPath xlink:href=\"#arrow-8cd0178c854242d3af45902709c653e6-0-45\" class=\"displacy-label\" startOffset=\"50%\" side=\"left\" fill=\"currentColor\" text-anchor=\"middle\">poss</textPath>\n",
       "    </text>\n",
       "    <path class=\"displacy-arrowhead\" d=\"M4480,409.0 L4472,397.0 4488,397.0\" fill=\"currentColor\"/>\n",
       "</g>\n",
       "\n",
       "<g class=\"displacy-arrow\">\n",
       "    <path class=\"displacy-arc\" id=\"arrow-8cd0178c854242d3af45902709c653e6-0-46\" stroke-width=\"2px\" d=\"M4390,407.0 C4390,317.0 4515.0,317.0 4515.0,407.0\" fill=\"none\" stroke=\"currentColor\"/>\n",
       "    <text dy=\"1.25em\" style=\"font-size: 0.8em; letter-spacing: 1px\">\n",
       "        <textPath xlink:href=\"#arrow-8cd0178c854242d3af45902709c653e6-0-46\" class=\"displacy-label\" startOffset=\"50%\" side=\"left\" fill=\"currentColor\" text-anchor=\"middle\">dobj</textPath>\n",
       "    </text>\n",
       "    <path class=\"displacy-arrowhead\" d=\"M4515.0,409.0 L4523.0,397.0 4507.0,397.0\" fill=\"currentColor\"/>\n",
       "</g>\n",
       "\n",
       "<g class=\"displacy-arrow\">\n",
       "    <path class=\"displacy-arc\" id=\"arrow-8cd0178c854242d3af45902709c653e6-0-47\" stroke-width=\"2px\" d=\"M4390,407.0 C4390,272.0 4610.0,272.0 4610.0,407.0\" fill=\"none\" stroke=\"currentColor\"/>\n",
       "    <text dy=\"1.25em\" style=\"font-size: 0.8em; letter-spacing: 1px\">\n",
       "        <textPath xlink:href=\"#arrow-8cd0178c854242d3af45902709c653e6-0-47\" class=\"displacy-label\" startOffset=\"50%\" side=\"left\" fill=\"currentColor\" text-anchor=\"middle\">prep</textPath>\n",
       "    </text>\n",
       "    <path class=\"displacy-arrowhead\" d=\"M4610.0,409.0 L4618.0,397.0 4602.0,397.0\" fill=\"currentColor\"/>\n",
       "</g>\n",
       "\n",
       "<g class=\"displacy-arrow\">\n",
       "    <path class=\"displacy-arc\" id=\"arrow-8cd0178c854242d3af45902709c653e6-0-48\" stroke-width=\"2px\" d=\"M4750,407.0 C4750,317.0 4875.0,317.0 4875.0,407.0\" fill=\"none\" stroke=\"currentColor\"/>\n",
       "    <text dy=\"1.25em\" style=\"font-size: 0.8em; letter-spacing: 1px\">\n",
       "        <textPath xlink:href=\"#arrow-8cd0178c854242d3af45902709c653e6-0-48\" class=\"displacy-label\" startOffset=\"50%\" side=\"left\" fill=\"currentColor\" text-anchor=\"middle\">poss</textPath>\n",
       "    </text>\n",
       "    <path class=\"displacy-arrowhead\" d=\"M4750,409.0 L4742,397.0 4758,397.0\" fill=\"currentColor\"/>\n",
       "</g>\n",
       "\n",
       "<g class=\"displacy-arrow\">\n",
       "    <path class=\"displacy-arc\" id=\"arrow-8cd0178c854242d3af45902709c653e6-0-49\" stroke-width=\"2px\" d=\"M4750,407.0 C4750,362.0 4780.0,362.0 4780.0,407.0\" fill=\"none\" stroke=\"currentColor\"/>\n",
       "    <text dy=\"1.25em\" style=\"font-size: 0.8em; letter-spacing: 1px\">\n",
       "        <textPath xlink:href=\"#arrow-8cd0178c854242d3af45902709c653e6-0-49\" class=\"displacy-label\" startOffset=\"50%\" side=\"left\" fill=\"currentColor\" text-anchor=\"middle\">case</textPath>\n",
       "    </text>\n",
       "    <path class=\"displacy-arrowhead\" d=\"M4780.0,409.0 L4788.0,397.0 4772.0,397.0\" fill=\"currentColor\"/>\n",
       "</g>\n",
       "\n",
       "<g class=\"displacy-arrow\">\n",
       "    <path class=\"displacy-arc\" id=\"arrow-8cd0178c854242d3af45902709c653e6-0-50\" stroke-width=\"2px\" d=\"M4660,407.0 C4660,272.0 4880.0,272.0 4880.0,407.0\" fill=\"none\" stroke=\"currentColor\"/>\n",
       "    <text dy=\"1.25em\" style=\"font-size: 0.8em; letter-spacing: 1px\">\n",
       "        <textPath xlink:href=\"#arrow-8cd0178c854242d3af45902709c653e6-0-50\" class=\"displacy-label\" startOffset=\"50%\" side=\"left\" fill=\"currentColor\" text-anchor=\"middle\">pobj</textPath>\n",
       "    </text>\n",
       "    <path class=\"displacy-arrowhead\" d=\"M4880.0,409.0 L4888.0,397.0 4872.0,397.0\" fill=\"currentColor\"/>\n",
       "</g>\n",
       "\n",
       "<g class=\"displacy-arrow\">\n",
       "    <path class=\"displacy-arc\" id=\"arrow-8cd0178c854242d3af45902709c653e6-0-51\" stroke-width=\"2px\" d=\"M5020,407.0 C5020,227.0 5335.0,227.0 5335.0,407.0\" fill=\"none\" stroke=\"currentColor\"/>\n",
       "    <text dy=\"1.25em\" style=\"font-size: 0.8em; letter-spacing: 1px\">\n",
       "        <textPath xlink:href=\"#arrow-8cd0178c854242d3af45902709c653e6-0-51\" class=\"displacy-label\" startOffset=\"50%\" side=\"left\" fill=\"currentColor\" text-anchor=\"middle\">mark</textPath>\n",
       "    </text>\n",
       "    <path class=\"displacy-arrowhead\" d=\"M5020,409.0 L5012,397.0 5028,397.0\" fill=\"currentColor\"/>\n",
       "</g>\n",
       "\n",
       "<g class=\"displacy-arrow\">\n",
       "    <path class=\"displacy-arc\" id=\"arrow-8cd0178c854242d3af45902709c653e6-0-52\" stroke-width=\"2px\" d=\"M5110,407.0 C5110,272.0 5330.0,272.0 5330.0,407.0\" fill=\"none\" stroke=\"currentColor\"/>\n",
       "    <text dy=\"1.25em\" style=\"font-size: 0.8em; letter-spacing: 1px\">\n",
       "        <textPath xlink:href=\"#arrow-8cd0178c854242d3af45902709c653e6-0-52\" class=\"displacy-label\" startOffset=\"50%\" side=\"left\" fill=\"currentColor\" text-anchor=\"middle\">nsubj</textPath>\n",
       "    </text>\n",
       "    <path class=\"displacy-arrowhead\" d=\"M5110,409.0 L5102,397.0 5118,397.0\" fill=\"currentColor\"/>\n",
       "</g>\n",
       "\n",
       "<g class=\"displacy-arrow\">\n",
       "    <path class=\"displacy-arc\" id=\"arrow-8cd0178c854242d3af45902709c653e6-0-53\" stroke-width=\"2px\" d=\"M5200,407.0 C5200,317.0 5325.0,317.0 5325.0,407.0\" fill=\"none\" stroke=\"currentColor\"/>\n",
       "    <text dy=\"1.25em\" style=\"font-size: 0.8em; letter-spacing: 1px\">\n",
       "        <textPath xlink:href=\"#arrow-8cd0178c854242d3af45902709c653e6-0-53\" class=\"displacy-label\" startOffset=\"50%\" side=\"left\" fill=\"currentColor\" text-anchor=\"middle\">aux</textPath>\n",
       "    </text>\n",
       "    <path class=\"displacy-arrowhead\" d=\"M5200,409.0 L5192,397.0 5208,397.0\" fill=\"currentColor\"/>\n",
       "</g>\n",
       "\n",
       "<g class=\"displacy-arrow\">\n",
       "    <path class=\"displacy-arc\" id=\"arrow-8cd0178c854242d3af45902709c653e6-0-54\" stroke-width=\"2px\" d=\"M5290,407.0 C5290,362.0 5320.0,362.0 5320.0,407.0\" fill=\"none\" stroke=\"currentColor\"/>\n",
       "    <text dy=\"1.25em\" style=\"font-size: 0.8em; letter-spacing: 1px\">\n",
       "        <textPath xlink:href=\"#arrow-8cd0178c854242d3af45902709c653e6-0-54\" class=\"displacy-label\" startOffset=\"50%\" side=\"left\" fill=\"currentColor\" text-anchor=\"middle\">neg</textPath>\n",
       "    </text>\n",
       "    <path class=\"displacy-arrowhead\" d=\"M5290,409.0 L5282,397.0 5298,397.0\" fill=\"currentColor\"/>\n",
       "</g>\n",
       "\n",
       "<g class=\"displacy-arrow\">\n",
       "    <path class=\"displacy-arc\" id=\"arrow-8cd0178c854242d3af45902709c653e6-0-55\" stroke-width=\"2px\" d=\"M4390,407.0 C4390,47.0 5355.0,47.0 5355.0,407.0\" fill=\"none\" stroke=\"currentColor\"/>\n",
       "    <text dy=\"1.25em\" style=\"font-size: 0.8em; letter-spacing: 1px\">\n",
       "        <textPath xlink:href=\"#arrow-8cd0178c854242d3af45902709c653e6-0-55\" class=\"displacy-label\" startOffset=\"50%\" side=\"left\" fill=\"currentColor\" text-anchor=\"middle\">advcl</textPath>\n",
       "    </text>\n",
       "    <path class=\"displacy-arrowhead\" d=\"M5355.0,409.0 L5363.0,397.0 5347.0,397.0\" fill=\"currentColor\"/>\n",
       "</g>\n",
       "\n",
       "<g class=\"displacy-arrow\">\n",
       "    <path class=\"displacy-arc\" id=\"arrow-8cd0178c854242d3af45902709c653e6-0-56\" stroke-width=\"2px\" d=\"M5380,407.0 C5380,362.0 5410.0,362.0 5410.0,407.0\" fill=\"none\" stroke=\"currentColor\"/>\n",
       "    <text dy=\"1.25em\" style=\"font-size: 0.8em; letter-spacing: 1px\">\n",
       "        <textPath xlink:href=\"#arrow-8cd0178c854242d3af45902709c653e6-0-56\" class=\"displacy-label\" startOffset=\"50%\" side=\"left\" fill=\"currentColor\" text-anchor=\"middle\">dobj</textPath>\n",
       "    </text>\n",
       "    <path class=\"displacy-arrowhead\" d=\"M5410.0,409.0 L5418.0,397.0 5402.0,397.0\" fill=\"currentColor\"/>\n",
       "</g>\n",
       "\n",
       "<g class=\"displacy-arrow\">\n",
       "    <path class=\"displacy-arc\" id=\"arrow-8cd0178c854242d3af45902709c653e6-0-57\" stroke-width=\"2px\" d=\"M5380,407.0 C5380,317.0 5505.0,317.0 5505.0,407.0\" fill=\"none\" stroke=\"currentColor\"/>\n",
       "    <text dy=\"1.25em\" style=\"font-size: 0.8em; letter-spacing: 1px\">\n",
       "        <textPath xlink:href=\"#arrow-8cd0178c854242d3af45902709c653e6-0-57\" class=\"displacy-label\" startOffset=\"50%\" side=\"left\" fill=\"currentColor\" text-anchor=\"middle\">prep</textPath>\n",
       "    </text>\n",
       "    <path class=\"displacy-arrowhead\" d=\"M5505.0,409.0 L5513.0,397.0 5497.0,397.0\" fill=\"currentColor\"/>\n",
       "</g>\n",
       "\n",
       "<g class=\"displacy-arrow\">\n",
       "    <path class=\"displacy-arc\" id=\"arrow-8cd0178c854242d3af45902709c653e6-0-58\" stroke-width=\"2px\" d=\"M5560,407.0 C5560,362.0 5590.0,362.0 5590.0,407.0\" fill=\"none\" stroke=\"currentColor\"/>\n",
       "    <text dy=\"1.25em\" style=\"font-size: 0.8em; letter-spacing: 1px\">\n",
       "        <textPath xlink:href=\"#arrow-8cd0178c854242d3af45902709c653e6-0-58\" class=\"displacy-label\" startOffset=\"50%\" side=\"left\" fill=\"currentColor\" text-anchor=\"middle\">pobj</textPath>\n",
       "    </text>\n",
       "    <path class=\"displacy-arrowhead\" d=\"M5590.0,409.0 L5598.0,397.0 5582.0,397.0\" fill=\"currentColor\"/>\n",
       "</g>\n",
       "\n",
       "<g class=\"displacy-arrow\">\n",
       "    <path class=\"displacy-arc\" id=\"arrow-8cd0178c854242d3af45902709c653e6-0-59\" stroke-width=\"2px\" d=\"M5380,407.0 C5380,227.0 5695.0,227.0 5695.0,407.0\" fill=\"none\" stroke=\"currentColor\"/>\n",
       "    <text dy=\"1.25em\" style=\"font-size: 0.8em; letter-spacing: 1px\">\n",
       "        <textPath xlink:href=\"#arrow-8cd0178c854242d3af45902709c653e6-0-59\" class=\"displacy-label\" startOffset=\"50%\" side=\"left\" fill=\"currentColor\" text-anchor=\"middle\">cc</textPath>\n",
       "    </text>\n",
       "    <path class=\"displacy-arrowhead\" d=\"M5695.0,409.0 L5703.0,397.0 5687.0,397.0\" fill=\"currentColor\"/>\n",
       "</g>\n",
       "\n",
       "<g class=\"displacy-arrow\">\n",
       "    <path class=\"displacy-arc\" id=\"arrow-8cd0178c854242d3af45902709c653e6-0-60\" stroke-width=\"2px\" d=\"M5830,407.0 C5830,362.0 5860.0,362.0 5860.0,407.0\" fill=\"none\" stroke=\"currentColor\"/>\n",
       "    <text dy=\"1.25em\" style=\"font-size: 0.8em; letter-spacing: 1px\">\n",
       "        <textPath xlink:href=\"#arrow-8cd0178c854242d3af45902709c653e6-0-60\" class=\"displacy-label\" startOffset=\"50%\" side=\"left\" fill=\"currentColor\" text-anchor=\"middle\">advmod</textPath>\n",
       "    </text>\n",
       "    <path class=\"displacy-arrowhead\" d=\"M5830,409.0 L5822,397.0 5838,397.0\" fill=\"currentColor\"/>\n",
       "</g>\n",
       "\n",
       "<g class=\"displacy-arrow\">\n",
       "    <path class=\"displacy-arc\" id=\"arrow-8cd0178c854242d3af45902709c653e6-0-61\" stroke-width=\"2px\" d=\"M5380,407.0 C5380,137.0 5885.0,137.0 5885.0,407.0\" fill=\"none\" stroke=\"currentColor\"/>\n",
       "    <text dy=\"1.25em\" style=\"font-size: 0.8em; letter-spacing: 1px\">\n",
       "        <textPath xlink:href=\"#arrow-8cd0178c854242d3af45902709c653e6-0-61\" class=\"displacy-label\" startOffset=\"50%\" side=\"left\" fill=\"currentColor\" text-anchor=\"middle\">conj</textPath>\n",
       "    </text>\n",
       "    <path class=\"displacy-arrowhead\" d=\"M5885.0,409.0 L5893.0,397.0 5877.0,397.0\" fill=\"currentColor\"/>\n",
       "</g>\n",
       "\n",
       "<g class=\"displacy-arrow\">\n",
       "    <path class=\"displacy-arc\" id=\"arrow-8cd0178c854242d3af45902709c653e6-0-62\" stroke-width=\"2px\" d=\"M6010,407.0 C6010,362.0 6040.0,362.0 6040.0,407.0\" fill=\"none\" stroke=\"currentColor\"/>\n",
       "    <text dy=\"1.25em\" style=\"font-size: 0.8em; letter-spacing: 1px\">\n",
       "        <textPath xlink:href=\"#arrow-8cd0178c854242d3af45902709c653e6-0-62\" class=\"displacy-label\" startOffset=\"50%\" side=\"left\" fill=\"currentColor\" text-anchor=\"middle\">nsubj</textPath>\n",
       "    </text>\n",
       "    <path class=\"displacy-arrowhead\" d=\"M6010,409.0 L6002,397.0 6018,397.0\" fill=\"currentColor\"/>\n",
       "</g>\n",
       "\n",
       "<g class=\"displacy-arrow\">\n",
       "    <path class=\"displacy-arc\" id=\"arrow-8cd0178c854242d3af45902709c653e6-0-63\" stroke-width=\"2px\" d=\"M5920,407.0 C5920,317.0 6045.0,317.0 6045.0,407.0\" fill=\"none\" stroke=\"currentColor\"/>\n",
       "    <text dy=\"1.25em\" style=\"font-size: 0.8em; letter-spacing: 1px\">\n",
       "        <textPath xlink:href=\"#arrow-8cd0178c854242d3af45902709c653e6-0-63\" class=\"displacy-label\" startOffset=\"50%\" side=\"left\" fill=\"currentColor\" text-anchor=\"middle\">ccomp</textPath>\n",
       "    </text>\n",
       "    <path class=\"displacy-arrowhead\" d=\"M6045.0,409.0 L6053.0,397.0 6037.0,397.0\" fill=\"currentColor\"/>\n",
       "</g>\n",
       "\n",
       "<g class=\"displacy-arrow\">\n",
       "    <path class=\"displacy-arc\" id=\"arrow-8cd0178c854242d3af45902709c653e6-0-64\" stroke-width=\"2px\" d=\"M6100,407.0 C6100,362.0 6130.0,362.0 6130.0,407.0\" fill=\"none\" stroke=\"currentColor\"/>\n",
       "    <text dy=\"1.25em\" style=\"font-size: 0.8em; letter-spacing: 1px\">\n",
       "        <textPath xlink:href=\"#arrow-8cd0178c854242d3af45902709c653e6-0-64\" class=\"displacy-label\" startOffset=\"50%\" side=\"left\" fill=\"currentColor\" text-anchor=\"middle\">acomp</textPath>\n",
       "    </text>\n",
       "    <path class=\"displacy-arrowhead\" d=\"M6130.0,409.0 L6138.0,397.0 6122.0,397.0\" fill=\"currentColor\"/>\n",
       "</g>\n",
       "\n",
       "<g class=\"displacy-arrow\">\n",
       "    <path class=\"displacy-arc\" id=\"arrow-8cd0178c854242d3af45902709c653e6-0-65\" stroke-width=\"2px\" d=\"M6190,407.0 C6190,362.0 6220.0,362.0 6220.0,407.0\" fill=\"none\" stroke=\"currentColor\"/>\n",
       "    <text dy=\"1.25em\" style=\"font-size: 0.8em; letter-spacing: 1px\">\n",
       "        <textPath xlink:href=\"#arrow-8cd0178c854242d3af45902709c653e6-0-65\" class=\"displacy-label\" startOffset=\"50%\" side=\"left\" fill=\"currentColor\" text-anchor=\"middle\">pcomp</textPath>\n",
       "    </text>\n",
       "    <path class=\"displacy-arrowhead\" d=\"M6220.0,409.0 L6228.0,397.0 6212.0,397.0\" fill=\"currentColor\"/>\n",
       "</g>\n",
       "\n",
       "<g class=\"displacy-arrow\">\n",
       "    <path class=\"displacy-arc\" id=\"arrow-8cd0178c854242d3af45902709c653e6-0-66\" stroke-width=\"2px\" d=\"M6370,407.0 C6370,362.0 6400.0,362.0 6400.0,407.0\" fill=\"none\" stroke=\"currentColor\"/>\n",
       "    <text dy=\"1.25em\" style=\"font-size: 0.8em; letter-spacing: 1px\">\n",
       "        <textPath xlink:href=\"#arrow-8cd0178c854242d3af45902709c653e6-0-66\" class=\"displacy-label\" startOffset=\"50%\" side=\"left\" fill=\"currentColor\" text-anchor=\"middle\">nsubj</textPath>\n",
       "    </text>\n",
       "    <path class=\"displacy-arrowhead\" d=\"M6370,409.0 L6362,397.0 6378,397.0\" fill=\"currentColor\"/>\n",
       "</g>\n",
       "\n",
       "<g class=\"displacy-arrow\">\n",
       "    <path class=\"displacy-arc\" id=\"arrow-8cd0178c854242d3af45902709c653e6-0-67\" stroke-width=\"2px\" d=\"M6280,407.0 C6280,317.0 6405.0,317.0 6405.0,407.0\" fill=\"none\" stroke=\"currentColor\"/>\n",
       "    <text dy=\"1.25em\" style=\"font-size: 0.8em; letter-spacing: 1px\">\n",
       "        <textPath xlink:href=\"#arrow-8cd0178c854242d3af45902709c653e6-0-67\" class=\"displacy-label\" startOffset=\"50%\" side=\"left\" fill=\"currentColor\" text-anchor=\"middle\">pcomp</textPath>\n",
       "    </text>\n",
       "    <path class=\"displacy-arrowhead\" d=\"M6405.0,409.0 L6413.0,397.0 6397.0,397.0\" fill=\"currentColor\"/>\n",
       "</g>\n",
       "\n",
       "<g class=\"displacy-arrow\">\n",
       "    <path class=\"displacy-arc\" id=\"arrow-8cd0178c854242d3af45902709c653e6-0-68\" stroke-width=\"2px\" d=\"M6460,407.0 C6460,362.0 6490.0,362.0 6490.0,407.0\" fill=\"none\" stroke=\"currentColor\"/>\n",
       "    <text dy=\"1.25em\" style=\"font-size: 0.8em; letter-spacing: 1px\">\n",
       "        <textPath xlink:href=\"#arrow-8cd0178c854242d3af45902709c653e6-0-68\" class=\"displacy-label\" startOffset=\"50%\" side=\"left\" fill=\"currentColor\" text-anchor=\"middle\">dobj</textPath>\n",
       "    </text>\n",
       "    <path class=\"displacy-arrowhead\" d=\"M6490.0,409.0 L6498.0,397.0 6482.0,397.0\" fill=\"currentColor\"/>\n",
       "</g>\n",
       "\n",
       "<g class=\"displacy-arrow\">\n",
       "    <path class=\"displacy-arc\" id=\"arrow-8cd0178c854242d3af45902709c653e6-0-69\" stroke-width=\"2px\" d=\"M6460,407.0 C6460,317.0 6585.0,317.0 6585.0,407.0\" fill=\"none\" stroke=\"currentColor\"/>\n",
       "    <text dy=\"1.25em\" style=\"font-size: 0.8em; letter-spacing: 1px\">\n",
       "        <textPath xlink:href=\"#arrow-8cd0178c854242d3af45902709c653e6-0-69\" class=\"displacy-label\" startOffset=\"50%\" side=\"left\" fill=\"currentColor\" text-anchor=\"middle\">prep</textPath>\n",
       "    </text>\n",
       "    <path class=\"displacy-arrowhead\" d=\"M6585.0,409.0 L6593.0,397.0 6577.0,397.0\" fill=\"currentColor\"/>\n",
       "</g>\n",
       "\n",
       "<g class=\"displacy-arrow\">\n",
       "    <path class=\"displacy-arc\" id=\"arrow-8cd0178c854242d3af45902709c653e6-0-70\" stroke-width=\"2px\" d=\"M6730,407.0 C6730,362.0 6760.0,362.0 6760.0,407.0\" fill=\"none\" stroke=\"currentColor\"/>\n",
       "    <text dy=\"1.25em\" style=\"font-size: 0.8em; letter-spacing: 1px\">\n",
       "        <textPath xlink:href=\"#arrow-8cd0178c854242d3af45902709c653e6-0-70\" class=\"displacy-label\" startOffset=\"50%\" side=\"left\" fill=\"currentColor\" text-anchor=\"middle\">poss</textPath>\n",
       "    </text>\n",
       "    <path class=\"displacy-arrowhead\" d=\"M6730,409.0 L6722,397.0 6738,397.0\" fill=\"currentColor\"/>\n",
       "</g>\n",
       "\n",
       "<g class=\"displacy-arrow\">\n",
       "    <path class=\"displacy-arc\" id=\"arrow-8cd0178c854242d3af45902709c653e6-0-71\" stroke-width=\"2px\" d=\"M6640,407.0 C6640,317.0 6765.0,317.0 6765.0,407.0\" fill=\"none\" stroke=\"currentColor\"/>\n",
       "    <text dy=\"1.25em\" style=\"font-size: 0.8em; letter-spacing: 1px\">\n",
       "        <textPath xlink:href=\"#arrow-8cd0178c854242d3af45902709c653e6-0-71\" class=\"displacy-label\" startOffset=\"50%\" side=\"left\" fill=\"currentColor\" text-anchor=\"middle\">pobj</textPath>\n",
       "    </text>\n",
       "    <path class=\"displacy-arrowhead\" d=\"M6765.0,409.0 L6773.0,397.0 6757.0,397.0\" fill=\"currentColor\"/>\n",
       "</g>\n",
       "\n",
       "<g class=\"displacy-arrow\">\n",
       "    <path class=\"displacy-arc\" id=\"arrow-8cd0178c854242d3af45902709c653e6-0-72\" stroke-width=\"2px\" d=\"M6820,407.0 C6820,362.0 6850.0,362.0 6850.0,407.0\" fill=\"none\" stroke=\"currentColor\"/>\n",
       "    <text dy=\"1.25em\" style=\"font-size: 0.8em; letter-spacing: 1px\">\n",
       "        <textPath xlink:href=\"#arrow-8cd0178c854242d3af45902709c653e6-0-72\" class=\"displacy-label\" startOffset=\"50%\" side=\"left\" fill=\"currentColor\" text-anchor=\"middle\">appos</textPath>\n",
       "    </text>\n",
       "    <path class=\"displacy-arrowhead\" d=\"M6850.0,409.0 L6858.0,397.0 6842.0,397.0\" fill=\"currentColor\"/>\n",
       "</g>\n",
       "</svg>"
      ],
      "text/plain": [
       "<IPython.core.display.HTML object>"
      ]
     },
     "metadata": {},
     "output_type": "display_data"
    }
   ],
   "source": [
    "from spacy import displacy\n",
    "\n",
    "doc = nlp(our_text)\n",
    "displacy.render(doc, style='dep', jupyter=True, options={'distance': 90})"
   ]
  },
  {
   "cell_type": "markdown",
   "metadata": {},
   "source": [
    "<a id=\"4\"></a> <br>"
   ]
  },
  {
   "cell_type": "markdown",
   "metadata": {},
   "source": [
    "# 4. Gensim\n",
    "\n",
    "Gensim is a Python library for topic modeling, document indexing and similarity retrieval(검색, 회수) with large corpora(말뭉치들). Target audience is the natural language processing (NLP) and information retrieval (IR) community. [https://github.com/chirayukong/gensim](https://github.com/chirayukong/gensim)"
   ]
  },
  {
   "cell_type": "code",
   "execution_count": 79,
   "metadata": {},
   "outputs": [],
   "source": [
    "import gensim\n",
    "from gensim import corpora\n",
    "from pprint import pprint\n",
    "\n",
    "# How to create a dictionary from a list of sentences?\n",
    "documents = [\n",
    "    \" Zoe Telford  played the police officer girlfriend of Simon, Maggie.\",\n",
    "    \"Dumped by Simon in the final episode of series 1, after he slept with Jenny, and is not seen again.\",\n",
    "    \"Phoebe Thomas played Cheryl Cassidy, Paulines friend and also a year 11 pupil in Simons class.\",\n",
    "    \"Dumped her boyfriend following Simons advice after he wouldnt \",\n",
    "    \"have sex with her but later realised this was due to him catching crabs off her friend Pauline.\"\n",
    "]\n",
    "\n",
    "documents_2 = [\n",
    "    \"One source says the report will likely conclude that\", \n",
    "    \"the operation was carried out without clearance and\", \n",
    "    \"transparency and that those involved will be held\", \n",
    "    \"responsible. One of the sources acknowledged that the\", \n",
    "    \"report is still being prepared and cautioned that\", \n",
    "    \"things could change.\"\n",
    "]"
   ]
  },
  {
   "cell_type": "markdown",
   "metadata": {},
   "source": [
    "<a id=\"41\"></a> <br>"
   ]
  },
  {
   "cell_type": "markdown",
   "metadata": {},
   "source": [
    "## 4.1 Tokenize(split) the sentences into words"
   ]
  },
  {
   "cell_type": "code",
   "execution_count": 80,
   "metadata": {},
   "outputs": [
    {
     "name": "stdout",
     "output_type": "stream",
     "text": [
      "Dictionary(60 unique tokens: ['Maggie.', 'Simon,', 'Telford', 'Zoe', 'girlfriend']...)\n"
     ]
    }
   ],
   "source": [
    "texts = [[text for text in doc.split()] for doc in documents]\n",
    "\n",
    "# Create dictionary\n",
    "dictionary = corpora.Dictionary(texts)\n",
    "\n",
    "# Get information about the dictionary\n",
    "print(dictionary)"
   ]
  },
  {
   "cell_type": "markdown",
   "metadata": {},
   "source": [
    "<a id=\"42\"></a> <br>"
   ]
  },
  {
   "cell_type": "markdown",
   "metadata": {},
   "source": [
    "## 4.2 Show the word to id map"
   ]
  },
  {
   "cell_type": "code",
   "execution_count": 81,
   "metadata": {},
   "outputs": [
    {
     "name": "stdout",
     "output_type": "stream",
     "text": [
      "{'Maggie.': 0, 'Simon,': 1, 'Telford': 2, 'Zoe': 3, 'girlfriend': 4, 'of': 5, 'officer': 6, 'played': 7, 'police': 8, 'the': 9, '1,': 10, 'Dumped': 11, 'Jenny,': 12, 'Simon': 13, 'after': 14, 'again.': 15, 'and': 16, 'by': 17, 'episode': 18, 'final': 19, 'he': 20, 'in': 21, 'is': 22, 'not': 23, 'seen': 24, 'series': 25, 'slept': 26, 'with': 27, '11': 28, 'Cassidy,': 29, 'Cheryl': 30, 'Paulines': 31, 'Phoebe': 32, 'Simons': 33, 'Thomas': 34, 'a': 35, 'also': 36, 'class.': 37, 'friend': 38, 'pupil': 39, 'year': 40, 'advice': 41, 'boyfriend': 42, 'following': 43, 'her': 44, 'wouldnt': 45, 'Pauline.': 46, 'but': 47, 'catching': 48, 'crabs': 49, 'due': 50, 'have': 51, 'him': 52, 'later': 53, 'off': 54, 'realised': 55, 'sex': 56, 'this': 57, 'to': 58, 'was': 59}\n"
     ]
    }
   ],
   "source": [
    "print(dictionary.token2id)"
   ]
  },
  {
   "cell_type": "markdown",
   "metadata": {},
   "source": [
    "<a id=\"5\"></a> <br>"
   ]
  },
  {
   "cell_type": "markdown",
   "metadata": {},
   "source": [
    "# 5. Comparison of Python NLP libraries by Activewizards"
   ]
  },
  {
   "cell_type": "markdown",
   "metadata": {},
   "source": [
    "<img src=\"https://activewizards.com/content/blog/Comparison_of_Python_NLP_libraries/nlp-librares-python-prs-and-cons01.png\" />"
   ]
  }
 ],
 "metadata": {
  "kernelspec": {
   "display_name": "Python 3",
   "language": "python",
   "name": "python3"
  },
  "language_info": {
   "codemirror_mode": {
    "name": "ipython",
    "version": 3
   },
   "file_extension": ".py",
   "mimetype": "text/x-python",
   "name": "python",
   "nbconvert_exporter": "python",
   "pygments_lexer": "ipython3",
   "version": "3.6.9"
  }
 },
 "nbformat": 4,
 "nbformat_minor": 4
}
