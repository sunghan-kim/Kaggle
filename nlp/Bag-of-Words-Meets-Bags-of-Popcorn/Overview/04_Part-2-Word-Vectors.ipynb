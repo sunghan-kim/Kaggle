{
 "cells": [
  {
   "cell_type": "markdown",
   "metadata": {},
   "source": [
    "# Part 2. Word Vectors"
   ]
  },
  {
   "cell_type": "markdown",
   "metadata": {},
   "source": [
    "[https://www.kaggle.com/c/word2vec-nlp-tutorial/overview/part-2-word-vectors](https://www.kaggle.com/c/word2vec-nlp-tutorial/overview/part-2-word-vectors)"
   ]
  },
  {
   "cell_type": "markdown",
   "metadata": {},
   "source": [
    "<br>"
   ]
  },
  {
   "cell_type": "markdown",
   "metadata": {},
   "source": [
    "# Code\n",
    "\n",
    "The tutorial code for Part 2 lives [here](https://github.com/wendykan/DeepLearningMovies/blob/master/Word2Vec_AverageVectors.py)."
   ]
  },
  {
   "cell_type": "markdown",
   "metadata": {},
   "source": [
    "<br>"
   ]
  },
  {
   "cell_type": "markdown",
   "metadata": {},
   "source": [
    "# Introducing Distributed Word Vectors"
   ]
  },
  {
   "cell_type": "markdown",
   "metadata": {},
   "source": [
    "This part of the tutorial will focus on using distributed word vectors created by the Word2Vec algorithm. (For an overview of deep learning, as well as pointers to some additional tutorials, see the \"What is Deep Learning?\" page)."
   ]
  },
  {
   "cell_type": "markdown",
   "metadata": {},
   "source": [
    "Parts 2 and 3 assume more familiarity with Python than Part 1. We developed the following code on a dual-core Macbook Pro, however, we have not yet run the code successfully on Windows. If you are a Windows user and you get it working, please leave a note on how you did it in the forum! For more detail, see the \"Setting Up Your System\" page."
   ]
  },
  {
   "cell_type": "markdown",
   "metadata": {},
   "source": [
    "Word2vec, published by Google in 2013, is a neural network implementation(실행) that learns distributed representations for words. Other deep or recurrent neural network architectures had been proposed for learning word representations prior to this, but the major problem with these was the long time required to train the models. Word2vec learns quickly relative to other models."
   ]
  },
  {
   "cell_type": "markdown",
   "metadata": {},
   "source": [
    "Word2Vec does not need labels in order to create meaningful representations. This is useful, since most data in the real world is unlabeled. If the network is given enough training data (tens of billions of words), it produces word vectors with intriguing(아주 흥미로운) characteristics. Words with similar meanings appear in clusters, and clusters are spaced such that some word relationships, such as analogies(유사점), can be reproduced using vector math. The famous example is that, with highly trained word vectors, \"king - man + woman = queen.\""
   ]
  },
  {
   "cell_type": "markdown",
   "metadata": {},
   "source": [
    "Check out Google's code, writeup, and the accompanying papers. [This presentation](https://docs.google.com/file/d/0B7XkCwpI5KDYRWRnd1RzWXQ2TWc/edit) is also helpful. The original code is in C, but it has since been ported to other languages, including Python. We encourage you to play with the original C tool, but be warned that it is not user-friendly if you are a beginning programmer (we had to manually edit the header files to compile it)."
   ]
  },
  {
   "cell_type": "markdown",
   "metadata": {},
   "source": [
    "Recent work out of Stanford has also [applied deep learning to sentiment analysis](http://nlp.stanford.edu/sentiment/); their code is available in Java. However, their approach, which relies on sentence parsing, cannot be applied in a straightforward(복잡하지 않은) way to paragraphs(단락) of arbitrary(임의적인) length."
   ]
  },
  {
   "cell_type": "markdown",
   "metadata": {},
   "source": [
    "Distributed word vectors are powerful and can be used for many applications, particularly word prediction and translation. Here, we will try to apply them to sentiment analysis."
   ]
  },
  {
   "cell_type": "markdown",
   "metadata": {},
   "source": [
    "<br>"
   ]
  },
  {
   "cell_type": "markdown",
   "metadata": {},
   "source": [
    "# Using word2vec in Python"
   ]
  },
  {
   "cell_type": "markdown",
   "metadata": {},
   "source": [
    "In Python, we will use the excellent implementation of word2vec from the `gensim` package. If you don't already have gensim installed, you'll need to install it. There is an excellent tutorial that accompanies(동반하다) the Python Word2Vec implementation, [here](http://radimrehurek.com/2014/02/word2vec-tutorial/)."
   ]
  },
  {
   "cell_type": "markdown",
   "metadata": {},
   "source": [
    "Although Word2Vec does not require graphics processing units (GPUs) like many deep learning algorithms, it is compute intensive(짧은 시간에 많은 일을 하는). Both Google's version and the Python version rely on multi-threading (running multiple processes in parallel on your computer to save time). ln order to train your model in a reasonable amount of time, you will need to install `cython` ([instructions here](http://docs.cython.org/src/quickstart/install.html)). Word2Vec will run without cython installed, but it will take days to run instead of minutes."
   ]
  },
  {
   "cell_type": "markdown",
   "metadata": {},
   "source": [
    "<br>"
   ]
  },
  {
   "cell_type": "markdown",
   "metadata": {},
   "source": [
    "# Preparing to Train a Model"
   ]
  },
  {
   "cell_type": "markdown",
   "metadata": {},
   "source": [
    "Now down to the nitty-gritty! First, we read in the data with pandas, as we did in Part 1. Unlike Part 1, we now use **unlabeledTrain.tsv**, which contains 50,000 additional reviews with no labels. When we built the Bag of Words model in Part 1, extra unlabeled training reviews were not useful. However, since Word2Vec can learn from unlabeled data, these extra 50,000 reviews can now be used."
   ]
  },
  {
   "cell_type": "code",
   "execution_count": 1,
   "metadata": {},
   "outputs": [],
   "source": [
    "import pandas as pd\n",
    "\n",
    "# Read data from files\n",
    "train = pd.read_csv(\"../input/labeledTrainData.tsv\",\n",
    "                    header=0,\n",
    "                    delimiter=\"\\t\",\n",
    "                    quoting=3)\n",
    "test = pd.read_csv(\"../input/testData.tsv\",\n",
    "                   header=0,\n",
    "                   delimiter=\"\\t\",\n",
    "                   quoting=3)\n",
    "unlabeled_train = pd.read_csv(\"../input/unlabeledTrainData.tsv\",\n",
    "                              header=0,\n",
    "                              delimiter=\"\\t\",\n",
    "                              quoting=3)"
   ]
  },
  {
   "cell_type": "code",
   "execution_count": 2,
   "metadata": {},
   "outputs": [
    {
     "name": "stdout",
     "output_type": "stream",
     "text": [
      "Read 25000 labeled train reviews, 25000 labeled test reviews, and 50000 unlabeled reviews.\n",
      "\n"
     ]
    }
   ],
   "source": [
    "# Verify(확인하다) the number of reviews were read (100,000 in total)\n",
    "print(\"Read %d labeled train reviews, %d labeled test reviews,\\\n",
    " and %d unlabeled reviews.\\n\" % (train[\"review\"].size,\n",
    "                                      test[\"review\"].size,\n",
    "                                      unlabeled_train[\"review\"].size))"
   ]
  },
  {
   "cell_type": "markdown",
   "metadata": {},
   "source": [
    "The functions we write to clean the data are also similar to Part 1, although now there are a couple of differences. First, to train Word2Vec it is better not to remove stop words because the algorithm relies on the broader(넓은) context(맥락) of the sentence in order to produce high-quality word vectors. For this reason, we will make stop word removal optional in the functions below. It also might be better not to remove numbers, but we leave that as an exercise for the reader."
   ]
  },
  {
   "cell_type": "code",
   "execution_count": 3,
   "metadata": {},
   "outputs": [],
   "source": [
    "# Import various modules for string cleaning\n",
    "from bs4 import BeautifulSoup\n",
    "import re\n",
    "from nltk.corpus import stopwords\n",
    "\n",
    "def review_to_wordlist( review, remove_stopwords=False ):\n",
    "    # Function to convert a document to a sequence of words,\n",
    "    # optionally removing stop words.  Returns a list of words.\n",
    "    #\n",
    "    # 1. Remove HTML\n",
    "    review_text = BeautifulSoup(review).get_text()\n",
    "    #  \n",
    "    # 2. Remove non-letters\n",
    "    review_text = re.sub(\"[^a-zA-Z]\",\" \", review_text)\n",
    "    #\n",
    "    # 3. Convert words to lower case and split them\n",
    "    words = review_text.lower().split()\n",
    "    #\n",
    "    # 4. Optionally remove stop words (false by default)\n",
    "    if remove_stopwords:\n",
    "        stops = set(stopwords.words(\"english\"))\n",
    "        words = [w for w in words if not w in stops]\n",
    "    #\n",
    "    # 5. Return a list of words\n",
    "    return(words)"
   ]
  },
  {
   "cell_type": "markdown",
   "metadata": {},
   "source": [
    "Next, we want a specific input format. Word2Vec expects single sentences, each one as a list of words. In other words, the input format is a list of lists."
   ]
  },
  {
   "cell_type": "markdown",
   "metadata": {},
   "source": [
    "It is not at all straightforward how to split a paragraph into sentences. There are all kinds of gotchas in natural language. English sentences can end with \"?\", \"!\", \"\"\", or \".\", among other things, and spacing and capitalization are not reliable guides either. For this reason, we'll use NLTK's **punkt** tokenizer for sentence splitting. In order to use this, you will need to install NLTK and use nltk.download() to download the relevant training file for punkt."
   ]
  },
  {
   "cell_type": "code",
   "execution_count": 4,
   "metadata": {},
   "outputs": [
    {
     "name": "stdout",
     "output_type": "stream",
     "text": [
      "showing info https://raw.githubusercontent.com/nltk/nltk_data/gh-pages/index.xml\n"
     ]
    },
    {
     "data": {
      "text/plain": [
       "True"
      ]
     },
     "execution_count": 4,
     "metadata": {},
     "output_type": "execute_result"
    }
   ],
   "source": [
    "# Download the punkt tokenizer for sentence splitting\n",
    "import nltk.data\n",
    "nltk.download()"
   ]
  },
  {
   "cell_type": "code",
   "execution_count": 5,
   "metadata": {},
   "outputs": [],
   "source": [
    "# Load the punkt tokenizer\n",
    "tokenizer = nltk.data.load('tokenizers/punkt/english.pickle')"
   ]
  },
  {
   "cell_type": "code",
   "execution_count": 6,
   "metadata": {},
   "outputs": [],
   "source": [
    "from tqdm import tqdm"
   ]
  },
  {
   "cell_type": "code",
   "execution_count": 7,
   "metadata": {},
   "outputs": [],
   "source": [
    "# Define a function to split a review into parsed sentences\n",
    "def review_to_sentences(review, tokenizer, remove_stopwords=False) :\n",
    "    \n",
    "    # Function to split a review into parsed sentences.\n",
    "    # Returns a list of sentences, where each sentence is a list of words\n",
    "    #\n",
    "    # 1. Use the NLTK tokenizer to split the paragraph into sentences\n",
    "    raw_sentences = tokenizer.tokenize(review.strip())\n",
    "    # \n",
    "    # 2. Loop over each sentence\n",
    "    sentences = []\n",
    "    \n",
    "    for raw_sentence in raw_sentences :\n",
    "        \n",
    "        # If a sentence is empty, skip it\n",
    "        if len(raw_sentence) > 0 :\n",
    "            # Otherwise, call review_to_wordlist to get a list of words\n",
    "            sentences.append(review_to_wordlist(raw_sentence, remove_stopwords))\n",
    "            \n",
    "    # Return the list of sentences (each sentence is a list of words)\n",
    "    # so this returns a list of lists\n",
    "    return sentences"
   ]
  },
  {
   "cell_type": "markdown",
   "metadata": {},
   "source": [
    "Now we can apply this function to prepare our data for input to Word2Vec (this will take a couple minutes):"
   ]
  },
  {
   "cell_type": "code",
   "execution_count": 8,
   "metadata": {},
   "outputs": [
    {
     "name": "stdout",
     "output_type": "stream",
     "text": [
      "Parsing sentences from training set\n"
     ]
    },
    {
     "name": "stderr",
     "output_type": "stream",
     "text": [
      "  1%|▋                                                                            | 222/25000 [00:00<01:47, 230.06it/s]C:\\Users\\shkim\\AppData\\Local\\conda\\conda\\envs\\TF_VS_36\\lib\\site-packages\\bs4\\__init__.py:273: UserWarning: \"b'.'\" looks like a filename, not markup. You should probably open this file and pass the filehandle into Beautiful Soup.\n",
      "  ' Beautiful Soup.' % markup)\n",
      "  6%|████▋                                                                       | 1535/25000 [00:06<01:30, 258.27it/s]C:\\Users\\shkim\\AppData\\Local\\conda\\conda\\envs\\TF_VS_36\\lib\\site-packages\\bs4\\__init__.py:273: UserWarning: \"b'...'\" looks like a filename, not markup. You should probably open this file and pass the filehandle into Beautiful Soup.\n",
      "  ' Beautiful Soup.' % markup)\n",
      "  6%|████▋                                                                       | 1562/25000 [00:06<01:47, 218.72it/s]C:\\Users\\shkim\\AppData\\Local\\conda\\conda\\envs\\TF_VS_36\\lib\\site-packages\\bs4\\__init__.py:336: UserWarning: \"http://www.happierabroad.com\"\" looks like a URL. Beautiful Soup is not an HTTP client. You should probably use an HTTP client like requests to get the document behind the URL, and feed that document to Beautiful Soup.\n",
      "  ' that document to Beautiful Soup.' % decoded_markup\n",
      "100%|███████████████████████████████████████████████████████████████████████████| 25000/25000 [01:31<00:00, 273.66it/s]\n"
     ]
    },
    {
     "name": "stdout",
     "output_type": "stream",
     "text": [
      "Parsing sentences from unlabeled set\n"
     ]
    },
    {
     "name": "stderr",
     "output_type": "stream",
     "text": [
      "  1%|▍                                                                            | 291/50000 [00:00<02:41, 307.70it/s]C:\\Users\\shkim\\AppData\\Local\\conda\\conda\\envs\\TF_VS_36\\lib\\site-packages\\bs4\\__init__.py:336: UserWarning: \"http://www.archive.org/details/LovefromaStranger\"\" looks like a URL. Beautiful Soup is not an HTTP client. You should probably use an HTTP client like requests to get the document behind the URL, and feed that document to Beautiful Soup.\n",
      "  ' that document to Beautiful Soup.' % decoded_markup\n",
      "  5%|███▉                                                                        | 2551/50000 [00:09<03:18, 238.48it/s]C:\\Users\\shkim\\AppData\\Local\\conda\\conda\\envs\\TF_VS_36\\lib\\site-packages\\bs4\\__init__.py:336: UserWarning: \"http://www.loosechangeguide.com/LooseChangeGuide.html\"\" looks like a URL. Beautiful Soup is not an HTTP client. You should probably use an HTTP client like requests to get the document behind the URL, and feed that document to Beautiful Soup.\n",
      "  ' that document to Beautiful Soup.' % decoded_markup\n",
      " 14%|██████████▉                                                                 | 7201/50000 [00:26<02:41, 265.43it/s]C:\\Users\\shkim\\AppData\\Local\\conda\\conda\\envs\\TF_VS_36\\lib\\site-packages\\bs4\\__init__.py:273: UserWarning: \"b'... ...'\" looks like a filename, not markup. You should probably open this file and pass the filehandle into Beautiful Soup.\n",
      "  ' Beautiful Soup.' % markup)\n",
      " 35%|██████████████████████████▏                                                | 17486/50000 [01:02<01:55, 281.19it/s]C:\\Users\\shkim\\AppData\\Local\\conda\\conda\\envs\\TF_VS_36\\lib\\site-packages\\bs4\\__init__.py:273: UserWarning: \"b'....'\" looks like a filename, not markup. You should probably open this file and pass the filehandle into Beautiful Soup.\n",
      "  ' Beautiful Soup.' % markup)\n",
      " 43%|████████████████████████████████                                           | 21390/50000 [01:15<01:46, 267.96it/s]C:\\Users\\shkim\\AppData\\Local\\conda\\conda\\envs\\TF_VS_36\\lib\\site-packages\\bs4\\__init__.py:336: UserWarning: \"http://www.msnbc.msn.com/id/4972055/site/newsweek/\"\" looks like a URL. Beautiful Soup is not an HTTP client. You should probably use an HTTP client like requests to get the document behind the URL, and feed that document to Beautiful Soup.\n",
      "  ' that document to Beautiful Soup.' % decoded_markup\n",
      " 62%|██████████████████████████████████████████████▊                            | 31168/50000 [01:49<01:07, 277.79it/s]C:\\Users\\shkim\\AppData\\Local\\conda\\conda\\envs\\TF_VS_36\\lib\\site-packages\\bs4\\__init__.py:273: UserWarning: \"b'..'\" looks like a filename, not markup. You should probably open this file and pass the filehandle into Beautiful Soup.\n",
      "  ' Beautiful Soup.' % markup)\n",
      " 72%|█████████████████████████████████████████████████████▉                     | 35991/50000 [02:06<00:45, 306.88it/s]C:\\Users\\shkim\\AppData\\Local\\conda\\conda\\envs\\TF_VS_36\\lib\\site-packages\\bs4\\__init__.py:336: UserWarning: \"http://www.youtube.com/watch?v=a0KSqelmgN8\"\" looks like a URL. Beautiful Soup is not an HTTP client. You should probably use an HTTP client like requests to get the document behind the URL, and feed that document to Beautiful Soup.\n",
      "  ' that document to Beautiful Soup.' % decoded_markup\n",
      " 88%|██████████████████████████████████████████████████████████████████         | 44076/50000 [02:36<00:24, 246.51it/s]C:\\Users\\shkim\\AppData\\Local\\conda\\conda\\envs\\TF_VS_36\\lib\\site-packages\\bs4\\__init__.py:273: UserWarning: \"b'.. .'\" looks like a filename, not markup. You should probably open this file and pass the filehandle into Beautiful Soup.\n",
      "  ' Beautiful Soup.' % markup)\n",
      " 97%|████████████████████████████████████████████████████████████████████████▋  | 48452/50000 [02:52<00:05, 299.06it/s]C:\\Users\\shkim\\AppData\\Local\\conda\\conda\\envs\\TF_VS_36\\lib\\site-packages\\bs4\\__init__.py:336: UserWarning: \"http://jake-weird.blogspot.com/2007/08/beneath.html\"\" looks like a URL. Beautiful Soup is not an HTTP client. You should probably use an HTTP client like requests to get the document behind the URL, and feed that document to Beautiful Soup.\n",
      "  ' that document to Beautiful Soup.' % decoded_markup\n",
      "100%|███████████████████████████████████████████████████████████████████████████| 50000/50000 [02:57<00:00, 281.66it/s]\n"
     ]
    }
   ],
   "source": [
    "sentences = [] # Initialize an empty list of sentences\n",
    "\n",
    "print(\"Parsing sentences from training set\")\n",
    "for review in tqdm(train[\"review\"]) :\n",
    "    sentences += review_to_sentences(review, tokenizer)\n",
    "    \n",
    "print(\"Parsing sentences from unlabeled set\")\n",
    "for review in tqdm(unlabeled_train[\"review\"]) :\n",
    "    sentences += review_to_sentences(review, tokenizer)"
   ]
  },
  {
   "cell_type": "markdown",
   "metadata": {},
   "source": [
    "You may get a few warnings from BeautifulSoup about URLs in the sentences. These are nothing to worry about (although you may want to consider removing URLs when cleaning the text). "
   ]
  },
  {
   "cell_type": "markdown",
   "metadata": {},
   "source": [
    "We can take a look at the output to see how this differs from Part 1:"
   ]
  },
  {
   "cell_type": "code",
   "execution_count": 9,
   "metadata": {},
   "outputs": [
    {
     "name": "stdout",
     "output_type": "stream",
     "text": [
      "795538\n"
     ]
    }
   ],
   "source": [
    "# Check how many sentences we have in total - should be around 850,000+\n",
    "print(len(sentences))"
   ]
  },
  {
   "cell_type": "code",
   "execution_count": 10,
   "metadata": {},
   "outputs": [
    {
     "name": "stdout",
     "output_type": "stream",
     "text": [
      "['with', 'all', 'this', 'stuff', 'going', 'down', 'at', 'the', 'moment', 'with', 'mj', 'i', 've', 'started', 'listening', 'to', 'his', 'music', 'watching', 'the', 'odd', 'documentary', 'here', 'and', 'there', 'watched', 'the', 'wiz', 'and', 'watched', 'moonwalker', 'again']\n"
     ]
    }
   ],
   "source": [
    "print(sentences[0])"
   ]
  },
  {
   "cell_type": "code",
   "execution_count": 11,
   "metadata": {},
   "outputs": [
    {
     "name": "stdout",
     "output_type": "stream",
     "text": [
      "['maybe', 'i', 'just', 'want', 'to', 'get', 'a', 'certain', 'insight', 'into', 'this', 'guy', 'who', 'i', 'thought', 'was', 'really', 'cool', 'in', 'the', 'eighties', 'just', 'to', 'maybe', 'make', 'up', 'my', 'mind', 'whether', 'he', 'is', 'guilty', 'or', 'innocent']\n"
     ]
    }
   ],
   "source": [
    "print(sentences[1])"
   ]
  },
  {
   "cell_type": "markdown",
   "metadata": {},
   "source": [
    "A minor detail to note is the difference between the \"+=\" and \"append\" when it comes to Python lists. In many applications the two are interchangeable(교환할 수 있는), but here they are not. If you are appending a list of lists to another list of lists, \"append\" will only append the first list; you need to use \"+=\" in order to join all of the lists at once."
   ]
  },
  {
   "cell_type": "markdown",
   "metadata": {},
   "source": [
    "<br>"
   ]
  },
  {
   "cell_type": "markdown",
   "metadata": {},
   "source": [
    "# Training and Saving Your Model"
   ]
  },
  {
   "cell_type": "markdown",
   "metadata": {},
   "source": [
    "With the list of nicely parsed sentences, we're ready to train the model. There are a number of parameter choices that affect the run time and the quality of the final model that is produced. For details on the algorithms below, see the word2vec [API documentation](https://radimrehurek.com/gensim/models/word2vec.html) as well as the [Google documentation](https://code.google.com/archive/p/word2vec/)."
   ]
  },
  {
   "cell_type": "markdown",
   "metadata": {},
   "source": [
    "## Architecture\n",
    "\n",
    "Architecture options are skip-gram (default) or continuous bag of words. We found that skip-gram was very slightly slower but produced better results."
   ]
  },
  {
   "cell_type": "markdown",
   "metadata": {},
   "source": [
    "## Training algorithm\n",
    "\n",
    "Hierarchical softmax (default) or negative sampling. For us, the default worked well."
   ]
  },
  {
   "cell_type": "markdown",
   "metadata": {},
   "source": [
    "## Downsampling of frequent words\n",
    "\n",
    "The Google documentation recommends values between .00001 and .001. For us, values closer 0.001 seemed to improve the accuracy of the final model."
   ]
  },
  {
   "cell_type": "markdown",
   "metadata": {},
   "source": [
    "## Word vector dimensionality\n",
    "\n",
    "More features result in longer runtimes, and often, but not always, result in better models. Reasonable values can be in the tens to hundreds; we used 300."
   ]
  },
  {
   "cell_type": "markdown",
   "metadata": {},
   "source": [
    "## Context / window size\n",
    "\n",
    "How many words of context should the training algorithm take into account? 10 seems to work well for hierarchical softmax (more is better, up to a point)."
   ]
  },
  {
   "cell_type": "markdown",
   "metadata": {},
   "source": [
    "## Worker threads\n",
    "\n",
    "Number of parallel processes to run. This is computer-specific, but between 4 and 6 should work on most systems."
   ]
  },
  {
   "cell_type": "markdown",
   "metadata": {},
   "source": [
    "## Minimum word count\n",
    "\n",
    "This helps limit the size of the vocabulary to meaningful words. Any word that does not occur at least this many times across all documents is ignored. Reasonable values could be between 10 and 100. In this case, since each movie occurs 30 times, we set the minimum word count to 40, to avoid attaching too much importance to individual movie titles. This resulted in an overall vocabulary size of around 15,000 words. Higher values also help limit run time."
   ]
  },
  {
   "cell_type": "markdown",
   "metadata": {},
   "source": [
    "<br>"
   ]
  },
  {
   "cell_type": "markdown",
   "metadata": {},
   "source": [
    "Choosing parameters is not easy, but once we have chosen our parameters, creating a Word2Vec model is straightforward:"
   ]
  },
  {
   "cell_type": "code",
   "execution_count": 12,
   "metadata": {},
   "outputs": [],
   "source": [
    "# Import the built-in logging module and configure it so that Word2Vec\n",
    "# creates nice output messages\n",
    "import logging\n",
    "logging.basicConfig(format='%(asctime)s : %(levelname)s : %(message)s',level=logging.INFO)"
   ]
  },
  {
   "cell_type": "code",
   "execution_count": 13,
   "metadata": {},
   "outputs": [
    {
     "name": "stdout",
     "output_type": "stream",
     "text": [
      "Training model...\n"
     ]
    },
    {
     "name": "stderr",
     "output_type": "stream",
     "text": [
      "2019-11-18 23:02:43,857 : INFO : collecting all words and their counts\n",
      "2019-11-18 23:02:43,858 : INFO : PROGRESS: at sentence #0, processed 0 words, keeping 0 word types\n",
      "2019-11-18 23:02:43,912 : INFO : PROGRESS: at sentence #10000, processed 225803 words, keeping 17776 word types\n",
      "2019-11-18 23:02:43,965 : INFO : PROGRESS: at sentence #20000, processed 451892 words, keeping 24948 word types\n",
      "2019-11-18 23:02:44,014 : INFO : PROGRESS: at sentence #30000, processed 671315 words, keeping 30034 word types\n",
      "2019-11-18 23:02:44,072 : INFO : PROGRESS: at sentence #40000, processed 897815 words, keeping 34348 word types\n",
      "2019-11-18 23:02:44,125 : INFO : PROGRESS: at sentence #50000, processed 1116963 words, keeping 37761 word types\n",
      "2019-11-18 23:02:44,190 : INFO : PROGRESS: at sentence #60000, processed 1338404 words, keeping 40723 word types\n",
      "2019-11-18 23:02:44,242 : INFO : PROGRESS: at sentence #70000, processed 1561580 words, keeping 43333 word types\n",
      "2019-11-18 23:02:44,297 : INFO : PROGRESS: at sentence #80000, processed 1780887 words, keeping 45714 word types\n",
      "2019-11-18 23:02:44,354 : INFO : PROGRESS: at sentence #90000, processed 2004996 words, keeping 48135 word types\n",
      "2019-11-18 23:02:44,415 : INFO : PROGRESS: at sentence #100000, processed 2226966 words, keeping 50207 word types\n",
      "2019-11-18 23:02:44,468 : INFO : PROGRESS: at sentence #110000, processed 2446580 words, keeping 52081 word types\n",
      "2019-11-18 23:02:44,523 : INFO : PROGRESS: at sentence #120000, processed 2668775 words, keeping 54119 word types\n",
      "2019-11-18 23:02:44,588 : INFO : PROGRESS: at sentence #130000, processed 2894303 words, keeping 55847 word types\n",
      "2019-11-18 23:02:44,642 : INFO : PROGRESS: at sentence #140000, processed 3107005 words, keeping 57346 word types\n",
      "2019-11-18 23:02:44,704 : INFO : PROGRESS: at sentence #150000, processed 3332627 words, keeping 59055 word types\n",
      "2019-11-18 23:02:44,762 : INFO : PROGRESS: at sentence #160000, processed 3555315 words, keeping 60617 word types\n",
      "2019-11-18 23:02:44,822 : INFO : PROGRESS: at sentence #170000, processed 3778655 words, keeping 62077 word types\n",
      "2019-11-18 23:02:44,882 : INFO : PROGRESS: at sentence #180000, processed 3999236 words, keeping 63496 word types\n",
      "2019-11-18 23:02:44,954 : INFO : PROGRESS: at sentence #190000, processed 4224449 words, keeping 64794 word types\n",
      "2019-11-18 23:02:45,016 : INFO : PROGRESS: at sentence #200000, processed 4448603 words, keeping 66087 word types\n",
      "2019-11-18 23:02:45,072 : INFO : PROGRESS: at sentence #210000, processed 4669967 words, keeping 67390 word types\n",
      "2019-11-18 23:02:45,125 : INFO : PROGRESS: at sentence #220000, processed 4894968 words, keeping 68697 word types\n",
      "2019-11-18 23:02:45,187 : INFO : PROGRESS: at sentence #230000, processed 5117545 words, keeping 69958 word types\n",
      "2019-11-18 23:02:45,243 : INFO : PROGRESS: at sentence #240000, processed 5345050 words, keeping 71167 word types\n",
      "2019-11-18 23:02:45,295 : INFO : PROGRESS: at sentence #250000, processed 5559165 words, keeping 72351 word types\n",
      "2019-11-18 23:02:45,357 : INFO : PROGRESS: at sentence #260000, processed 5779146 words, keeping 73478 word types\n",
      "2019-11-18 23:02:45,414 : INFO : PROGRESS: at sentence #270000, processed 6000435 words, keeping 74767 word types\n",
      "2019-11-18 23:02:45,480 : INFO : PROGRESS: at sentence #280000, processed 6226314 words, keeping 76369 word types\n",
      "2019-11-18 23:02:45,537 : INFO : PROGRESS: at sentence #290000, processed 6449474 words, keeping 77839 word types\n",
      "2019-11-18 23:02:45,592 : INFO : PROGRESS: at sentence #300000, processed 6674077 words, keeping 79171 word types\n",
      "2019-11-18 23:02:45,668 : INFO : PROGRESS: at sentence #310000, processed 6899391 words, keeping 80480 word types\n",
      "2019-11-18 23:02:45,749 : INFO : PROGRESS: at sentence #320000, processed 7124278 words, keeping 81808 word types\n",
      "2019-11-18 23:02:45,811 : INFO : PROGRESS: at sentence #330000, processed 7346021 words, keeping 83030 word types\n",
      "2019-11-18 23:02:45,867 : INFO : PROGRESS: at sentence #340000, processed 7575533 words, keeping 84280 word types\n",
      "2019-11-18 23:02:45,942 : INFO : PROGRESS: at sentence #350000, processed 7798803 words, keeping 85425 word types\n",
      "2019-11-18 23:02:46,009 : INFO : PROGRESS: at sentence #360000, processed 8019427 words, keeping 86596 word types\n",
      "2019-11-18 23:02:46,077 : INFO : PROGRESS: at sentence #370000, processed 8246619 words, keeping 87708 word types\n",
      "2019-11-18 23:02:46,142 : INFO : PROGRESS: at sentence #380000, processed 8471766 words, keeping 88878 word types\n",
      "2019-11-18 23:02:46,222 : INFO : PROGRESS: at sentence #390000, processed 8701497 words, keeping 89907 word types\n",
      "2019-11-18 23:02:46,282 : INFO : PROGRESS: at sentence #400000, processed 8924446 words, keeping 90916 word types\n",
      "2019-11-18 23:02:46,342 : INFO : PROGRESS: at sentence #410000, processed 9145796 words, keeping 91880 word types\n",
      "2019-11-18 23:02:46,404 : INFO : PROGRESS: at sentence #420000, processed 9366876 words, keeping 92912 word types\n",
      "2019-11-18 23:02:46,463 : INFO : PROGRESS: at sentence #430000, processed 9594413 words, keeping 93932 word types\n",
      "2019-11-18 23:02:46,531 : INFO : PROGRESS: at sentence #440000, processed 9821166 words, keeping 94906 word types\n",
      "2019-11-18 23:02:46,591 : INFO : PROGRESS: at sentence #450000, processed 10044928 words, keeping 96036 word types\n",
      "2019-11-18 23:02:46,664 : INFO : PROGRESS: at sentence #460000, processed 10277688 words, keeping 97088 word types\n",
      "2019-11-18 23:02:46,722 : INFO : PROGRESS: at sentence #470000, processed 10505613 words, keeping 97933 word types\n",
      "2019-11-18 23:02:46,784 : INFO : PROGRESS: at sentence #480000, processed 10725997 words, keeping 98862 word types\n",
      "2019-11-18 23:02:46,845 : INFO : PROGRESS: at sentence #490000, processed 10952741 words, keeping 99871 word types\n",
      "2019-11-18 23:02:46,900 : INFO : PROGRESS: at sentence #500000, processed 11174397 words, keeping 100765 word types\n",
      "2019-11-18 23:02:46,957 : INFO : PROGRESS: at sentence #510000, processed 11399672 words, keeping 101699 word types\n",
      "2019-11-18 23:02:47,023 : INFO : PROGRESS: at sentence #520000, processed 11623020 words, keeping 102598 word types\n",
      "2019-11-18 23:02:47,078 : INFO : PROGRESS: at sentence #530000, processed 11847418 words, keeping 103400 word types\n",
      "2019-11-18 23:02:47,132 : INFO : PROGRESS: at sentence #540000, processed 12072033 words, keeping 104265 word types\n",
      "2019-11-18 23:02:47,190 : INFO : PROGRESS: at sentence #550000, processed 12297571 words, keeping 105133 word types\n",
      "2019-11-18 23:02:47,251 : INFO : PROGRESS: at sentence #560000, processed 12518861 words, keeping 105997 word types\n",
      "2019-11-18 23:02:47,313 : INFO : PROGRESS: at sentence #570000, processed 12747916 words, keeping 106787 word types\n",
      "2019-11-18 23:02:47,368 : INFO : PROGRESS: at sentence #580000, processed 12969412 words, keeping 107665 word types\n",
      "2019-11-18 23:02:47,423 : INFO : PROGRESS: at sentence #590000, processed 13194937 words, keeping 108501 word types\n",
      "2019-11-18 23:02:47,475 : INFO : PROGRESS: at sentence #600000, processed 13417135 words, keeping 109218 word types\n",
      "2019-11-18 23:02:47,530 : INFO : PROGRESS: at sentence #610000, processed 13638158 words, keeping 110092 word types\n",
      "2019-11-18 23:02:47,586 : INFO : PROGRESS: at sentence #620000, processed 13864483 words, keeping 110837 word types\n",
      "2019-11-18 23:02:47,640 : INFO : PROGRESS: at sentence #630000, processed 14088769 words, keeping 111610 word types\n",
      "2019-11-18 23:02:47,702 : INFO : PROGRESS: at sentence #640000, processed 14309552 words, keeping 112416 word types\n",
      "2019-11-18 23:02:47,769 : INFO : PROGRESS: at sentence #650000, processed 14535308 words, keeping 113196 word types\n",
      "2019-11-18 23:02:47,815 : INFO : PROGRESS: at sentence #660000, processed 14758098 words, keeping 113945 word types\n",
      "2019-11-18 23:02:47,897 : INFO : PROGRESS: at sentence #670000, processed 14981482 words, keeping 114643 word types\n",
      "2019-11-18 23:02:47,956 : INFO : PROGRESS: at sentence #680000, processed 15206314 words, keeping 115354 word types\n",
      "2019-11-18 23:02:48,029 : INFO : PROGRESS: at sentence #690000, processed 15428507 words, keeping 116131 word types\n",
      "2019-11-18 23:02:48,086 : INFO : PROGRESS: at sentence #700000, processed 15657213 words, keeping 116943 word types\n",
      "2019-11-18 23:02:48,139 : INFO : PROGRESS: at sentence #710000, processed 15880202 words, keeping 117596 word types\n",
      "2019-11-18 23:02:48,206 : INFO : PROGRESS: at sentence #720000, processed 16105489 words, keeping 118221 word types\n",
      "2019-11-18 23:02:48,262 : INFO : PROGRESS: at sentence #730000, processed 16331870 words, keeping 118954 word types\n",
      "2019-11-18 23:02:48,316 : INFO : PROGRESS: at sentence #740000, processed 16552903 words, keeping 119668 word types\n",
      "2019-11-18 23:02:48,368 : INFO : PROGRESS: at sentence #750000, processed 16771230 words, keeping 120295 word types\n",
      "2019-11-18 23:02:48,423 : INFO : PROGRESS: at sentence #760000, processed 16990622 words, keeping 120930 word types\n",
      "2019-11-18 23:02:48,486 : INFO : PROGRESS: at sentence #770000, processed 17217759 words, keeping 121703 word types\n",
      "2019-11-18 23:02:48,541 : INFO : PROGRESS: at sentence #780000, processed 17447905 words, keeping 122402 word types\n",
      "2019-11-18 23:02:48,602 : INFO : PROGRESS: at sentence #790000, processed 17674981 words, keeping 123066 word types\n",
      "2019-11-18 23:02:48,635 : INFO : collected 123504 word types from a corpus of 17798082 raw words and 795538 sentences\n",
      "2019-11-18 23:02:48,637 : INFO : Loading a fresh vocabulary\n",
      "2019-11-18 23:02:48,718 : INFO : effective_min_count=40 retains 16490 unique words (13% of original 123504, drops 107014)\n",
      "2019-11-18 23:02:48,720 : INFO : effective_min_count=40 leaves 17238940 word corpus (96% of original 17798082, drops 559142)\n",
      "2019-11-18 23:02:48,784 : INFO : deleting the raw counts dictionary of 123504 items\n",
      "2019-11-18 23:02:48,789 : INFO : sample=0.001 downsamples 48 most-common words\n",
      "2019-11-18 23:02:48,792 : INFO : downsampling leaves estimated 12749658 word corpus (74.0% of prior 17238940)\n",
      "2019-11-18 23:02:48,867 : INFO : estimated required memory for 16490 words and 300 dimensions: 47821000 bytes\n",
      "2019-11-18 23:02:48,869 : INFO : resetting layer weights\n",
      "2019-11-18 23:02:52,206 : INFO : training model with 4 workers on 16490 vocabulary and 300 features, using sg=0 hs=0 sample=0.001 negative=5 window=10\n",
      "2019-11-18 23:02:53,216 : INFO : EPOCH 1 - PROGRESS: at 8.11% examples, 1028256 words/s, in_qsize 7, out_qsize 0\n",
      "2019-11-18 23:02:54,220 : INFO : EPOCH 1 - PROGRESS: at 16.44% examples, 1038583 words/s, in_qsize 7, out_qsize 0\n",
      "2019-11-18 23:02:55,228 : INFO : EPOCH 1 - PROGRESS: at 24.27% examples, 1021043 words/s, in_qsize 7, out_qsize 0\n",
      "2019-11-18 23:02:56,234 : INFO : EPOCH 1 - PROGRESS: at 32.40% examples, 1021387 words/s, in_qsize 7, out_qsize 0\n",
      "2019-11-18 23:02:57,235 : INFO : EPOCH 1 - PROGRESS: at 40.46% examples, 1022854 words/s, in_qsize 7, out_qsize 0\n",
      "2019-11-18 23:02:58,251 : INFO : EPOCH 1 - PROGRESS: at 48.43% examples, 1020078 words/s, in_qsize 7, out_qsize 0\n",
      "2019-11-18 23:02:59,256 : INFO : EPOCH 1 - PROGRESS: at 56.27% examples, 1016779 words/s, in_qsize 7, out_qsize 0\n",
      "2019-11-18 23:03:00,258 : INFO : EPOCH 1 - PROGRESS: at 64.50% examples, 1021541 words/s, in_qsize 7, out_qsize 0\n",
      "2019-11-18 23:03:01,263 : INFO : EPOCH 1 - PROGRESS: at 72.49% examples, 1021185 words/s, in_qsize 7, out_qsize 0\n",
      "2019-11-18 23:03:02,266 : INFO : EPOCH 1 - PROGRESS: at 80.64% examples, 1022373 words/s, in_qsize 7, out_qsize 0\n",
      "2019-11-18 23:03:03,274 : INFO : EPOCH 1 - PROGRESS: at 88.92% examples, 1024968 words/s, in_qsize 7, out_qsize 0\n",
      "2019-11-18 23:03:04,279 : INFO : EPOCH 1 - PROGRESS: at 97.23% examples, 1027308 words/s, in_qsize 7, out_qsize 0\n",
      "2019-11-18 23:03:04,619 : INFO : worker thread finished; awaiting finish of 3 more threads\n",
      "2019-11-18 23:03:04,626 : INFO : worker thread finished; awaiting finish of 2 more threads\n",
      "2019-11-18 23:03:04,630 : INFO : worker thread finished; awaiting finish of 1 more threads\n",
      "2019-11-18 23:03:04,635 : INFO : worker thread finished; awaiting finish of 0 more threads\n",
      "2019-11-18 23:03:04,637 : INFO : EPOCH - 1 : training on 17798082 raw words (12751466 effective words) took 12.4s, 1026484 effective words/s\n",
      "2019-11-18 23:03:05,648 : INFO : EPOCH 2 - PROGRESS: at 7.77% examples, 984557 words/s, in_qsize 7, out_qsize 0\n",
      "2019-11-18 23:03:06,651 : INFO : EPOCH 2 - PROGRESS: at 15.01% examples, 949238 words/s, in_qsize 7, out_qsize 0\n",
      "2019-11-18 23:03:07,655 : INFO : EPOCH 2 - PROGRESS: at 22.26% examples, 936792 words/s, in_qsize 7, out_qsize 0\n",
      "2019-11-18 23:03:08,662 : INFO : EPOCH 2 - PROGRESS: at 29.20% examples, 922394 words/s, in_qsize 8, out_qsize 0\n",
      "2019-11-18 23:03:09,672 : INFO : EPOCH 2 - PROGRESS: at 35.44% examples, 893468 words/s, in_qsize 7, out_qsize 0\n",
      "2019-11-18 23:03:10,683 : INFO : EPOCH 2 - PROGRESS: at 42.30% examples, 889426 words/s, in_qsize 7, out_qsize 0\n",
      "2019-11-18 23:03:11,686 : INFO : EPOCH 2 - PROGRESS: at 49.49% examples, 893804 words/s, in_qsize 7, out_qsize 0\n",
      "2019-11-18 23:03:12,693 : INFO : EPOCH 2 - PROGRESS: at 57.36% examples, 907200 words/s, in_qsize 7, out_qsize 0\n",
      "2019-11-18 23:03:13,697 : INFO : EPOCH 2 - PROGRESS: at 65.57% examples, 922690 words/s, in_qsize 7, out_qsize 0\n",
      "2019-11-18 23:03:14,704 : INFO : EPOCH 2 - PROGRESS: at 73.44% examples, 930653 words/s, in_qsize 7, out_qsize 0\n",
      "2019-11-18 23:03:15,705 : INFO : EPOCH 2 - PROGRESS: at 81.48% examples, 938869 words/s, in_qsize 7, out_qsize 0\n",
      "2019-11-18 23:03:16,712 : INFO : EPOCH 2 - PROGRESS: at 89.53% examples, 945853 words/s, in_qsize 7, out_qsize 0\n",
      "2019-11-18 23:03:17,719 : INFO : EPOCH 2 - PROGRESS: at 97.62% examples, 951757 words/s, in_qsize 7, out_qsize 0\n",
      "2019-11-18 23:03:18,015 : INFO : worker thread finished; awaiting finish of 3 more threads\n",
      "2019-11-18 23:03:18,022 : INFO : worker thread finished; awaiting finish of 2 more threads\n",
      "2019-11-18 23:03:18,030 : INFO : worker thread finished; awaiting finish of 1 more threads\n",
      "2019-11-18 23:03:18,035 : INFO : worker thread finished; awaiting finish of 0 more threads\n",
      "2019-11-18 23:03:18,037 : INFO : EPOCH - 2 : training on 17798082 raw words (12749580 effective words) took 13.4s, 952098 effective words/s\n",
      "2019-11-18 23:03:19,059 : INFO : EPOCH 3 - PROGRESS: at 7.30% examples, 918295 words/s, in_qsize 7, out_qsize 0\n",
      "2019-11-18 23:03:20,070 : INFO : EPOCH 3 - PROGRESS: at 13.20% examples, 827266 words/s, in_qsize 7, out_qsize 0\n",
      "2019-11-18 23:03:21,072 : INFO : EPOCH 3 - PROGRESS: at 19.38% examples, 810729 words/s, in_qsize 7, out_qsize 0\n",
      "2019-11-18 23:03:22,077 : INFO : EPOCH 3 - PROGRESS: at 27.53% examples, 865949 words/s, in_qsize 7, out_qsize 0\n",
      "2019-11-18 23:03:23,078 : INFO : EPOCH 3 - PROGRESS: at 35.73% examples, 899436 words/s, in_qsize 7, out_qsize 0\n",
      "2019-11-18 23:03:24,084 : INFO : EPOCH 3 - PROGRESS: at 43.75% examples, 920187 words/s, in_qsize 7, out_qsize 0\n",
      "2019-11-18 23:03:25,088 : INFO : EPOCH 3 - PROGRESS: at 52.04% examples, 939386 words/s, in_qsize 7, out_qsize 0\n",
      "2019-11-18 23:03:26,102 : INFO : EPOCH 3 - PROGRESS: at 59.67% examples, 943691 words/s, in_qsize 7, out_qsize 0\n",
      "2019-11-18 23:03:27,110 : INFO : EPOCH 3 - PROGRESS: at 66.69% examples, 937269 words/s, in_qsize 7, out_qsize 0\n",
      "2019-11-18 23:03:28,125 : INFO : EPOCH 3 - PROGRESS: at 72.38% examples, 915257 words/s, in_qsize 7, out_qsize 0\n",
      "2019-11-18 23:03:29,135 : INFO : EPOCH 3 - PROGRESS: at 78.73% examples, 904881 words/s, in_qsize 7, out_qsize 0\n",
      "2019-11-18 23:03:30,141 : INFO : EPOCH 3 - PROGRESS: at 86.53% examples, 911765 words/s, in_qsize 7, out_qsize 0\n",
      "2019-11-18 23:03:31,154 : INFO : EPOCH 3 - PROGRESS: at 94.65% examples, 920336 words/s, in_qsize 7, out_qsize 0\n",
      "2019-11-18 23:03:31,800 : INFO : worker thread finished; awaiting finish of 3 more threads\n",
      "2019-11-18 23:03:31,810 : INFO : worker thread finished; awaiting finish of 2 more threads\n",
      "2019-11-18 23:03:31,818 : INFO : worker thread finished; awaiting finish of 1 more threads\n",
      "2019-11-18 23:03:31,821 : INFO : worker thread finished; awaiting finish of 0 more threads\n",
      "2019-11-18 23:03:31,823 : INFO : EPOCH - 3 : training on 17798082 raw words (12749588 effective words) took 13.8s, 925410 effective words/s\n",
      "2019-11-18 23:03:32,838 : INFO : EPOCH 4 - PROGRESS: at 7.94% examples, 1001275 words/s, in_qsize 7, out_qsize 0\n",
      "2019-11-18 23:03:33,847 : INFO : EPOCH 4 - PROGRESS: at 15.34% examples, 965149 words/s, in_qsize 7, out_qsize 0\n",
      "2019-11-18 23:03:34,860 : INFO : EPOCH 4 - PROGRESS: at 23.32% examples, 975078 words/s, in_qsize 8, out_qsize 1\n",
      "2019-11-18 23:03:35,875 : INFO : EPOCH 4 - PROGRESS: at 30.44% examples, 954882 words/s, in_qsize 7, out_qsize 0\n",
      "2019-11-18 23:03:36,879 : INFO : EPOCH 4 - PROGRESS: at 38.40% examples, 964395 words/s, in_qsize 7, out_qsize 0\n",
      "2019-11-18 23:03:37,888 : INFO : EPOCH 4 - PROGRESS: at 46.22% examples, 969062 words/s, in_qsize 7, out_qsize 0\n",
      "2019-11-18 23:03:38,896 : INFO : EPOCH 4 - PROGRESS: at 54.54% examples, 981686 words/s, in_qsize 7, out_qsize 0\n",
      "2019-11-18 23:03:39,899 : INFO : EPOCH 4 - PROGRESS: at 62.43% examples, 985423 words/s, in_qsize 7, out_qsize 0\n",
      "2019-11-18 23:03:40,903 : INFO : EPOCH 4 - PROGRESS: at 70.49% examples, 989963 words/s, in_qsize 7, out_qsize 0\n",
      "2019-11-18 23:03:41,911 : INFO : EPOCH 4 - PROGRESS: at 78.10% examples, 987397 words/s, in_qsize 7, out_qsize 0\n",
      "2019-11-18 23:03:42,927 : INFO : EPOCH 4 - PROGRESS: at 85.40% examples, 980847 words/s, in_qsize 7, out_qsize 0\n",
      "2019-11-18 23:03:43,930 : INFO : EPOCH 4 - PROGRESS: at 92.79% examples, 977459 words/s, in_qsize 7, out_qsize 0\n",
      "2019-11-18 23:03:44,929 : INFO : worker thread finished; awaiting finish of 3 more threads\n",
      "2019-11-18 23:03:44,933 : INFO : EPOCH 4 - PROGRESS: at 99.89% examples, 971940 words/s, in_qsize 2, out_qsize 1\n",
      "2019-11-18 23:03:44,935 : INFO : worker thread finished; awaiting finish of 2 more threads\n",
      "2019-11-18 23:03:44,938 : INFO : worker thread finished; awaiting finish of 1 more threads\n",
      "2019-11-18 23:03:44,945 : INFO : worker thread finished; awaiting finish of 0 more threads\n",
      "2019-11-18 23:03:44,947 : INFO : EPOCH - 4 : training on 17798082 raw words (12748085 effective words) took 13.1s, 971989 effective words/s\n",
      "2019-11-18 23:03:45,959 : INFO : EPOCH 5 - PROGRESS: at 5.76% examples, 735486 words/s, in_qsize 7, out_qsize 0\n",
      "2019-11-18 23:03:46,964 : INFO : EPOCH 5 - PROGRESS: at 11.61% examples, 733729 words/s, in_qsize 7, out_qsize 0\n",
      "2019-11-18 23:03:47,965 : INFO : EPOCH 5 - PROGRESS: at 18.69% examples, 786760 words/s, in_qsize 7, out_qsize 0\n",
      "2019-11-18 23:03:48,971 : INFO : EPOCH 5 - PROGRESS: at 24.83% examples, 783888 words/s, in_qsize 7, out_qsize 0\n",
      "2019-11-18 23:03:49,983 : INFO : EPOCH 5 - PROGRESS: at 32.18% examples, 810754 words/s, in_qsize 7, out_qsize 0\n",
      "2019-11-18 23:03:50,986 : INFO : EPOCH 5 - PROGRESS: at 39.64% examples, 833562 words/s, in_qsize 7, out_qsize 0\n",
      "2019-11-18 23:03:51,993 : INFO : EPOCH 5 - PROGRESS: at 46.94% examples, 847525 words/s, in_qsize 7, out_qsize 0\n",
      "2019-11-18 23:03:52,993 : INFO : EPOCH 5 - PROGRESS: at 54.37% examples, 860291 words/s, in_qsize 7, out_qsize 0\n",
      "2019-11-18 23:03:53,997 : INFO : EPOCH 5 - PROGRESS: at 61.87% examples, 871513 words/s, in_qsize 7, out_qsize 0\n",
      "2019-11-18 23:03:55,000 : INFO : EPOCH 5 - PROGRESS: at 69.48% examples, 881408 words/s, in_qsize 7, out_qsize 0\n",
      "2019-11-18 23:03:56,000 : INFO : EPOCH 5 - PROGRESS: at 76.88% examples, 886999 words/s, in_qsize 7, out_qsize 0\n",
      "2019-11-18 23:03:57,012 : INFO : EPOCH 5 - PROGRESS: at 84.12% examples, 889069 words/s, in_qsize 8, out_qsize 0\n",
      "2019-11-18 23:03:58,013 : INFO : EPOCH 5 - PROGRESS: at 91.20% examples, 890403 words/s, in_qsize 7, out_qsize 0\n",
      "2019-11-18 23:03:59,015 : INFO : EPOCH 5 - PROGRESS: at 98.56% examples, 893603 words/s, in_qsize 7, out_qsize 0\n",
      "2019-11-18 23:03:59,201 : INFO : worker thread finished; awaiting finish of 3 more threads\n",
      "2019-11-18 23:03:59,206 : INFO : worker thread finished; awaiting finish of 2 more threads\n",
      "2019-11-18 23:03:59,211 : INFO : worker thread finished; awaiting finish of 1 more threads\n",
      "2019-11-18 23:03:59,215 : INFO : worker thread finished; awaiting finish of 0 more threads\n",
      "2019-11-18 23:03:59,216 : INFO : EPOCH - 5 : training on 17798082 raw words (12746992 effective words) took 14.3s, 893930 effective words/s\n",
      "2019-11-18 23:03:59,218 : INFO : training on a 88990410 raw words (63745711 effective words) took 67.0s, 951285 effective words/s\n",
      "2019-11-18 23:03:59,220 : INFO : precomputing L2-norms of word weight vectors\n",
      "2019-11-18 23:03:59,239 : INFO : saving Word2Vec object under 300features_40minwords_10context, separately None\n",
      "2019-11-18 23:03:59,242 : INFO : not storing attribute vectors_norm\n",
      "2019-11-18 23:03:59,245 : INFO : not storing attribute cum_table\n",
      "2019-11-18 23:03:59,679 : INFO : saved 300features_40minwords_10context\n"
     ]
    }
   ],
   "source": [
    "# Set values for various parameters\n",
    "num_features = 300 # Word Vector dimensionality\n",
    "min_word_count = 40 # Minimum word count\n",
    "num_workers = 4 # Number of threads to run in parallel\n",
    "context = 10 # Context window size\n",
    "downsampling = 1e-3 # Downsampling setting for frequent words\n",
    "\n",
    "# Initialize and train the model (this will take some time)\n",
    "from gensim.models import word2vec\n",
    "\n",
    "print(\"Training model...\")\n",
    "model = word2vec.Word2Vec(sentences,\n",
    "                          workers=num_workers,\n",
    "                          size=num_features,\n",
    "                          min_count=min_word_count,\n",
    "                          window=context,\n",
    "                          sample=downsampling)\n",
    "\n",
    "# If you don't plan to train the model any further, \n",
    "# calling init_sims will make the model much more memory-efficientt.\n",
    "model.init_sims(replace=True)\n",
    "\n",
    "# It can be helpful to create a meaningful model name and\n",
    "# save the model for later use. You can load it later using Word2Vec.load()\n",
    "model_name = \"300features_40minwords_10context\"\n",
    "model.save(model_name)"
   ]
  },
  {
   "cell_type": "markdown",
   "metadata": {},
   "source": [
    "On a dual-core Macbook Pro, this took less than 15 minutes to run using 4 worker threads. However, it will vary depending on your computer. Fortunately, the logging functionality prints informative messages."
   ]
  },
  {
   "cell_type": "markdown",
   "metadata": {},
   "source": [
    "If you are on a Mac or Linux system, you can use the \"top\" command from within Terminal (not from within Python) to see if your system is successfully parallelizing while the model is training. Type\n",
    "\n",
    "```\n",
    "top -o cpu\n",
    "```\n",
    "\n",
    "into a terminal window while the model is training. With 4 workers, the first process in the list should be Python, and it should show 300-400% CPU usage.\n",
    "\n",
    "If your CPU usage is lower, it may be that cython is not working correctly on your machine."
   ]
  },
  {
   "cell_type": "markdown",
   "metadata": {},
   "source": [
    "<br>"
   ]
  },
  {
   "cell_type": "markdown",
   "metadata": {},
   "source": [
    "# Exploring the Model Results"
   ]
  },
  {
   "cell_type": "markdown",
   "metadata": {},
   "source": [
    "Congratulations on making it successfully through everything so far! Let's take a look at the model we created out of our 75,000 training reviews."
   ]
  },
  {
   "cell_type": "markdown",
   "metadata": {},
   "source": [
    "The \"doesnt_match\" function will try to deduce(추론하다) which word in a set is most dissimilar from the others:"
   ]
  },
  {
   "cell_type": "code",
   "execution_count": 14,
   "metadata": {},
   "outputs": [
    {
     "name": "stderr",
     "output_type": "stream",
     "text": [
      "C:\\Users\\shkim\\AppData\\Local\\conda\\conda\\envs\\TF_VS_36\\lib\\site-packages\\ipykernel_launcher.py:1: DeprecationWarning: Call to deprecated `doesnt_match` (Method will be removed in 4.0.0, use self.wv.doesnt_match() instead).\n",
      "  \"\"\"Entry point for launching an IPython kernel.\n",
      "C:\\Users\\shkim\\AppData\\Local\\conda\\conda\\envs\\TF_VS_36\\lib\\site-packages\\gensim\\models\\keyedvectors.py:877: FutureWarning: arrays to stack must be passed as a \"sequence\" type such as list or tuple. Support for non-sequence iterables such as generators is deprecated as of NumPy 1.16 and will raise an error in the future.\n",
      "  vectors = vstack(self.word_vec(word, use_norm=True) for word in used_words).astype(REAL)\n"
     ]
    },
    {
     "data": {
      "text/plain": [
       "'kitchen'"
      ]
     },
     "execution_count": 14,
     "metadata": {},
     "output_type": "execute_result"
    }
   ],
   "source": [
    "model.doesnt_match(\"man woman child kitchen\".split())"
   ]
  },
  {
   "cell_type": "markdown",
   "metadata": {},
   "source": [
    "Our model is capable(유능한) of distinguishing differences in meaning! It knows that men, women and children are more similar to each other than they are to kitchens. More exploration shows that the model is sensitive to more subtle(미묘한) differences in meaning, such as differences between countries and cities:"
   ]
  },
  {
   "cell_type": "code",
   "execution_count": 15,
   "metadata": {},
   "outputs": [
    {
     "name": "stderr",
     "output_type": "stream",
     "text": [
      "C:\\Users\\shkim\\AppData\\Local\\conda\\conda\\envs\\TF_VS_36\\lib\\site-packages\\ipykernel_launcher.py:1: DeprecationWarning: Call to deprecated `doesnt_match` (Method will be removed in 4.0.0, use self.wv.doesnt_match() instead).\n",
      "  \"\"\"Entry point for launching an IPython kernel.\n",
      "2019-11-18 23:08:21,202 : WARNING : vectors for words {'beerlin'} are not present in the model, ignoring these words\n"
     ]
    },
    {
     "data": {
      "text/plain": [
       "'england'"
      ]
     },
     "execution_count": 15,
     "metadata": {},
     "output_type": "execute_result"
    }
   ],
   "source": [
    "model.doesnt_match(\"france england germany beerlin\".split())"
   ]
  },
  {
   "cell_type": "markdown",
   "metadata": {},
   "source": [
    "... although with the relatively small training set we used, it's certainly not perfect:"
   ]
  },
  {
   "cell_type": "code",
   "execution_count": 16,
   "metadata": {},
   "outputs": [
    {
     "name": "stderr",
     "output_type": "stream",
     "text": [
      "C:\\Users\\shkim\\AppData\\Local\\conda\\conda\\envs\\TF_VS_36\\lib\\site-packages\\ipykernel_launcher.py:1: DeprecationWarning: Call to deprecated `doesnt_match` (Method will be removed in 4.0.0, use self.wv.doesnt_match() instead).\n",
      "  \"\"\"Entry point for launching an IPython kernel.\n"
     ]
    },
    {
     "data": {
      "text/plain": [
       "'paris'"
      ]
     },
     "execution_count": 16,
     "metadata": {},
     "output_type": "execute_result"
    }
   ],
   "source": [
    "model.doesnt_match(\"paris berlin london austria\".split())"
   ]
  },
  {
   "cell_type": "markdown",
   "metadata": {},
   "source": [
    "We can also use the \"most_similar\" function to get insight into the model's word clusters:"
   ]
  },
  {
   "cell_type": "code",
   "execution_count": 17,
   "metadata": {},
   "outputs": [
    {
     "name": "stderr",
     "output_type": "stream",
     "text": [
      "C:\\Users\\shkim\\AppData\\Local\\conda\\conda\\envs\\TF_VS_36\\lib\\site-packages\\ipykernel_launcher.py:1: DeprecationWarning: Call to deprecated `most_similar` (Method will be removed in 4.0.0, use self.wv.most_similar() instead).\n",
      "  \"\"\"Entry point for launching an IPython kernel.\n"
     ]
    },
    {
     "data": {
      "text/plain": [
       "[('woman', 0.6199449896812439),\n",
       " ('lady', 0.6013673543930054),\n",
       " ('lad', 0.5645433664321899),\n",
       " ('farmer', 0.5259833335876465),\n",
       " ('millionaire', 0.5187475085258484),\n",
       " ('soldier', 0.5100797414779663),\n",
       " ('guy', 0.5098757743835449),\n",
       " ('monk', 0.5098170042037964),\n",
       " ('person', 0.50791996717453),\n",
       " ('businessman', 0.5070976614952087)]"
      ]
     },
     "execution_count": 17,
     "metadata": {},
     "output_type": "execute_result"
    }
   ],
   "source": [
    "model.most_similar(\"man\")"
   ]
  },
  {
   "cell_type": "code",
   "execution_count": 18,
   "metadata": {},
   "outputs": [
    {
     "name": "stderr",
     "output_type": "stream",
     "text": [
      "C:\\Users\\shkim\\AppData\\Local\\conda\\conda\\envs\\TF_VS_36\\lib\\site-packages\\ipykernel_launcher.py:1: DeprecationWarning: Call to deprecated `most_similar` (Method will be removed in 4.0.0, use self.wv.most_similar() instead).\n",
      "  \"\"\"Entry point for launching an IPython kernel.\n"
     ]
    },
    {
     "data": {
      "text/plain": [
       "[('princess', 0.6703746318817139),\n",
       " ('bride', 0.6572055816650391),\n",
       " ('maid', 0.6022589206695557),\n",
       " ('stepmother', 0.588978111743927),\n",
       " ('showgirl', 0.582972526550293),\n",
       " ('goddess', 0.580026388168335),\n",
       " ('victoria', 0.5739015936851501),\n",
       " ('angela', 0.5725694894790649),\n",
       " ('temple', 0.5716484785079956),\n",
       " ('belle', 0.5708713531494141)]"
      ]
     },
     "execution_count": 18,
     "metadata": {},
     "output_type": "execute_result"
    }
   ],
   "source": [
    "model.most_similar(\"queen\")"
   ]
  },
  {
   "cell_type": "markdown",
   "metadata": {},
   "source": [
    "Given our particular training set, it's not surprising that \"Latifah\" is a top hit for similarity with \"Queen\"."
   ]
  },
  {
   "cell_type": "markdown",
   "metadata": {},
   "source": [
    "Or, more relevant for sentiment analysis:"
   ]
  },
  {
   "cell_type": "code",
   "execution_count": 19,
   "metadata": {},
   "outputs": [
    {
     "name": "stderr",
     "output_type": "stream",
     "text": [
      "C:\\Users\\shkim\\AppData\\Local\\conda\\conda\\envs\\TF_VS_36\\lib\\site-packages\\ipykernel_launcher.py:1: DeprecationWarning: Call to deprecated `most_similar` (Method will be removed in 4.0.0, use self.wv.most_similar() instead).\n",
      "  \"\"\"Entry point for launching an IPython kernel.\n"
     ]
    },
    {
     "data": {
      "text/plain": [
       "[('terrible', 0.7721905708312988),\n",
       " ('horrible', 0.7502486705780029),\n",
       " ('atrocious', 0.7217072248458862),\n",
       " ('dreadful', 0.7183853983879089),\n",
       " ('abysmal', 0.7092894315719604),\n",
       " ('horrendous', 0.6807054281234741),\n",
       " ('horrid', 0.6561241149902344),\n",
       " ('appalling', 0.6521563529968262),\n",
       " ('lousy', 0.6249839663505554),\n",
       " ('amateurish', 0.6091490387916565)]"
      ]
     },
     "execution_count": 19,
     "metadata": {},
     "output_type": "execute_result"
    }
   ],
   "source": [
    "model.most_similar(\"awful\") # awful : 끔직한"
   ]
  },
  {
   "cell_type": "markdown",
   "metadata": {},
   "source": [
    "So it seems we have a reasonably good model for semantic meaning - at least as good as Bag of Words. But how can we use these fancy distributed word vectors for supervised learning? The next section takes a stab at that."
   ]
  }
 ],
 "metadata": {
  "kernelspec": {
   "display_name": "Python 3",
   "language": "python",
   "name": "python3"
  },
  "language_info": {
   "codemirror_mode": {
    "name": "ipython",
    "version": 3
   },
   "file_extension": ".py",
   "mimetype": "text/x-python",
   "name": "python",
   "nbconvert_exporter": "python",
   "pygments_lexer": "ipython3",
   "version": "3.6.8"
  }
 },
 "nbformat": 4,
 "nbformat_minor": 2
}
