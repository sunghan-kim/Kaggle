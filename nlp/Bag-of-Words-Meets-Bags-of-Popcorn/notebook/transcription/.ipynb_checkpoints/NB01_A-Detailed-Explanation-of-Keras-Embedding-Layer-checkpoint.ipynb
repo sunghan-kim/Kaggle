{
 "cells": [
  {
   "cell_type": "markdown",
   "metadata": {},
   "source": [
    "# A Detailed Explanation of Keras Embedding Layer"
   ]
  },
  {
   "cell_type": "markdown",
   "metadata": {},
   "source": [
    "[https://www.kaggle.com/rajmehra03/a-detailed-explanation-of-keras-embedding-layer](https://www.kaggle.com/rajmehra03/a-detailed-explanation-of-keras-embedding-layer)"
   ]
  },
  {
   "cell_type": "markdown",
   "metadata": {},
   "source": [
    "<br>"
   ]
  },
  {
   "cell_type": "markdown",
   "metadata": {},
   "source": [
    "## A Detailed Guide to understand the Word Embeddings and Embedding Layer in Keras."
   ]
  },
  {
   "cell_type": "markdown",
   "metadata": {},
   "source": [
    "<br>"
   ]
  },
  {
   "cell_type": "markdown",
   "metadata": {},
   "source": [
    "In this kernel I have explained the keras embedding layer. To do so I have created a sample corpus of just 3 documents and that should be sufficient to explain the working of the keras embedding layer."
   ]
  },
  {
   "cell_type": "markdown",
   "metadata": {},
   "source": [
    "Embeddingis are useful in a variety of machine learning applications. Because of the fact I have attached many data sources to the kernel where I fell that embeddings and Keras embedding layer may prove to be useful."
   ]
  },
  {
   "cell_type": "markdown",
   "metadata": {},
   "source": [
    "Before diving in let us skim through some of the applications of the embeddings :\n",
    "\n",
    "**1) The first application that strikes me is in the Collaborative Filtering based Recommender Systems where we have to crate the user embeddinigs and the movie embeddings by decomposing the utility matrix which contains the user-item ratings.**\n",
    "\n",
    "To see a complete tutorial on CF based recommender systems using embeddings in Keras you can follow **[this](https://www.kaggle.com/rajmehra03/cf-based-recsys-by-low-rank-matrix-factorization)** kernel of mine.\n",
    "\n",
    "**2) The second use is in the Natrual Language Processing and its related applications where we have to create the word embeddings for all the words present in the documents of our corpus.**\n",
    "\n",
    "This is the terminology(전문용어) that I shall use in this kernel.\n",
    "\n",
    "**Thus the embedding layer in Keras can be used when we want to create the embeddings to embed higher dimensional data into lower dimensional vector space.**"
   ]
  },
  {
   "cell_type": "markdown",
   "metadata": {},
   "source": [
    "<br>"
   ]
  },
  {
   "cell_type": "markdown",
   "metadata": {},
   "source": [
    "## IMPORTING MODULES"
   ]
  },
  {
   "cell_type": "code",
   "execution_count": 1,
   "metadata": {},
   "outputs": [],
   "source": [
    "# Ignorer the warnings\n",
    "import warnings\n",
    "warnings.filterwarnings('always')\n",
    "warnings.filterwarnings('ignore')\n",
    "\n",
    "# data visualization and manipulation\n",
    "import numpy as np\n",
    "import pandas as pd\n",
    "import matplotlib.pyplot as plt\n",
    "from matplotlib import style\n",
    "import seaborn as sns\n",
    "\n",
    "# configure\n",
    "# sets matplotlib to inline and displays graphs below the corresponding cell.\n",
    "%matplotlib inline\n",
    "\n",
    "style.use('fivethirtyeight')\n",
    "sns.set(style='whitegrid', color_codes=True)\n",
    "\n",
    "# nltk\n",
    "import nltk\n",
    "\n",
    "# stop-words\n",
    "from nltk.corpus import stopwords\n",
    "stop_words = set(nltk.corpus.stopwords.words('english'))\n",
    "\n",
    "# tokenizing\n",
    "from nltk import word_tokenize, sent_tokenize\n",
    "\n",
    "# keras\n",
    "import keras\n",
    "from keras.preprocessing.text import one_hot, Tokenizer\n",
    "from keras.preprocessing.sequence import pad_sequences\n",
    "from keras.models import Sequential\n",
    "from keras.layers import Dense, Flatten, Embedding, Input\n",
    "from keras.models import Model"
   ]
  },
  {
   "cell_type": "markdown",
   "metadata": {},
   "source": [
    "<br>"
   ]
  },
  {
   "cell_type": "markdown",
   "metadata": {},
   "source": [
    "## CREATING SAMPLE CORPUS OF DOCUMENTS ie TEXTS"
   ]
  },
  {
   "cell_type": "code",
   "execution_count": 2,
   "metadata": {},
   "outputs": [],
   "source": [
    "sample_text_1=\"bitty bought a bit of butter\"\n",
    "sample_text_2=\"but the bit of butter was a bit bitter\"\n",
    "sample_text_3=\"so she bought some better butter to make the bitter butter better\"\n",
    "\n",
    "corp = [sample_text_1,sample_text_2,sample_text_3]\n",
    "no_docs = len(corp)"
   ]
  },
  {
   "cell_type": "markdown",
   "metadata": {},
   "source": [
    "<br>"
   ]
  },
  {
   "cell_type": "markdown",
   "metadata": {},
   "source": [
    "## INTEGER ENCODING ALL THE DOCUMENTS\n",
    "\n",
    "After this all the unique words will be represented by an integer. For this we are usinig **`one_hot`** function from the Keras. Note that the **`vocab_size`** is specified large enough so as to ensure **unique integer encoding** for each and every word.\n",
    "\n",
    "**Note one important thing that the integer encoding for the word remains same in different docs. eg 'butter' is denoted by 31 in each and every document.**"
   ]
  },
  {
   "cell_type": "code",
   "execution_count": 5,
   "metadata": {},
   "outputs": [
    {
     "name": "stdout",
     "output_type": "stream",
     "text": [
      "The encoding for document 1  is :  [20, 1, 45, 25, 2, 30]\n",
      "The encoding for document 2  is :  [30, 12, 25, 2, 30, 28, 45, 25, 48]\n",
      "The encoding for document 3  is :  [26, 28, 1, 24, 13, 30, 25, 35, 12, 48, 30, 13]\n"
     ]
    }
   ],
   "source": [
    "vocab_size = 50\n",
    "encod_corp = []\n",
    "\n",
    "for i, doc in enumerate(corp) :\n",
    "    encod_corp.append(one_hot(doc, 50))\n",
    "    print(\"The encoding for document\", i+1, \" is : \", one_hot(doc, 50))"
   ]
  },
  {
   "cell_type": "code",
   "execution_count": 12,
   "metadata": {},
   "outputs": [
    {
     "data": {
      "text/plain": [
       "[[20, 1, 45, 25, 2, 30],\n",
       " [30, 12, 25, 2, 30, 28, 45, 25, 48],\n",
       " [26, 28, 1, 24, 13, 30, 25, 35, 12, 48, 30, 13]]"
      ]
     },
     "execution_count": 12,
     "metadata": {},
     "output_type": "execute_result"
    }
   ],
   "source": [
    "encod_corp"
   ]
  },
  {
   "cell_type": "markdown",
   "metadata": {},
   "source": [
    "<br>"
   ]
  },
  {
   "cell_type": "markdown",
   "metadata": {},
   "source": [
    "## PADDING THE DOCS (to make very doc of same length)\n",
    "\n",
    "**The Keras Embedding layer requires all individual documents to be of same length.** Hence we will pad the shorter documents with 0 for now. Therefore now in Keras Embedding llayer the **`input_length`** will be equal to the length (ie no of words) of the document with maximum length or maximum number of words.\n",
    "\n",
    "To pad the shorter documents I am using **`pad_sequences`** function from the Keras library."
   ]
  },
  {
   "cell_type": "code",
   "execution_count": 7,
   "metadata": {},
   "outputs": [
    {
     "name": "stdout",
     "output_type": "stream",
     "text": [
      "The maximum number of words in any document is :  12\n"
     ]
    }
   ],
   "source": [
    "# length of maximum document. will be needed whenever create embeddinigs\n",
    "# for the words.\n",
    "maxlen = -1\n",
    "\n",
    "for doc in corp :\n",
    "    tokens = nltk.word_tokenize(doc)\n",
    "    \n",
    "    if (maxlen < len(tokens)) :\n",
    "        maxlen = len(tokens)\n",
    "        \n",
    "print(\"The maximum number of words in any document is : \", maxlen)"
   ]
  },
  {
   "cell_type": "code",
   "execution_count": 10,
   "metadata": {},
   "outputs": [
    {
     "name": "stdout",
     "output_type": "stream",
     "text": [
      "No of padded documents  3\n"
     ]
    }
   ],
   "source": [
    "# now to create embeddings all of our docs need to be of same length.\n",
    "# hence we can pad the docs with zeros.\n",
    "pad_corp = pad_sequences(encod_corp,\n",
    "                         maxlen=maxlen,\n",
    "                         padding='post',\n",
    "                         value=0.0)\n",
    "\n",
    "print(\"No of padded documents \", len(pad_corp))"
   ]
  },
  {
   "cell_type": "code",
   "execution_count": 11,
   "metadata": {},
   "outputs": [
    {
     "data": {
      "text/plain": [
       "array([[20,  1, 45, 25,  2, 30,  0,  0,  0,  0,  0,  0],\n",
       "       [30, 12, 25,  2, 30, 28, 45, 25, 48,  0,  0,  0],\n",
       "       [26, 28,  1, 24, 13, 30, 25, 35, 12, 48, 30, 13]])"
      ]
     },
     "execution_count": 11,
     "metadata": {},
     "output_type": "execute_result"
    }
   ],
   "source": [
    "pad_corp"
   ]
  },
  {
   "cell_type": "markdown",
   "metadata": {},
   "source": [
    "<br>"
   ]
  },
  {
   "cell_type": "markdown",
   "metadata": {},
   "source": [
    "## ACTUALLY CREATING THE EMBEDDINGS using KERAS EMBEDDING LAYER\n",
    "\n",
    "Now all the documents are of same length (after padding). And so now we are ready to create and using the embeddings.\n",
    "\n",
    "**I will embed the words into vectors of 8 dimensions.**"
   ]
  },
  {
   "cell_type": "code",
   "execution_count": 14,
   "metadata": {},
   "outputs": [],
   "source": [
    "# specifying the input shape\n",
    "input = Input(shape=(no_docs, maxlen), dtype='float64')"
   ]
  },
  {
   "cell_type": "code",
   "execution_count": 15,
   "metadata": {},
   "outputs": [
    {
     "name": "stdout",
     "output_type": "stream",
     "text": [
      "WARNING:tensorflow:From C:\\Users\\shkim\\AppData\\Local\\conda\\conda\\envs\\python36\\lib\\site-packages\\tensorflow\\python\\framework\\op_def_library.py:263: colocate_with (from tensorflow.python.framework.ops) is deprecated and will be removed in a future version.\n",
      "Instructions for updating:\n",
      "Colocations handled automatically by placer.\n"
     ]
    }
   ],
   "source": [
    "'''\n",
    "shape of input.\n",
    "each document has 12 element or words which is the value of our maxlen variable.\n",
    "'''\n",
    "\n",
    "word_input = Input(shape=(maxlen,), dtype='float64')\n",
    "\n",
    "# creating the embedding\n",
    "word_embedding = Embedding(input_dim=vocab_size, \n",
    "                           output_dim=8, \n",
    "                           input_length=maxlen)(word_input)\n",
    "\n",
    "word_vec = Flatten()(word_embedding) # flatten\n",
    "embed_model = Model([word_input], word_vec) # combining all into a Keras model"
   ]
  },
  {
   "cell_type": "markdown",
   "metadata": {},
   "source": [
    "<br>"
   ]
  },
  {
   "cell_type": "markdown",
   "metadata": {},
   "source": [
    "### PARAMETERS OF THE EMBEDDING LAYER ---\n",
    "\n",
    "`input_dim`\n",
    "- **the vocab size that we will chose**. \n",
    "- In other words it is the number of unique words in the vocab.\n",
    "\n",
    "`output_dim` \n",
    "- **the number of dimensions we wish to embed into**. \n",
    "- Each word will be represented by a vector of this much dimensions.\n",
    "\n",
    "`input_length`\n",
    "- **length of the maximum document**. \n",
    "- which is stored in maxlen variable in our case."
   ]
  },
  {
   "cell_type": "code",
   "execution_count": 16,
   "metadata": {},
   "outputs": [],
   "source": [
    "embed_model.compile(optimizer=keras.optimizers.Adam(lr=1e-3),\n",
    "                    loss='binary_crossentropy',\n",
    "                    metrics=['acc'])\n",
    "# compiling the model. parameters can be tuned as always."
   ]
  },
  {
   "cell_type": "code",
   "execution_count": 17,
   "metadata": {},
   "outputs": [
    {
     "name": "stdout",
     "output_type": "stream",
     "text": [
      "<class 'tensorflow.python.framework.ops.Tensor'>\n",
      "Tensor(\"embedding_1/embedding_lookup/Identity:0\", shape=(?, 12, 8), dtype=float32)\n"
     ]
    }
   ],
   "source": [
    "print(type(word_embedding))\n",
    "print(word_embedding)"
   ]
  },
  {
   "cell_type": "code",
   "execution_count": 18,
   "metadata": {},
   "outputs": [
    {
     "name": "stdout",
     "output_type": "stream",
     "text": [
      "_________________________________________________________________\n",
      "Layer (type)                 Output Shape              Param #   \n",
      "=================================================================\n",
      "input_2 (InputLayer)         (None, 12)                0         \n",
      "_________________________________________________________________\n",
      "embedding_1 (Embedding)      (None, 12, 8)             400       \n",
      "_________________________________________________________________\n",
      "flatten_1 (Flatten)          (None, 96)                0         \n",
      "=================================================================\n",
      "Total params: 400\n",
      "Trainable params: 400\n",
      "Non-trainable params: 0\n",
      "_________________________________________________________________\n",
      "None\n"
     ]
    }
   ],
   "source": [
    "print(embed_model.summary())"
   ]
  },
  {
   "cell_type": "code",
   "execution_count": 19,
   "metadata": {},
   "outputs": [],
   "source": [
    "embeddings = embed_model.predict(pad_corp) # finally getting the embeddings."
   ]
  },
  {
   "cell_type": "code",
   "execution_count": 20,
   "metadata": {},
   "outputs": [
    {
     "name": "stdout",
     "output_type": "stream",
     "text": [
      "Shape of embeddings :  (3, 96)\n",
      "[[-0.0240765   0.02443459 -0.03537592 -0.0094936  -0.01362468 -0.0450674\n",
      "  -0.00685731  0.02262599  0.02322966 -0.00913255  0.04162628 -0.02427381\n",
      "   0.02361368 -0.04316616  0.03342781 -0.01610591  0.03424484  0.00468548\n",
      "  -0.02316825 -0.02190601 -0.02104993  0.03283853  0.00412433 -0.02419662\n",
      "   0.04895766 -0.01155044 -0.03116281 -0.01587792  0.0036968  -0.00192527\n",
      "  -0.0471268   0.03254895 -0.02099657 -0.00372682  0.03763645  0.02339592\n",
      "  -0.04064574 -0.04777142  0.04741727  0.04608115 -0.02878731 -0.0265355\n",
      "   0.01230639  0.02184333  0.01229494 -0.03252731  0.02623424 -0.03275543\n",
      "   0.03774544  0.03224077 -0.00760424 -0.02256087 -0.02685989  0.00226678\n",
      "  -0.04385168  0.00119857  0.03774544  0.03224077 -0.00760424 -0.02256087\n",
      "  -0.02685989  0.00226678 -0.04385168  0.00119857  0.03774544  0.03224077\n",
      "  -0.00760424 -0.02256087 -0.02685989  0.00226678 -0.04385168  0.00119857\n",
      "   0.03774544  0.03224077 -0.00760424 -0.02256087 -0.02685989  0.00226678\n",
      "  -0.04385168  0.00119857  0.03774544  0.03224077 -0.00760424 -0.02256087\n",
      "  -0.02685989  0.00226678 -0.04385168  0.00119857  0.03774544  0.03224077\n",
      "  -0.00760424 -0.02256087 -0.02685989  0.00226678 -0.04385168  0.00119857]\n",
      " [-0.02878731 -0.0265355   0.01230639  0.02184333  0.01229494 -0.03252731\n",
      "   0.02623424 -0.03275543  0.01858205  0.0196751  -0.00425322  0.04497537\n",
      "  -0.03741664 -0.04503999 -0.02257574  0.03018231  0.04895766 -0.01155044\n",
      "  -0.03116281 -0.01587792  0.0036968  -0.00192527 -0.0471268   0.03254895\n",
      "  -0.02099657 -0.00372682  0.03763645  0.02339592 -0.04064574 -0.04777142\n",
      "   0.04741727  0.04608115 -0.02878731 -0.0265355   0.01230639  0.02184333\n",
      "   0.01229494 -0.03252731  0.02623424 -0.03275543 -0.04068071  0.02491928\n",
      "   0.01560367  0.04821345 -0.00521604 -0.04793937 -0.03559256  0.04225627\n",
      "   0.03424484  0.00468548 -0.02316825 -0.02190601 -0.02104993  0.03283853\n",
      "   0.00412433 -0.02419662  0.04895766 -0.01155044 -0.03116281 -0.01587792\n",
      "   0.0036968  -0.00192527 -0.0471268   0.03254895 -0.02180441  0.03625147\n",
      "  -0.02246536  0.04621306 -0.02908372 -0.04111709 -0.04106941  0.02021626\n",
      "   0.03774544  0.03224077 -0.00760424 -0.02256087 -0.02685989  0.00226678\n",
      "  -0.04385168  0.00119857  0.03774544  0.03224077 -0.00760424 -0.02256087\n",
      "  -0.02685989  0.00226678 -0.04385168  0.00119857  0.03774544  0.03224077\n",
      "  -0.00760424 -0.02256087 -0.02685989  0.00226678 -0.04385168  0.00119857]\n",
      " [ 0.02713654 -0.03097652  0.0491276   0.01139594 -0.02367605 -0.03145035\n",
      "   0.00237761  0.01641146 -0.04068071  0.02491928  0.01560367  0.04821345\n",
      "  -0.00521604 -0.04793937 -0.03559256  0.04225627  0.02322966 -0.00913255\n",
      "   0.04162628 -0.02427381  0.02361368 -0.04316616  0.03342781 -0.01610591\n",
      "  -0.03312038 -0.04274417  0.04839784 -0.0206292  -0.01258594  0.04753276\n",
      "  -0.02557302 -0.01910021  0.0265477   0.02173885  0.01587517  0.04229956\n",
      "   0.00973463 -0.01574915 -0.0445418  -0.04555872 -0.02878731 -0.0265355\n",
      "   0.01230639  0.02184333  0.01229494 -0.03252731  0.02623424 -0.03275543\n",
      "   0.04895766 -0.01155044 -0.03116281 -0.01587792  0.0036968  -0.00192527\n",
      "  -0.0471268   0.03254895 -0.02568867  0.04661616 -0.01222814  0.0088737\n",
      "  -0.02993857  0.018614   -0.01324135 -0.00023749  0.01858205  0.0196751\n",
      "  -0.00425322  0.04497537 -0.03741664 -0.04503999 -0.02257574  0.03018231\n",
      "  -0.02180441  0.03625147 -0.02246536  0.04621306 -0.02908372 -0.04111709\n",
      "  -0.04106941  0.02021626 -0.02878731 -0.0265355   0.01230639  0.02184333\n",
      "   0.01229494 -0.03252731  0.02623424 -0.03275543  0.0265477   0.02173885\n",
      "   0.01587517  0.04229956  0.00973463 -0.01574915 -0.0445418  -0.04555872]]\n"
     ]
    }
   ],
   "source": [
    "print(\"Shape of embeddings : \", embeddings.shape)\n",
    "print(embeddings)"
   ]
  },
  {
   "cell_type": "code",
   "execution_count": 21,
   "metadata": {},
   "outputs": [
    {
     "name": "stdout",
     "output_type": "stream",
     "text": [
      "Shape of embeddings :  (3, 12, 8)\n",
      "[[[-0.0240765   0.02443459 -0.03537592 -0.0094936  -0.01362468\n",
      "   -0.0450674  -0.00685731  0.02262599]\n",
      "  [ 0.02322966 -0.00913255  0.04162628 -0.02427381  0.02361368\n",
      "   -0.04316616  0.03342781 -0.01610591]\n",
      "  [ 0.03424484  0.00468548 -0.02316825 -0.02190601 -0.02104993\n",
      "    0.03283853  0.00412433 -0.02419662]\n",
      "  [ 0.04895766 -0.01155044 -0.03116281 -0.01587792  0.0036968\n",
      "   -0.00192527 -0.0471268   0.03254895]\n",
      "  [-0.02099657 -0.00372682  0.03763645  0.02339592 -0.04064574\n",
      "   -0.04777142  0.04741727  0.04608115]\n",
      "  [-0.02878731 -0.0265355   0.01230639  0.02184333  0.01229494\n",
      "   -0.03252731  0.02623424 -0.03275543]\n",
      "  [ 0.03774544  0.03224077 -0.00760424 -0.02256087 -0.02685989\n",
      "    0.00226678 -0.04385168  0.00119857]\n",
      "  [ 0.03774544  0.03224077 -0.00760424 -0.02256087 -0.02685989\n",
      "    0.00226678 -0.04385168  0.00119857]\n",
      "  [ 0.03774544  0.03224077 -0.00760424 -0.02256087 -0.02685989\n",
      "    0.00226678 -0.04385168  0.00119857]\n",
      "  [ 0.03774544  0.03224077 -0.00760424 -0.02256087 -0.02685989\n",
      "    0.00226678 -0.04385168  0.00119857]\n",
      "  [ 0.03774544  0.03224077 -0.00760424 -0.02256087 -0.02685989\n",
      "    0.00226678 -0.04385168  0.00119857]\n",
      "  [ 0.03774544  0.03224077 -0.00760424 -0.02256087 -0.02685989\n",
      "    0.00226678 -0.04385168  0.00119857]]\n",
      "\n",
      " [[-0.02878731 -0.0265355   0.01230639  0.02184333  0.01229494\n",
      "   -0.03252731  0.02623424 -0.03275543]\n",
      "  [ 0.01858205  0.0196751  -0.00425322  0.04497537 -0.03741664\n",
      "   -0.04503999 -0.02257574  0.03018231]\n",
      "  [ 0.04895766 -0.01155044 -0.03116281 -0.01587792  0.0036968\n",
      "   -0.00192527 -0.0471268   0.03254895]\n",
      "  [-0.02099657 -0.00372682  0.03763645  0.02339592 -0.04064574\n",
      "   -0.04777142  0.04741727  0.04608115]\n",
      "  [-0.02878731 -0.0265355   0.01230639  0.02184333  0.01229494\n",
      "   -0.03252731  0.02623424 -0.03275543]\n",
      "  [-0.04068071  0.02491928  0.01560367  0.04821345 -0.00521604\n",
      "   -0.04793937 -0.03559256  0.04225627]\n",
      "  [ 0.03424484  0.00468548 -0.02316825 -0.02190601 -0.02104993\n",
      "    0.03283853  0.00412433 -0.02419662]\n",
      "  [ 0.04895766 -0.01155044 -0.03116281 -0.01587792  0.0036968\n",
      "   -0.00192527 -0.0471268   0.03254895]\n",
      "  [-0.02180441  0.03625147 -0.02246536  0.04621306 -0.02908372\n",
      "   -0.04111709 -0.04106941  0.02021626]\n",
      "  [ 0.03774544  0.03224077 -0.00760424 -0.02256087 -0.02685989\n",
      "    0.00226678 -0.04385168  0.00119857]\n",
      "  [ 0.03774544  0.03224077 -0.00760424 -0.02256087 -0.02685989\n",
      "    0.00226678 -0.04385168  0.00119857]\n",
      "  [ 0.03774544  0.03224077 -0.00760424 -0.02256087 -0.02685989\n",
      "    0.00226678 -0.04385168  0.00119857]]\n",
      "\n",
      " [[ 0.02713654 -0.03097652  0.0491276   0.01139594 -0.02367605\n",
      "   -0.03145035  0.00237761  0.01641146]\n",
      "  [-0.04068071  0.02491928  0.01560367  0.04821345 -0.00521604\n",
      "   -0.04793937 -0.03559256  0.04225627]\n",
      "  [ 0.02322966 -0.00913255  0.04162628 -0.02427381  0.02361368\n",
      "   -0.04316616  0.03342781 -0.01610591]\n",
      "  [-0.03312038 -0.04274417  0.04839784 -0.0206292  -0.01258594\n",
      "    0.04753276 -0.02557302 -0.01910021]\n",
      "  [ 0.0265477   0.02173885  0.01587517  0.04229956  0.00973463\n",
      "   -0.01574915 -0.0445418  -0.04555872]\n",
      "  [-0.02878731 -0.0265355   0.01230639  0.02184333  0.01229494\n",
      "   -0.03252731  0.02623424 -0.03275543]\n",
      "  [ 0.04895766 -0.01155044 -0.03116281 -0.01587792  0.0036968\n",
      "   -0.00192527 -0.0471268   0.03254895]\n",
      "  [-0.02568867  0.04661616 -0.01222814  0.0088737  -0.02993857\n",
      "    0.018614   -0.01324135 -0.00023749]\n",
      "  [ 0.01858205  0.0196751  -0.00425322  0.04497537 -0.03741664\n",
      "   -0.04503999 -0.02257574  0.03018231]\n",
      "  [-0.02180441  0.03625147 -0.02246536  0.04621306 -0.02908372\n",
      "   -0.04111709 -0.04106941  0.02021626]\n",
      "  [-0.02878731 -0.0265355   0.01230639  0.02184333  0.01229494\n",
      "   -0.03252731  0.02623424 -0.03275543]\n",
      "  [ 0.0265477   0.02173885  0.01587517  0.04229956  0.00973463\n",
      "   -0.01574915 -0.0445418  -0.04555872]]]\n"
     ]
    }
   ],
   "source": [
    "embeddings = embeddings.reshape(-1, maxlen, 8)\n",
    "print(\"Shape of embeddings : \", embeddings.shape)\n",
    "print(embeddings)"
   ]
  },
  {
   "cell_type": "markdown",
   "metadata": {},
   "source": [
    "<br>"
   ]
  },
  {
   "cell_type": "markdown",
   "metadata": {},
   "source": [
    "The resulting shape is (3, 12, 8).\n",
    "\n",
    "**3 $\\rightarrow$ no of documents**\n",
    "\n",
    "**12 $\\rightarrow$ each document is made of 12 words which was our maximum length of any document.**\n",
    "\n",
    "**8 $\\rightarrow$ each word is 8 dimensional.**"
   ]
  },
  {
   "cell_type": "markdown",
   "metadata": {},
   "source": [
    "<br>"
   ]
  },
  {
   "cell_type": "markdown",
   "metadata": {},
   "source": [
    "## GETTING ENCODING FOR A PARTICULAR WORD IN A SPECIFIC DOCUMENT"
   ]
  },
  {
   "cell_type": "code",
   "execution_count": 26,
   "metadata": {},
   "outputs": [
    {
     "name": "stdout",
     "output_type": "stream",
     "text": [
      "The encoding for  1 th word in 1 th document is : \n",
      "\n",
      " [-0.0240765   0.02443459 -0.03537592 -0.0094936  -0.01362468 -0.0450674\n",
      " -0.00685731  0.02262599] \n",
      "\n",
      "The encoding for  2 th word in 1 th document is : \n",
      "\n",
      " [ 0.02322966 -0.00913255  0.04162628 -0.02427381  0.02361368 -0.04316616\n",
      "  0.03342781 -0.01610591] \n",
      "\n",
      "The encoding for  3 th word in 1 th document is : \n",
      "\n",
      " [ 0.03424484  0.00468548 -0.02316825 -0.02190601 -0.02104993  0.03283853\n",
      "  0.00412433 -0.02419662] \n",
      "\n",
      "The encoding for  4 th word in 1 th document is : \n",
      "\n",
      " [ 0.04895766 -0.01155044 -0.03116281 -0.01587792  0.0036968  -0.00192527\n",
      " -0.0471268   0.03254895] \n",
      "\n",
      "The encoding for  5 th word in 1 th document is : \n",
      "\n",
      " [-0.02099657 -0.00372682  0.03763645  0.02339592 -0.04064574 -0.04777142\n",
      "  0.04741727  0.04608115] \n",
      "\n",
      "The encoding for  6 th word in 1 th document is : \n",
      "\n",
      " [-0.02878731 -0.0265355   0.01230639  0.02184333  0.01229494 -0.03252731\n",
      "  0.02623424 -0.03275543] \n",
      "\n",
      "The encoding for  7 th word in 1 th document is : \n",
      "\n",
      " [ 0.03774544  0.03224077 -0.00760424 -0.02256087 -0.02685989  0.00226678\n",
      " -0.04385168  0.00119857] \n",
      "\n",
      "The encoding for  8 th word in 1 th document is : \n",
      "\n",
      " [ 0.03774544  0.03224077 -0.00760424 -0.02256087 -0.02685989  0.00226678\n",
      " -0.04385168  0.00119857] \n",
      "\n",
      "The encoding for  9 th word in 1 th document is : \n",
      "\n",
      " [ 0.03774544  0.03224077 -0.00760424 -0.02256087 -0.02685989  0.00226678\n",
      " -0.04385168  0.00119857] \n",
      "\n",
      "The encoding for  10 th word in 1 th document is : \n",
      "\n",
      " [ 0.03774544  0.03224077 -0.00760424 -0.02256087 -0.02685989  0.00226678\n",
      " -0.04385168  0.00119857] \n",
      "\n",
      "The encoding for  11 th word in 1 th document is : \n",
      "\n",
      " [ 0.03774544  0.03224077 -0.00760424 -0.02256087 -0.02685989  0.00226678\n",
      " -0.04385168  0.00119857] \n",
      "\n",
      "The encoding for  12 th word in 1 th document is : \n",
      "\n",
      " [ 0.03774544  0.03224077 -0.00760424 -0.02256087 -0.02685989  0.00226678\n",
      " -0.04385168  0.00119857] \n",
      "\n",
      "The encoding for  1 th word in 2 th document is : \n",
      "\n",
      " [-0.02878731 -0.0265355   0.01230639  0.02184333  0.01229494 -0.03252731\n",
      "  0.02623424 -0.03275543] \n",
      "\n",
      "The encoding for  2 th word in 2 th document is : \n",
      "\n",
      " [ 0.01858205  0.0196751  -0.00425322  0.04497537 -0.03741664 -0.04503999\n",
      " -0.02257574  0.03018231] \n",
      "\n",
      "The encoding for  3 th word in 2 th document is : \n",
      "\n",
      " [ 0.04895766 -0.01155044 -0.03116281 -0.01587792  0.0036968  -0.00192527\n",
      " -0.0471268   0.03254895] \n",
      "\n",
      "The encoding for  4 th word in 2 th document is : \n",
      "\n",
      " [-0.02099657 -0.00372682  0.03763645  0.02339592 -0.04064574 -0.04777142\n",
      "  0.04741727  0.04608115] \n",
      "\n",
      "The encoding for  5 th word in 2 th document is : \n",
      "\n",
      " [-0.02878731 -0.0265355   0.01230639  0.02184333  0.01229494 -0.03252731\n",
      "  0.02623424 -0.03275543] \n",
      "\n",
      "The encoding for  6 th word in 2 th document is : \n",
      "\n",
      " [-0.04068071  0.02491928  0.01560367  0.04821345 -0.00521604 -0.04793937\n",
      " -0.03559256  0.04225627] \n",
      "\n",
      "The encoding for  7 th word in 2 th document is : \n",
      "\n",
      " [ 0.03424484  0.00468548 -0.02316825 -0.02190601 -0.02104993  0.03283853\n",
      "  0.00412433 -0.02419662] \n",
      "\n",
      "The encoding for  8 th word in 2 th document is : \n",
      "\n",
      " [ 0.04895766 -0.01155044 -0.03116281 -0.01587792  0.0036968  -0.00192527\n",
      " -0.0471268   0.03254895] \n",
      "\n",
      "The encoding for  9 th word in 2 th document is : \n",
      "\n",
      " [-0.02180441  0.03625147 -0.02246536  0.04621306 -0.02908372 -0.04111709\n",
      " -0.04106941  0.02021626] \n",
      "\n",
      "The encoding for  10 th word in 2 th document is : \n",
      "\n",
      " [ 0.03774544  0.03224077 -0.00760424 -0.02256087 -0.02685989  0.00226678\n",
      " -0.04385168  0.00119857] \n",
      "\n",
      "The encoding for  11 th word in 2 th document is : \n",
      "\n",
      " [ 0.03774544  0.03224077 -0.00760424 -0.02256087 -0.02685989  0.00226678\n",
      " -0.04385168  0.00119857] \n",
      "\n",
      "The encoding for  12 th word in 2 th document is : \n",
      "\n",
      " [ 0.03774544  0.03224077 -0.00760424 -0.02256087 -0.02685989  0.00226678\n",
      " -0.04385168  0.00119857] \n",
      "\n",
      "The encoding for  1 th word in 3 th document is : \n",
      "\n",
      " [ 0.02713654 -0.03097652  0.0491276   0.01139594 -0.02367605 -0.03145035\n",
      "  0.00237761  0.01641146] \n",
      "\n",
      "The encoding for  2 th word in 3 th document is : \n",
      "\n",
      " [-0.04068071  0.02491928  0.01560367  0.04821345 -0.00521604 -0.04793937\n",
      " -0.03559256  0.04225627] \n",
      "\n",
      "The encoding for  3 th word in 3 th document is : \n",
      "\n",
      " [ 0.02322966 -0.00913255  0.04162628 -0.02427381  0.02361368 -0.04316616\n",
      "  0.03342781 -0.01610591] \n",
      "\n",
      "The encoding for  4 th word in 3 th document is : \n",
      "\n",
      " [-0.03312038 -0.04274417  0.04839784 -0.0206292  -0.01258594  0.04753276\n",
      " -0.02557302 -0.01910021] \n",
      "\n",
      "The encoding for  5 th word in 3 th document is : \n",
      "\n",
      " [ 0.0265477   0.02173885  0.01587517  0.04229956  0.00973463 -0.01574915\n",
      " -0.0445418  -0.04555872] \n",
      "\n",
      "The encoding for  6 th word in 3 th document is : \n",
      "\n",
      " [-0.02878731 -0.0265355   0.01230639  0.02184333  0.01229494 -0.03252731\n",
      "  0.02623424 -0.03275543] \n",
      "\n",
      "The encoding for  7 th word in 3 th document is : \n",
      "\n",
      " [ 0.04895766 -0.01155044 -0.03116281 -0.01587792  0.0036968  -0.00192527\n",
      " -0.0471268   0.03254895] \n",
      "\n",
      "The encoding for  8 th word in 3 th document is : \n",
      "\n",
      " [-0.02568867  0.04661616 -0.01222814  0.0088737  -0.02993857  0.018614\n",
      " -0.01324135 -0.00023749] \n",
      "\n",
      "The encoding for  9 th word in 3 th document is : \n",
      "\n",
      " [ 0.01858205  0.0196751  -0.00425322  0.04497537 -0.03741664 -0.04503999\n",
      " -0.02257574  0.03018231] \n",
      "\n",
      "The encoding for  10 th word in 3 th document is : \n",
      "\n",
      " [-0.02180441  0.03625147 -0.02246536  0.04621306 -0.02908372 -0.04111709\n",
      " -0.04106941  0.02021626] \n",
      "\n",
      "The encoding for  11 th word in 3 th document is : \n",
      "\n",
      " [-0.02878731 -0.0265355   0.01230639  0.02184333  0.01229494 -0.03252731\n",
      "  0.02623424 -0.03275543] \n",
      "\n",
      "The encoding for  12 th word in 3 th document is : \n",
      "\n",
      " [ 0.0265477   0.02173885  0.01587517  0.04229956  0.00973463 -0.01574915\n",
      " -0.0445418  -0.04555872] \n",
      "\n"
     ]
    }
   ],
   "source": [
    "for i, doc in enumerate(embeddings) :\n",
    "    for j, word in enumerate(doc) :\n",
    "        print(\"The encoding for \", j+1, \"th word\", \"in\", i+1, \"th document is : \\n\\n\", word, '\\n')"
   ]
  },
  {
   "cell_type": "markdown",
   "metadata": {},
   "source": [
    "<br>"
   ]
  },
  {
   "cell_type": "markdown",
   "metadata": {},
   "source": [
    "Now this makes it easier to visualize that we have 3(size of corp) documents with each consisting of 12(maxlen) words and each word mapped to a 8-dimensional vector."
   ]
  },
  {
   "cell_type": "markdown",
   "metadata": {},
   "source": [
    "<br>"
   ]
  },
  {
   "cell_type": "markdown",
   "metadata": {},
   "source": [
    "## HOW TO WORK WITH A REAL PIECE OF TEXT\n",
    "\n",
    "Just like above we can now use any other document. We can `sent_tokenize` the doc into sentences.\n",
    "\n",
    "Each sentence has a list of words which we will integer encode using the `ont_hot` function as below.\n",
    "\n",
    "Now each sentence will be having different number of words. So we will need to pad the sequences to the sentence with maximum words.\n",
    "\n",
    "**At this point we are ready to feed the input to Keras Embedding layer as shown above.**\n",
    "\n",
    "**`input_dim`** = **the vocab size that we will choose**\n",
    "\n",
    "**`output_dim`** = **the number of dimensions we wish to embed into**\n",
    "\n",
    "**`input_length`** = **length of the maximum document**"
   ]
  },
  {
   "cell_type": "markdown",
   "metadata": {},
   "source": [
    "<br>"
   ]
  },
  {
   "cell_type": "markdown",
   "metadata": {},
   "source": [
    "**If you want to see the application of Keras embedding layer on a real task eg text classificationi then please check out my [this](https://github.com/mrc03/IMDB-Movie-Review-Sentiment-Analysis) repo on Github in which I have used the embeddings to perform sentiment analysis on IMdb moview reviewe dataset.**"
   ]
  }
 ],
 "metadata": {
  "kernelspec": {
   "display_name": "Python 3",
   "language": "python",
   "name": "python3"
  },
  "language_info": {
   "codemirror_mode": {
    "name": "ipython",
    "version": 3
   },
   "file_extension": ".py",
   "mimetype": "text/x-python",
   "name": "python",
   "nbconvert_exporter": "python",
   "pygments_lexer": "ipython3",
   "version": "3.6.9"
  }
 },
 "nbformat": 4,
 "nbformat_minor": 4
}
