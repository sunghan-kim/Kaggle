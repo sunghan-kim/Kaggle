{
 "cells": [
  {
   "cell_type": "markdown",
   "metadata": {},
   "source": [
    "# Description"
   ]
  },
  {
   "cell_type": "markdown",
   "metadata": {},
   "source": [
    "In this tutorial competition, we dig a little \"deeper\" into sentiment analysis. [Google's Word2Vec](https://code.google.com/archive/p/word2vec/) is a deep-learning inspired method that focuses on the meaning of words. Word2Vec attempts to [understand meaning](https://opensource.googleblog.com/2013/08/learning-meaning-behind-words.html) and semantic relationships among words. It works in a way that is similar to deep approaches, such as recurrent neural nets or deep neural nets, but is computationally more efficient. This tutorial focuses on Word2Vec for sentiment analysis."
   ]
  },
  {
   "cell_type": "markdown",
   "metadata": {},
   "source": [
    "Sentiment analysis is a challenging subject in machine learning. People express their emotions in language that is often obscured by sarcasm, ambiguity, and plays on words, all of which could be very misleading for both humans and computers. There's another [Kaggle competition](https://www.kaggle.com/c/sentiment-analysis-on-movie-reviews) for movie review sentiment analysis. In this tutorial we explore how Word2Vec can be applied to a similar problem."
   ]
  },
  {
   "cell_type": "markdown",
   "metadata": {},
   "source": [
    "Deep learning has been in the news a lot over the past few years, even making it to the [front page of the New York Times](https://www.nytimes.com/2012/11/24/science/scientists-see-advances-in-deep-learning-a-part-of-artificial-intelligence.html?pagewanted=all&_r=0). These machine learning techniques, inspired by the architecture of the human brain and made possible by recent advances in computing power, have been making waves via breakthrough results in image recognition, speech processing, and natural language tasks. Recently, deep learning approaches won several Kaggle competitions, including a [drug discovery](https://www.kaggle.com/c/MerckActivity) task, and [cat and dog image recognition](https://www.kaggle.com/c/dogs-vs-cats)."
   ]
  },
  {
   "cell_type": "markdown",
   "metadata": {},
   "source": [
    "<br>"
   ]
  },
  {
   "cell_type": "markdown",
   "metadata": {},
   "source": [
    "# Tutorial Overview"
   ]
  },
  {
   "cell_type": "markdown",
   "metadata": {},
   "source": [
    "This tutorial will help you get started with Word2Vec for natural language processing. It has two goals: "
   ]
  },
  {
   "cell_type": "markdown",
   "metadata": {},
   "source": [
    "## Basic Natural Language Processing\n",
    "\n",
    "**Part 1** of this tutorial is intended for beginners and covers basic natural language processing techniques, which are needed for later parts of the tutorial."
   ]
  },
  {
   "cell_type": "markdown",
   "metadata": {},
   "source": [
    "## Deep Learning for Text Understanding\n",
    "\n",
    "In **Parts 2 and 3**, we delve into how to train a model using Word2Vec and how to use the resulting word vectors for sentiment analysis."
   ]
  },
  {
   "cell_type": "markdown",
   "metadata": {},
   "source": [
    "Since deep learning is a rapidly evolving field, large amounts of the work has not yet been published, or exists only as academic papers. Part 3 of the tutorial is more exploratory than prescriptive -- we experiment with several ways of using Word2Vec rather than giving you a recipe for using the output."
   ]
  },
  {
   "cell_type": "markdown",
   "metadata": {},
   "source": [
    "To achieve these goals, we rely on an IMDB sentiment analysis data set, which has 100,000 multi-paragraph movie reviews, both positive and negative. "
   ]
  },
  {
   "cell_type": "markdown",
   "metadata": {},
   "source": [
    "<br>"
   ]
  },
  {
   "cell_type": "markdown",
   "metadata": {},
   "source": [
    "# Acknowledgements"
   ]
  },
  {
   "cell_type": "markdown",
   "metadata": {},
   "source": [
    "This dataset was collected in association with the following publication:\n",
    "\n",
    "> Andrew L. Maas, Raymond E. Daly, Peter T. Pham, Dan Huang, Andrew Y. Ng, and Christopher Potts. (2011). \"Learning Word Vectors for Sentiment Analysis.\" The 49th Annual Meeting of the Association for Computational Linguistics (ACL 2011). ([link](http://ai.stanford.edu/~ang/papers/acl11-WordVectorsSentimentAnalysis.pdf))\n",
    "\n",
    "Please email the author of that paper if you use the data for any research applications. The tutorial was developed by [Angela Chapman](https://www.linkedin.com/authwall?trk=gf&trkInfo=AQGq214pQ8phqwAAAW55hKMwiD6hbE_GBal8uYriy6BKpKh1N7dpPdNbMebhW9iFD_8L6_EWF4OJlq9KUXOBOExBR5X3L_DyTniuuyhZIFWQqqTv_iCW3SXxYy5J1Tg0d513rbQ=&originalReferer=&sessionRedirect=https%3A%2F%2Fwww.linkedin.com%2Fpub%2Fangela-chapman%2F5%2F330%2Fb97) during her summer 2014 internship at Kaggle."
   ]
  },
  {
   "cell_type": "code",
   "execution_count": null,
   "metadata": {},
   "outputs": [],
   "source": []
  }
 ],
 "metadata": {
  "kernelspec": {
   "display_name": "Python 3",
   "language": "python",
   "name": "python3"
  },
  "language_info": {
   "codemirror_mode": {
    "name": "ipython",
    "version": 3
   },
   "file_extension": ".py",
   "mimetype": "text/x-python",
   "name": "python",
   "nbconvert_exporter": "python",
   "pygments_lexer": "ipython3",
   "version": "3.6.8"
  }
 },
 "nbformat": 4,
 "nbformat_minor": 2
}
