{
 "cells": [
  {
   "cell_type": "markdown",
   "metadata": {},
   "source": [
    "# Part 2. Word Vectors"
   ]
  },
  {
   "cell_type": "markdown",
   "metadata": {},
   "source": [
    "[https://www.kaggle.com/c/word2vec-nlp-tutorial/overview/part-2-word-vectors](https://www.kaggle.com/c/word2vec-nlp-tutorial/overview/part-2-word-vectors)"
   ]
  },
  {
   "cell_type": "markdown",
   "metadata": {},
   "source": [
    "<br>"
   ]
  },
  {
   "cell_type": "markdown",
   "metadata": {},
   "source": [
    "# Code\n",
    "\n",
    "The tutorial code for Part 2 lives [here](https://github.com/wendykan/DeepLearningMovies/blob/master/Word2Vec_AverageVectors.py)."
   ]
  },
  {
   "cell_type": "markdown",
   "metadata": {},
   "source": [
    "<br>"
   ]
  },
  {
   "cell_type": "markdown",
   "metadata": {},
   "source": [
    "# Introducing Distributed Word Vectors"
   ]
  },
  {
   "cell_type": "markdown",
   "metadata": {},
   "source": [
    "This part of the tutorial will focus on using distributed word vectors created by the Word2Vec algorithm. (For an overview of deep learning, as well as pointers to some additional tutorials, see the \"What is Deep Learning?\" page)."
   ]
  },
  {
   "cell_type": "markdown",
   "metadata": {},
   "source": [
    "Parts 2 and 3 assume more familiarity with Python than Part 1. We developed the following code on a dual-core Macbook Pro, however, we have not yet run the code successfully on Windows. If you are a Windows user and you get it working, please leave a note on how you did it in the forum! For more detail, see the \"Setting Up Your System\" page."
   ]
  },
  {
   "cell_type": "markdown",
   "metadata": {},
   "source": [
    "Word2vec, published by Google in 2013, is a neural network implementation(실행) that learns distributed representations for words. Other deep or recurrent neural network architectures had been proposed for learning word representations prior to this, but the major problem with these was the long time required to train the models. Word2vec learns quickly relative to other models."
   ]
  },
  {
   "cell_type": "markdown",
   "metadata": {},
   "source": [
    "Word2Vec does not need labels in order to create meaningful representations. This is useful, since most data in the real world is unlabeled. If the network is given enough training data (tens of billions of words), it produces word vectors with intriguing(아주 흥미로운) characteristics. Words with similar meanings appear in clusters, and clusters are spaced such that some word relationships, such as analogies(유사점), can be reproduced using vector math. The famous example is that, with highly trained word vectors, \"king - man + woman = queen.\""
   ]
  },
  {
   "cell_type": "markdown",
   "metadata": {},
   "source": [
    "Check out Google's code, writeup, and the accompanying papers. [This presentation](https://docs.google.com/file/d/0B7XkCwpI5KDYRWRnd1RzWXQ2TWc/edit) is also helpful. The original code is in C, but it has since been ported to other languages, including Python. We encourage you to play with the original C tool, but be warned that it is not user-friendly if you are a beginning programmer (we had to manually edit the header files to compile it)."
   ]
  },
  {
   "cell_type": "markdown",
   "metadata": {},
   "source": [
    "Recent work out of Stanford has also [applied deep learning to sentiment analysis](http://nlp.stanford.edu/sentiment/); their code is available in Java. However, their approach, which relies on sentence parsing, cannot be applied in a straightforward(복잡하지 않은) way to paragraphs(단락) of arbitrary(임의적인) length."
   ]
  },
  {
   "cell_type": "markdown",
   "metadata": {},
   "source": [
    "Distributed word vectors are powerful and can be used for many applications, particularly word prediction and translation. Here, we will try to apply them to sentiment analysis."
   ]
  },
  {
   "cell_type": "markdown",
   "metadata": {},
   "source": [
    "<br>"
   ]
  },
  {
   "cell_type": "markdown",
   "metadata": {},
   "source": [
    "# Using word2vec in Python"
   ]
  },
  {
   "cell_type": "markdown",
   "metadata": {},
   "source": [
    "In Python, we will use the excellent implementation of word2vec from the `gensim` package. If you don't already have gensim installed, you'll need to install it. There is an excellent tutorial that accompanies(동반하다) the Python Word2Vec implementation, [here](http://radimrehurek.com/2014/02/word2vec-tutorial/)."
   ]
  },
  {
   "cell_type": "markdown",
   "metadata": {},
   "source": [
    "Although Word2Vec does not require graphics processing units (GPUs) like many deep learning algorithms, it is compute intensive(짧은 시간에 많은 일을 하는). Both Google's version and the Python version rely on multi-threading (running multiple processes in parallel on your computer to save time). ln order to train your model in a reasonable amount of time, you will need to install `cython` ([instructions here](http://docs.cython.org/src/quickstart/install.html)). Word2Vec will run without cython installed, but it will take days to run instead of minutes."
   ]
  },
  {
   "cell_type": "markdown",
   "metadata": {},
   "source": [
    "<br>"
   ]
  },
  {
   "cell_type": "markdown",
   "metadata": {},
   "source": [
    "# Preparing to Train a Model"
   ]
  },
  {
   "cell_type": "markdown",
   "metadata": {},
   "source": [
    "Now down to the nitty-gritty! First, we read in the data with pandas, as we did in Part 1. Unlike Part 1, we now use **unlabeledTrain.tsv**, which contains 50,000 additional reviews with no labels. When we built the Bag of Words model in Part 1, extra unlabeled training reviews were not useful. However, since Word2Vec can learn from unlabeled data, these extra 50,000 reviews can now be used."
   ]
  },
  {
   "cell_type": "code",
   "execution_count": 1,
   "metadata": {},
   "outputs": [],
   "source": [
    "import pandas as pd\n",
    "\n",
    "# Read data from files\n",
    "train = pd.read_csv(\"../input/labeledTrainData.tsv\",\n",
    "                    header=0,\n",
    "                    delimiter=\"\\t\",\n",
    "                    quoting=3)\n",
    "test = pd.read_csv(\"../input/testData.tsv\",\n",
    "                   header=0,\n",
    "                   delimiter=\"\\t\",\n",
    "                   quoting=3)\n",
    "unlabeled_train = pd.read_csv(\"../input/unlabeledTrainData.tsv\",\n",
    "                              header=0,\n",
    "                              delimiter=\"\\t\",\n",
    "                              quoting=3)"
   ]
  },
  {
   "cell_type": "code",
   "execution_count": 3,
   "metadata": {},
   "outputs": [
    {
     "name": "stdout",
     "output_type": "stream",
     "text": [
      "Read 25000 labeled train reviews, 25000 labeled test reviews, and 50000 unlabeled reviews.\n",
      "\n"
     ]
    }
   ],
   "source": [
    "# Verify(확인하다) the number of reviews were read (100,000 in total)\n",
    "print(\"Read %d labeled train reviews, %d labeled test reviews,\\\n",
    " and %d unlabeled reviews.\\n\" % (train[\"review\"].size,\n",
    "                                      test[\"review\"].size,\n",
    "                                      unlabeled_train[\"review\"].size))"
   ]
  },
  {
   "cell_type": "markdown",
   "metadata": {},
   "source": [
    "The functions we write to clean the data are also similar to Part 1, although now there are a couple of differences. First, to train Word2Vec it is better not to remove stop words because the algorithm relies on the broader(넓은) context(맥락) of the sentence in order to produce high-quality word vectors. For this reason, we will make stop word removal optional in the functions below. It also might be better not to remove numbers, but we leave that as an exercise for the reader."
   ]
  },
  {
   "cell_type": "code",
   "execution_count": 5,
   "metadata": {},
   "outputs": [],
   "source": [
    "# Import various modules for string cleaning\n",
    "from bs4 import BeautifulSoup\n",
    "import re\n",
    "from nltk.corpus import stopwords\n",
    "\n",
    "def review_to_wordlist( review, remove_stopwords=False ):\n",
    "    # Function to convert a document to a sequence of words,\n",
    "    # optionally removing stop words.  Returns a list of words.\n",
    "    #\n",
    "    # 1. Remove HTML\n",
    "    review_text = BeautifulSoup(review).get_text()\n",
    "    #  \n",
    "    # 2. Remove non-letters\n",
    "    review_text = re.sub(\"[^a-zA-Z]\",\" \", review_text)\n",
    "    #\n",
    "    # 3. Convert words to lower case and split them\n",
    "    words = review_text.lower().split()\n",
    "    #\n",
    "    # 4. Optionally remove stop words (false by default)\n",
    "    if remove_stopwords:\n",
    "        stops = set(stopwords.words(\"english\"))\n",
    "        words = [w for w in words if not w in stops]\n",
    "    #\n",
    "    # 5. Return a list of words\n",
    "    return(words)"
   ]
  },
  {
   "cell_type": "markdown",
   "metadata": {},
   "source": [
    "Next, we want a specific input format. Word2Vec expects single sentences, each one as a list of words. In other words, the input format is a list of lists."
   ]
  },
  {
   "cell_type": "markdown",
   "metadata": {},
   "source": [
    "It is not at all straightforward how to split a paragraph into sentences. There are all kinds of gotchas in natural language. English sentences can end with \"?\", \"!\", \"\"\", or \".\", among other things, and spacing and capitalization are not reliable guides either. For this reason, we'll use NLTK's **punkt** tokenizer for sentence splitting. In order to use this, you will need to install NLTK and use nltk.download() to download the relevant training file for punkt."
   ]
  },
  {
   "cell_type": "code",
   "execution_count": 6,
   "metadata": {},
   "outputs": [
    {
     "name": "stdout",
     "output_type": "stream",
     "text": [
      "showing info https://raw.githubusercontent.com/nltk/nltk_data/gh-pages/index.xml\n"
     ]
    },
    {
     "data": {
      "text/plain": [
       "True"
      ]
     },
     "execution_count": 6,
     "metadata": {},
     "output_type": "execute_result"
    }
   ],
   "source": [
    "# Download the punkt tokenizer for sentence splitting\n",
    "import nltk.data\n",
    "nltk.download()"
   ]
  },
  {
   "cell_type": "code",
   "execution_count": 7,
   "metadata": {},
   "outputs": [],
   "source": [
    "# Load the punkt tokenizer\n",
    "tokenizer = nltk.data.load('tokenizers/punkt/english.pickle')"
   ]
  },
  {
   "cell_type": "code",
   "execution_count": 9,
   "metadata": {},
   "outputs": [],
   "source": [
    "from tqdm import tqdm"
   ]
  },
  {
   "cell_type": "code",
   "execution_count": 10,
   "metadata": {},
   "outputs": [],
   "source": [
    "# Define a function to split a review into parsed sentences\n",
    "def review_to_sentences(review, tokenizer, remove_stopwords=False) :\n",
    "    \n",
    "    # Function to split a review into parsed sentences.\n",
    "    # Returns a list of sentences, where each sentence is a list of words\n",
    "    #\n",
    "    # 1. Use the NLTK tokenizer to split the paragraph into sentences\n",
    "    raw_sentences = tokenizer.tokenize(review.strip())\n",
    "    # \n",
    "    # 2. Loop over each sentence\n",
    "    sentences = []\n",
    "    \n",
    "    for raw_sentence in raw_sentences :\n",
    "        \n",
    "        # If a sentence is empty, skip it\n",
    "        if len(raw_sentence) > 0 :\n",
    "            # Otherwise, call review_to_wordlist to get a list of words\n",
    "            sentences.append(review_to_wordlist(raw_sentence, remove_stopwords))\n",
    "            \n",
    "    # Return the list of sentences (each sentence is a list of words)\n",
    "    # so this returns a list of lists\n",
    "    return sentences"
   ]
  },
  {
   "cell_type": "markdown",
   "metadata": {},
   "source": [
    "Now we can apply this function to prepare our data for input to Word2Vec (this will take a couple minutes):"
   ]
  },
  {
   "cell_type": "code",
   "execution_count": 11,
   "metadata": {},
   "outputs": [
    {
     "name": "stderr",
     "output_type": "stream",
     "text": [
      "  0%|                                      | 56/25000 [00:00<00:44, 559.97it/s]"
     ]
    },
    {
     "name": "stdout",
     "output_type": "stream",
     "text": [
      "Parsing sentences from training set\n"
     ]
    },
    {
     "name": "stderr",
     "output_type": "stream",
     "text": [
      "  1%|▎                                    | 215/25000 [00:00<00:46, 528.92it/s]c:\\programdata\\anaconda3\\envs\\tensorflow\\lib\\site-packages\\bs4\\__init__.py:302: UserWarning: \"b'.'\" looks like a filename, not markup. You should probably open this file and pass the filehandle into Beautiful Soup.\n",
      "  ' Beautiful Soup.' % markup)\n",
      "  6%|██▏                                 | 1523/25000 [00:02<00:45, 516.30it/s]c:\\programdata\\anaconda3\\envs\\tensorflow\\lib\\site-packages\\bs4\\__init__.py:302: UserWarning: \"b'...'\" looks like a filename, not markup. You should probably open this file and pass the filehandle into Beautiful Soup.\n",
      "  ' Beautiful Soup.' % markup)\n",
      "  6%|██▎                                 | 1575/25000 [00:02<00:45, 511.29it/s]c:\\programdata\\anaconda3\\envs\\tensorflow\\lib\\site-packages\\bs4\\__init__.py:375: UserWarning: \"http://www.happierabroad.com\"\" looks like a URL. Beautiful Soup is not an HTTP client. You should probably use an HTTP client like requests to get the document behind the URL, and feed that document to Beautiful Soup.\n",
      "  ' that document to Beautiful Soup.' % decoded_markup\n",
      "100%|███████████████████████████████████| 25000/25000 [00:45<00:00, 547.39it/s]\n",
      "  0%|                                      | 61/50000 [00:00<01:27, 569.01it/s]"
     ]
    },
    {
     "name": "stdout",
     "output_type": "stream",
     "text": [
      "Parsing sentences from unlabeled set\n"
     ]
    },
    {
     "name": "stderr",
     "output_type": "stream",
     "text": [
      "  1%|▏                                    | 259/50000 [00:00<01:26, 573.29it/s]c:\\programdata\\anaconda3\\envs\\tensorflow\\lib\\site-packages\\bs4\\__init__.py:375: UserWarning: \"http://www.archive.org/details/LovefromaStranger\"\" looks like a URL. Beautiful Soup is not an HTTP client. You should probably use an HTTP client like requests to get the document behind the URL, and feed that document to Beautiful Soup.\n",
      "  ' that document to Beautiful Soup.' % decoded_markup\n",
      "  5%|█▊                                  | 2531/50000 [00:04<01:19, 594.87it/s]c:\\programdata\\anaconda3\\envs\\tensorflow\\lib\\site-packages\\bs4\\__init__.py:375: UserWarning: \"http://www.loosechangeguide.com/LooseChangeGuide.html\"\" looks like a URL. Beautiful Soup is not an HTTP client. You should probably use an HTTP client like requests to get the document behind the URL, and feed that document to Beautiful Soup.\n",
      "  ' that document to Beautiful Soup.' % decoded_markup\n",
      " 14%|█████▏                              | 7182/50000 [00:12<01:13, 583.73it/s]c:\\programdata\\anaconda3\\envs\\tensorflow\\lib\\site-packages\\bs4\\__init__.py:302: UserWarning: \"b'... ...'\" looks like a filename, not markup. You should probably open this file and pass the filehandle into Beautiful Soup.\n",
      "  ' Beautiful Soup.' % markup)\n",
      " 35%|████████████▏                      | 17472/50000 [00:31<01:00, 536.79it/s]c:\\programdata\\anaconda3\\envs\\tensorflow\\lib\\site-packages\\bs4\\__init__.py:302: UserWarning: \"b'....'\" looks like a filename, not markup. You should probably open this file and pass the filehandle into Beautiful Soup.\n",
      "  ' Beautiful Soup.' % markup)\n",
      " 43%|██████████████▉                    | 21362/50000 [00:38<00:52, 549.56it/s]c:\\programdata\\anaconda3\\envs\\tensorflow\\lib\\site-packages\\bs4\\__init__.py:375: UserWarning: \"http://www.msnbc.msn.com/id/4972055/site/newsweek/\"\" looks like a URL. Beautiful Soup is not an HTTP client. You should probably use an HTTP client like requests to get the document behind the URL, and feed that document to Beautiful Soup.\n",
      "  ' that document to Beautiful Soup.' % decoded_markup\n",
      " 62%|█████████████████████▊             | 31176/50000 [00:56<00:34, 544.03it/s]c:\\programdata\\anaconda3\\envs\\tensorflow\\lib\\site-packages\\bs4\\__init__.py:302: UserWarning: \"b'..'\" looks like a filename, not markup. You should probably open this file and pass the filehandle into Beautiful Soup.\n",
      "  ' Beautiful Soup.' % markup)\n",
      " 72%|█████████████████████████▏         | 35994/50000 [01:04<00:24, 580.85it/s]c:\\programdata\\anaconda3\\envs\\tensorflow\\lib\\site-packages\\bs4\\__init__.py:375: UserWarning: \"http://www.youtube.com/watch?v=a0KSqelmgN8\"\" looks like a URL. Beautiful Soup is not an HTTP client. You should probably use an HTTP client like requests to get the document behind the URL, and feed that document to Beautiful Soup.\n",
      "  ' that document to Beautiful Soup.' % decoded_markup\n",
      " 88%|██████████████████████████████▊    | 44034/50000 [01:19<00:10, 565.83it/s]c:\\programdata\\anaconda3\\envs\\tensorflow\\lib\\site-packages\\bs4\\__init__.py:302: UserWarning: \"b'.. .'\" looks like a filename, not markup. You should probably open this file and pass the filehandle into Beautiful Soup.\n",
      "  ' Beautiful Soup.' % markup)\n",
      " 97%|█████████████████████████████████▉ | 48398/50000 [01:27<00:02, 570.66it/s]c:\\programdata\\anaconda3\\envs\\tensorflow\\lib\\site-packages\\bs4\\__init__.py:375: UserWarning: \"http://jake-weird.blogspot.com/2007/08/beneath.html\"\" looks like a URL. Beautiful Soup is not an HTTP client. You should probably use an HTTP client like requests to get the document behind the URL, and feed that document to Beautiful Soup.\n",
      "  ' that document to Beautiful Soup.' % decoded_markup\n",
      "100%|███████████████████████████████████| 50000/50000 [01:30<00:00, 552.45it/s]\n"
     ]
    }
   ],
   "source": [
    "sentences = [] # Initialize an empty list of sentences\n",
    "\n",
    "print(\"Parsing sentences from training set\")\n",
    "for review in tqdm(train[\"review\"]) :\n",
    "    sentences += review_to_sentences(review, tokenizer)\n",
    "    \n",
    "print(\"Parsing sentences from unlabeled set\")\n",
    "for review in tqdm(unlabeled_train[\"review\"]) :\n",
    "    sentences += review_to_sentences(review, tokenizer)"
   ]
  },
  {
   "cell_type": "markdown",
   "metadata": {},
   "source": [
    "You may get a few warnings from BeautifulSoup about URLs in the sentences. These are nothing to worry about (although you may want to consider removing URLs when cleaning the text). "
   ]
  },
  {
   "cell_type": "markdown",
   "metadata": {},
   "source": [
    "We can take a look at the output to see how this differs from Part 1:"
   ]
  },
  {
   "cell_type": "code",
   "execution_count": 12,
   "metadata": {},
   "outputs": [
    {
     "name": "stdout",
     "output_type": "stream",
     "text": [
      "795538\n"
     ]
    }
   ],
   "source": [
    "# Check how many sentences we have in total - should be around 850,000+\n",
    "print(len(sentences))"
   ]
  },
  {
   "cell_type": "code",
   "execution_count": 13,
   "metadata": {},
   "outputs": [
    {
     "name": "stdout",
     "output_type": "stream",
     "text": [
      "['with', 'all', 'this', 'stuff', 'going', 'down', 'at', 'the', 'moment', 'with', 'mj', 'i', 've', 'started', 'listening', 'to', 'his', 'music', 'watching', 'the', 'odd', 'documentary', 'here', 'and', 'there', 'watched', 'the', 'wiz', 'and', 'watched', 'moonwalker', 'again']\n"
     ]
    }
   ],
   "source": [
    "print(sentences[0])"
   ]
  },
  {
   "cell_type": "code",
   "execution_count": 14,
   "metadata": {},
   "outputs": [
    {
     "name": "stdout",
     "output_type": "stream",
     "text": [
      "['maybe', 'i', 'just', 'want', 'to', 'get', 'a', 'certain', 'insight', 'into', 'this', 'guy', 'who', 'i', 'thought', 'was', 'really', 'cool', 'in', 'the', 'eighties', 'just', 'to', 'maybe', 'make', 'up', 'my', 'mind', 'whether', 'he', 'is', 'guilty', 'or', 'innocent']\n"
     ]
    }
   ],
   "source": [
    "print(sentences[1])"
   ]
  },
  {
   "cell_type": "markdown",
   "metadata": {},
   "source": [
    "A minor detail to note is the difference between the \"+=\" and \"append\" when it comes to Python lists. In many applications the two are interchangeable(교환할 수 있는), but here they are not. If you are appending a list of lists to another list of lists, \"append\" will only append the first list; you need to use \"+=\" in order to join all of the lists at once."
   ]
  },
  {
   "cell_type": "markdown",
   "metadata": {},
   "source": [
    "<br>"
   ]
  },
  {
   "cell_type": "markdown",
   "metadata": {},
   "source": [
    "# Training and Saving Your Model"
   ]
  },
  {
   "cell_type": "markdown",
   "metadata": {},
   "source": [
    "With the list of nicely parsed sentences, we're ready to train the model. There are a number of parameter choices that affect the run time and the quality of the final model that is produced. For details on the algorithms below, see the word2vec [API documentation](https://radimrehurek.com/gensim/models/word2vec.html) as well as the [Google documentation](https://code.google.com/archive/p/word2vec/)."
   ]
  },
  {
   "cell_type": "markdown",
   "metadata": {},
   "source": [
    "## Architecture\n",
    "\n",
    "Architecture options are skip-gram (default) or continuous bag of words. We found that skip-gram was very slightly slower but produced better results."
   ]
  },
  {
   "cell_type": "markdown",
   "metadata": {},
   "source": [
    "## Training algorithm\n",
    "\n",
    "Hierarchical softmax (default) or negative sampling. For us, the default worked well."
   ]
  },
  {
   "cell_type": "markdown",
   "metadata": {},
   "source": [
    "## Downsampling of frequent words\n",
    "\n",
    "The Google documentation recommends values between .00001 and .001. For us, values closer 0.001 seemed to improve the accuracy of the final model."
   ]
  },
  {
   "cell_type": "markdown",
   "metadata": {},
   "source": [
    "## Word vector dimensionality\n",
    "\n",
    "More features result in longer runtimes, and often, but not always, result in better models. Reasonable values can be in the tens to hundreds; we used 300."
   ]
  },
  {
   "cell_type": "markdown",
   "metadata": {},
   "source": [
    "## Context / window size\n",
    "\n",
    "How many words of context should the training algorithm take into account? 10 seems to work well for hierarchical softmax (more is better, up to a point)."
   ]
  },
  {
   "cell_type": "markdown",
   "metadata": {},
   "source": [
    "## Worker threads\n",
    "\n",
    "Number of parallel processes to run. This is computer-specific, but between 4 and 6 should work on most systems."
   ]
  },
  {
   "cell_type": "markdown",
   "metadata": {},
   "source": [
    "## Minimum word count\n",
    "\n",
    "This helps limit the size of the vocabulary to meaningful words. Any word that does not occur at least this many times across all documents is ignored. Reasonable values could be between 10 and 100. In this case, since each movie occurs 30 times, we set the minimum word count to 40, to avoid attaching too much importance to individual movie titles. This resulted in an overall vocabulary size of around 15,000 words. Higher values also help limit run time."
   ]
  },
  {
   "cell_type": "markdown",
   "metadata": {},
   "source": [
    "<br>"
   ]
  },
  {
   "cell_type": "markdown",
   "metadata": {},
   "source": [
    "Choosing parameters is not easy, but once we have chosen our parameters, creating a Word2Vec model is straightforward:"
   ]
  },
  {
   "cell_type": "code",
   "execution_count": 15,
   "metadata": {},
   "outputs": [],
   "source": [
    "# Import the built-in logging module and configure it so that Word2Vec\n",
    "# creates nice output messages\n",
    "import logging\n",
    "logging.basicConfig(format='%(asctime)s : %(levelname)s : %(message)s',level=logging.INFO)"
   ]
  },
  {
   "cell_type": "code",
   "execution_count": 16,
   "metadata": {},
   "outputs": [
    {
     "name": "stderr",
     "output_type": "stream",
     "text": [
      "2019-11-19 12:39:19,156 : INFO : 'pattern' package not found; tag filters are not available for English\n",
      "2019-11-19 12:39:19,187 : INFO : collecting all words and their counts\n",
      "2019-11-19 12:39:19,188 : INFO : PROGRESS: at sentence #0, processed 0 words, keeping 0 word types\n",
      "2019-11-19 12:39:19,240 : INFO : PROGRESS: at sentence #10000, processed 225803 words, keeping 17776 word types\n",
      "2019-11-19 12:39:19,292 : INFO : PROGRESS: at sentence #20000, processed 451892 words, keeping 24948 word types\n",
      "2019-11-19 12:39:19,345 : INFO : PROGRESS: at sentence #30000, processed 671314 words, keeping 30034 word types\n"
     ]
    },
    {
     "name": "stdout",
     "output_type": "stream",
     "text": [
      "Training model...\n"
     ]
    },
    {
     "name": "stderr",
     "output_type": "stream",
     "text": [
      "2019-11-19 12:39:19,403 : INFO : PROGRESS: at sentence #40000, processed 897814 words, keeping 34348 word types\n",
      "2019-11-19 12:39:19,458 : INFO : PROGRESS: at sentence #50000, processed 1116962 words, keeping 37761 word types\n",
      "2019-11-19 12:39:19,511 : INFO : PROGRESS: at sentence #60000, processed 1338403 words, keeping 40723 word types\n",
      "2019-11-19 12:39:19,557 : INFO : PROGRESS: at sentence #70000, processed 1561579 words, keeping 43333 word types\n",
      "2019-11-19 12:39:19,611 : INFO : PROGRESS: at sentence #80000, processed 1780886 words, keeping 45714 word types\n",
      "2019-11-19 12:39:19,657 : INFO : PROGRESS: at sentence #90000, processed 2004995 words, keeping 48135 word types\n",
      "2019-11-19 12:39:19,729 : INFO : PROGRESS: at sentence #100000, processed 2226966 words, keeping 50207 word types\n",
      "2019-11-19 12:39:19,774 : INFO : PROGRESS: at sentence #110000, processed 2446580 words, keeping 52081 word types\n",
      "2019-11-19 12:39:19,838 : INFO : PROGRESS: at sentence #120000, processed 2668775 words, keeping 54119 word types\n",
      "2019-11-19 12:39:19,897 : INFO : PROGRESS: at sentence #130000, processed 2894303 words, keeping 55847 word types\n",
      "2019-11-19 12:39:19,942 : INFO : PROGRESS: at sentence #140000, processed 3107005 words, keeping 57346 word types\n",
      "2019-11-19 12:39:20,006 : INFO : PROGRESS: at sentence #150000, processed 3332627 words, keeping 59055 word types\n",
      "2019-11-19 12:39:20,058 : INFO : PROGRESS: at sentence #160000, processed 3555315 words, keeping 60617 word types\n",
      "2019-11-19 12:39:20,117 : INFO : PROGRESS: at sentence #170000, processed 3778655 words, keeping 62077 word types\n",
      "2019-11-19 12:39:20,159 : INFO : PROGRESS: at sentence #180000, processed 3999236 words, keeping 63496 word types\n",
      "2019-11-19 12:39:20,229 : INFO : PROGRESS: at sentence #190000, processed 4224449 words, keeping 64794 word types\n",
      "2019-11-19 12:39:20,274 : INFO : PROGRESS: at sentence #200000, processed 4448603 words, keeping 66087 word types\n",
      "2019-11-19 12:39:20,341 : INFO : PROGRESS: at sentence #210000, processed 4669967 words, keeping 67390 word types\n",
      "2019-11-19 12:39:20,392 : INFO : PROGRESS: at sentence #220000, processed 4894968 words, keeping 68697 word types\n",
      "2019-11-19 12:39:20,454 : INFO : PROGRESS: at sentence #230000, processed 5117546 words, keeping 69958 word types\n",
      "2019-11-19 12:39:20,514 : INFO : PROGRESS: at sentence #240000, processed 5345051 words, keeping 71167 word types\n",
      "2019-11-19 12:39:20,558 : INFO : PROGRESS: at sentence #250000, processed 5559166 words, keeping 72351 word types\n",
      "2019-11-19 12:39:20,623 : INFO : PROGRESS: at sentence #260000, processed 5779147 words, keeping 73478 word types\n",
      "2019-11-19 12:39:20,675 : INFO : PROGRESS: at sentence #270000, processed 6000436 words, keeping 74767 word types\n",
      "2019-11-19 12:39:20,738 : INFO : PROGRESS: at sentence #280000, processed 6226315 words, keeping 76369 word types\n",
      "2019-11-19 12:39:20,791 : INFO : PROGRESS: at sentence #290000, processed 6449475 words, keeping 77839 word types\n",
      "2019-11-19 12:39:20,853 : INFO : PROGRESS: at sentence #300000, processed 6674078 words, keeping 79171 word types\n",
      "2019-11-19 12:39:20,893 : INFO : PROGRESS: at sentence #310000, processed 6899392 words, keeping 80480 word types\n",
      "2019-11-19 12:39:20,961 : INFO : PROGRESS: at sentence #320000, processed 7124279 words, keeping 81808 word types\n",
      "2019-11-19 12:39:21,023 : INFO : PROGRESS: at sentence #330000, processed 7346022 words, keeping 83030 word types\n",
      "2019-11-19 12:39:21,075 : INFO : PROGRESS: at sentence #340000, processed 7575534 words, keeping 84280 word types\n",
      "2019-11-19 12:39:21,137 : INFO : PROGRESS: at sentence #350000, processed 7798804 words, keeping 85425 word types\n",
      "2019-11-19 12:39:21,194 : INFO : PROGRESS: at sentence #360000, processed 8019467 words, keeping 86596 word types\n",
      "2019-11-19 12:39:21,242 : INFO : PROGRESS: at sentence #370000, processed 8246659 words, keeping 87708 word types\n",
      "2019-11-19 12:39:21,309 : INFO : PROGRESS: at sentence #380000, processed 8471806 words, keeping 88878 word types\n",
      "2019-11-19 12:39:21,371 : INFO : PROGRESS: at sentence #390000, processed 8701556 words, keeping 89907 word types\n",
      "2019-11-19 12:39:21,432 : INFO : PROGRESS: at sentence #400000, processed 8924505 words, keeping 90916 word types\n",
      "2019-11-19 12:39:21,494 : INFO : PROGRESS: at sentence #410000, processed 9145855 words, keeping 91880 word types\n",
      "2019-11-19 12:39:21,557 : INFO : PROGRESS: at sentence #420000, processed 9366935 words, keeping 92912 word types\n",
      "2019-11-19 12:39:21,619 : INFO : PROGRESS: at sentence #430000, processed 9594472 words, keeping 93932 word types\n",
      "2019-11-19 12:39:21,680 : INFO : PROGRESS: at sentence #440000, processed 9821225 words, keeping 94906 word types\n",
      "2019-11-19 12:39:21,726 : INFO : PROGRESS: at sentence #450000, processed 10044987 words, keeping 96036 word types\n",
      "2019-11-19 12:39:21,797 : INFO : PROGRESS: at sentence #460000, processed 10277747 words, keeping 97088 word types\n",
      "2019-11-19 12:39:21,858 : INFO : PROGRESS: at sentence #470000, processed 10505672 words, keeping 97933 word types\n",
      "2019-11-19 12:39:21,917 : INFO : PROGRESS: at sentence #480000, processed 10726056 words, keeping 98862 word types\n",
      "2019-11-19 12:39:21,979 : INFO : PROGRESS: at sentence #490000, processed 10952800 words, keeping 99871 word types\n",
      "2019-11-19 12:39:22,037 : INFO : PROGRESS: at sentence #500000, processed 11174456 words, keeping 100765 word types\n",
      "2019-11-19 12:39:22,099 : INFO : PROGRESS: at sentence #510000, processed 11399731 words, keeping 101699 word types\n",
      "2019-11-19 12:39:22,159 : INFO : PROGRESS: at sentence #520000, processed 11623082 words, keeping 102598 word types\n",
      "2019-11-19 12:39:22,217 : INFO : PROGRESS: at sentence #530000, processed 11847480 words, keeping 103400 word types\n",
      "2019-11-19 12:39:22,277 : INFO : PROGRESS: at sentence #540000, processed 12072095 words, keeping 104265 word types\n",
      "2019-11-19 12:39:22,340 : INFO : PROGRESS: at sentence #550000, processed 12297646 words, keeping 105133 word types\n",
      "2019-11-19 12:39:22,399 : INFO : PROGRESS: at sentence #560000, processed 12518936 words, keeping 105997 word types\n",
      "2019-11-19 12:39:22,461 : INFO : PROGRESS: at sentence #570000, processed 12748083 words, keeping 106787 word types\n",
      "2019-11-19 12:39:22,521 : INFO : PROGRESS: at sentence #580000, processed 12969579 words, keeping 107665 word types\n",
      "2019-11-19 12:39:22,584 : INFO : PROGRESS: at sentence #590000, processed 13195103 words, keeping 108502 word types\n",
      "2019-11-19 12:39:22,644 : INFO : PROGRESS: at sentence #600000, processed 13417301 words, keeping 109219 word types\n",
      "2019-11-19 12:39:22,703 : INFO : PROGRESS: at sentence #610000, processed 13638324 words, keeping 110093 word types\n",
      "2019-11-19 12:39:22,763 : INFO : PROGRESS: at sentence #620000, processed 13864649 words, keeping 110838 word types\n",
      "2019-11-19 12:39:22,824 : INFO : PROGRESS: at sentence #630000, processed 14088935 words, keeping 111611 word types\n",
      "2019-11-19 12:39:22,884 : INFO : PROGRESS: at sentence #640000, processed 14309718 words, keeping 112417 word types\n",
      "2019-11-19 12:39:22,944 : INFO : PROGRESS: at sentence #650000, processed 14535474 words, keeping 113197 word types\n",
      "2019-11-19 12:39:22,992 : INFO : PROGRESS: at sentence #660000, processed 14758264 words, keeping 113946 word types\n",
      "2019-11-19 12:39:23,059 : INFO : PROGRESS: at sentence #670000, processed 14981657 words, keeping 114644 word types\n",
      "2019-11-19 12:39:23,109 : INFO : PROGRESS: at sentence #680000, processed 15206489 words, keeping 115355 word types\n",
      "2019-11-19 12:39:23,173 : INFO : PROGRESS: at sentence #690000, processed 15428682 words, keeping 116132 word types\n",
      "2019-11-19 12:39:23,236 : INFO : PROGRESS: at sentence #700000, processed 15657388 words, keeping 116944 word types\n",
      "2019-11-19 12:39:23,299 : INFO : PROGRESS: at sentence #710000, processed 15880377 words, keeping 117597 word types\n",
      "2019-11-19 12:39:23,364 : INFO : PROGRESS: at sentence #720000, processed 16105664 words, keeping 118222 word types\n",
      "2019-11-19 12:39:23,428 : INFO : PROGRESS: at sentence #730000, processed 16332045 words, keeping 118955 word types\n",
      "2019-11-19 12:39:23,489 : INFO : PROGRESS: at sentence #740000, processed 16553078 words, keeping 119669 word types\n",
      "2019-11-19 12:39:23,546 : INFO : PROGRESS: at sentence #750000, processed 16771405 words, keeping 120296 word types\n",
      "2019-11-19 12:39:23,606 : INFO : PROGRESS: at sentence #760000, processed 16990809 words, keeping 120931 word types\n",
      "2019-11-19 12:39:23,667 : INFO : PROGRESS: at sentence #770000, processed 17217946 words, keeping 121704 word types\n",
      "2019-11-19 12:39:23,730 : INFO : PROGRESS: at sentence #780000, processed 17448092 words, keeping 122403 word types\n",
      "2019-11-19 12:39:23,795 : INFO : PROGRESS: at sentence #790000, processed 17675168 words, keeping 123067 word types\n",
      "2019-11-19 12:39:23,832 : INFO : collected 123505 word types from a corpus of 17798269 raw words and 795538 sentences\n",
      "2019-11-19 12:39:23,833 : INFO : Loading a fresh vocabulary\n",
      "2019-11-19 12:39:23,920 : INFO : effective_min_count=40 retains 16490 unique words (13% of original 123505, drops 107015)\n",
      "2019-11-19 12:39:23,920 : INFO : effective_min_count=40 leaves 17239123 word corpus (96% of original 17798269, drops 559146)\n",
      "2019-11-19 12:39:23,987 : INFO : deleting the raw counts dictionary of 123505 items\n",
      "2019-11-19 12:39:23,991 : INFO : sample=0.001 downsamples 48 most-common words\n",
      "2019-11-19 12:39:23,992 : INFO : downsampling leaves estimated 12749797 word corpus (74.0% of prior 17239123)\n",
      "2019-11-19 12:39:24,045 : INFO : estimated required memory for 16490 words and 300 dimensions: 47821000 bytes\n",
      "2019-11-19 12:39:24,046 : INFO : resetting layer weights\n",
      "2019-11-19 12:39:27,999 : INFO : training model with 4 workers on 16490 vocabulary and 300 features, using sg=0 hs=0 sample=0.001 negative=5 window=10\n",
      "2019-11-19 12:39:29,016 : INFO : EPOCH 1 - PROGRESS: at 6.04% examples, 759156 words/s, in_qsize 6, out_qsize 1\n",
      "2019-11-19 12:39:30,041 : INFO : EPOCH 1 - PROGRESS: at 11.67% examples, 728980 words/s, in_qsize 7, out_qsize 0\n",
      "2019-11-19 12:39:31,042 : INFO : EPOCH 1 - PROGRESS: at 17.69% examples, 738236 words/s, in_qsize 7, out_qsize 0\n",
      "2019-11-19 12:39:32,039 : INFO : EPOCH 1 - PROGRESS: at 23.82% examples, 748373 words/s, in_qsize 6, out_qsize 1\n",
      "2019-11-19 12:39:33,043 : INFO : EPOCH 1 - PROGRESS: at 29.98% examples, 755692 words/s, in_qsize 7, out_qsize 0\n",
      "2019-11-19 12:39:34,046 : INFO : EPOCH 1 - PROGRESS: at 36.17% examples, 759336 words/s, in_qsize 7, out_qsize 0\n",
      "2019-11-19 12:39:35,035 : INFO : EPOCH 1 - PROGRESS: at 42.19% examples, 761263 words/s, in_qsize 7, out_qsize 0\n",
      "2019-11-19 12:39:36,046 : INFO : EPOCH 1 - PROGRESS: at 48.43% examples, 765946 words/s, in_qsize 7, out_qsize 0\n",
      "2019-11-19 12:39:37,045 : INFO : EPOCH 1 - PROGRESS: at 53.78% examples, 756099 words/s, in_qsize 4, out_qsize 3\n",
      "2019-11-19 12:39:38,053 : INFO : EPOCH 1 - PROGRESS: at 59.45% examples, 754010 words/s, in_qsize 7, out_qsize 0\n",
      "2019-11-19 12:39:39,061 : INFO : EPOCH 1 - PROGRESS: at 65.63% examples, 756547 words/s, in_qsize 7, out_qsize 0\n",
      "2019-11-19 12:39:40,104 : INFO : EPOCH 1 - PROGRESS: at 71.76% examples, 756354 words/s, in_qsize 3, out_qsize 4\n",
      "2019-11-19 12:39:41,112 : INFO : EPOCH 1 - PROGRESS: at 78.15% examples, 760352 words/s, in_qsize 8, out_qsize 0\n",
      "2019-11-19 12:39:42,101 : INFO : EPOCH 1 - PROGRESS: at 84.34% examples, 762217 words/s, in_qsize 7, out_qsize 0\n",
      "2019-11-19 12:39:43,118 : INFO : EPOCH 1 - PROGRESS: at 90.31% examples, 761491 words/s, in_qsize 3, out_qsize 4\n",
      "2019-11-19 12:39:44,133 : INFO : EPOCH 1 - PROGRESS: at 96.75% examples, 764429 words/s, in_qsize 7, out_qsize 0\n",
      "2019-11-19 12:39:44,650 : INFO : worker thread finished; awaiting finish of 3 more threads\n",
      "2019-11-19 12:39:44,650 : INFO : worker thread finished; awaiting finish of 2 more threads\n",
      "2019-11-19 12:39:44,665 : INFO : worker thread finished; awaiting finish of 1 more threads\n",
      "2019-11-19 12:39:44,665 : INFO : worker thread finished; awaiting finish of 0 more threads\n",
      "2019-11-19 12:39:44,665 : INFO : EPOCH - 1 : training on 17798269 raw words (12751077 effective words) took 16.7s, 765271 effective words/s\n",
      "2019-11-19 12:39:45,685 : INFO : EPOCH 2 - PROGRESS: at 5.98% examples, 760806 words/s, in_qsize 8, out_qsize 0\n",
      "2019-11-19 12:39:46,689 : INFO : EPOCH 2 - PROGRESS: at 12.29% examples, 775750 words/s, in_qsize 8, out_qsize 0\n",
      "2019-11-19 12:39:47,699 : INFO : EPOCH 2 - PROGRESS: at 18.64% examples, 782096 words/s, in_qsize 7, out_qsize 0\n",
      "2019-11-19 12:39:48,700 : INFO : EPOCH 2 - PROGRESS: at 24.78% examples, 780499 words/s, in_qsize 7, out_qsize 0\n",
      "2019-11-19 12:39:49,729 : INFO : EPOCH 2 - PROGRESS: at 31.03% examples, 777625 words/s, in_qsize 8, out_qsize 3\n",
      "2019-11-19 12:39:50,746 : INFO : EPOCH 2 - PROGRESS: at 37.45% examples, 782952 words/s, in_qsize 8, out_qsize 1\n",
      "2019-11-19 12:39:51,766 : INFO : EPOCH 2 - PROGRESS: at 43.75% examples, 784263 words/s, in_qsize 8, out_qsize 0\n",
      "2019-11-19 12:39:52,763 : INFO : EPOCH 2 - PROGRESS: at 49.94% examples, 785195 words/s, in_qsize 6, out_qsize 0\n",
      "2019-11-19 12:39:53,762 : INFO : EPOCH 2 - PROGRESS: at 56.05% examples, 784320 words/s, in_qsize 7, out_qsize 0\n",
      "2019-11-19 12:39:54,762 : INFO : EPOCH 2 - PROGRESS: at 62.25% examples, 785768 words/s, in_qsize 7, out_qsize 0\n",
      "2019-11-19 12:39:55,780 : INFO : EPOCH 2 - PROGRESS: at 68.50% examples, 786084 words/s, in_qsize 7, out_qsize 0\n",
      "2019-11-19 12:39:56,767 : INFO : EPOCH 2 - PROGRESS: at 74.68% examples, 786734 words/s, in_qsize 7, out_qsize 0\n",
      "2019-11-19 12:39:57,780 : INFO : EPOCH 2 - PROGRESS: at 80.93% examples, 786995 words/s, in_qsize 7, out_qsize 0\n",
      "2019-11-19 12:39:58,785 : INFO : EPOCH 2 - PROGRESS: at 87.20% examples, 787761 words/s, in_qsize 4, out_qsize 0\n",
      "2019-11-19 12:39:59,797 : INFO : EPOCH 2 - PROGRESS: at 93.46% examples, 788062 words/s, in_qsize 7, out_qsize 0\n",
      "2019-11-19 12:40:00,797 : INFO : EPOCH 2 - PROGRESS: at 99.72% examples, 788609 words/s, in_qsize 5, out_qsize 0\n",
      "2019-11-19 12:40:00,812 : INFO : worker thread finished; awaiting finish of 3 more threads\n",
      "2019-11-19 12:40:00,828 : INFO : worker thread finished; awaiting finish of 2 more threads\n",
      "2019-11-19 12:40:00,828 : INFO : worker thread finished; awaiting finish of 1 more threads\n",
      "2019-11-19 12:40:00,828 : INFO : worker thread finished; awaiting finish of 0 more threads\n",
      "2019-11-19 12:40:00,828 : INFO : EPOCH - 2 : training on 17798269 raw words (12749031 effective words) took 16.2s, 789016 effective words/s\n",
      "2019-11-19 12:40:01,856 : INFO : EPOCH 3 - PROGRESS: at 6.04% examples, 765549 words/s, in_qsize 7, out_qsize 0\n",
      "2019-11-19 12:40:02,866 : INFO : EPOCH 3 - PROGRESS: at 12.01% examples, 754840 words/s, in_qsize 7, out_qsize 0\n",
      "2019-11-19 12:40:03,867 : INFO : EPOCH 3 - PROGRESS: at 17.85% examples, 746216 words/s, in_qsize 5, out_qsize 2\n",
      "2019-11-19 12:40:04,882 : INFO : EPOCH 3 - PROGRESS: at 24.21% examples, 760834 words/s, in_qsize 7, out_qsize 0\n",
      "2019-11-19 12:40:05,912 : INFO : EPOCH 3 - PROGRESS: at 30.44% examples, 762035 words/s, in_qsize 4, out_qsize 2\n",
      "2019-11-19 12:40:06,975 : INFO : EPOCH 3 - PROGRESS: at 36.90% examples, 762704 words/s, in_qsize 8, out_qsize 6\n",
      "2019-11-19 12:40:07,972 : INFO : EPOCH 3 - PROGRESS: at 43.46% examples, 773730 words/s, in_qsize 7, out_qsize 0\n",
      "2019-11-19 12:40:08,975 : INFO : EPOCH 3 - PROGRESS: at 49.66% examples, 775727 words/s, in_qsize 7, out_qsize 0\n",
      "2019-11-19 12:40:09,978 : INFO : EPOCH 3 - PROGRESS: at 55.83% examples, 776513 words/s, in_qsize 5, out_qsize 0\n",
      "2019-11-19 12:40:10,986 : INFO : EPOCH 3 - PROGRESS: at 61.97% examples, 777466 words/s, in_qsize 6, out_qsize 0\n",
      "2019-11-19 12:40:12,026 : INFO : EPOCH 3 - PROGRESS: at 68.32% examples, 778486 words/s, in_qsize 6, out_qsize 1\n",
      "2019-11-19 12:40:13,026 : INFO : EPOCH 3 - PROGRESS: at 74.57% examples, 780279 words/s, in_qsize 7, out_qsize 0\n",
      "2019-11-19 12:40:14,030 : INFO : EPOCH 3 - PROGRESS: at 80.87% examples, 781315 words/s, in_qsize 4, out_qsize 0\n",
      "2019-11-19 12:40:15,046 : INFO : EPOCH 3 - PROGRESS: at 87.14% examples, 782187 words/s, in_qsize 7, out_qsize 0\n",
      "2019-11-19 12:40:16,081 : INFO : EPOCH 3 - PROGRESS: at 93.28% examples, 780736 words/s, in_qsize 6, out_qsize 5\n",
      "2019-11-19 12:40:17,083 : INFO : EPOCH 3 - PROGRESS: at 99.66% examples, 782766 words/s, in_qsize 6, out_qsize 0\n",
      "2019-11-19 12:40:17,114 : INFO : worker thread finished; awaiting finish of 3 more threads\n",
      "2019-11-19 12:40:17,114 : INFO : worker thread finished; awaiting finish of 2 more threads\n",
      "2019-11-19 12:40:17,130 : INFO : worker thread finished; awaiting finish of 1 more threads\n",
      "2019-11-19 12:40:17,130 : INFO : worker thread finished; awaiting finish of 0 more threads\n",
      "2019-11-19 12:40:17,130 : INFO : EPOCH - 3 : training on 17798269 raw words (12750823 effective words) took 16.3s, 782636 effective words/s\n",
      "2019-11-19 12:40:18,149 : INFO : EPOCH 4 - PROGRESS: at 6.04% examples, 765057 words/s, in_qsize 7, out_qsize 0\n",
      "2019-11-19 12:40:19,160 : INFO : EPOCH 4 - PROGRESS: at 12.34% examples, 778942 words/s, in_qsize 8, out_qsize 0\n",
      "2019-11-19 12:40:20,166 : INFO : EPOCH 4 - PROGRESS: at 18.58% examples, 778819 words/s, in_qsize 7, out_qsize 0\n",
      "2019-11-19 12:40:21,164 : INFO : EPOCH 4 - PROGRESS: at 24.83% examples, 781733 words/s, in_qsize 6, out_qsize 0\n",
      "2019-11-19 12:40:22,180 : INFO : EPOCH 4 - PROGRESS: at 30.92% examples, 778969 words/s, in_qsize 8, out_qsize 1\n",
      "2019-11-19 12:40:23,196 : INFO : EPOCH 4 - PROGRESS: at 36.95% examples, 774584 words/s, in_qsize 8, out_qsize 1\n",
      "2019-11-19 12:40:24,193 : INFO : EPOCH 4 - PROGRESS: at 43.14% examples, 776272 words/s, in_qsize 6, out_qsize 0\n",
      "2019-11-19 12:40:25,201 : INFO : EPOCH 4 - PROGRESS: at 49.27% examples, 776850 words/s, in_qsize 7, out_qsize 0\n",
      "2019-11-19 12:40:26,214 : INFO : EPOCH 4 - PROGRESS: at 55.44% examples, 777691 words/s, in_qsize 8, out_qsize 0\n",
      "2019-11-19 12:40:27,225 : INFO : EPOCH 4 - PROGRESS: at 61.24% examples, 773985 words/s, in_qsize 8, out_qsize 1\n",
      "2019-11-19 12:40:28,234 : INFO : EPOCH 4 - PROGRESS: at 66.85% examples, 768323 words/s, in_qsize 7, out_qsize 0\n",
      "2019-11-19 12:40:29,234 : INFO : EPOCH 4 - PROGRESS: at 72.15% examples, 760890 words/s, in_qsize 8, out_qsize 0\n",
      "2019-11-19 12:40:30,241 : INFO : EPOCH 4 - PROGRESS: at 77.60% examples, 755485 words/s, in_qsize 7, out_qsize 0\n",
      "2019-11-19 12:40:31,269 : INFO : EPOCH 4 - PROGRESS: at 83.84% examples, 756286 words/s, in_qsize 7, out_qsize 3\n",
      "2019-11-19 12:40:32,297 : INFO : EPOCH 4 - PROGRESS: at 89.91% examples, 756805 words/s, in_qsize 6, out_qsize 1\n",
      "2019-11-19 12:40:33,322 : INFO : EPOCH 4 - PROGRESS: at 95.47% examples, 752186 words/s, in_qsize 8, out_qsize 3\n",
      "2019-11-19 12:40:34,094 : INFO : worker thread finished; awaiting finish of 3 more threads\n",
      "2019-11-19 12:40:34,110 : INFO : worker thread finished; awaiting finish of 2 more threads\n",
      "2019-11-19 12:40:34,127 : INFO : worker thread finished; awaiting finish of 1 more threads\n",
      "2019-11-19 12:40:34,129 : INFO : worker thread finished; awaiting finish of 0 more threads\n",
      "2019-11-19 12:40:34,130 : INFO : EPOCH - 4 : training on 17798269 raw words (12749346 effective words) took 17.0s, 750947 effective words/s\n",
      "2019-11-19 12:40:35,147 : INFO : EPOCH 5 - PROGRESS: at 5.54% examples, 701242 words/s, in_qsize 7, out_qsize 0\n",
      "2019-11-19 12:40:36,172 : INFO : EPOCH 5 - PROGRESS: at 11.03% examples, 688555 words/s, in_qsize 4, out_qsize 3\n",
      "2019-11-19 12:40:37,177 : INFO : EPOCH 5 - PROGRESS: at 17.41% examples, 725339 words/s, in_qsize 7, out_qsize 0\n",
      "2019-11-19 12:40:38,181 : INFO : EPOCH 5 - PROGRESS: at 23.48% examples, 734495 words/s, in_qsize 7, out_qsize 0\n",
      "2019-11-19 12:40:39,180 : INFO : EPOCH 5 - PROGRESS: at 29.31% examples, 736232 words/s, in_qsize 7, out_qsize 0\n",
      "2019-11-19 12:40:40,212 : INFO : EPOCH 5 - PROGRESS: at 35.05% examples, 731284 words/s, in_qsize 5, out_qsize 2\n",
      "2019-11-19 12:40:41,212 : INFO : EPOCH 5 - PROGRESS: at 41.14% examples, 737876 words/s, in_qsize 8, out_qsize 6\n",
      "2019-11-19 12:40:42,217 : INFO : EPOCH 5 - PROGRESS: at 47.67% examples, 748908 words/s, in_qsize 7, out_qsize 0\n",
      "2019-11-19 12:40:43,281 : INFO : EPOCH 5 - PROGRESS: at 53.93% examples, 750126 words/s, in_qsize 3, out_qsize 4\n",
      "2019-11-19 12:40:44,279 : INFO : EPOCH 5 - PROGRESS: at 60.41% examples, 758278 words/s, in_qsize 7, out_qsize 0\n",
      "2019-11-19 12:40:45,282 : INFO : EPOCH 5 - PROGRESS: at 66.57% examples, 760666 words/s, in_qsize 7, out_qsize 0\n",
      "2019-11-19 12:40:46,296 : INFO : EPOCH 5 - PROGRESS: at 72.66% examples, 761677 words/s, in_qsize 4, out_qsize 3\n",
      "2019-11-19 12:40:47,313 : INFO : EPOCH 5 - PROGRESS: at 79.17% examples, 765827 words/s, in_qsize 5, out_qsize 2\n",
      "2019-11-19 12:40:48,315 : INFO : EPOCH 5 - PROGRESS: at 85.51% examples, 768040 words/s, in_qsize 6, out_qsize 1\n",
      "2019-11-19 12:40:49,316 : INFO : EPOCH 5 - PROGRESS: at 91.76% examples, 770218 words/s, in_qsize 7, out_qsize 0\n",
      "2019-11-19 12:40:50,330 : INFO : EPOCH 5 - PROGRESS: at 98.00% examples, 771565 words/s, in_qsize 6, out_qsize 1\n",
      "2019-11-19 12:40:50,610 : INFO : worker thread finished; awaiting finish of 3 more threads\n",
      "2019-11-19 12:40:50,626 : INFO : worker thread finished; awaiting finish of 2 more threads\n",
      "2019-11-19 12:40:50,626 : INFO : worker thread finished; awaiting finish of 1 more threads\n",
      "2019-11-19 12:40:50,641 : INFO : worker thread finished; awaiting finish of 0 more threads\n",
      "2019-11-19 12:40:50,641 : INFO : EPOCH - 5 : training on 17798269 raw words (12750639 effective words) took 16.5s, 772523 effective words/s\n",
      "2019-11-19 12:40:50,641 : INFO : training on a 88991345 raw words (63750916 effective words) took 82.6s, 771394 effective words/s\n",
      "2019-11-19 12:40:50,641 : INFO : precomputing L2-norms of word weight vectors\n",
      "2019-11-19 12:40:50,670 : INFO : saving Word2Vec object under 300features_40minwords_10context, separately None\n",
      "2019-11-19 12:40:50,671 : INFO : not storing attribute vectors_norm\n",
      "2019-11-19 12:40:50,672 : INFO : not storing attribute cum_table\n",
      "2019-11-19 12:40:51,166 : INFO : saved 300features_40minwords_10context\n"
     ]
    }
   ],
   "source": [
    "# Set values for various parameters\n",
    "num_features = 300 # Word Vector dimensionality\n",
    "min_word_count = 40 # Minimum word count\n",
    "num_workers = 4 # Number of threads to run in parallel\n",
    "context = 10 # Context window size\n",
    "downsampling = 1e-3 # Downsampling setting for frequent words\n",
    "\n",
    "# Initialize and train the model (this will take some time)\n",
    "from gensim.models import word2vec\n",
    "\n",
    "print(\"Training model...\")\n",
    "model = word2vec.Word2Vec(sentences,\n",
    "                          workers=num_workers,\n",
    "                          size=num_features,\n",
    "                          min_count=min_word_count,\n",
    "                          window=context,\n",
    "                          sample=downsampling)\n",
    "\n",
    "# If you don't plan to train the model any further, \n",
    "# calling init_sims will make the model much more memory-efficientt.\n",
    "model.init_sims(replace=True)\n",
    "\n",
    "# It can be helpful to create a meaningful model name and\n",
    "# save the model for later use. You can load it later using Word2Vec.load()\n",
    "model_name = \"300features_40minwords_10context\"\n",
    "model.save(model_name)"
   ]
  },
  {
   "cell_type": "markdown",
   "metadata": {},
   "source": [
    "On a dual-core Macbook Pro, this took less than 15 minutes to run using 4 worker threads. However, it will vary depending on your computer. Fortunately, the logging functionality prints informative messages."
   ]
  },
  {
   "cell_type": "markdown",
   "metadata": {},
   "source": [
    "If you are on a Mac or Linux system, you can use the \"top\" command from within Terminal (not from within Python) to see if your system is successfully parallelizing while the model is training. Type\n",
    "\n",
    "```\n",
    "top -o cpu\n",
    "```\n",
    "\n",
    "into a terminal window while the model is training. With 4 workers, the first process in the list should be Python, and it should show 300-400% CPU usage.\n",
    "\n",
    "If your CPU usage is lower, it may be that cython is not working correctly on your machine."
   ]
  },
  {
   "cell_type": "markdown",
   "metadata": {},
   "source": [
    "<br>"
   ]
  },
  {
   "cell_type": "markdown",
   "metadata": {},
   "source": [
    "# Exploring the Model Results"
   ]
  },
  {
   "cell_type": "markdown",
   "metadata": {},
   "source": [
    "Congratulations on making it successfully through everything so far! Let's take a look at the model we created out of our 75,000 training reviews."
   ]
  },
  {
   "cell_type": "markdown",
   "metadata": {},
   "source": [
    "The \"doesnt_match\" function will try to deduce(추론하다) which word in a set is most dissimilar from the others:"
   ]
  },
  {
   "cell_type": "code",
   "execution_count": 17,
   "metadata": {},
   "outputs": [
    {
     "name": "stderr",
     "output_type": "stream",
     "text": [
      "c:\\programdata\\anaconda3\\envs\\tensorflow\\lib\\site-packages\\ipykernel_launcher.py:1: DeprecationWarning: Call to deprecated `doesnt_match` (Method will be removed in 4.0.0, use self.wv.doesnt_match() instead).\n",
      "  \"\"\"Entry point for launching an IPython kernel.\n",
      "c:\\programdata\\anaconda3\\envs\\tensorflow\\lib\\site-packages\\gensim\\models\\keyedvectors.py:877: FutureWarning: arrays to stack must be passed as a \"sequence\" type such as list or tuple. Support for non-sequence iterables such as generators is deprecated as of NumPy 1.16 and will raise an error in the future.\n",
      "  vectors = vstack(self.word_vec(word, use_norm=True) for word in used_words).astype(REAL)\n"
     ]
    },
    {
     "data": {
      "text/plain": [
       "'kitchen'"
      ]
     },
     "execution_count": 17,
     "metadata": {},
     "output_type": "execute_result"
    }
   ],
   "source": [
    "model.doesnt_match(\"man woman child kitchen\".split())"
   ]
  },
  {
   "cell_type": "markdown",
   "metadata": {},
   "source": [
    "Our model is capable(유능한) of distinguishing differences in meaning! It knows that men, women and children are more similar to each other than they are to kitchens. More exploration shows that the model is sensitive to more subtle(미묘한) differences in meaning, such as differences between countries and cities:"
   ]
  },
  {
   "cell_type": "code",
   "execution_count": 18,
   "metadata": {},
   "outputs": [
    {
     "name": "stderr",
     "output_type": "stream",
     "text": [
      "c:\\programdata\\anaconda3\\envs\\tensorflow\\lib\\site-packages\\ipykernel_launcher.py:1: DeprecationWarning: Call to deprecated `doesnt_match` (Method will be removed in 4.0.0, use self.wv.doesnt_match() instead).\n",
      "  \"\"\"Entry point for launching an IPython kernel.\n",
      "2019-11-19 12:41:00,137 : WARNING : vectors for words {'beerlin'} are not present in the model, ignoring these words\n"
     ]
    },
    {
     "data": {
      "text/plain": [
       "'germany'"
      ]
     },
     "execution_count": 18,
     "metadata": {},
     "output_type": "execute_result"
    }
   ],
   "source": [
    "model.doesnt_match(\"france england germany beerlin\".split())"
   ]
  },
  {
   "cell_type": "markdown",
   "metadata": {},
   "source": [
    "... although with the relatively small training set we used, it's certainly not perfect:"
   ]
  },
  {
   "cell_type": "code",
   "execution_count": 19,
   "metadata": {},
   "outputs": [
    {
     "name": "stderr",
     "output_type": "stream",
     "text": [
      "c:\\programdata\\anaconda3\\envs\\tensorflow\\lib\\site-packages\\ipykernel_launcher.py:1: DeprecationWarning: Call to deprecated `doesnt_match` (Method will be removed in 4.0.0, use self.wv.doesnt_match() instead).\n",
      "  \"\"\"Entry point for launching an IPython kernel.\n"
     ]
    },
    {
     "data": {
      "text/plain": [
       "'austria'"
      ]
     },
     "execution_count": 19,
     "metadata": {},
     "output_type": "execute_result"
    }
   ],
   "source": [
    "model.doesnt_match(\"paris berlin london austria\".split())"
   ]
  },
  {
   "cell_type": "markdown",
   "metadata": {},
   "source": [
    "We can also use the \"most_similar\" function to get insight into the model's word clusters:"
   ]
  },
  {
   "cell_type": "code",
   "execution_count": 20,
   "metadata": {},
   "outputs": [
    {
     "name": "stderr",
     "output_type": "stream",
     "text": [
      "c:\\programdata\\anaconda3\\envs\\tensorflow\\lib\\site-packages\\ipykernel_launcher.py:1: DeprecationWarning: Call to deprecated `most_similar` (Method will be removed in 4.0.0, use self.wv.most_similar() instead).\n",
      "  \"\"\"Entry point for launching an IPython kernel.\n"
     ]
    },
    {
     "data": {
      "text/plain": [
       "[('woman', 0.6273036003112793),\n",
       " ('lady', 0.5846002101898193),\n",
       " ('lad', 0.5529636144638062),\n",
       " ('sailor', 0.5280630588531494),\n",
       " ('farmer', 0.5279965400695801),\n",
       " ('monk', 0.5258042216300964),\n",
       " ('guy', 0.5247218012809753),\n",
       " ('men', 0.5181735754013062),\n",
       " ('person', 0.5127182006835938),\n",
       " ('millionaire', 0.5126304626464844)]"
      ]
     },
     "execution_count": 20,
     "metadata": {},
     "output_type": "execute_result"
    }
   ],
   "source": [
    "model.most_similar(\"man\")"
   ]
  },
  {
   "cell_type": "code",
   "execution_count": 21,
   "metadata": {},
   "outputs": [
    {
     "name": "stderr",
     "output_type": "stream",
     "text": [
      "c:\\programdata\\anaconda3\\envs\\tensorflow\\lib\\site-packages\\ipykernel_launcher.py:1: DeprecationWarning: Call to deprecated `most_similar` (Method will be removed in 4.0.0, use self.wv.most_similar() instead).\n",
      "  \"\"\"Entry point for launching an IPython kernel.\n"
     ]
    },
    {
     "data": {
      "text/plain": [
       "[('princess', 0.6583582758903503),\n",
       " ('bride', 0.5927019715309143),\n",
       " ('victoria', 0.5862059593200684),\n",
       " ('latifah', 0.5788651704788208),\n",
       " ('goddess', 0.5758845806121826),\n",
       " ('maid', 0.571242094039917),\n",
       " ('showgirl', 0.568920373916626),\n",
       " ('stepmother', 0.5686436295509338),\n",
       " ('starlet', 0.5639791488647461),\n",
       " ('mistress', 0.56321120262146)]"
      ]
     },
     "execution_count": 21,
     "metadata": {},
     "output_type": "execute_result"
    }
   ],
   "source": [
    "model.most_similar(\"queen\")"
   ]
  },
  {
   "cell_type": "markdown",
   "metadata": {},
   "source": [
    "Given our particular training set, it's not surprising that \"Latifah\" is a top hit for similarity with \"Queen\"."
   ]
  },
  {
   "cell_type": "markdown",
   "metadata": {},
   "source": [
    "Or, more relevant for sentiment analysis:"
   ]
  },
  {
   "cell_type": "code",
   "execution_count": 22,
   "metadata": {},
   "outputs": [
    {
     "name": "stderr",
     "output_type": "stream",
     "text": [
      "c:\\programdata\\anaconda3\\envs\\tensorflow\\lib\\site-packages\\ipykernel_launcher.py:1: DeprecationWarning: Call to deprecated `most_similar` (Method will be removed in 4.0.0, use self.wv.most_similar() instead).\n",
      "  \"\"\"Entry point for launching an IPython kernel.\n"
     ]
    },
    {
     "data": {
      "text/plain": [
       "[('terrible', 0.770870566368103),\n",
       " ('horrible', 0.7331541776657104),\n",
       " ('atrocious', 0.7274578809738159),\n",
       " ('dreadful', 0.7118092775344849),\n",
       " ('abysmal', 0.6986379027366638),\n",
       " ('appalling', 0.6884308457374573),\n",
       " ('horrendous', 0.6853016018867493),\n",
       " ('horrid', 0.6731444597244263),\n",
       " ('lousy', 0.6525260210037231),\n",
       " ('laughable', 0.6127434968948364)]"
      ]
     },
     "execution_count": 22,
     "metadata": {},
     "output_type": "execute_result"
    }
   ],
   "source": [
    "model.most_similar(\"awful\") # awful : 끔직한"
   ]
  },
  {
   "cell_type": "markdown",
   "metadata": {},
   "source": [
    "So it seems we have a reasonably good model for semantic meaning - at least as good as Bag of Words. But how can we use these fancy distributed word vectors for supervised learning? The next section takes a stab at that."
   ]
  }
 ],
 "metadata": {
  "kernelspec": {
   "display_name": "Python 3",
   "language": "python",
   "name": "python3"
  },
  "language_info": {
   "codemirror_mode": {
    "name": "ipython",
    "version": 3
   },
   "file_extension": ".py",
   "mimetype": "text/x-python",
   "name": "python",
   "nbconvert_exporter": "python",
   "pygments_lexer": "ipython3",
   "version": "3.6.8"
  }
 },
 "nbformat": 4,
 "nbformat_minor": 4
}
