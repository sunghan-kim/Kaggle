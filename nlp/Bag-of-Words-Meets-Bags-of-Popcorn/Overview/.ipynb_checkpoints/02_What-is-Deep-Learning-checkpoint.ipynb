{
 "cells": [
  {
   "cell_type": "markdown",
   "metadata": {},
   "source": [
    "# What is Deep Learninig?"
   ]
  },
  {
   "cell_type": "markdown",
   "metadata": {},
   "source": [
    "The term \"deep learning\" was coinied in$^{1)}$ 2006, and refers to machine learning algorithms that have *multiple non-linear layers* and can learn *feature hierarchies* \\[1\\]."
   ]
  },
  {
   "cell_type": "markdown",
   "metadata": {},
   "source": [
    "$1)$ *coin in : 처음 만들어지다.*"
   ]
  },
  {
   "cell_type": "markdown",
   "metadata": {},
   "source": [
    "Most modern machine learning relies on feature engineering or some level of domain knowledge to obtain good results. In deep learning systems, this is not the case -- intend, algorithms can automatically learn feature hierarchies, which represent objects in increasing levels of abstraction. Althought the basic ingredients$^{2)}$ of many deep learning in popularity for many reasons, including advances in compute power, the falling cost of computing hardware, and advances in machine learning research."
   ]
  },
  {
   "cell_type": "markdown",
   "metadata": {},
   "source": [
    "$2)$ *ingredient : 재료*"
   ]
  },
  {
   "cell_type": "markdown",
   "metadata": {},
   "source": [
    "Deep learning algorithms can be categorized by their architecture (feed-forward, feed-back, or bi-directional) and training protocols (purely$^{3)}$ supervised, hybrid, or unsupervised) \\[2\\]."
   ]
  },
  {
   "cell_type": "markdown",
   "metadata": {},
   "source": [
    "$3)$ *purely : 순전히*"
   ]
  },
  {
   "cell_type": "markdown",
   "metadata": {},
   "source": [
    "Some good background materials include:\n",
    "\n",
    "[1] [\"Deep Learning for Signal and Information Processing\"](https://ieeexplore.ieee.org/document/5670617), by Li Deng and Dong Yu (out of Microsoft)\n",
    "\n",
    "[2] [\"Deep Learning Tutorial\"](https://cs.nyu.edu/~yann/talks/lecun-ranzato-icml2013.pdf) (2013 Presentation by Yann LeCun and Marc'Aurelio Ranzato)"
   ]
  },
  {
   "cell_type": "markdown",
   "metadata": {},
   "source": [
    "<br>"
   ]
  },
  {
   "cell_type": "markdown",
   "metadata": {},
   "source": [
    "# Where Does Word2Vec Fit In?"
   ]
  },
  {
   "cell_type": "markdown",
   "metadata": {},
   "source": [
    "Word2Vec works in a way that is similar to deep approaches such as recurrent neural nets or deep neural nets, but it implements certaini algorithms, such as hierarchical softmax, that make it computationally more efficient."
   ]
  },
  {
   "cell_type": "markdown",
   "metadata": {},
   "source": [
    "See Part 2 of this tutorial for more on Word2Vec, as well as this paper: [Efficient Estimation of Word Representations in Vector Space](https://arxiv.org/pdf/1301.3781v3.pdf)"
   ]
  },
  {
   "cell_type": "markdown",
   "metadata": {},
   "source": [
    "In this tutorial, we use a hybrid approach to training -- consisting of an unsupervised piece (Word2Vec) followed by supervised learning (the Random Forest)."
   ]
  },
  {
   "cell_type": "markdown",
   "metadata": {},
   "source": [
    "<br>"
   ]
  },
  {
   "cell_type": "markdown",
   "metadata": {},
   "source": [
    "# Libraries and Packages"
   ]
  },
  {
   "cell_type": "markdown",
   "metadata": {},
   "source": [
    "The lists below should in no way be considered exhaustive."
   ]
  },
  {
   "cell_type": "markdown",
   "metadata": {},
   "source": [
    "In Python:\n",
    "\n",
    "- [Theano](http://deeplearning.net/software/theano/) offers very low-level, nuts and bolts functionality for building deep learning systems. You can also find some good tutorials on their site.\n",
    "- [Caffe](http://caffe.berkeleyvision.org/) is a deep learning framework out of the Berkeley Vision and Learning Center.\n",
    "- [Pylearn2](http://deeplearning.net/software/pylearn2/) wraps Theano and seems slightly more user friendly.\n",
    "- [OverFeat](https://github.com/sermanet/OverFeat) was used to win the Kaggle Cats and Dogs competition.\n",
    "\n",
    "In Lua:\n",
    "\n",
    "- [Torch](http://torch5.sourceforge.net/manual/newbieTutorial.html)\n",
    "\n",
    "In R:\n",
    "\n",
    "-  \n",
    "\n",
    "Three may be good packages in other languages as well, but we have not researched them."
   ]
  },
  {
   "cell_type": "markdown",
   "metadata": {},
   "source": [
    "<br>"
   ]
  },
  {
   "cell_type": "markdown",
   "metadata": {},
   "source": [
    "# More Tutorials"
   ]
  },
  {
   "cell_type": "markdown",
   "metadata": {},
   "source": [
    "The O'Reilly Blog has a series of deep learning articles and tutorials:\n",
    "\n",
    "- [What is Deep Learning and Why Should You Care?](https://www.oreilly.com/radar/what-is-deep-learning/)\n",
    "- [How to Build and Run Your First Deep Learning Network](https://www.oreilly.com/learning/how-to-build-and-run-your-first-deep-learning-network)\n",
    "- [Webcast: How to Get Started with Deep Learning in Computer Vision](https://www.oreilly.com/pub/e/3121)"
   ]
  },
  {
   "cell_type": "markdown",
   "metadata": {},
   "source": [
    "There are [serveral tutorials using Theano](http://deeplearning.net/tutorial/) as well."
   ]
  },
  {
   "cell_type": "markdown",
   "metadata": {},
   "source": [
    "If you want to dive into the weeds of creating a neural network from scratch, check out Geoffrey Hinton's [Coursera course](https://www.coursera.org/learn/neural-networks)."
   ]
  },
  {
   "cell_type": "markdown",
   "metadata": {},
   "source": [
    "For NLP, check out this recent lecture at Stanford: [Deep Learning for NLP Without Magic](http://techtalks.tv/talks/deep-learning-for-nlp-without-magic-part-1/58414/)"
   ]
  },
  {
   "cell_type": "markdown",
   "metadata": {},
   "source": [
    "This free, online book also introduces neural nets for deep learning: [Neural Networks and Deep Learning](http://neuralnetworksanddeeplearning.com/)"
   ]
  }
 ],
 "metadata": {
  "kernelspec": {
   "display_name": "Python 3",
   "language": "python",
   "name": "python3"
  },
  "language_info": {
   "codemirror_mode": {
    "name": "ipython",
    "version": 3
   },
   "file_extension": ".py",
   "mimetype": "text/x-python",
   "name": "python",
   "nbconvert_exporter": "python",
   "pygments_lexer": "ipython3",
   "version": "3.6.8"
  }
 },
 "nbformat": 4,
 "nbformat_minor": 2
}
