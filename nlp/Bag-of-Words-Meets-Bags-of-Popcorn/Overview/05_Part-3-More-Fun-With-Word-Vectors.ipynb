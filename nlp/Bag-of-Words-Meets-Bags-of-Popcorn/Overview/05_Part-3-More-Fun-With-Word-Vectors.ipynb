{
 "cells": [
  {
   "cell_type": "markdown",
   "metadata": {},
   "source": [
    "# Part 3. More Fun With Word Vectors"
   ]
  },
  {
   "cell_type": "markdown",
   "metadata": {},
   "source": [
    "[https://www.kaggle.com/c/word2vec-nlp-tutorial/overview/part-3-more-fun-with-word-vectors](https://www.kaggle.com/c/word2vec-nlp-tutorial/overview/part-3-more-fun-with-word-vectors)"
   ]
  },
  {
   "cell_type": "markdown",
   "metadata": {},
   "source": [
    "<br>"
   ]
  },
  {
   "cell_type": "markdown",
   "metadata": {},
   "source": [
    "# Code"
   ]
  },
  {
   "cell_type": "markdown",
   "metadata": {},
   "source": [
    "The tutorial code for Part 3 lives [here](https://github.com/wendykan/DeepLearningMovies/blob/master/Word2Vec_BagOfCentroids.py). "
   ]
  },
  {
   "cell_type": "markdown",
   "metadata": {},
   "source": [
    "<br>"
   ]
  },
  {
   "cell_type": "markdown",
   "metadata": {},
   "source": [
    "# Numeric Representations of Words"
   ]
  },
  {
   "cell_type": "markdown",
   "metadata": {},
   "source": [
    "Now that we have a trained model with some semantic(의미있는) understanding of words, how should we use it? If you look beneath the hood, the Word2Vec model trained in Part 2 consists of a feature vector for each word in the vocabulary, stored in a `numpy` array called \"syn0\":"
   ]
  },
  {
   "cell_type": "code",
   "execution_count": 1,
   "metadata": {},
   "outputs": [],
   "source": [
    "# Load the model that we created in Part 2\n",
    "from gensim.models import Word2Vec\n",
    "\n",
    "model = Word2Vec.load(\"300features_40minwords_10context\")"
   ]
  },
  {
   "cell_type": "code",
   "execution_count": 4,
   "metadata": {},
   "outputs": [
    {
     "name": "stderr",
     "output_type": "stream",
     "text": [
      "C:\\Users\\shkim\\AppData\\Local\\conda\\conda\\envs\\TF_VS_36\\lib\\site-packages\\ipykernel_launcher.py:1: DeprecationWarning: Call to deprecated `syn0` (Attribute will be removed in 4.0.0, use self.vectors instead).\n",
      "  \"\"\"Entry point for launching an IPython kernel.\n"
     ]
    },
    {
     "data": {
      "text/plain": [
       "numpy.ndarray"
      ]
     },
     "execution_count": 4,
     "metadata": {},
     "output_type": "execute_result"
    }
   ],
   "source": [
    "type(model.wv.syn0)"
   ]
  },
  {
   "cell_type": "code",
   "execution_count": 5,
   "metadata": {},
   "outputs": [
    {
     "name": "stderr",
     "output_type": "stream",
     "text": [
      "C:\\Users\\shkim\\AppData\\Local\\conda\\conda\\envs\\TF_VS_36\\lib\\site-packages\\ipykernel_launcher.py:1: DeprecationWarning: Call to deprecated `syn0` (Attribute will be removed in 4.0.0, use self.vectors instead).\n",
      "  \"\"\"Entry point for launching an IPython kernel.\n"
     ]
    },
    {
     "data": {
      "text/plain": [
       "(16490, 300)"
      ]
     },
     "execution_count": 5,
     "metadata": {},
     "output_type": "execute_result"
    }
   ],
   "source": [
    "model.wv.syn0.shape"
   ]
  },
  {
   "cell_type": "markdown",
   "metadata": {},
   "source": [
    "The number of rows in syn0 is the number of words in the model's vocabulary, and the number of columns corresponds to the size of the feature vector, which we set in Part 2.  Setting the minimum word count to 40 gave us a total vocabulary of 16,492 words with 300 features apiece. Individual word vectors can be accessed in the following way:"
   ]
  },
  {
   "cell_type": "code",
   "execution_count": 6,
   "metadata": {},
   "outputs": [
    {
     "name": "stderr",
     "output_type": "stream",
     "text": [
      "C:\\Users\\shkim\\AppData\\Local\\conda\\conda\\envs\\TF_VS_36\\lib\\site-packages\\ipykernel_launcher.py:1: DeprecationWarning: Call to deprecated `__getitem__` (Method will be removed in 4.0.0, use self.wv.__getitem__() instead).\n",
      "  \"\"\"Entry point for launching an IPython kernel.\n"
     ]
    },
    {
     "data": {
      "text/plain": [
       "array([-0.03592819, -0.03085953,  0.05765823, -0.08588445, -0.06296363,\n",
       "       -0.02721645,  0.02364479,  0.02526847,  0.00199798, -0.02929461,\n",
       "       -0.07619712, -0.01337987, -0.10034997,  0.02408944, -0.11489791,\n",
       "        0.06175002,  0.03637884, -0.02622486, -0.00348732,  0.07307983,\n",
       "       -0.00288751,  0.02181118, -0.10311554, -0.04091304, -0.08759024,\n",
       "        0.00267776, -0.02773638,  0.02627153,  0.08954636,  0.06634776,\n",
       "        0.052514  ,  0.13716377, -0.03400363,  0.0015823 , -0.01543875,\n",
       "        0.05707104,  0.04549051,  0.0119594 , -0.05463668, -0.01447129,\n",
       "        0.03310588, -0.00459056, -0.06055202,  0.0118513 , -0.00734887,\n",
       "       -0.07854102, -0.00864874,  0.08309419, -0.0052785 ,  0.12740564,\n",
       "        0.01619201,  0.05162026,  0.06758543,  0.12929584,  0.01957222,\n",
       "        0.05317652, -0.07101942, -0.06968176,  0.08475519,  0.02418363,\n",
       "        0.12001555,  0.03276131,  0.11581071, -0.04504692,  0.06916741,\n",
       "       -0.09433027, -0.0422213 , -0.03798748, -0.04629346,  0.0066866 ,\n",
       "        0.11534731, -0.0782587 ,  0.06507453,  0.03034871,  0.00188922,\n",
       "        0.01457985,  0.0725855 , -0.04575933, -0.0117938 , -0.00310343,\n",
       "       -0.03942626,  0.06121186,  0.09755369, -0.07669087, -0.04956865,\n",
       "        0.05900344, -0.06918991, -0.04252626,  0.08319312, -0.03478967,\n",
       "       -0.00894521,  0.15035246,  0.0200211 ,  0.00102434, -0.14253339,\n",
       "       -0.05311881,  0.00597494, -0.03368131,  0.11959159, -0.00358025,\n",
       "       -0.06995793, -0.04770545, -0.0787534 , -0.02961741,  0.140009  ,\n",
       "        0.05241232,  0.08163735,  0.02483491,  0.06565017,  0.05328158,\n",
       "       -0.05604621, -0.06958877, -0.11196729,  0.04878438,  0.06699419,\n",
       "        0.01268513,  0.01082533, -0.10711544,  0.01150246, -0.00908696,\n",
       "        0.04083385, -0.04550378, -0.02894164,  0.01018113, -0.00740546,\n",
       "       -0.02999482,  0.03750933, -0.02174971, -0.0470071 , -0.02325407,\n",
       "        0.04407688,  0.02463568, -0.06314705,  0.02039087,  0.0742703 ,\n",
       "        0.0399014 , -0.02422715, -0.01171858, -0.0478994 , -0.04397905,\n",
       "        0.00356635,  0.01239623, -0.0162699 ,  0.08686288,  0.02484751,\n",
       "       -0.0156957 ,  0.01142254, -0.07220525, -0.10010625, -0.06195801,\n",
       "       -0.0157857 , -0.04958649, -0.03833247, -0.05250072,  0.00993412,\n",
       "       -0.0510088 ,  0.03021966, -0.01335461,  0.02252207,  0.05785246,\n",
       "        0.03251528,  0.00184517,  0.00981057,  0.03298052,  0.03733187,\n",
       "        0.06975632, -0.03606413, -0.01962031,  0.01899515, -0.0018414 ,\n",
       "        0.04855281, -0.07295459,  0.01700759,  0.08146606, -0.01532202,\n",
       "       -0.01996802, -0.04811084, -0.001239  , -0.03711506, -0.02182795,\n",
       "       -0.06307911,  0.11246873, -0.03817308,  0.01572346,  0.01441961,\n",
       "        0.01092447,  0.04449762,  0.03310443,  0.01223838,  0.07992949,\n",
       "       -0.04845119,  0.05199609,  0.03503165,  0.0257553 ,  0.04655351,\n",
       "        0.06401726, -0.02693215,  0.09531648, -0.02143244, -0.12130658,\n",
       "       -0.07051806, -0.07204387,  0.01808324, -0.07811251,  0.07529952,\n",
       "       -0.05180705,  0.03807249, -0.0021473 ,  0.07705241, -0.00588462,\n",
       "       -0.01642559,  0.07384005,  0.03682401, -0.07402247,  0.02707121,\n",
       "       -0.08116506, -0.04700698, -0.02511279, -0.00748779, -0.01028191,\n",
       "        0.087681  ,  0.01653532, -0.00189164,  0.04352828, -0.04575973,\n",
       "       -0.14522107, -0.11530094,  0.07310727, -0.08573548, -0.03565144,\n",
       "        0.02839964,  0.02334325,  0.03086447, -0.02344709,  0.04412424,\n",
       "       -0.01775326,  0.01515854, -0.05252719, -0.1731261 ,  0.04281394,\n",
       "       -0.09070186,  0.08475035,  0.04680318,  0.01217728, -0.09346054,\n",
       "       -0.05708536, -0.09636644, -0.01289989,  0.05174819,  0.07092156,\n",
       "       -0.01619404,  0.00031437,  0.05419308, -0.1144196 ,  0.0333576 ,\n",
       "        0.02862289,  0.00098311, -0.02706408,  0.06698775, -0.03287835,\n",
       "        0.04602075, -0.04685792,  0.06097444, -0.01075384, -0.06632595,\n",
       "       -0.06400192,  0.03712948,  0.1092937 , -0.03856765, -0.0218102 ,\n",
       "       -0.01517431, -0.04149896,  0.04459373, -0.00119841,  0.03151425,\n",
       "        0.07041091, -0.03145902,  0.00494807,  0.04433971, -0.00987753,\n",
       "        0.03026552,  0.05060927, -0.02468158, -0.06314595,  0.06888097,\n",
       "        0.06841934, -0.10047013,  0.00841089,  0.0230127 , -0.05262023,\n",
       "        0.0891759 , -0.03057682, -0.02565075,  0.04379826, -0.06258835,\n",
       "        0.02411057,  0.03829075, -0.16951853,  0.02786994,  0.00085791],\n",
       "      dtype=float32)"
      ]
     },
     "execution_count": 6,
     "metadata": {},
     "output_type": "execute_result"
    }
   ],
   "source": [
    "model[\"flower\"]"
   ]
  },
  {
   "cell_type": "markdown",
   "metadata": {},
   "source": [
    "... which returns a 1x300 numpy array."
   ]
  },
  {
   "cell_type": "markdown",
   "metadata": {},
   "source": [
    "<br>"
   ]
  },
  {
   "cell_type": "markdown",
   "metadata": {},
   "source": [
    "# From Words To Paragraphs, Attempt 1: Vector Averaging"
   ]
  },
  {
   "cell_type": "markdown",
   "metadata": {},
   "source": [
    "One challenge with the IMDB dataset is the variable-length reviews. We need to find a way to take individual word vectors and transform them into a feature set that is the same length for every review."
   ]
  },
  {
   "cell_type": "markdown",
   "metadata": {},
   "source": [
    "Since each word is a vector in 300-dimensional space, we can use vector operations to combine the words in each review. One method we tried was to simply average the word vectors in a given review (for this purpose, we removed stop words, which would just add noise)."
   ]
  },
  {
   "cell_type": "markdown",
   "metadata": {},
   "source": [
    "The following code averages the feature vectors, building on our code from Part 2. "
   ]
  },
  {
   "cell_type": "code",
   "execution_count": 13,
   "metadata": {},
   "outputs": [],
   "source": [
    "import numpy as np # Make sure that numpy is imported\n",
    "\n",
    "def makeFeatureVec(words, model, num_features) :\n",
    "    \n",
    "    # Function to average all of the word vectors in a given paragraph\n",
    "    \n",
    "    # Pre-initialize an empty numpy array (for speed)\n",
    "    featureVec = np.zeros((num_features,), dtype=\"float32\")\n",
    "    \n",
    "    nwords = 0\n",
    "    \n",
    "    # Index2word is a list that contains the names of the words in\n",
    "    # the model's vocabulary. Convert it to a set, for speed\n",
    "    index2word_set = set(model.wv.index2word)\n",
    "    \n",
    "    # Loop over each word in the review and, if it is in the model's\n",
    "    # vocabulary, add its feature vector to the total\n",
    "    for word in words :\n",
    "        if word in index2word_set :\n",
    "            nwords = nwords + 1\n",
    "            featureVec = np.add(featureVec, model[word])\n",
    "            \n",
    "    # Divide the result by the number of words to get the average\n",
    "    featureVec = np.divide(featureVec, nwords)\n",
    "    \n",
    "    return featureVec\n",
    "\n",
    "def getAvgFeatureVecs(reviews, model, num_features) :\n",
    "    \n",
    "    # Given a set of reviews (each one a list of words), calculate\n",
    "    # the average feature vector for each one and return a 2D numpy array\n",
    "    \n",
    "    # Initialize a counter\n",
    "    counter = 0\n",
    "    \n",
    "    # Preallocate a 2D numpy array, for speed\n",
    "    reviewFeatureVecs = np.zeros((len(reviews), num_features), dtype=\"float32\")\n",
    "    \n",
    "    # Loop through the reviews\n",
    "    for review in reviews :\n",
    "        \n",
    "        # Print a status message every 1000th review\n",
    "        if counter % 1000. == 0. :\n",
    "            print(\"Review %d of %d\" % (counter, len(reviews)))\n",
    "            \n",
    "        # Call the function (defined above) that makes average feature vectors\n",
    "        reviewFeatureVecs[counter] = makeFeatureVec(review, model, num_features)\n",
    "        \n",
    "        # Increment the counter\n",
    "        counter = counter + 1\n",
    "        \n",
    "    return reviewFeatureVecs"
   ]
  },
  {
   "cell_type": "markdown",
   "metadata": {},
   "source": [
    "Now, we can call these functions to create average vectors for each paragraph. The following operations will take a few minutes:"
   ]
  },
  {
   "cell_type": "code",
   "execution_count": 14,
   "metadata": {},
   "outputs": [],
   "source": [
    "import pandas as pd\n",
    "\n",
    "# Read data from files\n",
    "train = pd.read_csv(\"../input/labeledTrainData.tsv\",\n",
    "                    header=0,\n",
    "                    delimiter=\"\\t\",\n",
    "                    quoting=3)\n",
    "test = pd.read_csv(\"../input/testData.tsv\",\n",
    "                   header=0,\n",
    "                   delimiter=\"\\t\",\n",
    "                   quoting=3)\n",
    "unlabeled_train = pd.read_csv(\"../input/unlabeledTrainData.tsv\",\n",
    "                              header=0,\n",
    "                              delimiter=\"\\t\",\n",
    "                              quoting=3)"
   ]
  },
  {
   "cell_type": "code",
   "execution_count": 15,
   "metadata": {},
   "outputs": [],
   "source": [
    "# Import various modules for string cleaning\n",
    "from bs4 import BeautifulSoup\n",
    "import re\n",
    "from nltk.corpus import stopwords\n",
    "\n",
    "def review_to_wordlist( review, remove_stopwords=False ):\n",
    "    # Function to convert a document to a sequence of words,\n",
    "    # optionally removing stop words.  Returns a list of words.\n",
    "    #\n",
    "    # 1. Remove HTML\n",
    "    review_text = BeautifulSoup(review).get_text()\n",
    "    #  \n",
    "    # 2. Remove non-letters\n",
    "    review_text = re.sub(\"[^a-zA-Z]\",\" \", review_text)\n",
    "    #\n",
    "    # 3. Convert words to lower case and split them\n",
    "    words = review_text.lower().split()\n",
    "    #\n",
    "    # 4. Optionally remove stop words (false by default)\n",
    "    if remove_stopwords:\n",
    "        stops = set(stopwords.words(\"english\"))\n",
    "        words = [w for w in words if not w in stops]\n",
    "    #\n",
    "    # 5. Return a list of words\n",
    "    return(words)"
   ]
  },
  {
   "cell_type": "code",
   "execution_count": 16,
   "metadata": {},
   "outputs": [],
   "source": [
    "# Set values for various parameters\n",
    "num_features = 300 # Word Vector dimensionality\n",
    "min_word_count = 40 # Minimum word count\n",
    "num_workers = 4 # Number of threads to run in parallel\n",
    "context = 10 # Context window size\n",
    "downsampling = 1e-3 # Downsampling setting for frequent words"
   ]
  },
  {
   "cell_type": "code",
   "execution_count": 17,
   "metadata": {},
   "outputs": [],
   "source": [
    "from tqdm import tqdm"
   ]
  },
  {
   "cell_type": "code",
   "execution_count": 18,
   "metadata": {},
   "outputs": [
    {
     "name": "stderr",
     "output_type": "stream",
     "text": [
      "100%|███████████████████████████████████████████████████████████████████████████| 25000/25000 [00:26<00:00, 950.51it/s]\n"
     ]
    },
    {
     "name": "stdout",
     "output_type": "stream",
     "text": [
      "Review 0 of 25000\n"
     ]
    },
    {
     "name": "stderr",
     "output_type": "stream",
     "text": [
      "C:\\Users\\shkim\\AppData\\Local\\conda\\conda\\envs\\TF_VS_36\\lib\\site-packages\\ipykernel_launcher.py:21: DeprecationWarning: Call to deprecated `__getitem__` (Method will be removed in 4.0.0, use self.wv.__getitem__() instead).\n"
     ]
    },
    {
     "name": "stdout",
     "output_type": "stream",
     "text": [
      "Review 1000 of 25000\n",
      "Review 2000 of 25000\n",
      "Review 3000 of 25000\n",
      "Review 4000 of 25000\n",
      "Review 5000 of 25000\n",
      "Review 6000 of 25000\n",
      "Review 7000 of 25000\n",
      "Review 8000 of 25000\n",
      "Review 9000 of 25000\n",
      "Review 10000 of 25000\n",
      "Review 11000 of 25000\n",
      "Review 12000 of 25000\n",
      "Review 13000 of 25000\n",
      "Review 14000 of 25000\n",
      "Review 15000 of 25000\n",
      "Review 16000 of 25000\n",
      "Review 17000 of 25000\n",
      "Review 18000 of 25000\n",
      "Review 19000 of 25000\n",
      "Review 20000 of 25000\n",
      "Review 21000 of 25000\n",
      "Review 22000 of 25000\n",
      "Review 23000 of 25000\n",
      "Review 24000 of 25000\n",
      "Creating average feature vecs for test reviews\n"
     ]
    },
    {
     "name": "stderr",
     "output_type": "stream",
     "text": [
      "100%|██████████████████████████████████████████████████████████████████████████| 25000/25000 [00:24<00:00, 1035.48it/s]\n"
     ]
    },
    {
     "name": "stdout",
     "output_type": "stream",
     "text": [
      "Review 0 of 25000\n",
      "Review 1000 of 25000\n",
      "Review 2000 of 25000\n",
      "Review 3000 of 25000\n",
      "Review 4000 of 25000\n",
      "Review 5000 of 25000\n",
      "Review 6000 of 25000\n",
      "Review 7000 of 25000\n",
      "Review 8000 of 25000\n",
      "Review 9000 of 25000\n",
      "Review 10000 of 25000\n",
      "Review 11000 of 25000\n",
      "Review 12000 of 25000\n",
      "Review 13000 of 25000\n",
      "Review 14000 of 25000\n",
      "Review 15000 of 25000\n",
      "Review 16000 of 25000\n",
      "Review 17000 of 25000\n",
      "Review 18000 of 25000\n",
      "Review 19000 of 25000\n",
      "Review 20000 of 25000\n",
      "Review 21000 of 25000\n",
      "Review 22000 of 25000\n",
      "Review 23000 of 25000\n",
      "Review 24000 of 25000\n"
     ]
    }
   ],
   "source": [
    "# ****************************************************************\n",
    "# Calculate average feature vectors for training and testing sets,\n",
    "# using the functions we defined above. Notice that we now use stop word removal.\n",
    "\n",
    "clean_train_reviews = []\n",
    "\n",
    "for review in tqdm(train[\"review\"]) :\n",
    "    clean_train_reviews.append(review_to_wordlist(review, remove_stopwords=True))\n",
    "    \n",
    "trainDataVecs = getAvgFeatureVecs(clean_train_reviews, model, num_features)\n",
    "\n",
    "print(\"Creating average feature vecs for test reviews\")\n",
    "clean_test_reviews = []\n",
    "\n",
    "for review in tqdm(test[\"review\"]) :\n",
    "    clean_test_reviews.append(review_to_wordlist(review, remove_stopwords=True))\n",
    "    \n",
    "testDataVecs = getAvgFeatureVecs(clean_test_reviews, model, num_features)"
   ]
  },
  {
   "cell_type": "markdown",
   "metadata": {},
   "source": [
    "Next, use the average paragraph vectors to train a random forest. Note that, as in Part 1, we can only use the labeled training reviews to train the model."
   ]
  },
  {
   "cell_type": "code",
   "execution_count": 20,
   "metadata": {},
   "outputs": [
    {
     "data": {
      "text/plain": [
       "(25000, 300)"
      ]
     },
     "execution_count": 20,
     "metadata": {},
     "output_type": "execute_result"
    }
   ],
   "source": [
    "trainDataVecs.shape"
   ]
  },
  {
   "cell_type": "code",
   "execution_count": 21,
   "metadata": {},
   "outputs": [
    {
     "data": {
      "text/plain": [
       "(25000, 300)"
      ]
     },
     "execution_count": 21,
     "metadata": {},
     "output_type": "execute_result"
    }
   ],
   "source": [
    "testDataVecs.shape"
   ]
  },
  {
   "cell_type": "code",
   "execution_count": 22,
   "metadata": {},
   "outputs": [
    {
     "name": "stdout",
     "output_type": "stream",
     "text": [
      "Fitting a random forest to labeled traininig data...\n"
     ]
    }
   ],
   "source": [
    "# Fit a random forest to the training data, using 100 trees\n",
    "from sklearn.ensemble import RandomForestClassifier\n",
    "\n",
    "forest = RandomForestClassifier(n_estimators=100)\n",
    "\n",
    "print(\"Fitting a random forest to labeled traininig data...\")\n",
    "\n",
    "forest = forest.fit(trainDataVecs, train[\"sentiment\"])\n",
    "\n",
    "# Test & extract results\n",
    "result = forest.predict(testDataVecs)\n",
    "\n",
    "# Write the test results\n",
    "output = pd.DataFrame(data={\"id\": test[\"id\"], \"sentiment\": result})\n",
    "output.to_csv(\"Word2Vec_AverageVectors.csv\", index=False, quoting=3)"
   ]
  },
  {
   "cell_type": "code",
   "execution_count": null,
   "metadata": {},
   "outputs": [],
   "source": []
  },
  {
   "cell_type": "markdown",
   "metadata": {},
   "source": [
    "We found that this produced results much better than chance, but underperformed Bag of Words by a few percentage points."
   ]
  },
  {
   "cell_type": "markdown",
   "metadata": {},
   "source": [
    "Since the element-wise average of the vectors didn't produce spectacular results, perhaps we could do it in a more intelligent way? A standard way of weighting word vectors is to apply \"[tf-idf](https://en.wikipedia.org/wiki/Tf%E2%80%93idf)\" weights, which measure how important a given word is within a given set of documents. One way to extract tf-idf weights in Python is by using scikit-learn's [TfidfVectorizer](https://scikit-learn.org/stable/modules/generated/sklearn.feature_extraction.text.TfidfVectorizer.html), which has an interface similar to the CountVectorizer that we used in Part 1. However, when we tried weighting our word vectors in this way, we found no substantial(상당한) improvement in performance."
   ]
  },
  {
   "cell_type": "markdown",
   "metadata": {},
   "source": [
    "<br>"
   ]
  },
  {
   "cell_type": "markdown",
   "metadata": {},
   "source": [
    "# From Words to Paragraphs, Attempt 2: Clustering"
   ]
  },
  {
   "cell_type": "code",
   "execution_count": null,
   "metadata": {},
   "outputs": [],
   "source": []
  }
 ],
 "metadata": {
  "kernelspec": {
   "display_name": "Python 3",
   "language": "python",
   "name": "python3"
  },
  "language_info": {
   "codemirror_mode": {
    "name": "ipython",
    "version": 3
   },
   "file_extension": ".py",
   "mimetype": "text/x-python",
   "name": "python",
   "nbconvert_exporter": "python",
   "pygments_lexer": "ipython3",
   "version": "3.6.8"
  }
 },
 "nbformat": 4,
 "nbformat_minor": 2
}
